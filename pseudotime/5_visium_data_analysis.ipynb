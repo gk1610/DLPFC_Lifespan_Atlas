{
 "cells": [
  {
   "cell_type": "markdown",
   "id": "8f34e509-f1ad-4d7c-ae57-7380f8b5111b",
   "metadata": {},
   "source": [
    "# Load python packages"
   ]
  },
  {
   "cell_type": "code",
   "execution_count": 1,
   "id": "8ddca93c-dd8f-4787-b333-c32e0035295e",
   "metadata": {
    "execution": {
     "iopub.execute_input": "2024-05-23T16:06:16.366347Z",
     "iopub.status.busy": "2024-05-23T16:06:16.366048Z",
     "iopub.status.idle": "2024-05-23T16:06:50.146409Z",
     "shell.execute_reply": "2024-05-23T16:06:50.145788Z",
     "shell.execute_reply.started": "2024-05-23T16:06:16.366326Z"
    }
   },
   "outputs": [],
   "source": [
    "import numpy as np\n",
    "import scanpy as sc\n",
    "import squidpy as sq\n",
    "import SpaGCN as spg\n",
    "import pandas as pd\n",
    "import seaborn as sns\n",
    "import scipy\n",
    "import scipy.stats as stats\n",
    "import matplotlib.pyplot as plt\n",
    "import numpy as np\n",
    "from scipy.spatial.distance import cdist\n",
    "import random, torch\n",
    "import plotnine as p9\n",
    "\n",
    "sc.settings.verbosity = 3\n",
    "sc.settings.set_figure_params(dpi=600, facecolor=\"white\")"
   ]
  },
  {
   "cell_type": "markdown",
   "id": "c8791ac9-816f-43a8-a3e0-170b3622adad",
   "metadata": {},
   "source": [
    "# Load python functions"
   ]
  },
  {
   "cell_type": "markdown",
   "id": "4d6f4e0d-7b07-47b0-a83c-f7fb62096b48",
   "metadata": {},
   "source": [
    "## Initial settings: color, order, trait"
   ]
  },
  {
   "cell_type": "code",
   "execution_count": 2,
   "id": "ffa642a7-c8f0-41a5-8f1b-36ad12aef789",
   "metadata": {
    "execution": {
     "iopub.execute_input": "2024-05-23T16:07:26.217474Z",
     "iopub.status.busy": "2024-05-23T16:07:26.216971Z",
     "iopub.status.idle": "2024-05-23T16:07:26.221160Z",
     "shell.execute_reply": "2024-05-23T16:07:26.220493Z",
     "shell.execute_reply.started": "2024-05-23T16:07:26.217448Z"
    }
   },
   "outputs": [],
   "source": [
    "from initial_settings import *"
   ]
  },
  {
   "cell_type": "markdown",
   "id": "b5876d55-217f-44a5-9cf1-096627d9142b",
   "metadata": {},
   "source": [
    "## Enrich AnnData object with additional gene information"
   ]
  },
  {
   "cell_type": "code",
   "execution_count": 3,
   "id": "e72014b3-5e6b-4c7b-b76a-022ee233cf4f",
   "metadata": {
    "execution": {
     "iopub.execute_input": "2024-05-14T13:18:24.775218Z",
     "iopub.status.busy": "2024-05-14T13:18:24.774831Z",
     "iopub.status.idle": "2024-05-14T13:18:24.788686Z",
     "shell.execute_reply": "2024-05-14T13:18:24.788034Z",
     "shell.execute_reply.started": "2024-05-14T13:18:24.775189Z"
    }
   },
   "outputs": [],
   "source": [
    "# Parse the 'attribute' column to extract gene names and other desired information\n",
    "def parse_attributes(attributes_str):\n",
    "    attributes = {}\n",
    "    for attribute in attributes_str.split('; '):\n",
    "        if attribute:\n",
    "            key, value = attribute.split(' ')\n",
    "            attributes[key] = value.strip('\"')\n",
    "    return attributes\n",
    "\n",
    "def enrich_anndata(file_visium, file_gtf, file_out):\n",
    "    gene_annot = pd.read_csv(file_gtf, sep='\\t', comment='#', header=None)\n",
    "    gene_annot.columns = ['seqname', 'source', 'feature', 'start', 'end', 'score', 'strand', 'frame', 'attribute']\n",
    "\n",
    "    # Apply parsing function to the attribute column\n",
    "    parsed_attri = gene_annot['attribute'].apply(parse_attributes)\n",
    "    gene_annot = gene_annot.join(parsed_attri.apply(pd.Series))\n",
    "    gene_annot['gene_id'] = gene_annot['gene_id'].str.split('.').str[0] # strip off the decimal and subsequent version number from Ensembl IDs\n",
    "    gene_annot['start'] = gene_annot['start'].astype('str')\n",
    "    gene_annot['end'] = gene_annot['end'].astype('str')\n",
    "    # gene_annot['gene_name'] = gene_annot['gene_name'].str.split('.').str[0]\n",
    "    \n",
    "\n",
    "    # Map Ensembl IDs to official gene names\n",
    "    gene_id_to_name = dict(zip(gene_annot['gene_id'], gene_annot['gene_name']))\n",
    "    gene_id_to_type = dict(zip(gene_annot['gene_id'], gene_annot['gene_type']))\n",
    "    gene_id_to_chr = dict(zip(gene_annot['gene_id'], gene_annot['seqname']))\n",
    "    gene_id_to_start = dict(zip(gene_annot['gene_id'], gene_annot['start']))\n",
    "    gene_id_to_end = dict(zip(gene_annot['gene_id'], gene_annot['end']))\n",
    "\n",
    "    # Update AnnData\n",
    "    adata = sq.read.visium(file_visium, counts_file='raw_feature_bc_matrix.h5')\n",
    "    adata.var['gene_name'] = adata.var['gene_ids'].map(gene_id_to_name)\n",
    "    adata.var['gene_type'] = adata.var['gene_ids'].map(gene_id_to_type)\n",
    "    adata.var['gene_chrom'] = adata.var['gene_ids'].map(gene_id_to_chr)\n",
    "    adata.var['gene_start'] = adata.var['gene_ids'].map(gene_id_to_start)\n",
    "    adata.var['gene_end'] = adata.var['gene_ids'].map(gene_id_to_end)\n",
    "    adata.write(file_out)"
   ]
  },
  {
   "cell_type": "markdown",
   "id": "0b9be20f-6d49-4736-8bc7-bca766937f53",
   "metadata": {},
   "source": [
    "## Identify outliers based on MAD (median absolute deviations)"
   ]
  },
  {
   "cell_type": "code",
   "execution_count": 3,
   "id": "2655f867-28ef-452f-97c4-1bf6a57c5bac",
   "metadata": {
    "execution": {
     "iopub.execute_input": "2024-05-10T22:18:51.563312Z",
     "iopub.status.busy": "2024-05-10T22:18:51.562951Z",
     "iopub.status.idle": "2024-05-10T22:18:51.567497Z",
     "shell.execute_reply": "2024-05-10T22:18:51.567124Z",
     "shell.execute_reply.started": "2024-05-10T22:18:51.563298Z"
    }
   },
   "outputs": [],
   "source": [
    "def is_outlier(adata, metric: str, nmads: int):\n",
    "    M = adata.obs[metric]\n",
    "    outlier = (M < np.median(M) - nmads * median_abs_deviation(M)) | (\n",
    "        np.median(M) + nmads * median_abs_deviation(M) < M\n",
    "    )\n",
    "    return outlier"
   ]
  },
  {
   "cell_type": "markdown",
   "id": "e57b1bd6-c37f-414f-8d17-e5e1f81fa5f8",
   "metadata": {},
   "source": [
    "## Quality control"
   ]
  },
  {
   "cell_type": "code",
   "execution_count": 4,
   "id": "e5f29be0-8ef9-48e6-86d7-02286d07c0de",
   "metadata": {
    "execution": {
     "iopub.execute_input": "2024-05-10T22:18:51.568800Z",
     "iopub.status.busy": "2024-05-10T22:18:51.568435Z",
     "iopub.status.idle": "2024-05-10T22:18:51.592806Z",
     "shell.execute_reply": "2024-05-10T22:18:51.592360Z",
     "shell.execute_reply.started": "2024-05-10T22:18:51.568784Z"
    }
   },
   "outputs": [],
   "source": [
    "def qc_adata(adata, in_tissue, pct_counts_mt):\n",
    "    adata.var_names_make_unique()\n",
    "    adata = adata[adata.obs[in_tissue].astype(bool), :]\n",
    "    print(adata)\n",
    "    adata.var[\"mt\"] = adata.var_names.str.startswith(\"MT-\")\n",
    "    sc.pp.calculate_qc_metrics(adata, qc_vars=[\"mt\"], inplace=True)\n",
    "    \n",
    "    fig, axs = plt.subplots(1, 4, figsize=(15, 4))\n",
    "    sns.histplot(adata.obs[\"total_counts\"], kde=False, ax=axs[0])\n",
    "    sns.histplot(\n",
    "        adata.obs[\"total_counts\"][adata.obs[\"total_counts\"] < 10000],\n",
    "        kde=False,\n",
    "        bins=40,\n",
    "        ax=axs[1],\n",
    "    )\n",
    "    sns.histplot(adata.obs[\"n_genes_by_counts\"], kde=False, bins=60, ax=axs[2])\n",
    "    sns.histplot(\n",
    "        adata.obs[\"n_genes_by_counts\"][adata.obs[\"n_genes_by_counts\"] < 4000],\n",
    "        kde=False,\n",
    "        bins=60,\n",
    "        ax=axs[3],\n",
    "    )\n",
    "    \n",
    "    adata = adata[adata.obs[\"pct_counts_mt\"] < pct_counts_mt].copy()\n",
    "    print(f\"#cells after MT filter: {adata.n_obs}\")\n",
    "    return(adata)"
   ]
  },
  {
   "cell_type": "markdown",
   "id": "37ea6707-cda0-4e9e-be47-8be8075254d4",
   "metadata": {},
   "source": [
    "## Normalize"
   ]
  },
  {
   "cell_type": "code",
   "execution_count": 5,
   "id": "c7b420ef-542b-4fd7-981b-e7462c5f44d4",
   "metadata": {
    "execution": {
     "iopub.execute_input": "2024-05-10T22:18:51.593847Z",
     "iopub.status.busy": "2024-05-10T22:18:51.593433Z",
     "iopub.status.idle": "2024-05-10T22:18:51.596344Z",
     "shell.execute_reply": "2024-05-10T22:18:51.595964Z",
     "shell.execute_reply.started": "2024-05-10T22:18:51.593827Z"
    }
   },
   "outputs": [],
   "source": [
    "def norm_adata(adata):\n",
    "    sc.pp.normalize_total(adata, inplace=True)\n",
    "    sc.pp.log1p(adata)\n",
    "    sc.pp.highly_variable_genes(adata)\n",
    "    return(adata)"
   ]
  },
  {
   "cell_type": "markdown",
   "id": "594fbcd0-6836-40a7-8cc0-01603e9cb350",
   "metadata": {},
   "source": [
    "## Manifold embedding and clustering"
   ]
  },
  {
   "cell_type": "code",
   "execution_count": 6,
   "id": "14805b67-cbab-4b55-9b1c-0971426a00c7",
   "metadata": {
    "execution": {
     "iopub.execute_input": "2024-05-10T22:18:51.597075Z",
     "iopub.status.busy": "2024-05-10T22:18:51.596888Z",
     "iopub.status.idle": "2024-05-10T22:18:51.600414Z",
     "shell.execute_reply": "2024-05-10T22:18:51.600003Z",
     "shell.execute_reply.started": "2024-05-10T22:18:51.597061Z"
    }
   },
   "outputs": [],
   "source": [
    "def manifold_adata(adata, resolution):\n",
    "    sc.pp.pca(adata)\n",
    "    sc.pp.neighbors(adata)\n",
    "    sc.tl.umap(adata)\n",
    "    sc.tl.leiden(adata, key_added=\"clusters\", n_iterations=2, resolution = resolution)\n",
    "    sc.pl.umap(adata, color=[\"total_counts\", \"n_genes_by_counts\", \"clusters\"], wspace=0.4)\n",
    "    sc.pl.spatial(adata, img_key=\"hires\", color=[\"clusters\", \"MBP\", \"MAP2\", 'CAMK2A'], size=1.5, cmap='Spectral_r')\n",
    "    return(adata)"
   ]
  },
  {
   "cell_type": "markdown",
   "id": "5b93e02b-5385-44bf-8ee1-a859d37050ba",
   "metadata": {},
   "source": [
    "## Obtain spatial domains in Squidpy"
   ]
  },
  {
   "cell_type": "code",
   "execution_count": 7,
   "id": "01c67e05-d06d-462b-a63e-2b6939cc30d7",
   "metadata": {
    "execution": {
     "iopub.execute_input": "2024-05-10T22:18:51.601159Z",
     "iopub.status.busy": "2024-05-10T22:18:51.600965Z",
     "iopub.status.idle": "2024-05-10T22:18:51.604821Z",
     "shell.execute_reply": "2024-05-10T22:18:51.604356Z",
     "shell.execute_reply.started": "2024-05-10T22:18:51.601145Z"
    }
   },
   "outputs": [],
   "source": [
    "def spatial_domain_squidpy(adata, alpha=0.2, resolution=0.3):\n",
    "    # nearest neighbor graph\n",
    "    sc.pp.neighbors(adata)\n",
    "    nn_graph_genes = adata.obsp[\"connectivities\"]\n",
    "    # spatial proximity graph\n",
    "    sq.gr.spatial_neighbors(adata)\n",
    "    nn_graph_space = adata.obsp[\"spatial_connectivities\"]\n",
    "\n",
    "    # Identidy communities in both representations jointly\n",
    "    joint_graph = (1 - alpha) * nn_graph_genes + alpha * nn_graph_space\n",
    "    sc.tl.leiden(adata, adjacency=joint_graph, key_added=\"squidpy_domains\", resolution = resolution)\n",
    "    sc.pl.spatial(adata, img_key=\"hires\", color=[\"clusters\", \"squidpy_domains\", \"GFAP\"], size=1.5, cmap='Spectral_r')\n",
    "    return(adata)"
   ]
  },
  {
   "cell_type": "markdown",
   "id": "e8c6e32b-f2da-43d3-9619-02f0d26c97ee",
   "metadata": {},
   "source": [
    "## Prepare input file for ONTraC"
   ]
  },
  {
   "cell_type": "code",
   "execution_count": null,
   "id": "bb546719-e967-42d1-9731-068518674523",
   "metadata": {},
   "outputs": [],
   "source": [
    "def prepare_input_for_ontrac(adata, sample, cell_type):\n",
    "    samples = pd.Series([sample] * adata.n_obs, index=adata.obs_names)\n",
    "    # cell_types = pd.Series([cell_type] * adata.n_obs, index=adata.obs_names)\n",
    "    cell_types = adata.obs[cell_type]\n",
    "    cell_ids = samples + '_' + adata.obs_names\n",
    "    coordinates = adata.obsm['spatial']\n",
    "    x_coords = coordinates[:, 0]\n",
    "    y_coords = coordinates[:, 1]\n",
    "\n",
    "    # Combine into a DataFrame\n",
    "    df = pd.DataFrame({\n",
    "        'Cell_ID': cell_ids,\n",
    "        'Sample': samples,\n",
    "        'Cell_Type': cell_types,\n",
    "        'x': x_coords,\n",
    "        'y': y_coords\n",
    "    })\n",
    "\n",
    "    return(df)"
   ]
  },
  {
   "cell_type": "markdown",
   "id": "f014058c-9fd0-426d-b8a3-8dc886198cdb",
   "metadata": {},
   "source": [
    "## Examine gene expression difference between clusters"
   ]
  },
  {
   "cell_type": "markdown",
   "id": "061f3372-6024-4c1b-9c0f-825704a2982e",
   "metadata": {},
   "source": [
    "### Plot using sq.pl.spatial_scatter with p-value"
   ]
  },
  {
   "cell_type": "markdown",
   "id": "aaa4e79f-a33e-4493-b784-de10198f6a97",
   "metadata": {},
   "source": [
    "#### Store into file"
   ]
  },
  {
   "cell_type": "code",
   "execution_count": 3,
   "id": "16782492-6c05-4c1a-a70e-0cc7c0a51bed",
   "metadata": {
    "execution": {
     "iopub.execute_input": "2024-05-13T18:17:27.915097Z",
     "iopub.status.busy": "2024-05-13T18:17:27.914609Z",
     "iopub.status.idle": "2024-05-13T18:17:27.924240Z",
     "shell.execute_reply": "2024-05-13T18:17:27.923310Z",
     "shell.execute_reply.started": "2024-05-13T18:17:27.915063Z"
    }
   },
   "outputs": [],
   "source": [
    "def gene_expr_clusters(adata, gene, cluster_column, labels_c0, labels_c1, file_out, dot_size = 2, dpi = 600):\n",
    "    # Extract gene expression values\n",
    "    expr = adata[:, adata.var_names == gene].X.toarray().flatten()\n",
    "    \n",
    "    # Extract cluster labels\n",
    "    clusters = adata.obs[cluster_column]\n",
    "    \n",
    "    # Separate based on clusters\n",
    "    expr_cluster0 = expr[clusters.isin(labels_c0)]\n",
    "    expr_cluster1 = expr[clusters.isin(labels_c1)]\n",
    "    \n",
    "    # Perform a statistical test\n",
    "    stat, p_val = stats.mannwhitneyu(expr_cluster0, expr_cluster1)\n",
    "    p_val = \"{:.2e}\".format(p_val)\n",
    "    print(f'Statistic: {stat}, P-value: {p_val}')\n",
    "    # sc.pl.spatial(adata, img_key=\"hires\", color=[\"clusters\", gene], size=1.5, cmap='Spectral_r', dpi=dpi)\n",
    "    p = sq.pl.spatial_scatter(adata, color=[cluster_column, gene], size=dot_size, cmap='Spectral_r', img=None, dpi=dpi, save = file_out)"
   ]
  },
  {
   "cell_type": "markdown",
   "id": "9be088b8-dced-4833-9676-b35e0e42252e",
   "metadata": {},
   "source": [
    "#### Plot directly"
   ]
  },
  {
   "cell_type": "code",
   "execution_count": 4,
   "id": "a83b31bb-0859-4e92-9e18-5fbfc4d24718",
   "metadata": {
    "execution": {
     "iopub.execute_input": "2024-05-13T18:17:27.927033Z",
     "iopub.status.busy": "2024-05-13T18:17:27.926638Z",
     "iopub.status.idle": "2024-05-13T18:17:27.935931Z",
     "shell.execute_reply": "2024-05-13T18:17:27.934492Z",
     "shell.execute_reply.started": "2024-05-13T18:17:27.927004Z"
    }
   },
   "outputs": [],
   "source": [
    "def gene_expr_clusters_plot_only(adata, gene, cluster_column, labels_c0, labels_c1, dot_size = 2, dpi = 600):\n",
    "    # Extract gene expression values\n",
    "    expr = adata[:, adata.var_names == gene].X.toarray().flatten()\n",
    "    \n",
    "    # Extract cluster labels\n",
    "    clusters = adata.obs[cluster_column]\n",
    "    \n",
    "    # Separate based on clusters\n",
    "    expr_cluster0 = expr[clusters.isin(labels_c0)]\n",
    "    expr_cluster1 = expr[clusters.isin(labels_c1)]\n",
    "    \n",
    "    # Perform a statistical test\n",
    "    stat, p_val = stats.mannwhitneyu(expr_cluster0, expr_cluster1)\n",
    "    p_val = \"{:.2e}\".format(p_val)\n",
    "    print(f'Statistic: {stat}, P-value: {p_val}')\n",
    "    # sc.pl.spatial(adata, img_key=\"hires\", color=[\"clusters\", gene], size=1.5, cmap='Spectral_r', dpi=dpi)\n",
    "    p = sq.pl.spatial_scatter(adata, color=[cluster_column, gene], size=dot_size, cmap='Spectral_r', img=None, dpi=dpi)"
   ]
  },
  {
   "cell_type": "markdown",
   "id": "f89da271-b2eb-4691-a09f-8871317362e4",
   "metadata": {},
   "source": [
    "### Plot in boxplot format"
   ]
  },
  {
   "cell_type": "code",
   "execution_count": 13,
   "id": "e47b7c0a-91e8-4992-b920-31a456e3ec1b",
   "metadata": {
    "execution": {
     "iopub.execute_input": "2024-05-14T13:28:23.026364Z",
     "iopub.status.busy": "2024-05-14T13:28:23.025671Z",
     "iopub.status.idle": "2024-05-14T13:28:23.038263Z",
     "shell.execute_reply": "2024-05-14T13:28:23.037015Z",
     "shell.execute_reply.started": "2024-05-14T13:28:23.026320Z"
    }
   },
   "outputs": [],
   "source": [
    "def gene_expr_clusters_in_boxplot(adata, gene, cluster_column, labels_c0, labels_c1, file_out, figsize=(4, 6), dpi=600, ylim=None):\n",
    "    # Extract gene expression values\n",
    "    expr = adata[:, adata.var_names == gene].X.toarray().flatten()\n",
    "    \n",
    "    # Extract cluster labels\n",
    "    clusters = adata.obs[cluster_column]\n",
    "    \n",
    "    # Separate based on clusters\n",
    "    expr_cluster0 = expr[clusters.isin(labels_c0)]\n",
    "    expr_cluster1 = expr[clusters.isin(labels_c1)]\n",
    "    \n",
    "    # Perform a statistical test\n",
    "    stat, p_val = stats.mannwhitneyu(expr_cluster0, expr_cluster1)\n",
    "    p_val_text = \"p = {:.2e}\".format(p_val)  # Format p-value for display\n",
    "    \n",
    "    # Plotting\n",
    "    fig, ax = plt.subplots(figsize=figsize)\n",
    "    sns.boxplot(data=[expr_cluster0, expr_cluster1], ax=ax, palette=['#F4CD9E', '#9A7B56'])\n",
    "    ax.set_xticklabels(['Cluster 0', 'Cluster 1'])\n",
    "    ax.set_ylabel('Expression')\n",
    "    ax.set_title(f'Expression of {gene}')\n",
    "\n",
    "    # Set custom y-axis limits if provided\n",
    "    if ylim:\n",
    "        ax.set_ylim(ylim)\n",
    "\n",
    "    # Calculate the maximum y-value from both clusters to determine line position for p-value annotation\n",
    "    max_y = max(np.max(expr_cluster0), np.max(expr_cluster1))\n",
    "\n",
    "    # Add p-value annotation\n",
    "    x1, x2 = 0, 1  # columns 'Cluster 0' and 'Cluster 1' on x-axis\n",
    "    y = max_y + np.abs(max_y * 0.05)  # 5% higher than the max\n",
    "    h, col = np.abs(max_y * 0.03), 'k'  # height of the line is 3% of the max\n",
    "    ax.plot([x1, x1, x2, x2], [y, y+h, y+h, y], lw=1.5, c=col)\n",
    "    ax.text((x1+x2)*.5, y+h, p_val_text, ha='center', va='bottom', color=col)\n",
    "\n",
    "    # Save the plot\n",
    "    plt.savefig(file_out, dpi=dpi)\n",
    "    plt.show()\n",
    "\n"
   ]
  },
  {
   "cell_type": "markdown",
   "id": "c00f247b-a0b6-4269-8b1b-091414096707",
   "metadata": {},
   "source": [
    "# Basic analysis from filtered feature (pct_counts_mt < 30)"
   ]
  },
  {
   "cell_type": "markdown",
   "id": "e31e80b6-6a25-494d-afac-7f0d692cfe07",
   "metadata": {},
   "source": [
    "## Load data"
   ]
  },
  {
   "cell_type": "code",
   "execution_count": null,
   "id": "5425dae2-e673-43b1-9836-d87fabe64443",
   "metadata": {
    "scrolled": true
   },
   "outputs": [],
   "source": [
    "for sub_sample in ['A', 'B', 'C', 'D']:\n",
    "    enrich_anndata(file_visium='sample_' + sub_sample + '_loupe/outs', \n",
    "                   file_gtf='GRCh38_basic_pri.gtf', \n",
    "                   file_out='sample_' + sub_sample + '_add_geneInfo.h5ad')"
   ]
  },
  {
   "cell_type": "code",
   "execution_count": null,
   "id": "afd79736-d22d-4cf8-be54-957932fc12f7",
   "metadata": {
    "scrolled": true
   },
   "outputs": [],
   "source": [
    "adata_A = sc.read('sample_A_add_geneInfo.h5ad')\n",
    "adata_B = sc.read('sample_B_add_geneInfo.h5ad')\n",
    "adata_C = sc.read('sample_C_add_geneInfo.h5ad')\n",
    "adata_D = sc.read('sample_D_add_geneInfo.h5ad')"
   ]
  },
  {
   "cell_type": "markdown",
   "id": "f8e2977b-46b4-4401-a611-df67ac48efee",
   "metadata": {},
   "source": [
    "## Quality control"
   ]
  },
  {
   "cell_type": "code",
   "execution_count": null,
   "id": "b32b5f53-5443-4fa2-bbc2-9c0be3eff469",
   "metadata": {
    "scrolled": true
   },
   "outputs": [],
   "source": [
    "adata_A = qc_adata(adata_A, 'in_tissue', 30)\n",
    "adata_B = qc_adata(adata_B, 'in_tissue', 30)\n",
    "adata_C = qc_adata(adata_C, 'in_tissue', 30)\n",
    "adata_D = qc_adata(adata_D, 'in_tissue', 30)"
   ]
  },
  {
   "cell_type": "markdown",
   "id": "97cad604-e1a8-4e4d-8cd7-69629594233e",
   "metadata": {},
   "source": [
    "## Only focus on protein-coding genes on eurochromatin"
   ]
  },
  {
   "cell_type": "code",
   "execution_count": null,
   "id": "72d1a133-445a-4be0-821f-3bea720f5aca",
   "metadata": {
    "scrolled": true
   },
   "outputs": [],
   "source": [
    "adata_A_pc_euch = adata_A[:, (adata_A.var['gene_type'] == 'protein_coding') & (adata_A.var['gene_chrom'].isin([f'chr{i}' for i in range(1, 23)]))].copy()\n",
    "adata_B_pc_euch = adata_B[:, (adata_B.var['gene_type'] == 'protein_coding') & (adata_B.var['gene_chrom'].isin([f'chr{i}' for i in range(1, 23)]))].copy()\n",
    "adata_C_pc_euch = adata_C[:, (adata_C.var['gene_type'] == 'protein_coding') & (adata_C.var['gene_chrom'].isin([f'chr{i}' for i in range(1, 23)]))].copy()\n",
    "adata_D_pc_euch = adata_D[:, (adata_D.var['gene_type'] == 'protein_coding') & (adata_D.var['gene_chrom'].isin([f'chr{i}' for i in range(1, 23)]))].copy()"
   ]
  },
  {
   "cell_type": "markdown",
   "id": "a5e4c026-7acc-4a85-8f3f-7003c098e5c3",
   "metadata": {
    "execution": {
     "iopub.execute_input": "2024-04-04T18:42:06.933465Z",
     "iopub.status.busy": "2024-04-04T18:42:06.933174Z",
     "iopub.status.idle": "2024-04-04T18:42:06.943978Z",
     "shell.execute_reply": "2024-04-04T18:42:06.943424Z",
     "shell.execute_reply.started": "2024-04-04T18:42:06.933449Z"
    },
    "scrolled": true
   },
   "source": [
    "## Normalize"
   ]
  },
  {
   "cell_type": "code",
   "execution_count": null,
   "id": "871fae83-c77f-442f-adf5-66cecc273160",
   "metadata": {
    "scrolled": true
   },
   "outputs": [],
   "source": [
    "adata_A_pc_euch = norm_adata(adata_A_pc_euch)\n",
    "adata_B_pc_euch = norm_adata(adata_B_pc_euch)\n",
    "adata_C_pc_euch = norm_adata(adata_C_pc_euch)\n",
    "adata_D_pc_euch = norm_adata(adata_D_pc_euch)"
   ]
  },
  {
   "cell_type": "markdown",
   "id": "6c85aeaa-4893-4b4d-b367-d0c79933d752",
   "metadata": {
    "execution": {
     "iopub.execute_input": "2024-04-04T20:26:36.800196Z",
     "iopub.status.busy": "2024-04-04T20:26:36.799520Z",
     "iopub.status.idle": "2024-04-04T20:26:36.811095Z",
     "shell.execute_reply": "2024-04-04T20:26:36.810409Z",
     "shell.execute_reply.started": "2024-04-04T20:26:36.800176Z"
    },
    "scrolled": true
   },
   "source": [
    "## Manifold embed and clust"
   ]
  },
  {
   "cell_type": "code",
   "execution_count": null,
   "id": "6b3c9f96-6af4-449e-b70d-2616ae0192a8",
   "metadata": {
    "scrolled": true
   },
   "outputs": [],
   "source": [
    "adata_A_pc_euch = manifold_adata(adata_A_pc_euch, resolution=0.3)\n",
    "adata_B_pc_euch = manifold_adata(adata_B_pc_euch, resolution=0.3)\n",
    "adata_C_pc_euch = manifold_adata(adata_C_pc_euch, resolution=0.3)\n",
    "adata_D_pc_euch = manifold_adata(adata_D_pc_euch, resolution=0.3)"
   ]
  },
  {
   "cell_type": "markdown",
   "id": "1fae898f-b0ae-4a53-a2d5-b64a4d47e26a",
   "metadata": {},
   "source": [
    "## Obtain spatial domains in Squidpy"
   ]
  },
  {
   "cell_type": "code",
   "execution_count": null,
   "id": "12995e67-9a37-4687-9205-c43f0f6e0013",
   "metadata": {
    "scrolled": true
   },
   "outputs": [],
   "source": [
    "adata_A_pc_euch = spatial_domain_squidpy(adata_A_pc_euch)\n",
    "adata_B_pc_euch = spatial_domain_squidpy(adata_B_pc_euch)\n",
    "adata_C_pc_euch = spatial_domain_squidpy(adata_C_pc_euch)\n",
    "adata_D_pc_euch = spatial_domain_squidpy(adata_D_pc_euch)"
   ]
  },
  {
   "cell_type": "code",
   "execution_count": 24,
   "id": "059c434d-2ac0-4c62-a7c5-0fb1b4aa483b",
   "metadata": {
    "execution": {
     "iopub.execute_input": "2024-04-10T19:14:44.758016Z",
     "iopub.status.busy": "2024-04-10T19:14:44.757691Z",
     "iopub.status.idle": "2024-04-10T19:14:46.116585Z",
     "shell.execute_reply": "2024-04-10T19:14:46.116015Z",
     "shell.execute_reply.started": "2024-04-10T19:14:44.757993Z"
    }
   },
   "outputs": [],
   "source": [
    "adata_A_pc_euch.write('sample_A_pc_euch_clustered_pct_mt_30.h5ad')\n",
    "adata_B_pc_euch.write('sample_B_pc_euch_clustered_pct_mt_30.h5ad')\n",
    "adata_C_pc_euch.write('sample_C_pc_euch_clustered_pct_mt_30.h5ad')\n",
    "adata_D_pc_euch.write('sample_D_pc_euch_clustered_pct_mt_30.h5ad')"
   ]
  },
  {
   "cell_type": "markdown",
   "id": "da571a1a-0a78-4f5c-8631-5ccf3c7554ab",
   "metadata": {},
   "source": [
    "## Expression of marker genes"
   ]
  },
  {
   "cell_type": "markdown",
   "id": "053dd85d-3b56-4067-a2f1-f189f505fe23",
   "metadata": {},
   "source": [
    "### MBP"
   ]
  },
  {
   "cell_type": "code",
   "execution_count": null,
   "id": "8a50983c-2317-4a8b-b035-92c1c864febd",
   "metadata": {},
   "outputs": [],
   "source": [
    "# sample_a\n",
    "sq.pl.spatial_scatter(\n",
    "    adata_A_pc_euch, \n",
    "    color=['MBP'], \n",
    "    size=1.5, \n",
    "    legend_fontsize=10, \n",
    "    legend_fontoutline=2, \n",
    "    outline_width=(0.5, 0.3), \n",
    "    frameon=False,\n",
    "    img=None, \n",
    "    save='ast_visium_sample_a_cluster_mbp.pdf', \n",
    "    dpi=300,\n",
    "    cmap=cmap_plot  # Specify the color map directly\n",
    ")\n",
    "\n",
    "# sample_b\n",
    "sq.pl.spatial_scatter(\n",
    "    adata_B_pc_euch, \n",
    "    color=['MBP'], \n",
    "    size=1.5, \n",
    "    legend_fontsize=10, \n",
    "    legend_fontoutline=2, \n",
    "    outline_width=(0.5, 0.3), \n",
    "    frameon=False,\n",
    "    img=None, \n",
    "    save='ast_visium_sample_b_cluster_mbp.pdf', \n",
    "    dpi=300,\n",
    "    cmap=cmap_plot  # Specify the color map directly\n",
    ")\n",
    "\n",
    "# sample_c\n",
    "sq.pl.spatial_scatter(\n",
    "    adata_C_pc_euch, \n",
    "    color=['MBP'], \n",
    "    size=1.5, \n",
    "    legend_fontsize=10, \n",
    "    legend_fontoutline=2, \n",
    "    outline_width=(0.5, 0.3), \n",
    "    frameon=False,\n",
    "    img=None, \n",
    "    save='ast_visium_sample_c_cluster_mbp.pdf', \n",
    "    dpi=300,\n",
    "    cmap=cmap_plot  # Specify the color map directly\n",
    ")\n",
    "\n",
    "# sample_d\n",
    "sq.pl.spatial_scatter(\n",
    "    adata_D_pc_euch, \n",
    "    color=['MBP'], \n",
    "    size=1.5, \n",
    "    legend_fontsize=10, \n",
    "    legend_fontoutline=2, \n",
    "    outline_width=(0.5, 0.3), \n",
    "    frameon=False,\n",
    "    img=None, \n",
    "    save='ast_visium_sample_d_cluster_mbp.pdf', \n",
    "    dpi=300,\n",
    "    cmap=cmap_plot  # Specify the color map directly\n",
    ")"
   ]
  },
  {
   "cell_type": "markdown",
   "id": "24b798c5-ff54-4df6-bf67-3d36db4604cf",
   "metadata": {},
   "source": [
    "### GFAP"
   ]
  },
  {
   "cell_type": "code",
   "execution_count": null,
   "id": "4668c43f-f542-407c-9f8a-d6199f31e32b",
   "metadata": {},
   "outputs": [],
   "source": [
    "# sample_a\n",
    "sq.pl.spatial_scatter(\n",
    "    adata_A_pc_euch, \n",
    "    color=['GFAP'], \n",
    "    size=1.5, \n",
    "    legend_fontsize=10, \n",
    "    legend_fontoutline=2, \n",
    "    outline_width=(0.5, 0.3), \n",
    "    frameon=False,\n",
    "    img=None, \n",
    "    save='ast_visium_sample_a_cluster_gfap.pdf', \n",
    "    dpi=300,\n",
    "    cmap=cmap_plot  # Specify the color map directly\n",
    ")\n",
    "\n",
    "# sample_b\n",
    "sq.pl.spatial_scatter(\n",
    "    adata_B_pc_euch, \n",
    "    color=['GFAP'], \n",
    "    size=1.5, \n",
    "    legend_fontsize=10, \n",
    "    legend_fontoutline=2, \n",
    "    outline_width=(0.5, 0.3), \n",
    "    frameon=False,\n",
    "    img=None, \n",
    "    save='ast_visium_sample_b_cluster_gfap.pdf', \n",
    "    dpi=300,\n",
    "    cmap=cmap_plot  # Specify the color map directly\n",
    ")\n",
    "\n",
    "# sample_c\n",
    "sq.pl.spatial_scatter(\n",
    "    adata_C_pc_euch, \n",
    "    color=['GFAP'], \n",
    "    size=1.5, \n",
    "    legend_fontsize=10, \n",
    "    legend_fontoutline=2, \n",
    "    outline_width=(0.5, 0.3), \n",
    "    frameon=False,\n",
    "    img=None, \n",
    "    save='ast_visium_sample_c_cluster_gfap.pdf', \n",
    "    dpi=300,\n",
    "    cmap=cmap_plot  # Specify the color map directly\n",
    ")\n",
    "\n",
    "# sample_d\n",
    "sq.pl.spatial_scatter(\n",
    "    adata_D_pc_euch, \n",
    "    color=['GFAP'], \n",
    "    size=1.5, \n",
    "    legend_fontsize=10, \n",
    "    legend_fontoutline=2, \n",
    "    outline_width=(0.5, 0.3), \n",
    "    frameon=False,\n",
    "    img=None, \n",
    "    save='ast_visium_sample_d_cluster_gfap.pdf', \n",
    "    dpi=300,\n",
    "    cmap=cmap_plot  # Specify the color map directly\n",
    ")"
   ]
  },
  {
   "cell_type": "markdown",
   "id": "e855a335-e36b-4b45-996e-4e5193a1a811",
   "metadata": {},
   "source": [
    "### SLC1A2"
   ]
  },
  {
   "cell_type": "code",
   "execution_count": null,
   "id": "7160c239-996f-4f5f-bc0f-7777a83e95fd",
   "metadata": {},
   "outputs": [],
   "source": [
    "# sample_a\n",
    "sq.pl.spatial_scatter(\n",
    "    adata_A_pc_euch, \n",
    "    color=['SLC1A2'], \n",
    "    size=1.5, \n",
    "    legend_fontsize=10, \n",
    "    legend_fontoutline=2, \n",
    "    outline_width=(0.5, 0.3), \n",
    "    frameon=False,\n",
    "    img=None, \n",
    "    save='ast_visium_sample_a_cluster_slc1a2.pdf', \n",
    "    dpi=300,\n",
    "    cmap=cmap_plot  # Specify the color map directly\n",
    ")\n",
    "\n",
    "# sample_b\n",
    "sq.pl.spatial_scatter(\n",
    "    adata_B_pc_euch, \n",
    "    color=['SLC1A2'], \n",
    "    size=1.5, \n",
    "    legend_fontsize=10, \n",
    "    legend_fontoutline=2, \n",
    "    outline_width=(0.5, 0.3), \n",
    "    frameon=False,\n",
    "    img=None, \n",
    "    save='ast_visium_sample_b_cluster_slc1a2.pdf', \n",
    "    dpi=300,\n",
    "    cmap=cmap_plot  # Specify the color map directly\n",
    ")\n",
    "\n",
    "# sample_c\n",
    "sq.pl.spatial_scatter(\n",
    "    adata_C_pc_euch, \n",
    "    color=['SLC1A2'], \n",
    "    size=1.5, \n",
    "    legend_fontsize=10, \n",
    "    legend_fontoutline=2, \n",
    "    outline_width=(0.5, 0.3), \n",
    "    frameon=False,\n",
    "    img=None, \n",
    "    save='ast_visium_sample_c_cluster_slc1a2.pdf', \n",
    "    dpi=300,\n",
    "    cmap=cmap_plot  # Specify the color map directly\n",
    ")\n",
    "\n",
    "# sample_d\n",
    "sq.pl.spatial_scatter(\n",
    "    adata_D_pc_euch, \n",
    "    color=['SLC1A2'], \n",
    "    size=1.5, \n",
    "    legend_fontsize=10, \n",
    "    legend_fontoutline=2, \n",
    "    outline_width=(0.5, 0.3), \n",
    "    frameon=False,\n",
    "    img=None, \n",
    "    save='ast_visium_sample_d_cluster_slc1a2.pdf', \n",
    "    dpi=300,\n",
    "    cmap=cmap_plot  # Specify the color map directly\n",
    ")"
   ]
  },
  {
   "cell_type": "markdown",
   "id": "562dc5d0-2d4b-4c26-b285-97e229aadf03",
   "metadata": {},
   "source": [
    "## Identify Spatial domains using ONTraC"
   ]
  },
  {
   "cell_type": "markdown",
   "id": "ff9d6f95-a7a8-408e-9215-fa93712fa70d",
   "metadata": {},
   "source": [
    "### Prepare the input files"
   ]
  },
  {
   "cell_type": "code",
   "execution_count": null,
   "id": "d329642a-0fba-4613-aea0-f7cc9a0e596f",
   "metadata": {},
   "outputs": [],
   "source": [
    "df_A = prepare_input_for_ontrac(adata_A_pc_euch, 'A', 'squidpy_domains') \n",
    "df_B = prepare_input_for_ontrac(adata_B_pc_euch, 'B', 'squidpy_domains') \n",
    "df_C = prepare_input_for_ontrac(adata_C_pc_euch, 'C', 'squidpy_domains') \n",
    "df_D = prepare_input_for_ontrac(adata_D_pc_euch, 'D', 'squidpy_domains')\n",
    "combined_df = pd.concat([df_A, df_B, df_C, df_D], ignore_index=True)"
   ]
  },
  {
   "cell_type": "code",
   "execution_count": null,
   "id": "e0f1b2d8-8db5-404b-b8e4-44a3edd414db",
   "metadata": {},
   "outputs": [],
   "source": [
    "combined_df.to_csv('original_data.csv', index=False)"
   ]
  },
  {
   "cell_type": "markdown",
   "id": "3d50b962-f631-48d4-b72a-69eda6c921d5",
   "metadata": {},
   "source": [
    "### Run ONTraC"
   ]
  },
  {
   "cell_type": "code",
   "execution_count": null,
   "id": "a776ba60-0c74-4c11-aa85-49ac10482bbd",
   "metadata": {},
   "outputs": [],
   "source": [
    "%%sh\n",
    "\n",
    "cd ${dataPATH}\n",
    "ONTraC -d ${dataPATH}/original_data.csv --preprocessing-dir ${dataPATH}/preprocessing --GNN-dir ${dataPATH}/GNN --NTScore-dir ${dataPATH}/NTScore"
   ]
  },
  {
   "cell_type": "markdown",
   "id": "774d5466-0f1e-4672-b3fc-485d911a4498",
   "metadata": {},
   "source": [
    "### Spatial domains visualization"
   ]
  },
  {
   "cell_type": "code",
   "execution_count": null,
   "id": "d3d3b1ca-829e-46cc-8ef5-0256b4439c47",
   "metadata": {},
   "outputs": [],
   "source": [
    "domains_ontrac = pd.read_csv('ontrac/GNN/cell_level_max_niche_cluster.csv', index_col=0)\n",
    "# sample_A\n",
    "mask_A = domains_ontrac.index.str.startswith('A_')\n",
    "subset_df_A = domains_ontrac[mask_A]\n",
    "subset_df_A.index = subset_df_A.index.str.replace('A_', '')\n",
    "adata_A_pc_euch.obs['Niche_Cluster'] = subset_df_A['Niche_Cluster'].astype(str)\n",
    "\n",
    "# sample_B\n",
    "mask_B = domains_ontrac.index.str.startswith('B_')\n",
    "subset_df_B = domains_ontrac[mask_B]\n",
    "subset_df_B.index = subset_df_B.index.str.replace('B_', '')\n",
    "adata_B_pc_euch.obs['Niche_Cluster'] = subset_df_B['Niche_Cluster'].astype(str)\n",
    "\n",
    "# sample_C\n",
    "mask_C = domains_ontrac.index.str.startswith('C_')\n",
    "subset_df_C = domains_ontrac[mask_C]\n",
    "subset_df_C.index = subset_df_C.index.str.replace('C_', '')\n",
    "adata_C_pc_euch.obs['Niche_Cluster'] = subset_df_C['Niche_Cluster'].astype(str)\n",
    "\n",
    "# sample_D\n",
    "mask_D = domains_ontrac.index.str.startswith('D_')\n",
    "subset_df_D = domains_ontrac[mask_D]\n",
    "subset_df_D.index = subset_df_D.index.str.replace('D_', '')\n",
    "adata_D_pc_euch.obs['Niche_Cluster'] = subset_df_D['Niche_Cluster'].astype(str)"
   ]
  },
  {
   "cell_type": "code",
   "execution_count": null,
   "id": "70de2f02-0789-4816-adb4-4dce8141f252",
   "metadata": {},
   "outputs": [],
   "source": [
    "# sample_a\n",
    "sq.pl.spatial_scatter(\n",
    "    adata_A_pc_euch, \n",
    "    color=['Niche_Cluster'], \n",
    "    size=1.5, \n",
    "    legend_fontsize=10, \n",
    "    legend_fontoutline=2, \n",
    "    outline_width=(0.5, 0.3), \n",
    "    frameon=False,\n",
    "    img=None, \n",
    "    save='ast_visium_sample_a_cluster_niche_cluster.pdf', \n",
    "    dpi=300,\n",
    "    palette=cmap_niche  # Specify the color map directly\n",
    ")\n",
    "\n",
    "# sample_b\n",
    "sq.pl.spatial_scatter(\n",
    "    adata_B_pc_euch, \n",
    "    color=['Niche_Cluster'], \n",
    "    size=1.5, \n",
    "    legend_fontsize=10, \n",
    "    legend_fontoutline=2, \n",
    "    outline_width=(0.5, 0.3), \n",
    "    frameon=False,\n",
    "    img=None, \n",
    "    save='ast_visium_sample_b_cluster_niche_cluster.pdf', \n",
    "    dpi=300,\n",
    "    palette=cmap_niche  # Specify the color map directly\n",
    ")\n",
    "\n",
    "# sample_c\n",
    "sq.pl.spatial_scatter(\n",
    "    adata_C_pc_euch, \n",
    "    color=['Niche_Cluster'], \n",
    "    size=1.5, \n",
    "    legend_fontsize=10, \n",
    "    legend_fontoutline=2, \n",
    "    outline_width=(0.5, 0.3), \n",
    "    frameon=False,\n",
    "    img=None, \n",
    "    save='ast_visium_sample_c_cluster_niche_cluster.pdf', \n",
    "    dpi=300,\n",
    "    palette=cmap_niche  # Specify the color map directly\n",
    ")\n",
    "\n",
    "# sample_d\n",
    "sq.pl.spatial_scatter(\n",
    "    adata_D_pc_euch, \n",
    "    color=['Niche_Cluster'], \n",
    "    size=1.5, \n",
    "    legend_fontsize=10, \n",
    "    legend_fontoutline=2, \n",
    "    outline_width=(0.5, 0.3), \n",
    "    frameon=False,\n",
    "    img=None, \n",
    "    save='ast_visium_sample_d_cluster_niche_cluster.pdf', \n",
    "    dpi=300,\n",
    "    palette=cmap_niche  # Specify the color map directly\n",
    ")"
   ]
  },
  {
   "cell_type": "markdown",
   "id": "41cb4e0f-20d5-43fb-b0af-cca0be03d24a",
   "metadata": {},
   "source": [
    "### Examine gene expression between spatial domains"
   ]
  },
  {
   "cell_type": "markdown",
   "id": "3a520807-0a5f-4107-8d13-216521adb59a",
   "metadata": {},
   "source": [
    "#### MBP"
   ]
  },
  {
   "cell_type": "code",
   "execution_count": null,
   "id": "53c7bcea-f083-40f4-9952-10e06f4d87bf",
   "metadata": {},
   "outputs": [],
   "source": [
    "gene_expr_clusters_in_boxplot(adata_A_pc_euch, 'MBP', \"Niche_Cluster\", ['0'], ['1'], file_out='ast_visium_sample_a_cluster_mbp_boxplot.pdf', figsize=(3.5, 6), ylim=(0, 6))\n",
    "gene_expr_clusters_in_boxplot(adata_B_pc_euch, 'MBP', \"Niche_Cluster\", ['0'], ['1'], file_out='ast_visium_sample_b_cluster_mbp_boxplot.pdf', figsize=(3.5, 6), ylim=(0, 6))\n",
    "gene_expr_clusters_in_boxplot(adata_C_pc_euch, 'MBP', \"Niche_Cluster\", ['0'], ['1'], file_out='ast_visium_sample_c_cluster_mbp_boxplot.pdf', figsize=(3.5, 6), ylim=(0, 6))\n",
    "gene_expr_clusters_in_boxplot(adata_D_pc_euch, 'MBP', \"Niche_Cluster\", ['0'], ['1'], file_out='ast_visium_sample_d_cluster_mbp_boxplot.pdf', figsize=(3.5, 6), ylim=(0, 6))"
   ]
  },
  {
   "cell_type": "markdown",
   "id": "ef3c6551-2e4b-434d-85eb-174b324bf791",
   "metadata": {},
   "source": [
    "#### GFAP"
   ]
  },
  {
   "cell_type": "code",
   "execution_count": null,
   "id": "f95aad2e-2803-4808-a33c-7487c1bbb7dc",
   "metadata": {},
   "outputs": [],
   "source": [
    "gene_expr_clusters_in_boxplot(adata_A_pc_euch, 'GFAP', \"Niche_Cluster\", ['0'], ['1'], file_out='ast_visium_sample_a_cluster_gfap_boxplot.pdf', figsize=(3.5, 6), ylim=(0, 6))\n",
    "gene_expr_clusters_in_boxplot(adata_B_pc_euch, 'GFAP', \"Niche_Cluster\", ['0'], ['1'], file_out='ast_visium_sample_b_cluster_gfap_boxplot.pdf', figsize=(3.5, 6), ylim=(0, 6))\n",
    "gene_expr_clusters_in_boxplot(adata_C_pc_euch, 'GFAP', \"Niche_Cluster\", ['0'], ['1'], file_out='ast_visium_sample_c_cluster_gfap_boxplot.pdf', figsize=(3.5, 6), ylim=(0, 6))\n",
    "gene_expr_clusters_in_boxplot(adata_D_pc_euch, 'GFAP', \"Niche_Cluster\", ['0'], ['1'], file_out='ast_visium_sample_d_cluster_gfap_boxplot.pdf', figsize=(3.5, 6), ylim=(0, 6))"
   ]
  },
  {
   "cell_type": "markdown",
   "id": "bac05aac-7d7d-45a5-92ae-6157aeb8c541",
   "metadata": {},
   "source": [
    "#### SLC1A2"
   ]
  },
  {
   "cell_type": "code",
   "execution_count": null,
   "id": "268a3774-2990-4770-92ca-b10765c50131",
   "metadata": {},
   "outputs": [],
   "source": [
    "gene_expr_clusters_in_boxplot(adata_A_pc_euch, 'SLC1A2', \"Niche_Cluster\", ['0'], ['1'], file_out='ast_visium_sample_a_cluster_slc1a2_boxplot.pdf', figsize=(3.5, 6), ylim=(0, 4))\n",
    "gene_expr_clusters_in_boxplot(adata_B_pc_euch, 'SLC1A2', \"Niche_Cluster\", ['0'], ['1'], file_out='ast_visium_sample_b_cluster_slc1a2_boxplot.pdf', figsize=(3.5, 6), ylim=(0, 4))\n",
    "gene_expr_clusters_in_boxplot(adata_C_pc_euch, 'SLC1A2', \"Niche_Cluster\", ['0'], ['1'], file_out='ast_visium_sample_c_cluster_slc1a2_boxplot.pdf', figsize=(3.5, 6), ylim=(0, 4))\n",
    "gene_expr_clusters_in_boxplot(adata_D_pc_euch, 'SLC1A2', \"Niche_Cluster\", ['0'], ['1'], file_out='ast_visium_sample_d_cluster_slc1a2_boxplot.pdf', figsize=(3.5, 6), ylim=(0, 4))"
   ]
  }
 ],
 "metadata": {
  "kernelspec": {
   "display_name": "Python 3 (ipykernel)",
   "language": "python",
   "name": "python3"
  },
  "language_info": {
   "codemirror_mode": {
    "name": "ipython",
    "version": 3
   },
   "file_extension": ".py",
   "mimetype": "text/x-python",
   "name": "python",
   "nbconvert_exporter": "python",
   "pygments_lexer": "ipython3",
   "version": "3.9.16"
  }
 },
 "nbformat": 4,
 "nbformat_minor": 5
}
