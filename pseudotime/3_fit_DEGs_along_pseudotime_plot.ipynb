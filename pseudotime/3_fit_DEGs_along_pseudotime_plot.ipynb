{
 "cells": [
  {
   "cell_type": "markdown",
   "id": "c13c70c0-8fc6-47c9-a92c-7e9c485d63e6",
   "metadata": {},
   "source": [
    "# Load R libraries"
   ]
  },
  {
   "cell_type": "code",
   "execution_count": null,
   "id": "e8274591-0e35-4e2e-8bc1-6ca1122e7ad7",
   "metadata": {
    "scrolled": true
   },
   "outputs": [],
   "source": [
    "set.seed(222)\n",
    "library(monocle3)\n",
    "library(ggplot2)\n",
    "library(RColorBrewer)\n",
    "library(pheatmap)\n",
    "library(enrichR)\n",
    "websiteLive <- getOption(\"enrichR.live\")\n",
    "dbs <- c(\"GO_Molecular_Function_2023\", \"GO_Cellular_Component_2023\", \"GO_Biological_Process_2023\",\n",
    "            \"KEGG_2021_Human\", \"Elsevier_Pathway_Collection\", \"GWAS_Catalog_2023\")\n",
    "library(dplyr)\n",
    "library(ggridges)\n",
    "library(viridis)"
   ]
  },
  {
   "cell_type": "markdown",
   "id": "f649547b-f1b6-4872-ad17-221ee10b0a1d",
   "metadata": {},
   "source": [
    "# Load functions"
   ]
  },
  {
   "cell_type": "markdown",
   "id": "a8a07050-baa7-40e0-b475-7454133cdbe9",
   "metadata": {},
   "source": [
    "## Color settings"
   ]
  },
  {
   "cell_type": "code",
   "execution_count": 2,
   "id": "dca7cee5-fcd1-4adc-b434-a52aca10cb48",
   "metadata": {
    "execution": {
     "iopub.execute_input": "2024-05-29T18:34:21.413880Z",
     "iopub.status.busy": "2024-05-29T18:34:21.390545Z",
     "iopub.status.idle": "2024-05-29T18:34:21.424801Z",
     "shell.execute_reply": "2024-05-29T18:34:21.423543Z"
    }
   },
   "outputs": [],
   "source": [
    "source(\"0_color_settings.r\")"
   ]
  },
  {
   "cell_type": "markdown",
   "id": "1d9fb39a-fad3-481b-99fe-5965d6ea3506",
   "metadata": {},
   "source": [
    "## Load trajectory reconstruction and downstream analysis based on Kriegstein scripts"
   ]
  },
  {
   "cell_type": "code",
   "execution_count": 3,
   "id": "d762a45f-f617-435b-9d36-2bd249e0eb28",
   "metadata": {
    "execution": {
     "iopub.execute_input": "2024-05-29T18:34:21.427759Z",
     "iopub.status.busy": "2024-05-29T18:34:21.426746Z",
     "iopub.status.idle": "2024-05-29T18:34:21.510505Z",
     "shell.execute_reply": "2024-05-29T18:34:21.509288Z"
    }
   },
   "outputs": [],
   "source": [
    "source(\"0_trajectory_reconstruction_based_on_kriestein.r\")"
   ]
  },
  {
   "cell_type": "markdown",
   "id": "74109121-d905-4f1a-8ead-dcba8d432851",
   "metadata": {},
   "source": [
    "## Scale gene expression into [0, 1]"
   ]
  },
  {
   "cell_type": "code",
   "execution_count": 4,
   "id": "0ff9365d-c3a8-4af4-a75b-7b6c823781cb",
   "metadata": {
    "execution": {
     "iopub.execute_input": "2024-05-29T18:34:21.513249Z",
     "iopub.status.busy": "2024-05-29T18:34:21.512295Z",
     "iopub.status.idle": "2024-05-29T18:34:21.520669Z",
     "shell.execute_reply": "2024-05-29T18:34:21.519550Z"
    }
   },
   "outputs": [],
   "source": [
    "scale_expression <- function(expr) {\n",
    "    (expr - min(expr, na.rm = TRUE)) / \n",
    "    (max(expr, na.rm = TRUE) - min(expr, na.rm = TRUE))\n",
    "}"
   ]
  },
  {
   "cell_type": "markdown",
   "id": "c227e1b6-da20-4484-9bf3-3a8584f5b912",
   "metadata": {},
   "source": [
    "## Obtain comparable fitted values"
   ]
  },
  {
   "cell_type": "code",
   "execution_count": 5,
   "id": "3a22160a-e192-4109-8b7c-8ef31d578eb0",
   "metadata": {
    "execution": {
     "iopub.execute_input": "2024-05-29T18:34:21.523420Z",
     "iopub.status.busy": "2024-05-29T18:34:21.522464Z",
     "iopub.status.idle": "2024-05-29T18:34:21.530700Z",
     "shell.execute_reply": "2024-05-29T18:34:21.529573Z"
    }
   },
   "outputs": [],
   "source": [
    "obtain_fitted_pseudotime_from_compressed_scale_start <- function(cds){\n",
    "    # Extract the fitted matrices for each lineage\n",
    "    fitted <- cds@expectation\n",
    "    \n",
    "    # Initialize a list to store the adjusted fitted matrices\n",
    "    adjusted_fitted <- list()\n",
    "    \n",
    "    # Loop through each lineage\n",
    "    for (lineage in names(fitted)) {\n",
    "        fitted_matrix <- fitted[[lineage]]\n",
    "        \n",
    "        # If it's the first lineage, calculate the reference fitted for the first meta-cell\n",
    "        if (lineage == names(fitted)[1]) {\n",
    "            reference_fitted <- fitted_matrix[1, ]\n",
    "        }\n",
    "        \n",
    "        # Calculate the difference for each gene\n",
    "        adjustment <- reference_fitted - fitted_matrix[1, ]\n",
    "        \n",
    "        # Adjust the fitted matrix for the lineage\n",
    "        adjusted_fitted_matrix <- sweep(fitted_matrix, 2, adjustment, '+')\n",
    "        \n",
    "        # Add the adjusted matrix to the list\n",
    "        adjusted_fitted[[lineage]] <- adjusted_fitted_matrix\n",
    "    }\n",
    "    cds@expectation <- adjusted_fitted\n",
    "    return(cds)\n",
    "}"
   ]
  },
  {
   "cell_type": "markdown",
   "id": "ecf36fd1-c336-4a0c-8831-cce9ca077d05",
   "metadata": {},
   "source": [
    "## Ordered Kmeans clustering based on scaled fitted values"
   ]
  },
  {
   "cell_type": "code",
   "execution_count": 6,
   "id": "d39d9743-f33a-48c0-80b4-029b9484170c",
   "metadata": {
    "execution": {
     "iopub.execute_input": "2024-05-29T18:34:23.356613Z",
     "iopub.status.busy": "2024-05-29T18:34:23.354660Z",
     "iopub.status.idle": "2024-05-29T18:34:23.375344Z",
     "shell.execute_reply": "2024-05-29T18:34:23.374095Z"
    }
   },
   "outputs": [],
   "source": [
    "# Function to order rows within a cluster\n",
    "order_rows_within_cluster <- function(cluster_data) {\n",
    "    # Calculate row means (excluding the cluster column)\n",
    "    row_means <- rowMeans(cluster_data[, -ncol(cluster_data)])\n",
    "    # Order rows based on row means\n",
    "    ordered_fitted_mat <- cluster_data[order(row_means), ]\n",
    "    return(ordered_fitted_mat)\n",
    "}\n",
    "\n",
    "# color_scale <- colorRampPalette(rev(brewer.pal(n = 7, name = \"RdYlBu\")))(100)\n",
    "color_scale <- colorRampPalette(c(\"#2C7BB6\", \"white\", \"#D7191C\"))(100)\n",
    "\n",
    "obtain_peak_times <- function(df, n_metacell){\n",
    "    n_groups <- ncol(df) / n_metacell\n",
    "    peak_times <- matrix(NA, nrow(df), n_groups)\n",
    "    \n",
    "    for (i in 1:n_groups) {\n",
    "      cols <- ((i - 1) * 500 + 1):(i * 500)\n",
    "    \n",
    "      # Find the index of the max value in each row for these columns\n",
    "      peak_times[, i] <- apply(df[, cols], 1, which.max)\n",
    "    }\n",
    "    \n",
    "    # Optional: Adjust indices if necessary (e.g., to reflect actual times)\n",
    "    \n",
    "    # Calculate the average peak time for each row\n",
    "    row_averages <- rowMeans(peak_times, na.rm = TRUE)    \n",
    "}\n",
    "\n",
    "# Source: https://gist.github.com/mathzero/a2070a24a6b418740c44a5c023f5c01e\n",
    "save_pheatmap <- function(x, filename, width=12, height=12){\n",
    "    stopifnot(!missing(x))\n",
    "    stopifnot(!missing(filename))\n",
    "    if(grepl(\".png\",filename)){\n",
    "        png(filename, width=width, height=height, units = \"in\", res=300)\n",
    "        grid::grid.newpage()\n",
    "        grid::grid.draw(x$gtable)\n",
    "        dev.off()\n",
    "    }\n",
    "    else if(grepl(\".pdf\",filename)){\n",
    "        pdf(filename, width=width, height=height)\n",
    "        grid::grid.newpage()\n",
    "        grid::grid.draw(x$gtable)\n",
    "        dev.off()\n",
    "    }\n",
    "    else{\n",
    "      print(\"Filename did not contain '.png' or '.pdf'\")\n",
    "    }\n",
    "}\n",
    "\n",
    "\n",
    "kmeans_cluster_ordered_mean_peak_within <- function(fitted_mat, n_tree, pseudo_range, lineages, branches, n_metacell, n_term, n_char, out_label, plotTextSize=11){\n",
    "    # Set the maximum value\n",
    "    # fitted_mat[fitted_mat > quantile(fitted_mat, 0.8)] <- quantile(fitted_mat, 0.8)\n",
    "    fitted_mat <- t(apply(fitted_mat, 1, scale_expression))\n",
    "    \n",
    "    # kmeans clustering\n",
    "    # 1st\n",
    "    set.seed(222)\n",
    "    ks_1st <- kmeans(fitted_mat, centers = n_tree, iter.max = 100)\n",
    "    \n",
    "    # prepare for 2nd clustering\n",
    "    if(length(pseudo_range) == 2){\n",
    "        peak_times <- abs(apply(fitted_mat, 1, which.max) - n_metacell)\n",
    "    }else{\n",
    "        peak_times <- obtain_peak_times(fitted_mat, n_metacell)\n",
    "    }\n",
    "    \n",
    "    # assign each gene to its cluster and add peak times\n",
    "    gene_info <- data.frame(Cluster = ks_1st$cluster, PeakTime = peak_times)\n",
    "    # calculate median peak expression time for each cluster\n",
    "    cluster_peak_times <- aggregate(PeakTime ~ Cluster, data = gene_info, mean)\n",
    "    # order clusters based on mean peak expression times\n",
    "    ordered_clusters <- cluster_peak_times[order(cluster_peak_times$PeakTime), \"Cluster\"]\n",
    "    \n",
    "    \n",
    "    # 2nd: kmeans secondly according to specific order\n",
    "    set.seed(222)\n",
    "    centerOrder <- ks_1st$centers[ordered_clusters, ]\n",
    "    ks_2nd <- kmeans(fitted_mat, centers = centerOrder, iter.max = 100)\n",
    "    # print(ks_2nd)\n",
    "    annotation_row <- data.frame(Cluster = factor(ks_2nd$cluster))\n",
    "\n",
    "    # Ordering the matrix based on the clusters\n",
    "    # Add cluster information to your fitted_mat\n",
    "    \n",
    "    fitted_mat <- cbind(fitted_mat, data.frame(cluster = ks_2nd$cluster))\n",
    "\n",
    "    # Apply the function to each cluster and combine the results\n",
    "    ordered_fitted_mat <- do.call(rbind, by(fitted_mat, fitted_mat$cluster, order_rows_within_cluster))\n",
    "    \n",
    "    # Annotation for rows\n",
    "    annotation_row <- data.frame(Cluster = factor(ordered_fitted_mat$cluster))\n",
    "    rownames(annotation_row) <- rownames(ordered_fitted_mat)\n",
    "    ordered_fitted_mat$cluster <- NULL\n",
    "\n",
    "    # Annotation for columns\n",
    "    annotation_col = data.frame(\n",
    "                                CellType = factor(rep(lineages, each = n_metacell)), \n",
    "                                Branch = factor(branches))\n",
    "    rownames(annotation_col) = colnames(ordered_fitted_mat)\n",
    "\n",
    "    \n",
    "    # Create the heatmap\n",
    "    par(mfrow = c(1, 1), mar = c(5, 4, 4, 2))\n",
    "    cols_cluster <- c(brewer.pal(n = n_tree, name = \"Paired\"))\n",
    "    names(cols_cluster) <- unique(annotation_row$Cluster)\n",
    "    ann_colors <- list(CellType = cols_subclass_uni[lineages], Branch = cols_subclass_uni[unique(branches)], Cluster = cols_cluster)\n",
    "    ph <- pheatmap(ordered_fitted_mat, \n",
    "             cluster_rows = F, \n",
    "             cluster_cols = F, \n",
    "             scale = \"none\", \n",
    "             annotation_row = annotation_row,\n",
    "             annotation_col = annotation_col,\n",
    "             annotation_colors = ann_colors,\n",
    "             show_rownames = F, \n",
    "             show_colnames = F, \n",
    "             breaks = seq(0, 1, 0.01),\n",
    "             color = color_scale, \n",
    "             border_color = NA)\n",
    "    save_pheatmap(ph, paste0(out_label, \"_ks_\", as.character(n_tree), \"_heatmap.png\"))\n",
    "    \n",
    "    # Set the layout for the plots - 1 row and n_tree columns\n",
    "    pdf(paste0(out_label, \"_ks_\", as.character(n_tree), \"_average_line.pdf\"), width = 3 * n_tree, height = 3)\n",
    "    # options(repr.plot.width = 3 * n_tree, repr.plot.height = 3, repr.plot.res = 300)\n",
    "    par(mfrow = c(1, n_tree), mar = c(2, 1.8, 2, 1))\n",
    "    \n",
    "    for(sub_cluster in seq(1, n_tree, 1)){\n",
    "        plot(0, type = \"n\", xlim = c(0, max(pseudo_range)), ylim = c(0, 1), xlab = \"Pseudotime\", ylab = \"Relative expression\", main = paste0(\"Cluster \", sub_cluster, \" (\", length(ks_2nd$cluster[ks_2nd$cluster == sub_cluster]), \")\"))\n",
    "\n",
    "        # Your lines plotting code\n",
    "        if(length(pseudo_range) == 2){ \n",
    "            lines(seq(0, pseudo_range[1], length.out = n_metacell), \n",
    "                  rev(colMeans(fitted_mat[rownames(fitted_mat) %in% names(ks_2nd$cluster[ks_2nd$cluster == sub_cluster]), 1:n_metacell])), \n",
    "                  col = cols_subclass_uni[names(pseudo_range[1])], \n",
    "                  lwd = 10) \n",
    "        } else {\n",
    "            lines(seq(0, pseudo_range[1], length.out = n_metacell), \n",
    "                  colMeans(fitted_mat[rownames(fitted_mat) %in% names(ks_2nd$cluster[ks_2nd$cluster == sub_cluster]), 1:n_metacell]), \n",
    "                  col = cols_subclass_uni[names(pseudo_range[1])], \n",
    "                  lwd = 10)  \n",
    "        }\n",
    "    \n",
    "        if(length(pseudo_range) >= 2){\n",
    "            for(i_branch in 2:length(pseudo_range)){\n",
    "                lines(seq(0, pseudo_range[i_branch], length.out = n_metacell), \n",
    "                      colMeans(fitted_mat[rownames(fitted_mat) %in% names(ks_2nd$cluster[ks_2nd$cluster == sub_cluster]), n_metacell*(i_branch-1)+(1:n_metacell)]), \n",
    "                      col = cols_subclass_uni[names(pseudo_range)[i_branch]], \n",
    "                      lwd = 10)\n",
    "            } \n",
    "        }\n",
    "    }\n",
    "    dev.off()\n",
    "\n",
    "    # Reset default plotting layout\n",
    "    par(mfrow = c(1, 1), mar = c(5, 4, 4, 2))\n",
    "    \n",
    "    # Plot the legend in a new plot\n",
    "    plot(0, type = \"n\", axes = FALSE, xlab = \"\", ylab = \"\", main = \"Legend\")\n",
    "    legend(\"topleft\", legend = names(pseudo_range), col = cols_subclass_uni[names(pseudo_range)], lwd = 6, bty = \"n\")\n",
    "\n",
    "    \n",
    "    \n",
    "    # Functional analysis\n",
    "    options(repr.plot.width = 10, repr.plot.height = 7, repr.plot.res = 300)\n",
    "    enriched_ggplot <- list()\n",
    "    enriched_terms <- list()\n",
    "    for(sub_cluster in seq(1, n_tree, 1)){\n",
    "        GENES <- names(ks_2nd$cluster[ks_2nd$cluster == sub_cluster])\n",
    "        write.table(unique(GENES), file = paste0(out_label, \"_ks_\", n_tree, \"_cluster_\", sub_cluster, \".csv\"), sep = \",\", row.names = F, col.names = F, quote = F)\n",
    "        enriched <- enrichr(GENES, dbs)\n",
    "        for(sub_enrich in names(enriched)){\n",
    "            all_term <- enriched[[sub_enrich]]\n",
    "            enriched_ggplot[[sub_enrich]] <- rbind(enriched_ggplot[[sub_enrich]], \n",
    "                                       data.frame(Cluster = rep(sub_cluster, n = nrow(all_term)), \n",
    "                                              Term = all_term$Term, \n",
    "                                              Count = sapply(strsplit(all_term$Genes, \";\"), length), \n",
    "                                              P.value = all_term$P.value, \n",
    "                                              Adjusted.P.value = all_term$Adjusted.P.value,\n",
    "                                              Neg.Log.Adj.P.Val = -log10(all_term$Adjusted.P.value)))\n",
    "            top_term <- enriched[[sub_enrich]][order(enriched[[sub_enrich]]$Adjusted.P.value, decreasing = F)[1:n_term], ]\n",
    "            top_term <- top_term[top_term$Adjusted.P.value < 0.05, ]\n",
    "            if(nrow(top_term) > 0){\n",
    "                enriched_terms[[sub_enrich]] <- unique(c(enriched_terms[[sub_enrich]], top_term$Term))               \n",
    "            }\n",
    "        }\n",
    "    }\n",
    "    \n",
    "    for(sub_enrich in names(enriched_ggplot)){\n",
    "        pdf(paste0(out_label, \"_ks_\", as.character(n_tree), \"_func_enrich_\", sub_enrich,\".pdf\"), width = 10, height = 7)\n",
    "        enriched_data <- enriched_ggplot[[sub_enrich]]\n",
    "        enriched_data$Cluster <- factor(enriched_data$Cluster, levels = seq(1, n_tree, 1))\n",
    "        enriched_data <- enriched_data[enriched_data$Term %in% enriched_terms[[sub_enrich]], ]\n",
    "        enriched_data$Term <- factor(enriched_data$Term, levels = enriched_terms[[sub_enrich]])\n",
    "        # Add significance label\n",
    "        enriched_data$plotLabel = \"\"\n",
    "        # enriched_data[enriched_data$P.value < 0.05, \"plotLabel\"] <- \".\"\n",
    "        enriched_data[enriched_data$Adjusted.P.value < 0.05, \"plotLabel\"] <- \"#\"\n",
    "        sub_p <- ggplot(enriched_data, aes(x = Cluster, y = Term, size = Count, color = Neg.Log.Adj.P.Val)) +\n",
    "            geom_point() +\n",
    "            scale_size(range = c(5, 10)) +\n",
    "            geom_text(aes(label = plotLabel), size = plotTextSize * 0.55, color = \"black\") +\n",
    "            theme_minimal() +\n",
    "            labs(title = sub_enrich, size = \"Count\", color = \"Neg.Log.Adj.P.Val\") +\n",
    "            scale_color_gradient2(high=\"#D7191C\", mid=\"white\", low=\"#2C7BB6\", name = \"-log10(adj.p)\")\n",
    "        print(sub_p)\n",
    "        dev.off()\n",
    "    }\n",
    "    return(list(ks = ks_2nd, fitted_mat = ordered_fitted_mat, enriched = enriched_ggplot))\n",
    "}"
   ]
  },
  {
   "cell_type": "markdown",
   "id": "ebce1344-14f5-4040-8e3f-839b6d658065",
   "metadata": {},
   "source": [
    "## MAGMA"
   ]
  },
  {
   "cell_type": "markdown",
   "id": "4d246ab8-edf3-4819-a4ac-79ea69237fdc",
   "metadata": {},
   "source": [
    "### Traits used"
   ]
  },
  {
   "cell_type": "code",
   "execution_count": 8,
   "id": "c5001474-452b-46b3-b918-3089bf4d9dff",
   "metadata": {
    "execution": {
     "iopub.execute_input": "2024-06-13T01:28:29.675856Z",
     "iopub.status.busy": "2024-06-13T01:28:29.674309Z",
     "iopub.status.idle": "2024-06-13T01:28:29.690110Z",
     "shell.execute_reply": "2024-06-13T01:28:29.688709Z"
    }
   },
   "outputs": [],
   "source": [
    "Psychiatric <- c(\"sz3\", \"bip2\", \"mdd_ipsych\", \"asd\", \"adhd_ipsych\", \"insomn2\", \"eduAttainment\", \"intel\", \"alcoholism_2019\", \"ocd\", \"tourette\")\n",
    "Neurological <- c(\"alzBellenguezNoApoe\", \"ms\", \"pd_without_23andMe\", \"epilepsyFocal\", \"migraines_2021\", \"stroke\", \"als2021\")\n",
    "Others <- c(\"obesity\", \"dm2\", \"lipidCholTotal\", \"ra\", \"ibd\", \"uc\")\n",
    "scDRS_traits <- c(Psychiatric, Neurological, Others)"
   ]
  },
  {
   "cell_type": "markdown",
   "id": "00459b9e-8f03-4572-84e7-548d3af8c22f",
   "metadata": {},
   "source": [
    "### Plot LDsc / MAGMA heatmap"
   ]
  },
  {
   "cell_type": "code",
   "execution_count": 2,
   "id": "49305a76-8e84-41bc-98f3-59ec9f2d4c83",
   "metadata": {
    "execution": {
     "iopub.execute_input": "2024-06-13T01:27:58.557947Z",
     "iopub.status.busy": "2024-06-13T01:27:58.536307Z",
     "iopub.status.idle": "2024-06-13T01:27:58.568623Z",
     "shell.execute_reply": "2024-06-13T01:27:58.567124Z"
    }
   },
   "outputs": [],
   "source": [
    "# Plot LDsc / MAGMA heatmap\n",
    "ldscHeatmapPlotter_trait_row <- function(df, plotCol=\"P\", FDR_PER_TRAIT=F, myPadjustMethod=\"BH\", markNominallySignificant=T,plotTextSize=11) {\n",
    "    df = data.frame(df)\n",
    "    df$sumstatName <- recode(df$sumstatName, \n",
    "                             \"sz3\"=\"SCZ\",\n",
    "                             \"bip2\"=\"BD\",\n",
    "                             \"asd\"=\"ASD\",\n",
    "                             \"adhd_ipsych\"=\"ADHD\",\n",
    "                             \"mdd_ipsych\"=\"MDD\",\n",
    "                             \"ocd\"=\"OCD\",\n",
    "                             \"insomn2\"=\"Insomnia\",\n",
    "                             \"alcoholism_2019\"=\"Alcoholism\",\n",
    "                             \"tourette\"=\"Tourettes\",\n",
    "                             \"intel\"=\"IQ\",\n",
    "                             \"eduAttainment\"=\"Education\",\n",
    "                             \n",
    "                             \"alzBellenguezNoApoe\"=\"AD\",\n",
    "                             \"ms\"=\"MS\",\n",
    "                             \"pd_without_23andMe\"=\"PD\",\n",
    "                             \"migraines_2021\"=\"Migraines\",\n",
    "                             \"als2021\"=\"ALS\",\n",
    "                             \"stroke\"=\"Stroke\",\n",
    "                             \"epilepsyFocal\"=\"Epilepsy\",\n",
    "                                                        \n",
    "                             \"dm2\"=\"T2D\",\n",
    "                             \"ibd\"=\"IBD\",\n",
    "                             \"ra\"=\"RArthritis\",\n",
    "                             \"lipidCholTotal\"=\"Cholesterol\",\n",
    "                             \"obesity\"=\"Obesity\",\n",
    "                             \"uc\"=\"UC\")\n",
    "    \n",
    "    df$plotLabel = \"\"\n",
    "    if(markNominallySignificant) {   df$plotLabel[(10^-df[,plotCol]) < 0.05] = \"·\" }\n",
    "    df$plotLabel[p.adjust((10^-df[,plotCol]),method=myPadjustMethod) < 0.05]=\"#\"\n",
    "    \n",
    "    if(FDR_PER_TRAIT) {\n",
    "      for(i in unique(df$annoID)) {\n",
    "        df$adj.P.value[df$annoID==i] = fdrtool(df[,..plotCol][df$annoID==i], statistic=c(\"pvalue\"), cutoff.method=c(\"fndr\"), plot = F)$qval\n",
    "      }\n",
    "    }\n",
    "        \n",
    "    zz = ggplot(df, aes(annoName, sumstatName, fill = tempScoreCol)) + geom_tile() + scale_y_discrete(expand = c(0, 0)) + scale_x_discrete(expand = c(0, 0)) + xlab(\"Cluster\") + \n",
    "      ylab(\"Trait\") + theme_classic(base_size = plotTextSize) + theme(axis.text.x = element_text(colour = \"black\", angle = -45, hjust = 0)) + \n",
    "      coord_fixed() + theme(legend.title = element_text(size = 10, face = \"bold\"))    \n",
    "    print(zz + geom_tile(aes(fill = tempScoreCol)) + scale_fill_gradient2(high=\"#D7191C\", mid=\"white\", low=\"#2C7BB6\", name = \"-logP\") + geom_text(aes(label = plotLabel), size = plotTextSize * 0.55))\n",
    "}"
   ]
  },
  {
   "cell_type": "markdown",
   "id": "55bdfbf6-8389-458f-b8ea-686c7228a3f7",
   "metadata": {},
   "source": [
    "# DEGs (q_value < 0.05 & Moran >= 0.05)"
   ]
  },
  {
   "cell_type": "markdown",
   "id": "16806e05-b48b-4b2f-b08c-8a5681674e5b",
   "metadata": {},
   "source": [
    "## Astrocyte"
   ]
  },
  {
   "cell_type": "markdown",
   "id": "ca71676c-0dd5-4db6-81d7-a76b68df1039",
   "metadata": {},
   "source": [
    "### Load data"
   ]
  },
  {
   "cell_type": "code",
   "execution_count": 42,
   "id": "6d9be9bd-8ce6-46d4-84db-f31bfe02099d",
   "metadata": {
    "execution": {
     "iopub.execute_input": "2024-05-28T20:21:34.337241Z",
     "iopub.status.busy": "2024-05-28T20:21:34.334976Z",
     "iopub.status.idle": "2024-05-28T20:22:09.041952Z",
     "shell.execute_reply": "2024-05-28T20:22:09.040731Z"
    },
    "scrolled": true
   },
   "outputs": [
    {
     "data": {
      "text/plain": [
       "class: cell_data_set_ext \n",
       "dim: 14613 173241 \n",
       "metadata(0):\n",
       "assays(2): counts logcounts\n",
       "rownames(14613): DPM1 SCYL3 ... OOSP1 C8orf44-SGK3\n",
       "rowData names(2): gene_name gene_short_name\n",
       "colnames(173241): H1007-1-AACACACAGTAATTGG-0-Aging\n",
       "  H1007-1-AACTTCTCATCTCGTC-0-Aging ...\n",
       "  TTTGTTGAGCGATTCT-RL2132_25yr_v3-Lister\n",
       "  TTTGTTGCACAAGCTT-RL2132_25yr_v3-Lister\n",
       "colData names(55): orig.ident nCount_RNA ... ident Size_Factor\n",
       "reducedDimNames(1): UMAP\n",
       "mainExpName: RNA\n",
       "altExpNames(0):"
      ]
     },
     "metadata": {},
     "output_type": "display_data"
    }
   ],
   "source": [
    "cds_AST <- readRDS(\"aging_lister_integrated_ds1000_rmno_scanpy6000_half_100_123456_beforeUMAT_AST_scanpy6000_25_sparse_123456_afterCombination_cds_compressed.RDS\")\n",
    "cds_AST"
   ]
  },
  {
   "cell_type": "markdown",
   "id": "6bdb34ee-c654-45fa-a3c3-30e5a63f3ca8",
   "metadata": {},
   "source": [
    "### DEGs"
   ]
  },
  {
   "cell_type": "code",
   "execution_count": 43,
   "id": "cfc6cee9-191d-4a85-a046-053b705f4715",
   "metadata": {
    "execution": {
     "iopub.execute_input": "2024-05-28T20:22:09.044811Z",
     "iopub.status.busy": "2024-05-28T20:22:09.043821Z",
     "iopub.status.idle": "2024-05-28T20:22:09.180995Z",
     "shell.execute_reply": "2024-05-28T20:22:09.179824Z"
    }
   },
   "outputs": [
    {
     "data": {
      "text/html": [
       "808"
      ],
      "text/latex": [
       "808"
      ],
      "text/markdown": [
       "808"
      ],
      "text/plain": [
       "[1] 808"
      ]
     },
     "metadata": {},
     "output_type": "display_data"
    }
   ],
   "source": [
    "DEGs_AST <- c()\n",
    "for(sub_trajectory in names(cds_AST@lineages)){\n",
    "    data <- read.table(paste0(\"AST_pt_DEG_\", sub_trajectory,\".txt\"))\n",
    "    DEGs_AST <- c(DEGs_AST, rownames(data[data$q_value < 0.05 & data$morans_I >= 0.05, ]))\n",
    "}\n",
    "DEGs_AST <- unique(DEGs_AST)\n",
    "length(DEGs_AST)"
   ]
  },
  {
   "cell_type": "markdown",
   "id": "a97b686d-9242-498f-8d1c-50eab077ba19",
   "metadata": {},
   "source": [
    "### Obtain fitted matrix"
   ]
  },
  {
   "cell_type": "code",
   "execution_count": null,
   "id": "29ef3ffc-ce93-43a7-870a-e2a19c89809b",
   "metadata": {
    "scrolled": true
   },
   "outputs": [],
   "source": [
    "cds_AST_scale_start <- obtain_fitted_pseudotime_from_compressed_scale_start(cds_AST)\n",
    "merged_AST_scale_start <- t(rbind(cds_AST_scale_start@expectation[[1]][nrow(cds_AST_scale_start@expectation[[1]]):1, ], cds_AST_scale_start@expectation[[2]]))\n",
    "merged_AST_scale_start <- merged_AST_scale_start[DEGs_AST, ]\n",
    "merged_AST_scale_start # 808"
   ]
  },
  {
   "cell_type": "markdown",
   "id": "af57b208-7559-4845-ae37-34c374bdf9c0",
   "metadata": {},
   "source": [
    "### Kmeans clustering (7 groups)"
   ]
  },
  {
   "cell_type": "code",
   "execution_count": null,
   "id": "98b5eb4f-324a-45d7-82d4-fd85e6a91090",
   "metadata": {
    "scrolled": true
   },
   "outputs": [],
   "source": [
    "ks_7_AST_term_3 <- kmeans_cluster_ordered_mean_peak_within(fitted_mat = merged_AST_scale_start, n_tree = 7, \n",
    "                                                             lineages = names(cds_AST@lineages), \n",
    "                                                             branches = rep(c(\"Astro_PLSCR1\", \"Astro_ADAMTSL3\"), each = 500), \n",
    "                                                             pseudo_range = sapply(cds_AST_scale_start@pseudotime, \"max\"), \n",
    "                                                             n_metacell = 500, n_term = 3, n_char = 100, \n",
    "                                                             out_label = \"ast_degs\")"
   ]
  },
  {
   "cell_type": "markdown",
   "id": "4c28a507-a578-48a8-94e8-3e4cb8cc189c",
   "metadata": {},
   "source": [
    "#### MAGMA"
   ]
  },
  {
   "cell_type": "code",
   "execution_count": null,
   "id": "d184a8bc-6dae-49aa-82d1-ff56e4a28103",
   "metadata": {
    "scrolled": true
   },
   "outputs": [],
   "source": [
    "magmasets <- readr::read_tsv(\"MAGMA_AST_ks_7/meta-files/geneSetResults.tsv.gz\")"
   ]
  },
  {
   "cell_type": "code",
   "execution_count": 24,
   "id": "e060d6d7-d3d3-4e97-af3e-e093b25cb987",
   "metadata": {
    "execution": {
     "iopub.execute_input": "2024-06-13T00:34:50.555069Z",
     "iopub.status.busy": "2024-06-13T00:34:50.553701Z",
     "iopub.status.idle": "2024-06-13T00:34:50.573423Z",
     "shell.execute_reply": "2024-06-13T00:34:50.572077Z"
    }
   },
   "outputs": [],
   "source": [
    "magmasets[magmasets$VARIABLE == \"Cluster_1\", \"VARIABLE\"] <- \"Early\"\n",
    "magmasets[magmasets$VARIABLE == \"Cluster_2\", \"VARIABLE\"] <- \"Early-Mid\"\n",
    "magmasets[magmasets$VARIABLE == \"Cluster_3\", \"VARIABLE\"] <- \"PP_AST-spec All\"\n",
    "magmasets[magmasets$VARIABLE == \"Cluster_4\", \"VARIABLE\"] <- \"FB_AST-spec Mid\"\n",
    "magmasets[magmasets$VARIABLE == \"Cluster_5\", \"VARIABLE\"] <- \"Mid-Late\"\n",
    "magmasets[magmasets$VARIABLE == \"Cluster_6\", \"VARIABLE\"] <- \"FB_AST-spec Late\"\n",
    "magmasets[magmasets$VARIABLE == \"Cluster_7\", \"VARIABLE\"] <- \"Late\"\n"
   ]
  },
  {
   "cell_type": "code",
   "execution_count": null,
   "id": "5f98efc9-72df-4f09-979a-8512fa95c595",
   "metadata": {
    "scrolled": true
   },
   "outputs": [],
   "source": [
    "ngenes = lapply(unique(magmasets$VARIABLE), function(x) round(mean(magmasets[magmasets$VARIABLE==x,\"NGENES\"])))\n",
    "names(ngenes) = unique(magmasets$VARIABLE)\n",
    "\n",
    "magmasets = magmasets[(magmasets$gwasAcronym %in% scDRS_traits),]\n",
    "magmasets = magmasets[order(magmasets$gwasAcronym),]\n",
    "magmasets$sumstatName = magmasets$gwasAcronym\n",
    "magmasets$sumstatName = ordered(magmasets$sumstatName, levels=rev(scDRS_traits))\n",
    "magmasets$annoName = factor(magmasets$VARIABLE, levels = c(\"Early\", \"Early-Mid\", \"PP_AST-spec All\", \"FB_AST-spec Mid\", \"Mid-Late\", \"FB_AST-spec Late\", \"Late\"))\n",
    "magmasets$tempScoreCol = magmasets$LogP\n",
    "                \n",
    "pdf(\"ast_degs_ks_7_magma.pdf\", width = 7.5, height = 7.5)\n",
    "ldscHeatmapPlotter_trait_row(magmasets, plotCol=\"LogP\", markNominallySignificant=T)\n",
    "dev.off()"
   ]
  },
  {
   "cell_type": "markdown",
   "id": "3fcdc07d-7b6d-44b3-9854-320f9ca12662",
   "metadata": {},
   "source": [
    "## Microglia"
   ]
  },
  {
   "cell_type": "markdown",
   "id": "560d66fa-d757-47f2-819f-6c0d1aab67b0",
   "metadata": {},
   "source": [
    "### Load data"
   ]
  },
  {
   "cell_type": "code",
   "execution_count": 56,
   "id": "9b55eb27-d5a5-44b6-8676-bbd36fa3640b",
   "metadata": {
    "execution": {
     "iopub.execute_input": "2024-05-28T20:27:45.655115Z",
     "iopub.status.busy": "2024-05-28T20:27:45.652299Z",
     "iopub.status.idle": "2024-05-28T20:27:55.863734Z",
     "shell.execute_reply": "2024-05-28T20:27:55.862465Z"
    },
    "scrolled": true
   },
   "outputs": [
    {
     "data": {
      "text/plain": [
       "class: cell_data_set_ext \n",
       "dim: 14479 69463 \n",
       "metadata(0):\n",
       "assays(2): counts logcounts\n",
       "rownames(14479): DPM1 SCYL3 ... TBCE C8orf44-SGK3\n",
       "rowData names(2): gene_name gene_short_name\n",
       "colnames(69463): H1007-1-ACCTGTCCATACATCG-0-Aging\n",
       "  H1007-1-AGACAAAAGACGCAGT-0-Aging ...\n",
       "  TTTCATGAGAATCGAT-RL2132_25yr_v3-Lister\n",
       "  TTTGATCTCACTTCTA-RL2132_25yr_v3-Lister\n",
       "colData names(55): orig.ident nCount_RNA ... ident Size_Factor\n",
       "reducedDimNames(1): UMAP\n",
       "mainExpName: RNA\n",
       "altExpNames(0):"
      ]
     },
     "metadata": {},
     "output_type": "display_data"
    }
   ],
   "source": [
    "cds_Micro <- readRDS(\"aging_lister_integrated_ds1000_rmno_scanpy6000_half_100_123456_beforeUMAT_MICRO_scanpy6000_25_sparse_123456_afterCombination_cds_compressed.RDS\")\n",
    "cds_Micro"
   ]
  },
  {
   "cell_type": "markdown",
   "id": "941b7bb2-78a4-4c89-bd8c-4148e871a316",
   "metadata": {},
   "source": [
    "### DEGs"
   ]
  },
  {
   "cell_type": "code",
   "execution_count": 57,
   "id": "bf1f2326-0362-4487-924f-9520b86b2eb2",
   "metadata": {
    "execution": {
     "iopub.execute_input": "2024-05-28T20:27:55.866694Z",
     "iopub.status.busy": "2024-05-28T20:27:55.865659Z",
     "iopub.status.idle": "2024-05-28T20:27:55.911916Z",
     "shell.execute_reply": "2024-05-28T20:27:55.910786Z"
    }
   },
   "outputs": [
    {
     "data": {
      "text/html": [
       "230"
      ],
      "text/latex": [
       "230"
      ],
      "text/markdown": [
       "230"
      ],
      "text/plain": [
       "[1] 230"
      ]
     },
     "metadata": {},
     "output_type": "display_data"
    }
   ],
   "source": [
    "DEGs_Micro <- c()\n",
    "for(sub_trajectory in names(cds_Micro@lineages)){\n",
    "    data <- read.table(paste0(\"MICRO_pt_DEG_\", sub_trajectory,\".txt\"))\n",
    "    DEGs_Micro <- c(DEGs_Micro, rownames(data[data$q_value < 0.05 & data$morans_I >= 0.05, ]))\n",
    "}\n",
    "DEGs_Micro <- unique(DEGs_Micro)\n",
    "length(DEGs_Micro)"
   ]
  },
  {
   "cell_type": "markdown",
   "id": "4863fb59-a929-45d1-a988-2395fe0756b2",
   "metadata": {},
   "source": [
    "### Obtain fitted matrix"
   ]
  },
  {
   "cell_type": "code",
   "execution_count": null,
   "id": "4ee1c539-41a5-4d18-95d8-78f7ac9f309e",
   "metadata": {
    "scrolled": true
   },
   "outputs": [],
   "source": [
    "cds_Micro_scale_start <- obtain_fitted_pseudotime_from_compressed_scale_start(cds_Micro)\n",
    "merged_Micro_scale_start <- t(do.call(rbind, cds_Micro_scale_start@expectation))\n",
    "merged_Micro_scale_start <- merged_Micro_scale_start[DEGs_Micro, ]\n",
    "merged_Micro_scale_start # 230"
   ]
  },
  {
   "cell_type": "markdown",
   "id": "b739c497-2605-40ff-9019-33b2d9c3151e",
   "metadata": {},
   "source": [
    "### Kmeans clustering (3 groups)"
   ]
  },
  {
   "cell_type": "code",
   "execution_count": null,
   "id": "de37137c-607b-45f5-bf0f-a0039451110a",
   "metadata": {
    "scrolled": true
   },
   "outputs": [],
   "source": [
    "ks_3_Micro_term_3 <- kmeans_cluster_ordered_mean_peak_within(fitted_mat = merged_Micro_scale_start, n_tree = 3, \n",
    "                                                             lineages = names(cds_Micro@lineages), \n",
    "                                                             branches = rep(\"Micro\", 500),\n",
    "                                                             pseudo_range = sapply(cds_Micro_scale_start@pseudotime, \"max\"), \n",
    "                                                             n_metacell = 500, n_term = 3, n_char = 100, \n",
    "                                                             out_label = \"micro_degs\")"
   ]
  },
  {
   "cell_type": "markdown",
   "id": "e67f1f93-3358-438e-a9b5-f054fe885617",
   "metadata": {},
   "source": [
    "#### MAGMA"
   ]
  },
  {
   "cell_type": "code",
   "execution_count": null,
   "id": "8216a4a6-a8c4-4fa5-a836-14e817b9229f",
   "metadata": {
    "scrolled": true
   },
   "outputs": [],
   "source": [
    "magmasets <- readr::read_tsv(\"MAGMA_MICRO_ks_3/meta-files/geneSetResults.tsv.gz\")\n",
    "magmasets"
   ]
  },
  {
   "cell_type": "code",
   "execution_count": 27,
   "id": "5f51e982-0e22-4b15-bc78-e848403fe4f7",
   "metadata": {
    "execution": {
     "iopub.execute_input": "2024-06-13T00:35:01.623551Z",
     "iopub.status.busy": "2024-06-13T00:35:01.622186Z",
     "iopub.status.idle": "2024-06-13T00:35:01.636274Z",
     "shell.execute_reply": "2024-06-13T00:35:01.634951Z"
    }
   },
   "outputs": [],
   "source": [
    "magmasets[magmasets$VARIABLE == \"Cluster_1\", \"VARIABLE\"] <- \"Early\"\n",
    "magmasets[magmasets$VARIABLE == \"Cluster_2\", \"VARIABLE\"] <- \"Mid\"\n",
    "magmasets[magmasets$VARIABLE == \"Cluster_3\", \"VARIABLE\"] <- \"Late\""
   ]
  },
  {
   "cell_type": "code",
   "execution_count": null,
   "id": "2fc7b3eb-3675-423e-b933-e2436aaa7392",
   "metadata": {},
   "outputs": [],
   "source": [
    "ngenes = lapply(unique(magmasets$VARIABLE), function(x) round(mean(magmasets[magmasets$VARIABLE==x,\"NGENES\"])))\n",
    "names(ngenes) = unique(magmasets$VARIABLE)\n",
    "\n",
    "magmasets = magmasets[(magmasets$gwasAcronym %in% scDRS_traits),]\n",
    "magmasets = magmasets[order(magmasets$gwasAcronym),]\n",
    "magmasets$sumstatName = magmasets$gwasAcronym\n",
    "magmasets$sumstatName = ordered(magmasets$sumstatName, levels=rev(scDRS_traits))\n",
    "# magmasets$annoName = factor(magmasets$VARIABLE, levels = rev(sort(unique(magmasets$VARIABLE))))\n",
    "magmasets$annoName = factor(magmasets$VARIABLE, levels = c(\"Early\", \"Mid\", \"Late\"))\n",
    "magmasets$tempScoreCol = magmasets$LogP\n",
    "\n",
    "pdf(\"micro_degs_ks_3_magma.pdf\", width = 7.5, height = 7.5)\n",
    "ldscHeatmapPlotter_trait_row(magmasets, plotCol=\"LogP\", markNominallySignificant=T)\n",
    "dev.off()"
   ]
  },
  {
   "cell_type": "markdown",
   "id": "b8661506-800e-4937-a8c0-eb29eaae8d36",
   "metadata": {},
   "source": [
    "## Oligodendrocyte"
   ]
  },
  {
   "cell_type": "markdown",
   "id": "4709bfd6-778c-4c6d-96be-ff833312ab18",
   "metadata": {},
   "source": [
    "### Load data"
   ]
  },
  {
   "cell_type": "code",
   "execution_count": 16,
   "id": "2e8e76a9-100a-4d8a-a35f-b77dad43d948",
   "metadata": {
    "execution": {
     "iopub.execute_input": "2024-05-29T19:08:44.917895Z",
     "iopub.status.busy": "2024-05-29T19:08:44.915176Z",
     "iopub.status.idle": "2024-05-29T19:10:14.910274Z",
     "shell.execute_reply": "2024-05-29T19:10:14.909090Z"
    },
    "scrolled": true
   },
   "outputs": [
    {
     "data": {
      "text/plain": [
       "class: cell_data_set_ext \n",
       "dim: 14666 553620 \n",
       "metadata(0):\n",
       "assays(2): counts logcounts\n",
       "rownames(14666): DPM1 SCYL3 ... OOSP1 C8orf44-SGK3\n",
       "rowData names(2): gene_name gene_short_name\n",
       "colnames(553620): H1007-1-AAACGAAGTCTCAGGC-0-Aging\n",
       "  H1007-1-AAACGAATCCCATAGA-0-Aging ...\n",
       "  TTTGGAGAGTGGAATT-RL2132_25yr_v3-Lister\n",
       "  TTTGTTGGTAAGGTCG-RL2132_25yr_v3-Lister\n",
       "colData names(55): orig.ident nCount_RNA ... ident Size_Factor\n",
       "reducedDimNames(1): UMAP\n",
       "mainExpName: RNA\n",
       "altExpNames(0):"
      ]
     },
     "metadata": {},
     "output_type": "display_data"
    }
   ],
   "source": [
    "cds_Oligo <- readRDS(\"aging_lister_integrated_ds1000_rmno_scanpy6000_half_100_123456_beforeUMAT_OLIGO_scanpy6000_25_sparse_123456_afterCombination_cds_compressed.RDS\")\n",
    "cds_Oligo"
   ]
  },
  {
   "cell_type": "markdown",
   "id": "713ea87c-7a92-463b-82b0-78dacb50b3bf",
   "metadata": {},
   "source": [
    "### DEGs"
   ]
  },
  {
   "cell_type": "code",
   "execution_count": 17,
   "id": "75bf76c9-908a-42d3-9e15-515112fecc23",
   "metadata": {
    "execution": {
     "iopub.execute_input": "2024-05-29T19:10:14.913082Z",
     "iopub.status.busy": "2024-05-29T19:10:14.912119Z",
     "iopub.status.idle": "2024-05-29T19:10:14.972784Z",
     "shell.execute_reply": "2024-05-29T19:10:14.971707Z"
    }
   },
   "outputs": [
    {
     "data": {
      "text/html": [
       "1531"
      ],
      "text/latex": [
       "1531"
      ],
      "text/markdown": [
       "1531"
      ],
      "text/plain": [
       "[1] 1531"
      ]
     },
     "metadata": {},
     "output_type": "display_data"
    }
   ],
   "source": [
    "DEGs_Oligo <- c()\n",
    "for(sub_trajectory in names(cds_Oligo@lineages)){\n",
    "    data <- read.table(paste0(\"OLIGO_pt_DEG_\", sub_trajectory,\".txt\"))\n",
    "    DEGs_Oligo <- c(DEGs_Oligo, rownames(data[data$q_value < 0.05 & data$morans_I >= 0.05, ]))\n",
    "}\n",
    "DEGs_Oligo <- unique(DEGs_Oligo)\n",
    "length(DEGs_Oligo) "
   ]
  },
  {
   "cell_type": "markdown",
   "id": "aba9e46c-35cd-49ad-aac0-f5b99a75e2c4",
   "metadata": {},
   "source": [
    "### Obtain fitted matrix"
   ]
  },
  {
   "cell_type": "code",
   "execution_count": null,
   "id": "a5b1faa1-53d9-48ea-bca0-b2b503fbc5cb",
   "metadata": {
    "scrolled": true
   },
   "outputs": [],
   "source": [
    "cds_Oligo_scale_start <- obtain_fitted_pseudotime_from_compressed_scale_start(cds_Oligo)\n",
    "merged_Oligo_scale_start <- t(do.call(rbind, cds_Oligo_scale_start@expectation))\n",
    "merged_Oligo_scale_start <- merged_Oligo_scale_start[DEGs_Oligo, ]\n",
    "merged_Oligo_scale_start # 1,531"
   ]
  },
  {
   "cell_type": "markdown",
   "id": "047d0edd-f8f8-4a4f-80d3-55592520c8eb",
   "metadata": {},
   "source": [
    "### Kmeans clustering (2 groups)"
   ]
  },
  {
   "cell_type": "code",
   "execution_count": null,
   "id": "2440dc07-e7b7-40dd-b600-7b824da411f7",
   "metadata": {
    "scrolled": true
   },
   "outputs": [],
   "source": [
    "ks_2_Oligo_term_3 <- kmeans_cluster_ordered_mean_peak_within(fitted_mat = merged_Oligo_scale_start, n_tree = 2, \n",
    "                                                             lineages = names(cds_Oligo@lineages), \n",
    "                                                             branches = rep(\"Oligo\", 500),\n",
    "                                                             pseudo_range = sapply(cds_Oligo_scale_start@pseudotime, \"max\"), \n",
    "                                                             n_metacell = 500, n_term = 3, n_char = 100, \n",
    "                                                             out_label = \"oligo_degs\")\n"
   ]
  },
  {
   "cell_type": "markdown",
   "id": "0a024fff-7ad1-433c-bf4b-7fb911017155",
   "metadata": {},
   "source": [
    "#### MAGMA"
   ]
  },
  {
   "cell_type": "code",
   "execution_count": null,
   "id": "9467e132-d407-4eef-9a8d-9de2c3254808",
   "metadata": {
    "scrolled": true
   },
   "outputs": [],
   "source": [
    "magmasets <- readr::read_tsv(\"MAGMA_OLIGO_ks_2/meta-files/geneSetResults.tsv.gz\")\n",
    "magmasets"
   ]
  },
  {
   "cell_type": "code",
   "execution_count": 10,
   "id": "86aaa08b-2094-4935-a6c9-8a8c8e20e0b9",
   "metadata": {
    "execution": {
     "iopub.execute_input": "2024-06-13T01:28:34.346819Z",
     "iopub.status.busy": "2024-06-13T01:28:34.345289Z",
     "iopub.status.idle": "2024-06-13T01:28:34.358436Z",
     "shell.execute_reply": "2024-06-13T01:28:34.357069Z"
    }
   },
   "outputs": [],
   "source": [
    "magmasets[magmasets$VARIABLE == \"Cluster_1\", \"VARIABLE\"] <- \"Early\"\n",
    "magmasets[magmasets$VARIABLE == \"Cluster_2\", \"VARIABLE\"] <- \"Late\""
   ]
  },
  {
   "cell_type": "code",
   "execution_count": null,
   "id": "a25a5859-7ac4-40eb-bebf-81b8cfa0928f",
   "metadata": {},
   "outputs": [],
   "source": [
    "ngenes = lapply(unique(magmasets$VARIABLE), function(x) round(mean(magmasets[magmasets$VARIABLE==x,\"NGENES\"])))\n",
    "names(ngenes) = unique(magmasets$VARIABLE)\n",
    "\n",
    "magmasets = magmasets[(magmasets$gwasAcronym %in% scDRS_traits),]\n",
    "magmasets = magmasets[order(magmasets$gwasAcronym),]\n",
    "magmasets$sumstatName = magmasets$gwasAcronym\n",
    "magmasets$sumstatName = ordered(magmasets$sumstatName, levels=rev(scDRS_traits))\n",
    "# magmasets$annoName = factor(magmasets$VARIABLE, levels = rev(sort(unique(magmasets$VARIABLE))))\n",
    "magmasets$annoName = factor(magmasets$VARIABLE, levels = c(\"Early\", \"Mid\", \"Late\"))\n",
    "magmasets$tempScoreCol = magmasets$LogP\n",
    "\n",
    "pdf(\"oligo_degs_ks_2_magma.pdf\", width = 7.5, height = 7.5)\n",
    "ldscHeatmapPlotter_trait_row(magmasets, plotCol=\"LogP\", markNominallySignificant=T)\n",
    "dev.off()"
   ]
  },
  {
   "cell_type": "markdown",
   "id": "2c5dbfd4-88f3-48ef-9e18-31dedf64443f",
   "metadata": {},
   "source": [
    "## Excitatory neuron"
   ]
  },
  {
   "cell_type": "markdown",
   "id": "4195cea2-0546-4cfe-8199-b50b25a816ab",
   "metadata": {},
   "source": [
    "### Load data"
   ]
  },
  {
   "cell_type": "code",
   "execution_count": 64,
   "id": "92b36ce2-015c-47b6-9ba3-35c8fed0ba02",
   "metadata": {
    "execution": {
     "iopub.execute_input": "2024-05-28T20:29:38.225731Z",
     "iopub.status.busy": "2024-05-28T20:29:38.224752Z",
     "iopub.status.idle": "2024-05-28T20:31:29.490520Z",
     "shell.execute_reply": "2024-05-28T20:31:29.489304Z"
    }
   },
   "outputs": [
    {
     "data": {
      "text/plain": [
       "class: cell_data_set_ext \n",
       "dim: 14649 349350 \n",
       "metadata(0):\n",
       "assays(2): counts logcounts\n",
       "rownames(14649): DPM1 SCYL3 ... OOSP1 C8orf44-SGK3\n",
       "rowData names(2): gene_name gene_short_name\n",
       "colnames(349350): H1007-1-AAACGAAAGTTGTAGA-0-Aging\n",
       "  H1007-1-AAACGCTAGGAACGTC-0-Aging ...\n",
       "  TTTGTTGCAACAGTGG-RL2132_25yr_v3-Lister\n",
       "  TTTGTTGGTTCGGCTG-RL2132_25yr_v3-Lister\n",
       "colData names(55): orig.ident nCount_RNA ... ident Size_Factor\n",
       "reducedDimNames(1): UMAP\n",
       "mainExpName: RNA\n",
       "altExpNames(0):"
      ]
     },
     "metadata": {},
     "output_type": "display_data"
    }
   ],
   "source": [
    "cds_EN <- readRDS(\"aging_lister_integrated_ds1000_rmno_scanpy6000_half_100_123456_beforeUMAT_EN_scanpy6000_25_sparse_123456_afterCombination_cds_compressed.RDS\")\n",
    "cds_EN"
   ]
  },
  {
   "cell_type": "markdown",
   "id": "503af452-ebd2-4f96-b0bb-efa6d6008db3",
   "metadata": {},
   "source": [
    "### DEGs"
   ]
  },
  {
   "cell_type": "code",
   "execution_count": 65,
   "id": "36a2abb1-9d0d-4cf6-86c2-fe8b26d5b3df",
   "metadata": {
    "execution": {
     "iopub.execute_input": "2024-05-28T20:31:29.493338Z",
     "iopub.status.busy": "2024-05-28T20:31:29.492373Z",
     "iopub.status.idle": "2024-05-28T20:31:29.952188Z",
     "shell.execute_reply": "2024-05-28T20:31:29.950953Z"
    }
   },
   "outputs": [
    {
     "data": {
      "text/html": [
       "2388"
      ],
      "text/latex": [
       "2388"
      ],
      "text/markdown": [
       "2388"
      ],
      "text/plain": [
       "[1] 2388"
      ]
     },
     "metadata": {},
     "output_type": "display_data"
    }
   ],
   "source": [
    "DEGs_EN <- c()\n",
    "for(sub_trajectory in names(cds_EN@lineages)){\n",
    "    data <- read.table(paste0(\"EN_pt_DEG_\", sub_trajectory,\".txt\"))\n",
    "    DEGs_EN <- c(DEGs_EN, rownames(data[data$q_value < 0.05 & data$morans_I >= 0.05, ]))\n",
    "}\n",
    "DEGs_EN <- unique(DEGs_EN)\n",
    "length(DEGs_EN) # 2,388"
   ]
  },
  {
   "cell_type": "markdown",
   "id": "89fce9e8-3f93-47ee-ad37-e606d74d942a",
   "metadata": {},
   "source": [
    "### Obtain fitted matrix"
   ]
  },
  {
   "cell_type": "code",
   "execution_count": null,
   "id": "6448e778-b1a4-444a-a642-e1b2a95beb18",
   "metadata": {
    "scrolled": true
   },
   "outputs": [],
   "source": [
    "cds_EN_scale_start <- obtain_fitted_pseudotime_from_compressed_scale_start(cds_EN)\n",
    "merged_EN_scale_start <- t(do.call(rbind, cds_EN_scale_start@expectation))\n",
    "merged_EN_scale_start <- merged_EN_scale_start[DEGs_EN, ]\n",
    "merged_EN_scale_start # 2,388"
   ]
  },
  {
   "cell_type": "markdown",
   "id": "6d1edfe9-b83d-46d4-b321-f9479b5b23ee",
   "metadata": {},
   "source": [
    "### Kmeans clustering (7 groups)"
   ]
  },
  {
   "cell_type": "code",
   "execution_count": null,
   "id": "85091d6b-aeb4-42f4-8fca-03e389e88003",
   "metadata": {
    "scrolled": true
   },
   "outputs": [],
   "source": [
    "ks_7_EN_term_3 <- kmeans_cluster_ordered_mean_peak_within(fitted_mat = merged_EN_scale_start, n_tree = 7, \n",
    "                                                             lineages = names(cds_EN@lineages), \n",
    "                                                             branches = c(rep(\"Deep_nonIT\", 1500), rep(\"Deep_IT\", 1000), rep(\"Upper_IT\", 2000)), \n",
    "                                                             pseudo_range = sapply(cds_EN_scale_start@pseudotime, \"max\"), \n",
    "                                                             n_metacell = 500, n_term = 3, n_char = 100, \n",
    "                                                             out_label = \"en_degs\")"
   ]
  },
  {
   "cell_type": "markdown",
   "id": "289f411f-a8e1-4c2b-bd6d-13be624d1daf",
   "metadata": {},
   "source": [
    "#### MAGMA"
   ]
  },
  {
   "cell_type": "code",
   "execution_count": null,
   "id": "b6480255-7ff3-45b2-9bb9-0a80d346ede9",
   "metadata": {
    "scrolled": true
   },
   "outputs": [],
   "source": [
    "magmasets <- readr::read_tsv(\"MAGMA_EN_ks_7/meta-files/geneSetResults.tsv.gz\")\n",
    "magmasets"
   ]
  },
  {
   "cell_type": "code",
   "execution_count": 42,
   "id": "a8a67f42-6552-4767-848a-5eb1eea7ee6d",
   "metadata": {
    "execution": {
     "iopub.execute_input": "2024-06-13T00:38:29.299643Z",
     "iopub.status.busy": "2024-06-13T00:38:29.298255Z",
     "iopub.status.idle": "2024-06-13T00:38:29.317210Z",
     "shell.execute_reply": "2024-06-13T00:38:29.315881Z"
    }
   },
   "outputs": [],
   "source": [
    "magmasets[magmasets$VARIABLE == \"Cluster_1\", \"VARIABLE\"] <- \"Upper-IT-spec Early\"\n",
    "magmasets[magmasets$VARIABLE == \"Cluster_2\", \"VARIABLE\"] <- \"Deep-layer-spec Early\"\n",
    "magmasets[magmasets$VARIABLE == \"Cluster_3\", \"VARIABLE\"] <- \"Deep-layer-spec Mid\"\n",
    "magmasets[magmasets$VARIABLE == \"Cluster_4\", \"VARIABLE\"] <- \"Deep-nonIT-spec Late\"\n",
    "magmasets[magmasets$VARIABLE == \"Cluster_5\", \"VARIABLE\"] <- \"Deep-nonIT-spec Mid-Late\"\n",
    "magmasets[magmasets$VARIABLE == \"Cluster_6\", \"VARIABLE\"] <- \"Upper-IT-spec Mid-Late\"\n",
    "magmasets[magmasets$VARIABLE == \"Cluster_7\", \"VARIABLE\"] <- \"Mid-Late\""
   ]
  },
  {
   "cell_type": "code",
   "execution_count": null,
   "id": "9e79b251-26b7-4c76-b73f-86c775b03644",
   "metadata": {
    "scrolled": true
   },
   "outputs": [],
   "source": [
    "ngenes = lapply(unique(magmasets$VARIABLE), function(x) round(mean(magmasets[magmasets$VARIABLE==x,\"NGENES\"])))\n",
    "names(ngenes) = unique(magmasets$VARIABLE)\n",
    "\n",
    "magmasets = magmasets[(magmasets$gwasAcronym %in% scDRS_traits),]\n",
    "magmasets = magmasets[order(magmasets$gwasAcronym),]\n",
    "magmasets$sumstatName = magmasets$gwasAcronym\n",
    "magmasets$sumstatName = ordered(magmasets$sumstatName, levels=rev(scDRS_traits))\n",
    "# magmasets$annoName = factor(magmasets$VARIABLE, levels = rev(sort(unique(magmasets$VARIABLE))))\n",
    "magmasets$annoName = factor(magmasets$VARIABLE, levels = c(\"Upper-IT-spec Early\", \"Deep-layer-spec Early\", \"Deep-layer-spec Mid\", \"Deep-nonIT-spec Late\", \"Deep-nonIT-spec Mid-Late\", \"Upper-IT-spec Mid-Late\", \"Mid-Late\"))\n",
    "magmasets$tempScoreCol = magmasets$LogP\n",
    "\n",
    "pdf(\"en_degs_ks_7_magma.pdf\", width = 7.5, height = 7.5)\n",
    "ldscHeatmapPlotter_trait_row(magmasets, plotCol=\"LogP\", markNominallySignificant=T)\n",
    "dev.off()"
   ]
  },
  {
   "cell_type": "markdown",
   "id": "9f07257d-f058-4ab7-baf9-2ec1f89b366e",
   "metadata": {},
   "source": [
    "## Inhibitory neuron"
   ]
  },
  {
   "cell_type": "markdown",
   "id": "b90482ec-a513-4544-9d50-09fc96d32a12",
   "metadata": {},
   "source": [
    "### Load data"
   ]
  },
  {
   "cell_type": "code",
   "execution_count": 68,
   "id": "e769c94c-e6a3-4484-b8a4-4a712367f510",
   "metadata": {
    "execution": {
     "iopub.execute_input": "2024-05-28T20:32:28.879590Z",
     "iopub.status.busy": "2024-05-28T20:32:28.878590Z",
     "iopub.status.idle": "2024-05-28T20:33:43.058503Z",
     "shell.execute_reply": "2024-05-28T20:33:43.057130Z"
    },
    "scrolled": true
   },
   "outputs": [
    {
     "data": {
      "text/plain": [
       "class: cell_data_set_ext \n",
       "dim: 14645 254695 \n",
       "metadata(0):\n",
       "assays(2): counts logcounts\n",
       "rownames(14645): DPM1 SCYL3 ... OOSP1 C8orf44-SGK3\n",
       "rowData names(2): gene_name gene_short_name\n",
       "colnames(254695): H1007-1-AAAGGATAGAAATGGG-0-Aging\n",
       "  H1007-1-AAAGGTACATTGCTTT-0-Aging ...\n",
       "  TTTGTTGCACCGCTGA-RL2132_25yr_v3-Lister\n",
       "  TTTGTTGTCGTCCTCA-RL2132_25yr_v3-Lister\n",
       "colData names(55): orig.ident nCount_RNA ... ident Size_Factor\n",
       "reducedDimNames(1): UMAP\n",
       "mainExpName: RNA\n",
       "altExpNames(0):"
      ]
     },
     "metadata": {},
     "output_type": "display_data"
    }
   ],
   "source": [
    "cds_IN <- readRDS(\"aging_lister_integrated_ds1000_rmno_scanpy6000_half_100_123456_beforeUMAT_IN_scanpy6000_25_sparse_123456_afterCombination_cds_compressed.RDS\")\n",
    "cds_IN"
   ]
  },
  {
   "cell_type": "markdown",
   "id": "732eec78-96fa-4ede-bbe2-de0e759ad986",
   "metadata": {},
   "source": [
    "### DEGs"
   ]
  },
  {
   "cell_type": "code",
   "execution_count": 69,
   "id": "38a05847-94e5-4e59-b026-04ca8d036003",
   "metadata": {
    "execution": {
     "iopub.execute_input": "2024-05-28T20:33:43.061686Z",
     "iopub.status.busy": "2024-05-28T20:33:43.060599Z",
     "iopub.status.idle": "2024-05-28T20:33:43.639439Z",
     "shell.execute_reply": "2024-05-28T20:33:43.638164Z"
    }
   },
   "outputs": [
    {
     "data": {
      "text/html": [
       "1883"
      ],
      "text/latex": [
       "1883"
      ],
      "text/markdown": [
       "1883"
      ],
      "text/plain": [
       "[1] 1883"
      ]
     },
     "metadata": {},
     "output_type": "display_data"
    }
   ],
   "source": [
    "DEGs_IN <- c()\n",
    "for(sub_trajectory in names(cds_IN@lineages)){\n",
    "    data <- read.table(paste0(\"IN_pt_DEG_\", sub_trajectory,\".txt\"))\n",
    "    DEGs_IN <- c(DEGs_IN, rownames(data[data$q_value < 0.05 & data$morans_I >= 0.05, ]))\n",
    "}\n",
    "DEGs_IN <- unique(DEGs_IN)\n",
    "length(DEGs_IN) # 1,883"
   ]
  },
  {
   "cell_type": "markdown",
   "id": "a62e6bfa-827f-4085-8c58-da462449b64d",
   "metadata": {},
   "source": [
    "### Obtain fitted matrix"
   ]
  },
  {
   "cell_type": "code",
   "execution_count": null,
   "id": "af95f2f8-3169-426c-9002-361a8090ba97",
   "metadata": {
    "scrolled": true
   },
   "outputs": [],
   "source": [
    "cds_IN_scale_start <- obtain_fitted_pseudotime_from_compressed_scale_start(cds_IN)\n",
    "merged_IN_scale_start <- t(do.call(rbind, cds_IN_scale_start@expectation))\n",
    "merged_IN_scale_start <- merged_IN_scale_start[DEGs_IN, ]\n",
    "merged_IN_scale_start # 1,883"
   ]
  },
  {
   "cell_type": "markdown",
   "id": "27fe3cbf-bc22-402b-ac0c-a49b4a1a5e44",
   "metadata": {},
   "source": [
    "### Kmeans clustering (7 groups)"
   ]
  },
  {
   "cell_type": "code",
   "execution_count": null,
   "id": "a7ae5213-75c4-43db-b7ce-3a9523a815f5",
   "metadata": {
    "scrolled": true
   },
   "outputs": [],
   "source": [
    "ks_7_IN_term_3 <- kmeans_cluster_ordered_mean_peak_within(fitted_mat = merged_IN_scale_start, n_tree = 7, \n",
    "                                                             lineages = names(cds_IN@lineages), \n",
    "                                                             branches = c(rep(\"MGE\", 1500), rep(\"CGE\", 3500)), \n",
    "                                                             pseudo_range = sapply(cds_IN_scale_start@pseudotime, \"max\"), \n",
    "                                                             n_metacell = 500, n_term = 3, n_char = 100, \n",
    "                                                             out_label = \"in_degs\")\n"
   ]
  },
  {
   "cell_type": "markdown",
   "id": "b1119f34-0f3e-4525-b0f1-08b02ba911ee",
   "metadata": {},
   "source": [
    "#### MAGMA"
   ]
  },
  {
   "cell_type": "code",
   "execution_count": null,
   "id": "38805662-0146-4c71-b9d2-0bec1102006f",
   "metadata": {
    "scrolled": true
   },
   "outputs": [],
   "source": [
    "magmasets <- readr::read_tsv(\"MAGMA_IN_ks_7/meta-files/geneSetResults.tsv.gz\")\n",
    "magmasets"
   ]
  },
  {
   "cell_type": "code",
   "execution_count": 4,
   "id": "05f0ac5b-81ee-4a2d-bf6d-fcd08bb85ba4",
   "metadata": {
    "execution": {
     "iopub.execute_input": "2024-06-13T01:28:04.902629Z",
     "iopub.status.busy": "2024-06-13T01:28:04.901339Z",
     "iopub.status.idle": "2024-06-13T01:28:04.923640Z",
     "shell.execute_reply": "2024-06-13T01:28:04.922177Z"
    }
   },
   "outputs": [],
   "source": [
    "magmasets[magmasets$VARIABLE == \"Cluster_1\", \"VARIABLE\"] <- \"Early\"\n",
    "magmasets[magmasets$VARIABLE == \"Cluster_2\", \"VARIABLE\"] <- \"MGE-spec Early\"\n",
    "magmasets[magmasets$VARIABLE == \"Cluster_3\", \"VARIABLE\"] <- \"IN_PVALB_CHC-spec Early\"\n",
    "magmasets[magmasets$VARIABLE == \"Cluster_4\", \"VARIABLE\"] <- \"IN_SST-spec Mid-Late\"\n",
    "magmasets[magmasets$VARIABLE == \"Cluster_5\", \"VARIABLE\"] <- \"IN_PVALB_CHC-spec Mid-Late\"\n",
    "magmasets[magmasets$VARIABLE == \"Cluster_6\", \"VARIABLE\"] <- \"CGE-spec Mid-Late\"\n",
    "magmasets[magmasets$VARIABLE == \"Cluster_7\", \"VARIABLE\"] <- \"Mid-Late\""
   ]
  },
  {
   "cell_type": "code",
   "execution_count": null,
   "id": "6b2e5983-1db3-49e5-b6d8-ff9589767850",
   "metadata": {
    "scrolled": true
   },
   "outputs": [],
   "source": [
    "ngenes = lapply(unique(magmasets$VARIABLE), function(x) round(mean(magmasets[magmasets$VARIABLE==x,\"NGENES\"])))\n",
    "names(ngenes) = unique(magmasets$VARIABLE)\n",
    "\n",
    "magmasets = magmasets[(magmasets$gwasAcronym %in% scDRS_traits),]\n",
    "magmasets = magmasets[order(magmasets$gwasAcronym),]\n",
    "magmasets$sumstatName = magmasets$gwasAcronym\n",
    "magmasets$sumstatName = ordered(magmasets$sumstatName, levels=rev(scDRS_traits))\n",
    "# magmasets$annoName = factor(magmasets$VARIABLE, levels = rev(sort(unique(magmasets$VARIABLE))))\n",
    "magmasets$annoName = factor(magmasets$VARIABLE, levels = c(\"Early\", \"MGE-spec Early\", \"IN_PVALB_CHC-spec Early\", \"IN_SST-spec Mid-Late\", \"IN_PVALB_CHC-spec Mid-Late\", \"CGE-spec Mid-Late\", \"Mid-Late\"))\n",
    "magmasets$tempScoreCol = magmasets$LogP\n",
    "\n",
    "pdf(\"in_degs_ks_7_magma.pdf\", width = 7.5, height = 7.5)\n",
    "ldscHeatmapPlotter_trait_row(magmasets, plotCol=\"LogP\", markNominallySignificant=T)\n",
    "dev.off()"
   ]
  }
 ],
 "metadata": {
  "kernelspec": {
   "display_name": "R (monocle3)",
   "language": "R",
   "name": "r_env_monocle3"
  },
  "language_info": {
   "codemirror_mode": "r",
   "file_extension": ".r",
   "mimetype": "text/x-r-source",
   "name": "R",
   "pygments_lexer": "r",
   "version": "4.2.3"
  }
 },
 "nbformat": 4,
 "nbformat_minor": 5
}
