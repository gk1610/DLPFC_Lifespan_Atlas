{
 "cells": [
  {
   "cell_type": "markdown",
   "id": "7e507ef2-46e3-4474-a7f6-07bd5d5d4155",
   "metadata": {},
   "source": [
    "# Load packages"
   ]
  },
  {
   "cell_type": "code",
   "execution_count": null,
   "id": "a9e3d300-5b84-4029-854f-b07d84f34c82",
   "metadata": {
    "scrolled": true
   },
   "outputs": [],
   "source": [
    "import sys\n",
    "import scanpy as sc\n",
    "import numpy as np\n",
    "import pandas as pd\n",
    "import seaborn as sns\n",
    "import matplotlib.pyplot as plt\n",
    "from matplotlib.pyplot import rc_context\n",
    "from matplotlib.colors import LinearSegmentedColormap\n",
    "from sklearn.metrics.pairwise import cosine_similarity\n",
    "\n",
    "# Inital setting for plot size\n",
    "from matplotlib import rcParams\n",
    "FIGSIZE=(6, 6)\n",
    "rcParams['figure.figsize']=FIGSIZE\n",
    "\n",
    "sc.settings.verbosity = 1\n",
    "# set number of cores to use\n",
    "sc.settings.n_jobs = 25\n",
    "sc.settings.set_figure_params( dpi=300, fontsize=6)\n",
    "sc.logging.print_header()"
   ]
  },
  {
   "cell_type": "markdown",
   "id": "e3e3d70e-5333-40e2-8d7f-c3d67c53ed1a",
   "metadata": {},
   "source": [
    "# Load python functions"
   ]
  },
  {
   "cell_type": "markdown",
   "id": "0b0799d8-e077-4572-868e-aedc9daddd6d",
   "metadata": {},
   "source": [
    "## Initial settings: color, order, trait"
   ]
  },
  {
   "cell_type": "code",
   "execution_count": null,
   "id": "6e9f5b7a-af94-48a1-9370-a1b657ac9849",
   "metadata": {},
   "outputs": [],
   "source": [
    "sys.path.append('scripts')\n",
    "from initial_settings import *"
   ]
  },
  {
   "cell_type": "markdown",
   "id": "8282159d-cbad-4c85-8ad3-1a8814418d17",
   "metadata": {},
   "source": [
    "## Similarity of cell type"
   ]
  },
  {
   "cell_type": "code",
   "execution_count": null,
   "id": "99b844cd-1575-4eeb-b033-5ac92565b304",
   "metadata": {},
   "outputs": [],
   "source": [
    "import similarity_cell_type"
   ]
  },
  {
   "cell_type": "markdown",
   "id": "2f0a7742-c13f-42dd-a5e9-ec1eb64eeb8e",
   "metadata": {},
   "source": [
    "# Load R libraries"
   ]
  },
  {
   "cell_type": "code",
   "execution_count": null,
   "id": "5ae84d5b-443d-4167-9758-f595d083631f",
   "metadata": {
    "scrolled": true
   },
   "outputs": [],
   "source": [
    "# monocle3 conda environment\n",
    "# Load libraries\n",
    "library(Seurat)\n",
    "library(Signac)\n",
    "library(ggplot2)\n",
    "library(dplyr)\n",
    "library(zellkonverter)\n",
    "set.seed(222)\n",
    "library(RColorBrewer)\n",
    "library(viridis)\n",
    "library(monocle3)\n",
    "library(tidyselect)\n",
    "library(grid)\n",
    "library(mgcv)\n",
    "library(colorspace)\n",
    "library(ggrepel)\n",
    "library(igraph)\n",
    "library(pbapply)\n",
    "library(devtools)\n",
    "library(parallel)\n",
    "library(evobiR)\n",
    "library(tidyr)\n",
    "library(cluster)\n",
    "library(grDevices)\n",
    "library(repr)\n",
    "library(zoo)\n",
    "library(ggnewscale)\n",
    "library(VennDiagram)\n",
    "library(ggridges)"
   ]
  },
  {
   "cell_type": "code",
   "execution_count": null,
   "id": "46e826b0-5d9b-4c7a-ba3a-6bed3da1991b",
   "metadata": {
    "scrolled": true
   },
   "outputs": [],
   "source": [
    "# R (Py39_R43_Ju10) for pseudotime UMAT visualization\n",
    "library(monocle3)\n",
    "library(ggplot2)\n",
    "library(cowplot)"
   ]
  },
  {
   "cell_type": "markdown",
   "id": "ecd2b1d1-0b3a-4bef-981f-f86462f852ae",
   "metadata": {},
   "source": [
    "# Load R functions"
   ]
  },
  {
   "cell_type": "markdown",
   "id": "862bc759-437a-4041-9ff1-ad1a318aa8fd",
   "metadata": {},
   "source": [
    "## Initial settings: color, order, trait"
   ]
  },
  {
   "cell_type": "code",
   "execution_count": null,
   "id": "9333abea-6845-40c6-822f-32f43a49d84c",
   "metadata": {},
   "outputs": [],
   "source": [
    "source(\"scripts/initial_settings.r\")"
   ]
  },
  {
   "cell_type": "markdown",
   "id": "4c941376-8163-406a-be70-51db6ca38802",
   "metadata": {},
   "source": [
    "## Load trajectory reconstruction and downstream analysis based on Kriegstein scripts"
   ]
  },
  {
   "cell_type": "code",
   "execution_count": null,
   "id": "027c2251-83ed-40e7-9423-9f25d487b6a6",
   "metadata": {},
   "outputs": [],
   "source": [
    "source(\"scripts/trajectory_reconstruction.r\")"
   ]
  },
  {
   "cell_type": "markdown",
   "id": "6a45283f-40f0-491c-89a1-f95793855f13",
   "metadata": {},
   "source": [
    "## Load defined functions"
   ]
  },
  {
   "cell_type": "code",
   "execution_count": null,
   "id": "9fab2303-a427-45c2-b79e-1cdd68bc0959",
   "metadata": {},
   "outputs": [],
   "source": [
    "source(\"scripts/functions.r\")"
   ]
  },
  {
   "cell_type": "markdown",
   "id": "97abe053-6834-4232-aba0-4aece25a5dff",
   "metadata": {},
   "source": [
    "# Load data"
   ]
  },
  {
   "cell_type": "code",
   "execution_count": null,
   "id": "fe16b000-d4fa-41ca-ab2b-ef37143d83ce",
   "metadata": {
    "scrolled": true
   },
   "outputs": [],
   "source": [
    "adata = sc.read('files/integrated_adata.h5ad')\n",
    "adata # 1,454,617 × 16,416"
   ]
  },
  {
   "cell_type": "markdown",
   "id": "192aa354-22db-4d4f-b0b4-ce18e6450fd1",
   "metadata": {},
   "source": [
    "## Extract cells from Micro"
   ]
  },
  {
   "cell_type": "code",
   "execution_count": null,
   "id": "09f55f3b-a11c-4600-aea3-4e3bc59c65cb",
   "metadata": {
    "scrolled": true
   },
   "outputs": [],
   "source": [
    "ad_micro =  adata[(adata.obs['subclass'] == 'Micro') | (adata.obs['major_clust'] == 'Micro'), :]\n",
    "ad_micro # 69,860 × 16,416"
   ]
  },
  {
   "cell_type": "code",
   "execution_count": null,
   "id": "50193f9a-fca2-4511-8200-a5a2c0b67d90",
   "metadata": {},
   "outputs": [],
   "source": [
    "ad_micro.write('files/integrated_MICRO.h5ad')"
   ]
  },
  {
   "cell_type": "markdown",
   "id": "ea3b0242-16fa-4874-9982-76bb3b8a8225",
   "metadata": {},
   "source": [
    "## Similarity between two cohorts"
   ]
  },
  {
   "cell_type": "code",
   "execution_count": null,
   "id": "f142d761-1916-4992-a2d3-05038f96be96",
   "metadata": {
    "scrolled": true
   },
   "outputs": [],
   "source": [
    "similarity_cell_type.similarity_cell_type_all(ad_micro, 'subtype_uni', 'Integrated_subtype_uni', 6, 'files/figures/micro_similarity_two_cohorts_subtype_uni_all.pdf')\n"
   ]
  },
  {
   "cell_type": "markdown",
   "id": "d67aeabd-8d23-4d00-b464-a1216db0a71f",
   "metadata": {},
   "source": [
    "# Basic UMAP and UMAT analysis"
   ]
  },
  {
   "cell_type": "code",
   "execution_count": null,
   "id": "fac11c1a-ae40-4ece-8d59-c299c7e6f3eb",
   "metadata": {},
   "outputs": [],
   "source": [
    "%%sh\n",
    "\n",
    "python ${dataPATH}/scripts/lineage_analysis_embeddings_calculation.py \\\n",
    "-l ${dataPATH}/files/integrated_MICRO.h5ad \\\n",
    "-r 123456 \\\n",
    "-v scanpy@6000 \\\n",
    "-p half \\\n",
    "-n 100 \\\n",
    "-o ${dataPATH}/files/integrated_MICRO \\\n",
    "-k no"
   ]
  },
  {
   "cell_type": "markdown",
   "id": "a54f4e97-2218-4aa7-b8ac-680d44bcdcb0",
   "metadata": {},
   "source": [
    "## UMAT visualization"
   ]
  },
  {
   "cell_type": "code",
   "execution_count": null,
   "id": "116b8226-78c2-452e-ade2-f0fc1068847b",
   "metadata": {},
   "outputs": [],
   "source": [
    "adata_6k = sc.read('files/integrated_MICRO_clustering.h5ad')\n",
    "adata_6k # 69,860 × 16,126"
   ]
  },
  {
   "cell_type": "markdown",
   "id": "0ba12b24-bb3d-4aab-8939-a0b1e49b4f81",
   "metadata": {},
   "source": [
    "### stage_id"
   ]
  },
  {
   "cell_type": "code",
   "execution_count": null,
   "id": "7ea2f1c9-26e2-417d-bb7b-2bb9fdd9d2ae",
   "metadata": {
    "scrolled": true
   },
   "outputs": [],
   "source": [
    "from pandas.api.types import CategoricalDtype\n",
    "adata_6k.obs['stage_id_ord'] = adata_6k.obs['stage_id']\n",
    "cat_dtype = CategoricalDtype(categories=adata_6k.uns['stage_order'], ordered=True)\n",
    "adata_6k.obs['stage_id_ord'] = adata_6k.obs['stage_id_ord'].astype(cat_dtype)\n",
    "adata_6k"
   ]
  },
  {
   "cell_type": "code",
   "execution_count": null,
   "id": "bb54667f-ed0d-41f9-9f83-bfce19f8be98",
   "metadata": {
    "scrolled": true
   },
   "outputs": [],
   "source": [
    "with rc_context({'figure.figsize': (6, 6)}):\n",
    "    sc.pl.embedding(adata_6k, basis = 'umat', color='stage_id', add_outline=True,cmap='vlag',#legend_loc='on data',\n",
    "               legend_fontsize=10, legend_fontoutline=2,frameon=False,palette=colors_stage_id,\n",
    "               outline_width=(0.5, 0.3), vmin=0, vmax=1,size=8,\n",
    "               return_fig=True)\n",
    "plt.savefig('files/figures/micro_data_umat_stage_id.pdf', transparent=True, format='pdf')"
   ]
  },
  {
   "cell_type": "code",
   "execution_count": null,
   "id": "188d864e-b3c8-4896-ab0b-da4305dcbe06",
   "metadata": {},
   "outputs": [],
   "source": [
    "adata_6k.write('files/integrated_MICRO_clustering.h5ad')"
   ]
  },
  {
   "cell_type": "markdown",
   "id": "90b755c5-736a-44ad-91bf-a92b0082d63e",
   "metadata": {},
   "source": [
    "# Pseudotime infer"
   ]
  },
  {
   "cell_type": "code",
   "execution_count": null,
   "id": "267bc3b1-2c91-4cf0-8050-9bb34aa158fb",
   "metadata": {
    "scrolled": true
   },
   "outputs": [],
   "source": [
    "%%sh\n",
    "\n",
    "Rscript ${dataPATH}/scripts/pseudotime_infer.r \\\n",
    "${dataPATH}/files/integrated_MICRO_clustering.h5ad \\\n",
    "${dataPATH}/files/integrated_MICRO"
   ]
  },
  {
   "cell_type": "markdown",
   "id": "9576770f-08da-4ffb-97b8-4a3ff7426ff5",
   "metadata": {},
   "source": [
    "## Data visualization"
   ]
  },
  {
   "cell_type": "code",
   "execution_count": null,
   "id": "14dff0d6-7ccf-4355-89f1-2056be5b17fe",
   "metadata": {
    "scrolled": true
   },
   "outputs": [],
   "source": [
    "cds <- readRDS(\"files/integrated_MICRO_beforeConstruction_cds.RDS\")\n",
    "d <- readRDS(\"files/integrated_MICRO_beforeConstruction_d.RDS\")\n",
    "print(cds)\n",
    "print(head(d))\n",
    "print(dim(d))"
   ]
  },
  {
   "cell_type": "code",
   "execution_count": null,
   "id": "5bca6f5d-fd52-497f-aa42-67663b707aee",
   "metadata": {
    "scrolled": true
   },
   "outputs": [],
   "source": [
    "plot_cells(cds, color_cells_by = \"subtype_uni\", label_leaves = F, label_branch_points = F, label_principal_points = F, label_groups_by_cluster = F, group_label_size = 3)\n",
    "plot_cells(cds, color_cells_by = \"stage_id\", label_leaves = F, label_branch_points = F, label_principal_points = F, label_groups_by_cluster = F)\n",
    "plot_cells(cds, color_cells_by = \"Age\", label_leaves = F, label_branch_points = F, label_principal_points = F, label_groups_by_cluster = F)"
   ]
  },
  {
   "cell_type": "markdown",
   "id": "038d247c-e402-4a05-9b7e-80a0b3fafa09",
   "metadata": {},
   "source": [
    "## Principle graphs visualization"
   ]
  },
  {
   "cell_type": "markdown",
   "id": "c51b2543-f95a-43be-8aa2-1cbe30d51ccb",
   "metadata": {},
   "source": [
    "### unit: 50"
   ]
  },
  {
   "cell_type": "code",
   "execution_count": null,
   "id": "13f77fde-169a-4c6f-aaeb-c3102d176dac",
   "metadata": {
    "scrolled": true
   },
   "outputs": [],
   "source": [
    "for(i in seq(0, 3, 1)){\n",
    "    print(ggplot(data=d, aes(x=UMAP_1, y=UMAP_2)) + geom_point(size=1.5) + geom_text_repel(data=d[(50*i+1):min(50*(i+1), 145), ], aes(x=UMAP_1, y=UMAP_2), label=rownames(d[(50*i+1):min(50*(i+1), 145), ]), size=2, hjust = 2, color = \"red\", max.overlaps = Inf, segment.size = 0.1))\n",
    "}"
   ]
  },
  {
   "cell_type": "markdown",
   "id": "f3e95247-4ad9-4331-99da-cc6a40ced2ea",
   "metadata": {},
   "source": [
    "## Trajectories"
   ]
  },
  {
   "cell_type": "markdown",
   "id": "1feade65-c8ea-41e7-9b99-214c10654e1a",
   "metadata": {},
   "source": [
    "### Start point"
   ]
  },
  {
   "cell_type": "code",
   "execution_count": null,
   "id": "6aecb53d-4f64-4cb2-9f99-68b06b4564b4",
   "metadata": {
    "scrolled": true
   },
   "outputs": [],
   "source": [
    "ggplot(data=d, aes(x=UMAP_1, y=UMAP_2)) + geom_point(size=1.5) + geom_text_repel(data=d[c(24), ], aes(x=UMAP_1, y=UMAP_2), label=rownames(d[c(24), ]), size=5, hjust = 2, color = \"red\", max.overlaps = Inf, segment.size = 0.1)\n"
   ]
  },
  {
   "cell_type": "markdown",
   "id": "4326fdd7-30cc-436c-bcbb-a4bd15257c37",
   "metadata": {},
   "source": [
    "### Micro"
   ]
  },
  {
   "cell_type": "code",
   "execution_count": null,
   "id": "af3ed742-28f7-4a59-997b-15323c8ca3b6",
   "metadata": {
    "scrolled": true
   },
   "outputs": [],
   "source": [
    "# terminal\n",
    "ggplot(data=d, aes(x=UMAP_1, y=UMAP_2)) + geom_point(size=1.5) + geom_text_repel(data=d[c(110), ], aes(x=UMAP_1, y=UMAP_2), label=rownames(d[c(110), ]), size=5, hjust = 2, color = \"red\", max.overlaps = Inf, segment.size = 0.1)\n",
    "\n",
    "# connected\n",
    "ggplot(data=d, aes(x=UMAP_1, y=UMAP_2)) + geom_point(size=1.5) + geom_text_repel(data=d[c(62, 119), ], aes(x=UMAP_1, y=UMAP_2), label=rownames(d[c(62, 119), ]), size=5, hjust = 2, color = \"red\", max.overlaps = Inf, segment.size = 0.1)"
   ]
  },
  {
   "cell_type": "markdown",
   "id": "dbd2d2bf-1284-4489-aa3a-bf18a10e0479",
   "metadata": {},
   "source": [
    "## Reconstruction"
   ]
  },
  {
   "cell_type": "code",
   "execution_count": null,
   "id": "9a2c3fbc-14c3-4d97-9109-0f17ed1d3f35",
   "metadata": {
    "scrolled": true
   },
   "outputs": [],
   "source": [
    "# connect nodes\n",
    "cds <- connect_nodes(cds, \"Y_62\", \"Y_119\")\n",
    "\n",
    "# select individual lineages\n",
    "lineage <- \"Micro\"\n",
    "print(lineage)\n",
    "start <- 24\n",
    "end <- 110 \n",
    "cds <- isolate_graph(cds, start, end, lineage)\n",
    "sel.cluster = c(\"Micro\", \"Micro_out\")\n",
    "cds <- isolate_lineage(cds, lineage, sel_clusters = sel.cluster, cl = 20, N = 10)\n",
    "\n",
    "cds = combine_lineages(cds, start)\n",
    "cds"
   ]
  },
  {
   "cell_type": "code",
   "execution_count": null,
   "id": "ba96a9a9-395d-4b8e-8f98-db2a1bc6c899",
   "metadata": {},
   "outputs": [],
   "source": [
    "saveRDS(cds, file = \"files/integrated_MICRO_afterCombination_cds.RDS\")\n"
   ]
  },
  {
   "cell_type": "markdown",
   "id": "b3b6fb1f-40f5-4eec-8242-25dbc57c8e3f",
   "metadata": {},
   "source": [
    "## Figure plots"
   ]
  },
  {
   "cell_type": "markdown",
   "id": "27a0b097-e324-4d54-a8d6-f08e0bfa16b7",
   "metadata": {},
   "source": [
    "### Pseudotime"
   ]
  },
  {
   "cell_type": "code",
   "execution_count": null,
   "id": "93c38929-9e01-4666-9d0c-b3354f3e1e03",
   "metadata": {
    "scrolled": true
   },
   "outputs": [],
   "source": [
    "p_pseudotime <- plot_cells(cds, color_cells_by = \"pseudotime\", \n",
    "                           trajectory_graph_color = \"grey\", \n",
    "                           trajectory_graph_segment_size = 1, \n",
    "                           label_leaves = F, label_branch_points = F, label_principal_points = F, label_groups_by_cluster = F, label_cell_groups = F, cell_size = 0.5, cell_stroke = 0.3) + \n",
    "        theme(axis.text = element_blank(), \n",
    "        axis.ticks = element_blank(),\n",
    "        axis.title = element_blank(), \n",
    "        panel.border = element_blank(),\n",
    "        panel.grid.major = element_blank(),\n",
    "        panel.grid.minor = element_blank(), \n",
    "        legend.position=\"none\")\n",
    "ggsave(\"files/figures/micro_umat_pseudotime.png\", plot = p_pseudotime, width = 6, height = 6, dpi = 150)"
   ]
  },
  {
   "cell_type": "code",
   "execution_count": null,
   "id": "bda9cc2f-55d0-4b32-a840-848b787beb51",
   "metadata": {},
   "outputs": [],
   "source": [
    "p_pseudotime_legend <- plot_cells(cds, color_cells_by = \"pseudotime\",\n",
    "                                    trajectory_graph_color = \"grey\", \n",
    "                                    trajectory_graph_segment_size = 1, \n",
    "                                    label_leaves = F, label_branch_points = F, label_principal_points = F, label_groups_by_cluster = F, label_cell_groups = F, cell_size = 0.5, cell_stroke = 0.3) + \n",
    "        theme(axis.text = element_blank(), \n",
    "          axis.ticks = element_blank(),\n",
    "          axis.title = element_blank(), \n",
    "          panel.border = element_blank(),\n",
    "          panel.grid.major = element_blank(),\n",
    "          panel.grid.minor = element_blank())\n",
    "legend <- cowplot::get_legend(p_pseudotime_legend)\n",
    "pdf(\"files/figures/micro_umat_pseudotime_legend_only.pdf\")\n",
    "    grid::grid.draw(legend)\n",
    "dev.off()"
   ]
  },
  {
   "cell_type": "markdown",
   "id": "423f213f-93f3-46ec-98f1-7cb899762a80",
   "metadata": {},
   "source": [
    "# Maturation rate of lineage"
   ]
  },
  {
   "cell_type": "code",
   "execution_count": null,
   "id": "c03d1afc-2c66-4a62-894d-9f21a5c703e8",
   "metadata": {},
   "outputs": [],
   "source": [
    "pdf(\"files/figures/micro_mature_ratio_regression_lineage.pdf\", width = 4.5, height = 4.5)\n",
    "regress_pt_along_age_trajectory(cds, \"MICRO\")\n",
    "dev.off()"
   ]
  },
  {
   "cell_type": "markdown",
   "id": "e5882b94-95ff-4add-b6e6-2872f6b3e867",
   "metadata": {},
   "source": [
    "# Compress data along trajectories"
   ]
  },
  {
   "cell_type": "code",
   "execution_count": null,
   "id": "7354d0a9-e692-4970-8a11-6a7a8e8b8465",
   "metadata": {
    "scrolled": true
   },
   "outputs": [],
   "source": [
    "cds <- compress_lineages(cds, 24, N = 500, cores = 40)\n",
    "print(cds)\n",
    "print(length(cds@expression))"
   ]
  },
  {
   "cell_type": "code",
   "execution_count": null,
   "id": "9759bcf3-d93d-46b3-9a66-43f18deeed36",
   "metadata": {},
   "outputs": [],
   "source": [
    "saveRDS(cds, file = \"files/integrated_MICRO_afterCombination_cds_compressed.RDS\")"
   ]
  },
  {
   "cell_type": "markdown",
   "id": "edb756d8-9850-49c6-be64-03498e499aa1",
   "metadata": {},
   "source": [
    "# Identify traDEGs"
   ]
  },
  {
   "cell_type": "code",
   "execution_count": null,
   "id": "1ab71e0d-335e-4ae8-978e-329f67ee7529",
   "metadata": {
    "scrolled": true
   },
   "outputs": [],
   "source": [
    "%%sh\n",
    "\n",
    "Rscript ${dataPATH}/scripts/identify_traDEGs.r \\\n",
    "${dataPATH}/files/integrated_MICRO_afterCombination_cds.RDS \\\n",
    "${sub_lineage} \\\n",
    "24 \\\n",
    "0.05 \\\n",
    "10000 \\\n",
    "40 \\\n",
    "${dataPATH}/files/traDEGs/MICRO"
   ]
  }
 ],
 "metadata": {
  "kernelspec": {
   "display_name": "R (Py39_R43_Ju10)",
   "language": "R",
   "name": "r_env"
  },
  "language_info": {
   "codemirror_mode": "r",
   "file_extension": ".r",
   "mimetype": "text/x-r-source",
   "name": "R",
   "pygments_lexer": "r",
   "version": "4.3.1"
  }
 },
 "nbformat": 4,
 "nbformat_minor": 5
}
