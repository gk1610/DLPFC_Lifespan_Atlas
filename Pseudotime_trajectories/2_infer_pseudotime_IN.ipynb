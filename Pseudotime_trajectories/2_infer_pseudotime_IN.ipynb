{
 "cells": [
  {
   "cell_type": "markdown",
   "id": "7e507ef2-46e3-4474-a7f6-07bd5d5d4155",
   "metadata": {},
   "source": [
    "# Load packages"
   ]
  },
  {
   "cell_type": "code",
   "execution_count": null,
   "id": "a9e3d300-5b84-4029-854f-b07d84f34c82",
   "metadata": {
    "scrolled": true
   },
   "outputs": [],
   "source": [
    "import sys\n",
    "import scanpy as sc\n",
    "import numpy as np\n",
    "import pandas as pd\n",
    "import seaborn as sns\n",
    "import matplotlib.pyplot as plt\n",
    "from matplotlib.pyplot import rc_context\n",
    "from matplotlib.colors import LinearSegmentedColormap\n",
    "from sklearn.metrics.pairwise import cosine_similarity\n",
    "\n",
    "# Set up the Synapse client\n",
    "from synapseclient import Synapse\n",
    "syn = Synapse()\n",
    "syn.login()  # Assuming you're already logged in or have set up your credentials\n",
    "\n",
    "# Set up work path\n",
    "data_dir='Pseudotime_trajectories'\n",
    "os.chdir(data_dir)\n",
    "\n",
    "# Inital setting for plot size\n",
    "from matplotlib import rcParams\n",
    "FIGSIZE=(6, 6)\n",
    "rcParams['figure.figsize']=FIGSIZE\n",
    "\n",
    "sc.settings.verbosity = 1\n",
    "# set number of cores to use\n",
    "sc.settings.n_jobs = 25\n",
    "sc.settings.set_figure_params( dpi=300, fontsize=6)\n",
    "sc.logging.print_header()"
   ]
  },
  {
   "cell_type": "markdown",
   "id": "e3e3d70e-5333-40e2-8d7f-c3d67c53ed1a",
   "metadata": {},
   "source": [
    "# Load python functions"
   ]
  },
  {
   "cell_type": "markdown",
   "id": "0b0799d8-e077-4572-868e-aedc9daddd6d",
   "metadata": {},
   "source": [
    "## Initial settings: color, order, trait"
   ]
  },
  {
   "cell_type": "code",
   "execution_count": null,
   "id": "6e9f5b7a-af94-48a1-9370-a1b657ac9849",
   "metadata": {},
   "outputs": [],
   "source": [
    "from initial_settings import *"
   ]
  },
  {
   "cell_type": "markdown",
   "id": "8282159d-cbad-4c85-8ad3-1a8814418d17",
   "metadata": {},
   "source": [
    "## Similarity of cell type"
   ]
  },
  {
   "cell_type": "code",
   "execution_count": null,
   "id": "99b844cd-1575-4eeb-b033-5ac92565b304",
   "metadata": {},
   "outputs": [],
   "source": [
    "import similarity_cell_type"
   ]
  },
  {
   "cell_type": "markdown",
   "id": "9ff8d05c-5260-417b-98f5-d41941cd7901",
   "metadata": {},
   "source": [
    "# Load R libraries"
   ]
  },
  {
   "cell_type": "code",
   "execution_count": null,
   "id": "db753df6-a399-4248-8ff7-74269b51567c",
   "metadata": {
    "scrolled": true
   },
   "outputs": [],
   "source": [
    "# monocle3 conda environment\n",
    "# Load libraries\n",
    "library(Seurat)\n",
    "library(Signac)\n",
    "library(ggplot2)\n",
    "library(dplyr)\n",
    "library(zellkonverter)\n",
    "set.seed(222)\n",
    "library(RColorBrewer)\n",
    "library(viridis)\n",
    "library(monocle3)\n",
    "library(tidyselect)\n",
    "library(grid)\n",
    "library(mgcv)\n",
    "library(colorspace)\n",
    "library(ggrepel)\n",
    "library(igraph)\n",
    "library(pbapply)\n",
    "library(devtools)\n",
    "library(parallel)\n",
    "library(evobiR)\n",
    "library(tidyr)\n",
    "library(cluster)\n",
    "library(grDevices)\n",
    "library(repr)\n",
    "library(zoo)\n",
    "library(ggnewscale)\n",
    "library(VennDiagram)\n",
    "library(ggridges)"
   ]
  },
  {
   "cell_type": "code",
   "execution_count": null,
   "id": "631d381c-15f5-40ea-8888-47fc3a22c6d1",
   "metadata": {
    "scrolled": true
   },
   "outputs": [],
   "source": [
    "# R (Py39_R43_Ju10) for pseudotime UMAT visualization\n",
    "library(monocle3)\n",
    "library(ggplot2)\n",
    "library(cowplot)"
   ]
  },
  {
   "cell_type": "markdown",
   "id": "ec27367b-3a61-4884-92df-df4de27ab6cb",
   "metadata": {},
   "source": [
    "# Load R functions"
   ]
  },
  {
   "cell_type": "markdown",
   "id": "c9240f9f-ea1e-486c-b341-63b2b0339f8d",
   "metadata": {},
   "source": [
    "## Initial settings: color, order, trait"
   ]
  },
  {
   "cell_type": "code",
   "execution_count": null,
   "id": "5574f56d-9f9c-4ea7-bce3-613f2a3f26c6",
   "metadata": {},
   "outputs": [],
   "source": [
    "source(\"initial_settings.r\")"
   ]
  },
  {
   "cell_type": "markdown",
   "id": "f581facc-3ae6-46c0-a1d3-13d1c1d40e7e",
   "metadata": {},
   "source": [
    "## Load trajectory reconstruction and downstream analysis based on Kriegstein scripts"
   ]
  },
  {
   "cell_type": "code",
   "execution_count": null,
   "id": "e127db2f-472d-4aa9-89e2-b739f1eb8812",
   "metadata": {},
   "outputs": [],
   "source": [
    "source(\"trajectory_reconstruction.r\")"
   ]
  },
  {
   "cell_type": "markdown",
   "id": "cb8cce9f-95a4-4ede-85d9-3e8cd7e2949f",
   "metadata": {},
   "source": [
    "### Load defined functions"
   ]
  },
  {
   "cell_type": "code",
   "execution_count": null,
   "id": "8ef0f28b-e264-4748-839c-44c8b50698de",
   "metadata": {},
   "outputs": [],
   "source": [
    "source(\"functions.r\")"
   ]
  },
  {
   "cell_type": "markdown",
   "id": "97abe053-6834-4232-aba0-4aece25a5dff",
   "metadata": {},
   "source": [
    "# Load data"
   ]
  },
  {
   "cell_type": "code",
   "execution_count": null,
   "id": "fe16b000-d4fa-41ca-ab2b-ef37143d83ce",
   "metadata": {
    "scrolled": true
   },
   "outputs": [],
   "source": [
    "adata = sc.read('integrated_adata.h5ad')\n",
    "\n",
    "# Alternative download from synapse\n",
    "syn62289304 = syn.get(entity=\"syn62289304\", downloadLocation=data_dir)\n",
    "ad = sc.read(syn62289304)"
   ]
  },
  {
   "cell_type": "markdown",
   "id": "192aa354-22db-4d4f-b0b4-ce18e6450fd1",
   "metadata": {},
   "source": [
    "## Extract cells from IN"
   ]
  },
  {
   "cell_type": "code",
   "execution_count": null,
   "id": "09f55f3b-a11c-4600-aea3-4e3bc59c65cb",
   "metadata": {
    "scrolled": true
   },
   "outputs": [],
   "source": [
    "ad_in = adata[adata.obs['cell_type_uni'] == 'IN', :]\n",
    "ad_in"
   ]
  },
  {
   "cell_type": "code",
   "execution_count": null,
   "id": "50193f9a-fca2-4511-8200-a5a2c0b67d90",
   "metadata": {},
   "outputs": [],
   "source": [
    "ad_in.write('files/integrated_IN.h5ad')"
   ]
  },
  {
   "cell_type": "markdown",
   "id": "ea3b0242-16fa-4874-9982-76bb3b8a8225",
   "metadata": {},
   "source": [
    "## Similarity between two cohorts"
   ]
  },
  {
   "cell_type": "code",
   "execution_count": null,
   "id": "91bd8e03-164e-4493-895b-ec1311898512",
   "metadata": {
    "scrolled": true
   },
   "outputs": [],
   "source": [
    "# subclass\n",
    "similarity_cell_type.similarity_cell_type_all(ad_in, 'subclass_uni', 'Integrated_subclass_uni', 10, 'files/figures//in_similarity_two_cohorts_subclass_uni_all.pdf')\n"
   ]
  },
  {
   "cell_type": "code",
   "execution_count": null,
   "id": "f142d761-1916-4992-a2d3-05038f96be96",
   "metadata": {
    "scrolled": true
   },
   "outputs": [],
   "source": [
    "similarity_cell_type.similarity_cell_type_all(ad_in, 'subtype_uni', 'Integrated_subtype_uni', 20, 'files/figures//in_similarity_two_cohorts_subtype_uni_all.pdf')\n"
   ]
  },
  {
   "cell_type": "markdown",
   "id": "d67aeabd-8d23-4d00-b464-a1216db0a71f",
   "metadata": {},
   "source": [
    "# Basic UMAP and UMAT analysis"
   ]
  },
  {
   "cell_type": "code",
   "execution_count": null,
   "id": "7116750f-c725-4841-a87d-251f667096d9",
   "metadata": {},
   "outputs": [],
   "source": [
    "%%sh\n",
    "python lineage_analysis_embeddings_calculation.py \\\n",
    "-l files/integrated_IN.h5ad \\\n",
    "-r 123456 \\\n",
    "-v scanpy@6000 \\\n",
    "-p half \\\n",
    "-n 100 \\\n",
    "-o files/integrated_IN_con \\\n",
    "-k no"
   ]
  },
  {
   "cell_type": "markdown",
   "id": "83083533-d2e5-4973-b7b1-c2a4ba4d3e72",
   "metadata": {},
   "source": [
    "## UMAT visualization"
   ]
  },
  {
   "cell_type": "code",
   "execution_count": null,
   "id": "3d2423dc-a265-4a5a-920e-d5eac092aef8",
   "metadata": {
    "scrolled": true
   },
   "outputs": [],
   "source": [
    "adata_6k = sc.read('files/integrated_IN_con_clustering.h5ad')\n",
    "adata_6k"
   ]
  },
  {
   "cell_type": "markdown",
   "id": "358c9db7-7182-449e-9299-f511555d6577",
   "metadata": {},
   "source": [
    "### subclass_uni"
   ]
  },
  {
   "cell_type": "code",
   "execution_count": null,
   "id": "c469d133-2eb4-4f73-b12a-aa8ffacd13b3",
   "metadata": {},
   "outputs": [],
   "source": [
    "spec_subclasses = ['IN_SST', 'IN_PVALB', 'IN_PVALB_CHC', 'IN_VIP', 'IN_ADARB2', 'IN_LAMP5_RELN', 'IN_LAMP5_LHX6']\n",
    "adata_6k.obs['subclass_uni_plot'] = pd.NA\n",
    "condition = ((adata_6k.obs['numerical_age'] >= 20) & (adata_6k.obs['subclass_uni'].isin(spec_subclasses))) | (adata_6k.obs['subclass_uni'].isin(['MGE_dev', 'CGE_dev']))\n",
    "adata_6k.obs.loc[condition, 'subclass_uni_plot'] = adata_6k.obs.loc[condition, 'subclass_uni']"
   ]
  },
  {
   "cell_type": "code",
   "execution_count": null,
   "id": "f97aa09d-ac1b-46a3-b2ef-da1c9f05244f",
   "metadata": {
    "scrolled": true
   },
   "outputs": [],
   "source": [
    "with rc_context({'figure.figsize': (6, 6)}):\n",
    "    p_subclass_uni = sc.pl.embedding(adata_6k, basis = 'umat', color='subclass_uni_plot', add_outline=True,cmap='vlag',#legend_loc='on data',\n",
    "               legend_fontsize=10, legend_fontoutline=2,frameon=False, palette=colors_subclass,\n",
    "               outline_width=(0.5, 0.3), vmin=0, vmax=1,size=1,\n",
    "               return_fig=True)\n",
    "p_subclass_uni.savefig('files/figures/in_data_umat_subclass_uni_plot.pdf', transparent=True, format='pdf')\n",
    "plt.close(p_subclass_uni)"
   ]
  },
  {
   "cell_type": "markdown",
   "id": "cb3c4fbb-54b3-48a8-8afe-788adfd95d29",
   "metadata": {},
   "source": [
    "### stage id"
   ]
  },
  {
   "cell_type": "code",
   "execution_count": null,
   "id": "6335789a-ffaa-4377-aa7c-5bc8dabfd8b5",
   "metadata": {
    "scrolled": true
   },
   "outputs": [],
   "source": [
    "from pandas.api.types import CategoricalDtype\n",
    "adata_6k.obs['stage_id_ord'] = adata_6k.obs['stage_id']\n",
    "cat_dtype = CategoricalDtype(categories=adata_6k.uns['stage_order'], ordered=True)\n",
    "adata_6k.obs['stage_id_ord'] = adata_6k.obs['stage_id_ord'].astype(cat_dtype)\n",
    "adata_6k"
   ]
  },
  {
   "cell_type": "code",
   "execution_count": null,
   "id": "d69ec026-f0bc-4d83-9ae3-68967cfa2bb5",
   "metadata": {
    "scrolled": true
   },
   "outputs": [],
   "source": [
    "with rc_context({'figure.figsize': (6, 6)}):\n",
    "    p_stage_id = sc.pl.embedding(adata_6k, basis = 'umat', color='stage_id', add_outline=True,cmap='vlag',#legend_loc='on data',\n",
    "               legend_fontsize=10, legend_fontoutline=2,frameon=False,palette=colors_stage_id,\n",
    "               outline_width=(0.5, 0.3), vmin=0, vmax=1,size=8,\n",
    "               return_fig=True)\n",
    "p_stage_id.savefig('files/figures/in_data_umat_stage_id_plot.pdf', transparent=True, format='pdf')\n",
    "plt.close(p_stage_id)"
   ]
  },
  {
   "cell_type": "code",
   "execution_count": null,
   "id": "5181c672-05b7-4cce-b2a1-a47c2b144eb4",
   "metadata": {},
   "outputs": [],
   "source": [
    "adata_6k.write('files/integrated_IN_con_clustering.h5ad')"
   ]
  },
  {
   "cell_type": "markdown",
   "id": "82764e15-82fa-4cde-be17-4032ad3f964c",
   "metadata": {},
   "source": [
    "# Pseudotime inference"
   ]
  },
  {
   "cell_type": "code",
   "execution_count": null,
   "id": "63de1125-c8e8-4966-9cf2-cc3ae476f224",
   "metadata": {
    "scrolled": true
   },
   "outputs": [],
   "source": [
    "%%sh\n",
    "Rscript pseudotime_infer.r \\\n",
    "files/integrated_IN_con_clustering.h5ad \\\n",
    "files/integrated_IN_con"
   ]
  },
  {
   "cell_type": "markdown",
   "id": "15741175-8698-43f4-8aa1-bb92529a74d1",
   "metadata": {},
   "source": [
    "## Data visualization"
   ]
  },
  {
   "cell_type": "code",
   "execution_count": null,
   "id": "52e44269-ed73-4e77-9f65-f34dec791466",
   "metadata": {
    "scrolled": true
   },
   "outputs": [],
   "source": [
    "cds <- readRDS(\"files/integrated_IN_con_beforeConstruction_cds.RDS\")\n",
    "d <- readRDS(\"files/integrated_IN_con_beforeConstruction_d.RDS\")\n",
    "print(cds)\n",
    "print(head(d))\n",
    "print(dim(d))"
   ]
  },
  {
   "cell_type": "markdown",
   "id": "5be58636-7523-4ee0-99e8-92ec2401918f",
   "metadata": {},
   "source": [
    "### subclass_uni"
   ]
  },
  {
   "cell_type": "code",
   "execution_count": null,
   "id": "98dc7409-4fbc-48fa-955f-f67996d13e3d",
   "metadata": {
    "scrolled": true
   },
   "outputs": [],
   "source": [
    "plot_cells(cds, color_cells_by = \"subclass_uni\", label_leaves = F, label_branch_points = F, label_principal_points = F, label_groups_by_cluster = F, group_label_size = 3)\n"
   ]
  },
  {
   "cell_type": "markdown",
   "id": "409ddadf-f374-446b-8ed6-106adf6b7275",
   "metadata": {},
   "source": [
    "### subclass"
   ]
  },
  {
   "cell_type": "code",
   "execution_count": null,
   "id": "1c8d232f-f879-44cb-8206-b5a64eac535e",
   "metadata": {
    "scrolled": true
   },
   "outputs": [],
   "source": [
    "plot_cells(cds, color_cells_by = \"subclass\", label_leaves = F, label_branch_points = F, label_principal_points = F, label_groups_by_cluster = F, group_label_size = 6) + \n",
    "    scale_color_manual(values = cols_subclass_uni)\n"
   ]
  },
  {
   "cell_type": "markdown",
   "id": "0f8e99fc-9881-45d3-a8fb-2661d2a4211e",
   "metadata": {},
   "source": [
    "### subtype_uni"
   ]
  },
  {
   "cell_type": "code",
   "execution_count": null,
   "id": "35f25ba0-2324-4c0c-a38b-872477251b31",
   "metadata": {
    "scrolled": true
   },
   "outputs": [],
   "source": [
    "plot_cells(cds, color_cells_by = \"subtype_uni\", label_leaves = F, label_branch_points = F, label_principal_points = F, label_groups_by_cluster = F, group_label_size = 3)\n"
   ]
  },
  {
   "cell_type": "markdown",
   "id": "3e159c62-4a52-4332-844e-f5cec58c88e6",
   "metadata": {},
   "source": [
    "### stage_id"
   ]
  },
  {
   "cell_type": "code",
   "execution_count": null,
   "id": "da71dd8a-3969-4621-aacd-3e2f3ac413c1",
   "metadata": {
    "scrolled": true
   },
   "outputs": [],
   "source": [
    "plot_cells(cds, color_cells_by = \"stage_id\", label_leaves = F, label_branch_points = F, label_principal_points = F, label_groups_by_cluster = F)"
   ]
  },
  {
   "cell_type": "markdown",
   "id": "7408586d-5689-4e5e-a6f4-afcdca0cea3a",
   "metadata": {},
   "source": [
    "## Principle graphs"
   ]
  },
  {
   "cell_type": "markdown",
   "id": "a2518be9-971d-4f2f-9bfa-b21235ceb13f",
   "metadata": {},
   "source": [
    "### unit: 2000"
   ]
  },
  {
   "cell_type": "code",
   "execution_count": null,
   "id": "03514357-5c83-4471-a349-338d90005404",
   "metadata": {
    "scrolled": true
   },
   "outputs": [],
   "source": [
    "for(i in seq(0, 3, 1)){\n",
    "    print(ggplot(data=d, aes(x=UMAP_1, y=UMAP_2)) + geom_point(size=0.01) + geom_text_repel(data=d[(2000*i+1):min(2000*(i+1), 4623), ], aes(x=UMAP_1, y=UMAP_2), label=rownames(d[(2000*i+1):min(2000*(i+1), 4623), ]), size=1, hjust = 2, color = \"red\", max.overlaps = Inf, segment.size = 0.1))\n",
    "}"
   ]
  },
  {
   "cell_type": "markdown",
   "id": "cef83a7f-c2c9-4be5-a5cb-9238d25e5d0b",
   "metadata": {},
   "source": [
    "### unit: 1000"
   ]
  },
  {
   "cell_type": "code",
   "execution_count": null,
   "id": "69a941c2-4305-49ca-8046-9d6299d484d6",
   "metadata": {
    "scrolled": true
   },
   "outputs": [],
   "source": [
    "for(i in seq(0, 5, 1)){\n",
    "    print(ggplot(data=d, aes(x=UMAP_1, y=UMAP_2)) + geom_point(size=0.01) + geom_text_repel(data=d[(1000*i+1):min(1000*(i+1), 4623), ], aes(x=UMAP_1, y=UMAP_2), label=rownames(d[(1000*i+1):min(1000*(i+1), 4623), ]), size=2, hjust = 2, color = \"red\", max.overlaps = Inf, segment.size = 0.1))\n",
    "}"
   ]
  },
  {
   "cell_type": "markdown",
   "id": "6cbd5836-8a59-4241-8e61-0556e35e3518",
   "metadata": {},
   "source": [
    "### unit: 500"
   ]
  },
  {
   "cell_type": "code",
   "execution_count": null,
   "id": "8a594b94-0b33-4513-b9e8-5eea44850410",
   "metadata": {
    "scrolled": true
   },
   "outputs": [],
   "source": [
    "for(i in seq(0, 10, 1)){\n",
    "    print(ggplot(data=d, aes(x=UMAP_1, y=UMAP_2)) + geom_point(size=0.005) + geom_text_repel(data=d[(500*i+1):min(500*(i+1), 4623), ], aes(x=UMAP_1, y=UMAP_2), label=rownames(d[(500*i+1):min(500*(i+1), 4623), ]), size=2, hjust = 2, color = \"red\", max.overlaps = Inf, segment.size = 0.1))\n",
    "}"
   ]
  },
  {
   "cell_type": "markdown",
   "id": "e240903f-dc4d-4691-b50a-80b4d18548be",
   "metadata": {},
   "source": [
    "### unit: 200"
   ]
  },
  {
   "cell_type": "code",
   "execution_count": null,
   "id": "0a54408d-3abb-4e86-a879-33fa6427a3ec",
   "metadata": {
    "scrolled": true
   },
   "outputs": [],
   "source": [
    "for(i in seq(0, 24, 1)){\n",
    "    print(ggplot(data=d, aes(x=UMAP_1, y=UMAP_2)) + geom_point(size=0.01) + geom_text_repel(data=d[(200*i+1):min(200*(i+1), 4623), ], aes(x=UMAP_1, y=UMAP_2), label=rownames(d[(200*i+1):min(200*(i+1), 4623), ]), size=2, hjust = 2, color = \"red\", max.overlaps = Inf, segment.size = 0.1))\n",
    "}"
   ]
  },
  {
   "cell_type": "markdown",
   "id": "f35bfb93-52c9-4162-b29a-e810a4a73900",
   "metadata": {},
   "source": [
    "### unit: 50"
   ]
  },
  {
   "cell_type": "code",
   "execution_count": null,
   "id": "ac627817-ccd0-4063-9e12-305cbf36b822",
   "metadata": {
    "scrolled": true
   },
   "outputs": [],
   "source": [
    "for(i in seq(0, 93, 1)){\n",
    "    print(ggplot(data=d, aes(x=UMAP_1, y=UMAP_2)) + geom_point(size=0.01) + geom_text_repel(data=d[(50*i+1):min(50*(i+1), 4623), ], aes(x=UMAP_1, y=UMAP_2), label=rownames(d[(50*i+1):min(50*(i+1), 4623), ]), size=2, hjust = 2, color = \"red\", max.overlaps = Inf, segment.size = 0.1))\n",
    "}"
   ]
  },
  {
   "cell_type": "markdown",
   "id": "a2e5e482-f398-489c-bb1d-7fd746561d6e",
   "metadata": {},
   "source": [
    "## Trajectories"
   ]
  },
  {
   "cell_type": "markdown",
   "id": "e5537381-f7e6-4f52-9244-620c0f1c64d6",
   "metadata": {},
   "source": [
    "### Start point"
   ]
  },
  {
   "cell_type": "code",
   "execution_count": null,
   "id": "da449a8b-3c3c-41e1-abc9-bfa997f4790e",
   "metadata": {
    "scrolled": true
   },
   "outputs": [],
   "source": [
    "ggplot(data=d, aes(x=UMAP_1, y=UMAP_2)) + geom_point(size=0.01) + geom_text_repel(data=d[c(4319), ], aes(x=UMAP_1, y=UMAP_2), label=rownames(d[c(4319), ]), size=5, hjust = 2, color = \"red\", max.overlaps = Inf, segment.size = 0.1)\n"
   ]
  },
  {
   "cell_type": "markdown",
   "id": "a0973a04-5a5d-4e34-9321-a27688d2fe42",
   "metadata": {},
   "source": [
    "### SST"
   ]
  },
  {
   "cell_type": "code",
   "execution_count": null,
   "id": "130b696b-6f3c-467a-b25b-7d2594d38e77",
   "metadata": {
    "scrolled": true
   },
   "outputs": [],
   "source": [
    "subclasses_to_keep <- c(\"MGE_dev\", \"SST\", \"IN_SST\")\n",
    "cells_to_keep <- which(colData(cds)$subclass_uni %in% subclasses_to_keep)\n",
    "cds_subset <- cds[, cells_to_keep]\n",
    "plot_cells(cds_subset, color_cells_by = \"subtype_uni\", label_leaves = F, label_branch_points = F, label_principal_points = F, label_groups_by_cluster = F, group_label_size = 3)\n",
    "plot_cells(cds_subset, color_cells_by = \"stage_id\", label_leaves = F, label_branch_points = F, label_principal_points = F, label_groups_by_cluster = F, group_label_size = 3)\n",
    "plot_cells(cds_subset, color_cells_by = \"Age\", label_leaves = F, label_branch_points = F, label_principal_points = F, label_groups_by_cluster = F, group_label_size = 3)\n",
    "plot_cells(cds_subset, color_cells_by = \"numerical_age\", label_leaves = F, label_branch_points = F, label_principal_points = F, label_groups_by_cluster = F, group_label_size = 3)"
   ]
  },
  {
   "cell_type": "code",
   "execution_count": null,
   "id": "b68f140c-e993-4420-bff9-93afb134ffc6",
   "metadata": {
    "scrolled": true
   },
   "outputs": [],
   "source": [
    "# terminal\n",
    "ggplot(data=d, aes(x=UMAP_1, y=UMAP_2)) + geom_point(size=0.01) + geom_text_repel(data=d[c(2170), ], aes(x=UMAP_1, y=UMAP_2), label=rownames(d[c(2170), ]), size=5, hjust = 2, color = \"red\", max.overlaps = Inf, segment.size = 0.1)\n",
    "\n",
    "# connection\n",
    "ggplot(data=d, aes(x=UMAP_1, y=UMAP_2)) + geom_point(size=0.01) + geom_text_repel(data=d[c(4395, 4469), ], aes(x=UMAP_1, y=UMAP_2), label=rownames(d[c(4395, 4469), ]), size=5, hjust = 2, color = \"red\", max.overlaps = Inf, segment.size = 0.1)\n",
    "ggplot(data=d, aes(x=UMAP_1, y=UMAP_2)) + geom_point(size=0.01) + geom_text_repel(data=d[c(4184, 1607), ], aes(x=UMAP_1, y=UMAP_2), label=rownames(d[c(4184, 1607), ]), size=5, hjust = 2, color = \"red\", max.overlaps = Inf, segment.size = 0.1)\n"
   ]
  },
  {
   "cell_type": "markdown",
   "id": "175721e7-79f8-4d08-a057-ad2916d6f8b6",
   "metadata": {},
   "source": [
    "### PVALB"
   ]
  },
  {
   "cell_type": "code",
   "execution_count": null,
   "id": "7564e719-ba83-484d-809b-d4fb8ac06249",
   "metadata": {
    "scrolled": true
   },
   "outputs": [],
   "source": [
    "subclasses_to_keep <- c(\"MGE_dev\", \"PV\", \"IN_PVALB\")\n",
    "cells_to_keep <- which(colData(cds)$subclass_uni %in% subclasses_to_keep)\n",
    "cds_subset <- cds[, cells_to_keep]\n",
    "plot_cells(cds_subset, color_cells_by = \"subtype_uni\", label_leaves = F, label_branch_points = F, label_principal_points = F, label_groups_by_cluster = F, group_label_size = 3)\n",
    "plot_cells(cds_subset, color_cells_by = \"stage_id\", label_leaves = F, label_branch_points = F, label_principal_points = F, label_groups_by_cluster = F, group_label_size = 3)\n",
    "plot_cells(cds_subset, color_cells_by = \"Age\", label_leaves = F, label_branch_points = F, label_principal_points = F, label_groups_by_cluster = F, group_label_size = 3)\n",
    "plot_cells(cds_subset, color_cells_by = \"numerical_age\", label_leaves = F, label_branch_points = F, label_principal_points = F, label_groups_by_cluster = F, group_label_size = 3)\n",
    "\n"
   ]
  },
  {
   "cell_type": "code",
   "execution_count": null,
   "id": "061f72d8-7560-4135-9d8e-9516335e0e3d",
   "metadata": {
    "scrolled": true
   },
   "outputs": [],
   "source": [
    "# terminal\n",
    "ggplot(data=d, aes(x=UMAP_1, y=UMAP_2)) + geom_point(size=0.01) + geom_text_repel(data=d[c(18), ], aes(x=UMAP_1, y=UMAP_2), label=rownames(d[c(18), ]), size=5, hjust = 2, color = \"red\", max.overlaps = Inf, segment.size = 0.1)\n",
    "\n",
    "# connected\n",
    "ggplot(data=d, aes(x=UMAP_1, y=UMAP_2)) + geom_point(size=0.01) + geom_text_repel(data=d[c(4232, 1243), ], aes(x=UMAP_1, y=UMAP_2), label=rownames(d[c(4232, 1243), ]), size=5, hjust = 2, color = \"red\", max.overlaps = Inf, segment.size = 0.1)\n",
    "\n",
    "# included\n",
    "ggplot(data=d, aes(x=UMAP_1, y=UMAP_2)) + geom_point(size=0.01) + geom_text_repel(data=d[c(4456), ], aes(x=UMAP_1, y=UMAP_2), label=rownames(d[c(4456), ]), size=5, hjust = 2, color = \"red\", max.overlaps = Inf, segment.size = 0.1)"
   ]
  },
  {
   "cell_type": "markdown",
   "id": "7aac3cd9-9951-4bf7-8352-1a6c28bd3d38",
   "metadata": {},
   "source": [
    "### PVALB_CHC"
   ]
  },
  {
   "cell_type": "code",
   "execution_count": null,
   "id": "51fb6f68-af1c-4561-b3da-6ca1b79d420a",
   "metadata": {
    "scrolled": true
   },
   "outputs": [],
   "source": [
    "subclasses_to_keep <- c(\"MGE_dev\", \"PV_SCUBE3\", \"IN_PVALB_CHC\")\n",
    "cells_to_keep <- which(colData(cds)$subclass_uni %in% subclasses_to_keep)\n",
    "cds_subset <- cds[, cells_to_keep]\n",
    "plot_cells(cds_subset, color_cells_by = \"subtype_uni\", label_leaves = F, label_branch_points = F, label_principal_points = F, label_groups_by_cluster = F, group_label_size = 3)\n",
    "plot_cells(cds_subset, color_cells_by = \"stage_id\", label_leaves = F, label_branch_points = F, label_principal_points = F, label_groups_by_cluster = F, group_label_size = 3)\n",
    "plot_cells(cds_subset, color_cells_by = \"Age\", label_leaves = F, label_branch_points = F, label_principal_points = F, label_groups_by_cluster = F, group_label_size = 3)\n"
   ]
  },
  {
   "cell_type": "code",
   "execution_count": null,
   "id": "63b1a84b-cb29-48b2-b49f-5531d05069b1",
   "metadata": {
    "scrolled": true
   },
   "outputs": [],
   "source": [
    "# terminal\n",
    "ggplot(data=d, aes(x=UMAP_1, y=UMAP_2)) + geom_point(size=0.01) + geom_text_repel(data=d[c(3238), ], aes(x=UMAP_1, y=UMAP_2), label=rownames(d[c(3238), ]), size=5, hjust = 2, color = \"red\", max.overlaps = Inf, segment.size = 0.1)\n",
    "\n",
    "# connected\n",
    "ggplot(data=d, aes(x=UMAP_1, y=UMAP_2)) + geom_point(size=0.01) + geom_text_repel(data=d[c(4408, 4177), ], aes(x=UMAP_1, y=UMAP_2), label=rownames(d[c(4408, 4177), ]), size=5, hjust = 2, color = \"red\", max.overlaps = Inf, segment.size = 0.1)\n"
   ]
  },
  {
   "cell_type": "markdown",
   "id": "f501e655-3021-44e4-9f91-680759b341cd",
   "metadata": {},
   "source": [
    "### VIP"
   ]
  },
  {
   "cell_type": "code",
   "execution_count": null,
   "id": "72ecf671-c39c-4346-84ce-f49a458ec20c",
   "metadata": {
    "scrolled": true
   },
   "outputs": [],
   "source": [
    "subclasses_to_keep <- c(\"CGE_dev\", \"VIP\", \"IN_VIP\")\n",
    "cells_to_keep <- which(colData(cds)$subclass_uni %in% subclasses_to_keep)\n",
    "cds_subset <- cds[, cells_to_keep]\n",
    "plot_cells(cds_subset, color_cells_by = \"subtype_uni\", label_leaves = F, label_branch_points = F, label_principal_points = F, label_groups_by_cluster = F, group_label_size = 3)\n",
    "plot_cells(cds_subset, color_cells_by = \"stage_id\", label_leaves = F, label_branch_points = F, label_principal_points = F, label_groups_by_cluster = F, group_label_size = 3)\n",
    "plot_cells(cds_subset, color_cells_by = \"Age\", label_leaves = F, label_branch_points = F, label_principal_points = F, label_groups_by_cluster = F, group_label_size = 3)"
   ]
  },
  {
   "cell_type": "markdown",
   "id": "923aa4de-a26d-453e-a040-f619413c2e71",
   "metadata": {},
   "source": [
    "#### VIP_TRPC6"
   ]
  },
  {
   "cell_type": "code",
   "execution_count": null,
   "id": "e7bbda83-ebff-4f55-812b-097953a3e70f",
   "metadata": {
    "scrolled": true
   },
   "outputs": [],
   "source": [
    "subtypes_to_keep <- c(\"CGE_dev\", \"VIP_dev\", \"VIP_HS3ST3A1\", \"VIP_ABI3BP\", \"VIP_CHRM2\", \"IN_VIP_TRPC6\", \"VIP_DPP6\", \"VIP_CRH\", \"IN_VIP_SCML4\")\n",
    "cells_to_keep <- which(colData(cds)$subtype_uni %in% subtypes_to_keep)\n",
    "cds_subset <- cds[, cells_to_keep]\n",
    "plot_cells(cds_subset, color_cells_by = \"subtype_uni\", label_leaves = F, label_branch_points = F, label_principal_points = F, label_groups_by_cluster = F, group_label_size = 3)\n",
    "plot_cells(cds_subset, color_cells_by = \"subtype_uni\", label_leaves = F, label_branch_points = F, label_principal_points = F, label_groups_by_cluster = F, label_cell_groups = F, cell_size = 0.5, cell_stroke = 0.3)\n",
    "plot_cells(cds_subset, color_cells_by = \"stage_id\", label_leaves = F, label_branch_points = F, label_principal_points = F, label_groups_by_cluster = F, group_label_size = 3)\n",
    "plot_cells(cds_subset, color_cells_by = \"Age\", label_leaves = F, label_branch_points = F, label_principal_points = F, label_groups_by_cluster = F, group_label_size = 3)\n"
   ]
  },
  {
   "cell_type": "code",
   "execution_count": null,
   "id": "b2cbde7e-0e31-4f5c-a934-f7b5326a3708",
   "metadata": {
    "scrolled": true
   },
   "outputs": [],
   "source": [
    "# terminal\n",
    "ggplot(data=d, aes(x=UMAP_1, y=UMAP_2)) + geom_point(size=0.01) + geom_text_repel(data=d[c(161), ], aes(x=UMAP_1, y=UMAP_2), label=rownames(d[c(161), ]), size=5, hjust = 2, color = \"red\", max.overlaps = Inf, segment.size = 0.1)\n",
    "\n",
    "# connected\n",
    "ggplot(data=d, aes(x=UMAP_1, y=UMAP_2)) + geom_point(size=0.01) + geom_text_repel(data=d[c(1456, 1363), ], aes(x=UMAP_1, y=UMAP_2), label=rownames(d[c(1456, 1363), ]), size=5, hjust = 2, color = \"red\", max.overlaps = Inf, segment.size = 0.1)\n",
    "ggplot(data=d, aes(x=UMAP_1, y=UMAP_2)) + geom_point(size=0.01) + geom_text_repel(data=d[c(1246, 2657), ], aes(x=UMAP_1, y=UMAP_2), label=rownames(d[c(1246, 2657), ]), size=5, hjust = 2, color = \"red\", max.overlaps = Inf, segment.size = 0.1)\n",
    "\n",
    "# included\n",
    "ggplot(data=d, aes(x=UMAP_1, y=UMAP_2)) + geom_point(size=0.01) + geom_text_repel(data=d[c(4399), ], aes(x=UMAP_1, y=UMAP_2), label=rownames(d[c(4399), ]), size=5, hjust = 2, color = \"red\", max.overlaps = Inf, segment.size = 0.1)\n"
   ]
  },
  {
   "cell_type": "markdown",
   "id": "4405f4c3-15f7-4a9f-b6e6-69883dfff70a",
   "metadata": {},
   "source": [
    "#### VIP_BCL11B"
   ]
  },
  {
   "cell_type": "code",
   "execution_count": null,
   "id": "a3571a3d-27e2-4368-8172-ea764a6a863f",
   "metadata": {
    "scrolled": true
   },
   "outputs": [],
   "source": [
    "subtypes_to_keep <- c(\"CGE_dev\", \"VIP_dev\", \"VIP_ADAMTSL1\", \"VIP_PCDH20\", \"VIP_KIRREL3\", \"IN_VIP_BCL11B\")\n",
    "cells_to_keep <- which(colData(cds)$subtype_uni %in% subtypes_to_keep)\n",
    "cds_subset <- cds[, cells_to_keep]\n",
    "plot_cells(cds_subset, color_cells_by = \"subtype_uni\", label_leaves = F, label_branch_points = F, label_principal_points = F, label_groups_by_cluster = F, group_label_size = 3)\n",
    "plot_cells(cds_subset, color_cells_by = \"stage_id\", label_leaves = F, label_branch_points = F, label_principal_points = F, label_groups_by_cluster = F, group_label_size = 3)\n",
    "plot_cells(cds_subset, color_cells_by = \"Age\", label_leaves = F, label_branch_points = F, label_principal_points = F, label_groups_by_cluster = F, group_label_size = 3)\n"
   ]
  },
  {
   "cell_type": "code",
   "execution_count": null,
   "id": "7a83cd1f-8b07-405b-8d74-2a5118f4e3ca",
   "metadata": {
    "scrolled": true
   },
   "outputs": [],
   "source": [
    "# terminal\n",
    "ggplot(data=d, aes(x=UMAP_1, y=UMAP_2)) + geom_point(size=0.01) + geom_text_repel(data=d[c(2003), ], aes(x=UMAP_1, y=UMAP_2), label=rownames(d[c(2003), ]), size=5, hjust = 2, color = \"red\", max.overlaps = Inf, segment.size = 0.1)\n",
    "\n",
    "# connected\n",
    "ggplot(data=d, aes(x=UMAP_1, y=UMAP_2)) + geom_point(size=0.01) + geom_text_repel(data=d[c(1456, 4327), ], aes(x=UMAP_1, y=UMAP_2), label=rownames(d[c(1456, 4327), ]), size=5, hjust = 2, color = \"red\", max.overlaps = Inf, segment.size = 0.1)\n",
    "ggplot(data=d, aes(x=UMAP_1, y=UMAP_2)) + geom_point(size=0.01) + geom_text_repel(data=d[c(1350, 1364), ], aes(x=UMAP_1, y=UMAP_2), label=rownames(d[c(1350, 1364), ]), size=5, hjust = 2, color = \"red\", max.overlaps = Inf, segment.size = 0.1)\n"
   ]
  },
  {
   "cell_type": "markdown",
   "id": "7a001a86-1879-4d46-bae4-716c7b874190",
   "metadata": {},
   "source": [
    "### ADARB2"
   ]
  },
  {
   "cell_type": "code",
   "execution_count": null,
   "id": "31a29119-3ecc-4420-8d85-13ce5bd3246a",
   "metadata": {
    "scrolled": true
   },
   "outputs": [],
   "source": [
    "subclasses_to_keep <- c(\"CGE_dev\", \"IN_ADARB2\", \"ID2\")\n",
    "cells_to_keep <- which(colData(cds)$subclass_uni %in% subclasses_to_keep)\n",
    "cds_subset <- cds[, cells_to_keep]\n",
    "plot_cells(cds_subset, color_cells_by = \"subtype_uni\", label_leaves = F, label_branch_points = F, label_principal_points = F, label_groups_by_cluster = F, group_label_size = 3)\n",
    "plot_cells(cds_subset, color_cells_by = \"stage_id\", label_leaves = F, label_branch_points = F, label_principal_points = F, label_groups_by_cluster = F, group_label_size = 3)\n",
    "plot_cells(cds_subset, color_cells_by = \"Age\", label_leaves = F, label_branch_points = F, label_principal_points = F, label_groups_by_cluster = F, group_label_size = 3)"
   ]
  },
  {
   "cell_type": "markdown",
   "id": "f043f357-a71c-48fd-8d67-734e0ca31109",
   "metadata": {},
   "source": [
    "#### ADARB2_SV2C"
   ]
  },
  {
   "cell_type": "code",
   "execution_count": null,
   "id": "485e8a7a-5eba-41da-abed-565ebc3c8aad",
   "metadata": {
    "scrolled": true
   },
   "outputs": [],
   "source": [
    "subtypes_to_keep <- c(\"CGE_dev\", \"ID2_dev\", \"LAMP5_NDNF\", \"IN_ADARB2_SV2C\", \"ID2_CSMD1\", \"IN_ADARB2_SYT10\")\n",
    "cells_to_keep <- which(colData(cds)$subtype_uni %in% subtypes_to_keep)\n",
    "cds_subset <- cds[, cells_to_keep]\n",
    "plot_cells(cds_subset, color_cells_by = \"subtype_uni\", label_leaves = F, label_branch_points = F, label_principal_points = F, label_groups_by_cluster = F, group_label_size = 3)\n",
    "plot_cells(cds_subset, color_cells_by = \"stage_id\", label_leaves = F, label_branch_points = F, label_principal_points = F, label_groups_by_cluster = F, group_label_size = 3)\n",
    "plot_cells(cds_subset, color_cells_by = \"Age\", label_leaves = F, label_branch_points = F, label_principal_points = F, label_groups_by_cluster = F, group_label_size = 3)\n",
    "plot_cells(cds_subset, color_cells_by = \"stage_id\", label_leaves = F, label_branch_points = F, label_principal_points = F, label_groups_by_cluster = F, label_cell_groups = F, cell_size = 0.5, cell_stroke = 0.3)\n"
   ]
  },
  {
   "cell_type": "code",
   "execution_count": null,
   "id": "33f6d73c-2111-46a1-82aa-966d0b2d2125",
   "metadata": {
    "scrolled": true
   },
   "outputs": [],
   "source": [
    "subtypes_to_keep <- c(\"CGE_dev\", \"ID2_dev\", \"LAMP5_NDNF\", \"IN_ADARB2_SV2C\")\n",
    "cells_to_keep <- which(colData(cds)$subtype_uni %in% subtypes_to_keep)\n",
    "cds_subset <- cds[, cells_to_keep]\n",
    "plot_cells(cds_subset, color_cells_by = \"subtype_uni\", label_leaves = F, label_branch_points = F, label_principal_points = F, label_groups_by_cluster = F, group_label_size = 3)\n",
    "plot_cells(cds_subset, color_cells_by = \"stage_id\", label_leaves = F, label_branch_points = F, label_principal_points = F, label_groups_by_cluster = F, group_label_size = 3)\n",
    "plot_cells(cds_subset, color_cells_by = \"Age\", label_leaves = F, label_branch_points = F, label_principal_points = F, label_groups_by_cluster = F, group_label_size = 3)\n",
    "plot_cells(cds_subset, color_cells_by = \"stage_id\", label_leaves = F, label_branch_points = F, label_principal_points = F, label_groups_by_cluster = F, label_cell_groups = F, cell_size = 0.5, cell_stroke = 0.3)\n"
   ]
  },
  {
   "cell_type": "code",
   "execution_count": null,
   "id": "2e77bcab-13e2-4283-95b6-b471f0cd3b3b",
   "metadata": {
    "scrolled": true
   },
   "outputs": [],
   "source": [
    "# terminal\n",
    "ggplot(data=d, aes(x=UMAP_1, y=UMAP_2)) + geom_point(size=0.01) + geom_text_repel(data=d[c(187), ], aes(x=UMAP_1, y=UMAP_2), label=rownames(d[c(187), ]), size=5, hjust = 2, color = \"red\", max.overlaps = Inf, segment.size = 0.1)\n",
    "\n",
    "# connected\n",
    "ggplot(data=d, aes(x=UMAP_1, y=UMAP_2)) + geom_point(size=0.01) + geom_text_repel(data=d[c(4227, 4464), ], aes(x=UMAP_1, y=UMAP_2), label=rownames(d[c(4227, 4464), ]), size=5, hjust = 2, color = \"red\", max.overlaps = Inf, segment.size = 0.1)"
   ]
  },
  {
   "cell_type": "markdown",
   "id": "f965f6cc-5582-44e2-a332-2e1d6743df75",
   "metadata": {},
   "source": [
    "#### ADARB2_COL12A1"
   ]
  },
  {
   "cell_type": "code",
   "execution_count": null,
   "id": "83a69c75-5fb3-4452-8db2-87d1e76711c2",
   "metadata": {
    "scrolled": true
   },
   "outputs": [],
   "source": [
    "subtypes_to_keep <- c(\"CGE_dev\", \"ID2_dev\", \"CCK_SORCS1\", \"IN_ADARB2_COL12A1\")\n",
    "cells_to_keep <- which(colData(cds)$subtype_uni %in% subtypes_to_keep)\n",
    "cds_subset <- cds[, cells_to_keep]\n",
    "plot_cells(cds_subset, color_cells_by = \"subtype_uni\", label_leaves = F, label_branch_points = F, label_principal_points = F, label_groups_by_cluster = F, group_label_size = 3)\n",
    "plot_cells(cds_subset, color_cells_by = \"stage_id\", label_leaves = F, label_branch_points = F, label_principal_points = F, label_groups_by_cluster = F, group_label_size = 3)\n",
    "plot_cells(cds_subset, color_cells_by = \"Age\", label_leaves = F, label_branch_points = F, label_principal_points = F, label_groups_by_cluster = F, group_label_size = 3)\n"
   ]
  },
  {
   "cell_type": "code",
   "execution_count": null,
   "id": "4a9ad715-20e5-46c8-8425-7f7c709791f5",
   "metadata": {
    "scrolled": true
   },
   "outputs": [],
   "source": [
    "# terminal\n",
    "ggplot(data=d, aes(x=UMAP_1, y=UMAP_2)) + geom_point(size=0.01) + geom_text_repel(data=d[c(3241), ], aes(x=UMAP_1, y=UMAP_2), label=rownames(d[c(3241), ]), size=5, hjust = 2, color = \"red\", max.overlaps = Inf, segment.size = 0.1)\n",
    "\n",
    "# connected\n",
    "ggplot(data=d, aes(x=UMAP_1, y=UMAP_2)) + geom_point(size=0.01) + geom_text_repel(data=d[c(4227, 632), ], aes(x=UMAP_1, y=UMAP_2), label=rownames(d[c(4227, 632), ]), size=5, hjust = 2, color = \"red\", max.overlaps = Inf, segment.size = 0.1)"
   ]
  },
  {
   "cell_type": "markdown",
   "id": "1a30d4df-306e-4569-a9e4-8741b1064fa2",
   "metadata": {},
   "source": [
    "#### ADARB2_SYT10"
   ]
  },
  {
   "cell_type": "code",
   "execution_count": null,
   "id": "7e120bd6-c42b-4091-aa0c-37a8430136c1",
   "metadata": {
    "scrolled": true
   },
   "outputs": [],
   "source": [
    "subtypes_to_keep <- c(\"CGE_dev\", \"ID2_dev\", \"ID2_CSMD1\", \"IN_ADARB2_SYT10\")\n",
    "cells_to_keep <- which(colData(cds)$subtype_uni %in% subtypes_to_keep)\n",
    "cds_subset <- cds[, cells_to_keep]\n",
    "plot_cells(cds_subset, color_cells_by = \"subtype_uni\", label_leaves = F, label_branch_points = F, label_principal_points = F, label_groups_by_cluster = F, group_label_size = 3)\n",
    "plot_cells(cds_subset, color_cells_by = \"stage_id\", label_leaves = F, label_branch_points = F, label_principal_points = F, label_groups_by_cluster = F, group_label_size = 3)\n",
    "plot_cells(cds_subset, color_cells_by = \"Age\", label_leaves = F, label_branch_points = F, label_principal_points = F, label_groups_by_cluster = F, group_label_size = 3)\n",
    "plot_cells(cds_subset, color_cells_by = \"stage_id\", label_leaves = F, label_branch_points = F, label_principal_points = F, label_groups_by_cluster = F, label_cell_groups = F, cell_size = 0.5, cell_stroke = 0.3)\n",
    "\n"
   ]
  },
  {
   "cell_type": "code",
   "execution_count": null,
   "id": "2b2a83fd-90da-482e-82bd-dcae460aa5fe",
   "metadata": {
    "scrolled": true
   },
   "outputs": [],
   "source": [
    "# terminal\n",
    "ggplot(data=d, aes(x=UMAP_1, y=UMAP_2)) + geom_point(size=0.01) + geom_text_repel(data=d[c(990), ], aes(x=UMAP_1, y=UMAP_2), label=rownames(d[c(990), ]), size=5, hjust = 2, color = \"red\", max.overlaps = Inf, segment.size = 0.1)\n",
    "\n",
    "# connected\n",
    "ggplot(data=d, aes(x=UMAP_1, y=UMAP_2)) + geom_point(size=0.01) + geom_text_repel(data=d[c(4227, 4538), ], aes(x=UMAP_1, y=UMAP_2), label=rownames(d[c(4227, 4538), ]), size=5, hjust = 2, color = \"red\", max.overlaps = Inf, segment.size = 0.1)\n",
    "ggplot(data=d, aes(x=UMAP_1, y=UMAP_2)) + geom_point(size=0.01) + geom_text_repel(data=d[c(1901, 83), ], aes(x=UMAP_1, y=UMAP_2), label=rownames(d[c(1901, 83), ]), size=5, hjust = 2, color = \"red\", max.overlaps = Inf, segment.size = 0.1)\n",
    "ggplot(data=d, aes(x=UMAP_1, y=UMAP_2)) + geom_point(size=0.01) + geom_text_repel(data=d[c(83, 1583), ], aes(x=UMAP_1, y=UMAP_2), label=rownames(d[c(83, 1583), ]), size=5, hjust = 2, color = \"red\", max.overlaps = Inf, segment.size = 0.1)"
   ]
  },
  {
   "cell_type": "markdown",
   "id": "7a228c32-f35c-4cf2-8089-b0fd3d3c16eb",
   "metadata": {},
   "source": [
    "#### ADARB2_RAB37"
   ]
  },
  {
   "cell_type": "code",
   "execution_count": null,
   "id": "1660efdc-7b09-44ea-bac2-5ea6a06f421c",
   "metadata": {
    "scrolled": true
   },
   "outputs": [],
   "source": [
    "subtypes_to_keep <- c(\"CGE_dev\", \"ID2_dev\", \"CCK_RELN\", \"CCK_SYT6\", \"IN_ADARB2_RAB37\")\n",
    "cells_to_keep <- which(colData(cds)$subtype_uni %in% subtypes_to_keep)\n",
    "cds_subset <- cds[, cells_to_keep]\n",
    "plot_cells(cds_subset, color_cells_by = \"subtype_uni\", label_leaves = F, label_branch_points = F, label_principal_points = F, label_groups_by_cluster = F, group_label_size = 3)\n",
    "plot_cells(cds_subset, color_cells_by = \"stage_id\", label_leaves = F, label_branch_points = F, label_principal_points = F, label_groups_by_cluster = F, group_label_size = 3)\n",
    "plot_cells(cds_subset, color_cells_by = \"Age\", label_leaves = F, label_branch_points = F, label_principal_points = F, label_groups_by_cluster = F, group_label_size = 3)\n"
   ]
  },
  {
   "cell_type": "code",
   "execution_count": null,
   "id": "660624f2-cd04-4fab-916a-80224a9e0214",
   "metadata": {
    "scrolled": true
   },
   "outputs": [],
   "source": [
    "# terminal\n",
    "ggplot(data=d, aes(x=UMAP_1, y=UMAP_2)) + geom_point(size=0.01) + geom_text_repel(data=d[c(3709), ], aes(x=UMAP_1, y=UMAP_2), label=rownames(d[c(3709), ]), size=5, hjust = 2, color = \"red\", max.overlaps = Inf, segment.size = 0.1)\n",
    "\n",
    "# connected\n",
    "ggplot(data=d, aes(x=UMAP_1, y=UMAP_2)) + geom_point(size=0.01) + geom_text_repel(data=d[c(4227, 1450), ], aes(x=UMAP_1, y=UMAP_2), label=rownames(d[c(4227, 1450), ]), size=5, hjust = 2, color = \"red\", max.overlaps = Inf, segment.size = 0.1)\n"
   ]
  },
  {
   "cell_type": "markdown",
   "id": "e02b984f-e54c-403d-b078-e5f8544dddc6",
   "metadata": {},
   "source": [
    "### LAMP5_RELN"
   ]
  },
  {
   "cell_type": "code",
   "execution_count": null,
   "id": "ad4a57c8-3dfd-44ec-811d-630f60f678e6",
   "metadata": {
    "scrolled": true
   },
   "outputs": [],
   "source": [
    "subtypes_to_keep <- c(\"CGE_dev\", \"ID2_dev\", \"LAMP5_CCK\", \"IN_LAMP5_RELN_HSPA1A\", \"IN_LAMP5_RELN\")\n",
    "cells_to_keep <- which(colData(cds)$subtype_uni %in% subtypes_to_keep)\n",
    "cds_subset <- cds[, cells_to_keep]\n",
    "plot_cells(cds_subset, color_cells_by = \"subtype_uni\", label_leaves = F, label_branch_points = F, label_principal_points = F, label_groups_by_cluster = F, group_label_size = 3)\n",
    "plot_cells(cds_subset, color_cells_by = \"stage_id\", label_leaves = F, label_branch_points = F, label_principal_points = F, label_groups_by_cluster = F, group_label_size = 3)\n",
    "plot_cells(cds_subset, color_cells_by = \"Age\", label_leaves = F, label_branch_points = F, label_principal_points = F, label_groups_by_cluster = F, group_label_size = 3)\n"
   ]
  },
  {
   "cell_type": "code",
   "execution_count": null,
   "id": "67f0c9e9-e569-41f6-a77a-fba81d98c97a",
   "metadata": {
    "scrolled": true
   },
   "outputs": [],
   "source": [
    "# terminal\n",
    "ggplot(data=d, aes(x=UMAP_1, y=UMAP_2)) + geom_point(size=0.01) + geom_text_repel(data=d[c(2993), ], aes(x=UMAP_1, y=UMAP_2), label=rownames(d[c(2993), ]), size=5, hjust = 2, color = \"red\", max.overlaps = Inf, segment.size = 0.1)\n",
    "\n",
    "# connected\n",
    "ggplot(data=d, aes(x=UMAP_1, y=UMAP_2)) + geom_point(size=0.01) + geom_text_repel(data=d[c(4227, 4160), ], aes(x=UMAP_1, y=UMAP_2), label=rownames(d[c(4227, 4160), ]), size=5, hjust = 2, color = \"red\", max.overlaps = Inf, segment.size = 0.1)"
   ]
  },
  {
   "cell_type": "markdown",
   "id": "00b7ff9e-f061-4dca-b47b-330b17971b3e",
   "metadata": {},
   "source": [
    "### LAMP5_LHX6"
   ]
  },
  {
   "cell_type": "code",
   "execution_count": null,
   "id": "e61f186d-2e16-46cf-afab-9c4156abaa43",
   "metadata": {
    "scrolled": true
   },
   "outputs": [],
   "source": [
    "subtypes_to_keep <- c(\"CGE_dev\", \"LAMP5_NOS1\", \"IN_LAMP5_LHX6_HSPA1A\", \"IN_LAMP5_LHX6\")\n",
    "cells_to_keep <- which(colData(cds)$subtype_uni %in% subtypes_to_keep)\n",
    "cds_subset <- cds[, cells_to_keep]\n",
    "plot_cells(cds_subset, color_cells_by = \"subtype_uni\", label_leaves = F, label_branch_points = F, label_principal_points = F, label_groups_by_cluster = F, group_label_size = 3)\n",
    "plot_cells(cds_subset, color_cells_by = \"stage_id\", label_leaves = F, label_branch_points = F, label_principal_points = F, label_groups_by_cluster = F, group_label_size = 3)\n",
    "plot_cells(cds_subset, color_cells_by = \"Age\", label_leaves = F, label_branch_points = F, label_principal_points = F, label_groups_by_cluster = F, group_label_size = 3)\n"
   ]
  },
  {
   "cell_type": "code",
   "execution_count": null,
   "id": "a0a76346-994c-4dbe-ab38-95d1eb07aeab",
   "metadata": {
    "scrolled": true
   },
   "outputs": [],
   "source": [
    "# terminal\n",
    "ggplot(data=d, aes(x=UMAP_1, y=UMAP_2)) + geom_point(size=0.01) + geom_text_repel(data=d[c(1205), ], aes(x=UMAP_1, y=UMAP_2), label=rownames(d[c(1205), ]), size=5, hjust = 2, color = \"red\", max.overlaps = Inf, segment.size = 0.1)\n",
    "\n",
    "# connected\n",
    "ggplot(data=d, aes(x=UMAP_1, y=UMAP_2)) + geom_point(size=0.01) + geom_text_repel(data=d[c(4313, 4222), ], aes(x=UMAP_1, y=UMAP_2), label=rownames(d[c(4313, 4222), ]), size=5, hjust = 2, color = \"red\", max.overlaps = Inf, segment.size = 0.1)\n"
   ]
  },
  {
   "cell_type": "markdown",
   "id": "378bc26a-f362-4cdd-8434-c2dde47b231e",
   "metadata": {},
   "source": [
    "## Reconstruction"
   ]
  },
  {
   "cell_type": "code",
   "execution_count": null,
   "id": "2712877d-8842-41cc-8b1e-bc8e36ba5f32",
   "metadata": {
    "scrolled": true
   },
   "outputs": [],
   "source": [
    "# connect nodes\n",
    "# SST: \n",
    "cds <- connect_nodes(cds, \"Y_4395\", \"Y_4469\")\n",
    "cds <- connect_nodes(cds, \"Y_4184\", \"Y_1607\")\n",
    "\n",
    "# PVALB: no need to connect\n",
    "cds <- connect_nodes(cds, \"Y_4232\", \"Y_1243\")\n",
    "\n",
    "# PVALB_CHC: no need to connect\n",
    "cds <- connect_nodes(cds, \"Y_4408\", \"Y_4177\")\n",
    "\n",
    "# VIP_TRPC6\n",
    "cds = connect_nodes(cds, \"Y_1456\", \"Y_1363\")\n",
    "cds = connect_nodes(cds, \"Y_1246\", \"Y_2657\")\n",
    "\n",
    "# VIP_BCL11B\n",
    "cds = connect_nodes(cds, \"Y_1456\", \"Y_4327\")\n",
    "cds = connect_nodes(cds, \"Y_1350\", \"Y_1364\")\n",
    "\n",
    "\n",
    "# ADARB2_RAB37: \n",
    "cds = connect_nodes(cds, \"Y_4227\", \"Y_1450\")\n",
    "\n",
    "# ADARB2_COL12A1\n",
    "cds = connect_nodes(cds, \"Y_4227\", \"Y_632\")\n",
    "\n",
    "# ADARB2_SYT10: \n",
    "cds = connect_nodes(cds, \"Y_4227\", \"Y_4538\")\n",
    "cds = connect_nodes(cds, \"Y_1901\", \"Y_83\")\n",
    "cds = connect_nodes(cds, \"Y_83\", \"Y_1583\")\n",
    "\n",
    "# ADARB2_SV2C\n",
    "cds = connect_nodes(cds, \"Y_4227\", \"Y_4464\")\n",
    "\n",
    "# LAMP5_RELN\n",
    "cds = connect_nodes(cds, \"Y_4227\", \"Y_4160\")\n",
    "\n",
    "# LAMP5_LHX6\n",
    "cds = connect_nodes(cds, \"Y_4313\", \"Y_4222\")\n",
    "\n",
    "# select individual lineages\n",
    "lineage <- \"SST\"\n",
    "print(lineage)\n",
    "start <- 4319\n",
    "end <- 2170\n",
    "inc.node <- c(\"Y_1607\")\n",
    "cds <- isolate_graph(cds, start, end, lineage, include_nodes = inc.node)\n",
    "sel.cluster <- as.character(unique(colData(cds)[colData(cds)$subclass_uni %in% c(\"MGE_dev\", \"SST\", \"IN_SST\"), ]$subtype_uni))\n",
    "cds <- isolate_lineage(cds, lineage, sel_clusters = sel.cluster, cl = 20, N = 10)\n",
    "\n",
    "lineage <- \"PVALB\"\n",
    "print(lineage)\n",
    "end <- 18\n",
    "inc.node <- c(\"Y_4456\")\n",
    "cds <- isolate_graph(cds, start, end, lineage, include_nodes = inc.node)\n",
    "sel.cluster <- as.character(unique(colData(cds)[colData(cds)$subclass_uni %in% c(\"MGE_dev\", \"PV\", \"IN_PVALB\"), ]$subtype_uni))\n",
    "cds <- isolate_lineage(cds, lineage, sel_clusters = sel.cluster, cl = 20, N = 10)\n",
    "\n",
    "lineage <- \"PVALB_CHC\"\n",
    "print(lineage)\n",
    "end <- 3238\n",
    "cds <- isolate_graph(cds, start, end, lineage)\n",
    "sel.cluster <- as.character(unique(colData(cds)[colData(cds)$subclass_uni %in% c(\"MGE_dev\", \"PV_SCUBE3\", \"IN_PVALB_CHC\"), ]$subtype_uni))\n",
    "cds <- isolate_lineage(cds, lineage, sel_clusters = sel.cluster, cl = 20, N = 10)\n",
    "\n",
    "lineage <- \"VIP_TRPC6\"\n",
    "print(lineage)\n",
    "end <- 161\n",
    "inc.node <- c(\"Y_4399\", \"Y_2657\")\n",
    "cds <- isolate_graph(cds, start, end, lineage, include_nodes = inc.node)\n",
    "sel.cluster <- c(\"CGE_dev\", \"VIP_dev\", \"VIP_HS3ST3A1\", \"VIP_ABI3BP\", \"VIP_CHRM2\", \"IN_VIP_TRPC6\", \"VIP_DPP6\", \"VIP_CRH\", \"IN_VIP_SCML4\")\n",
    "cds <- isolate_lineage(cds, lineage, sel_clusters = sel.cluster, cl = 20, N = 10)\n",
    "\n",
    "lineage <- \"VIP_BCL11B\"\n",
    "print(lineage)\n",
    "end <- 2003\n",
    "inc.node <- c(\"Y_4399\", \"Y_1364\")\n",
    "cds <- isolate_graph(cds, start, end, lineage, include_nodes = inc.node)\n",
    "sel.cluster <- c(\"CGE_dev\", \"VIP_dev\", \"VIP_ADAMTSL1\", \"VIP_PCDH20\", \"VIP_KIRREL3\", \"IN_VIP_BCL11B\")\n",
    "cds <- isolate_lineage(cds, lineage, sel_clusters = sel.cluster, cl = 20, N = 10)\n",
    "\n",
    "\n",
    "lineage <- \"ADARB2_RAB37\"\n",
    "print(lineage)\n",
    "end <- 3709\n",
    "inc.node <- c(\"Y_4227\")\n",
    "cds <- isolate_graph(cds, start, end, lineage, include_nodes = inc.node)\n",
    "sel.cluster <- c(\"CGE_dev\", \"ID2_dev\", \"CCK_RELN\", \"CCK_SYT6\", \"IN_ADARB2_RAB37\")\n",
    "cds <- isolate_lineage(cds, lineage, sel_clusters = sel.cluster, cl = 20, N = 10)\n",
    "\n",
    "lineage <- \"ADARB2_COL12A1\"\n",
    "print(lineage)\n",
    "end <- 3241\n",
    "inc.node <- c(\"Y_632\")\n",
    "cds <- isolate_graph(cds, start, end, lineage, include_nodes = inc.node)\n",
    "sel.cluster <- c(\"CGE_dev\", \"ID2_dev\", \"CCK_SORCS1\", \"IN_ADARB2_COL12A1\")\n",
    "cds <- isolate_lineage(cds, lineage, sel_clusters = sel.cluster, cl = 20, N = 10)\n",
    "\n",
    "lineage <- \"ADARB2_SYT10\"\n",
    "print(lineage)\n",
    "end <- 990\n",
    "inc.node <- c(\"Y_4538\", \"Y_83\", \"Y_1583\")\n",
    "cds <- isolate_graph(cds, start, end, lineage, include_nodes = inc.node)\n",
    "sel.cluster <- c(\"CGE_dev\", \"ID2_dev\", \"ID2_CSMD1\", \"IN_ADARB2_SYT10\")\n",
    "cds <- isolate_lineage(cds, lineage, sel_clusters = sel.cluster, cl = 20, N = 10)\n",
    "\n",
    "lineage <- \"ADARB2_SV2C\"\n",
    "print(lineage)\n",
    "end <- 187\n",
    "inc.node <- c(\"Y_4227\")\n",
    "cds <- isolate_graph(cds, start, end, lineage, include_nodes = inc.node)\n",
    "sel.cluster <- c(\"CGE_dev\", \"ID2_dev\", \"LAMP5_NDNF\", \"IN_ADARB2_SV2C\")\n",
    "cds <- isolate_lineage(cds, lineage, sel_clusters = sel.cluster, cl = 20, N = 10)\n",
    "\n",
    "lineage <- \"LAMP5_RELN\"\n",
    "print(lineage)\n",
    "end <- 2993\n",
    "inc.node <- c(\"Y_4227\")\n",
    "cds <- isolate_graph(cds, start, end, lineage, include_nodes = inc.node)\n",
    "sel.cluster <- c(\"CGE_dev\", \"ID2_dev\", \"LAMP5_CCK\", \"IN_LAMP5_RELN_HSPA1A\", \"IN_LAMP5_RELN\")\n",
    "cds <- isolate_lineage(cds, lineage, sel_clusters = sel.cluster, cl = 20, N = 10)\n",
    "\n",
    "lineage <- \"LAMP5_LHX6\"\n",
    "print(lineage)\n",
    "end <- 1205\n",
    "cds <- isolate_graph(cds, start, end, lineage)\n",
    "sel.cluster <- c(\"CGE_dev\", \"LAMP5_NOS1\", \"IN_LAMP5_LHX6_HSPA1A\", \"IN_LAMP5_LHX6\")\n",
    "cds <- isolate_lineage(cds, lineage, sel_clusters = sel.cluster, cl = 20, N = 10)\n",
    "\n",
    "\n",
    "cds <- combine_lineages(cds, start)\n",
    "cds"
   ]
  },
  {
   "cell_type": "code",
   "execution_count": null,
   "id": "335fa2b5-a370-4f07-a2ed-a1651ae5066d",
   "metadata": {},
   "outputs": [],
   "source": [
    "saveRDS(cds, file = \"files/integrated_IN_con_afterCombination_cds.RDS\")\n"
   ]
  },
  {
   "cell_type": "markdown",
   "id": "ea868b18-75f8-4308-b956-fde8756ba57a",
   "metadata": {},
   "source": [
    "## Figure plots"
   ]
  },
  {
   "cell_type": "markdown",
   "id": "81e98abb-5b17-4ef9-a442-d1d2001c7810",
   "metadata": {},
   "source": [
    "### Pseudotime"
   ]
  },
  {
   "cell_type": "code",
   "execution_count": null,
   "id": "85b11721-c958-4d3e-a966-d8d936710606",
   "metadata": {},
   "outputs": [],
   "source": [
    "p_pseudotime <- plot_cells(cds, color_cells_by = \"pseudotime\", \n",
    "                           trajectory_graph_color = \"grey\", \n",
    "                           trajectory_graph_segment_size = 1, \n",
    "                           label_leaves = F, label_branch_points = F, label_principal_points = F, label_groups_by_cluster = F, label_cell_groups = F, cell_size = 0.5, cell_stroke = 0.3) + \n",
    "        theme(axis.text = element_blank(), \n",
    "        axis.ticks = element_blank(),\n",
    "        axis.title = element_blank(), \n",
    "        panel.border = element_blank(),\n",
    "        panel.grid.major = element_blank(),\n",
    "        panel.grid.minor = element_blank(), \n",
    "        legend.position=\"none\")\n",
    "ggsave(\"files/figures/in_umat_pseudotime.png\", plot = p_pseudotime, width = 6, height = 6, dpi = 150)\n",
    "\n",
    "\n",
    "p_pseudotime_legend <- plot_cells(cds, color_cells_by = \"pseudotime\",\n",
    "                                    trajectory_graph_color = \"grey\", \n",
    "                                    trajectory_graph_segment_size = 1, \n",
    "                                    label_leaves = F, label_branch_points = F, label_principal_points = F, label_groups_by_cluster = F, label_cell_groups = F, cell_size = 0.5, cell_stroke = 0.3) + \n",
    "        theme(axis.text = element_blank(), \n",
    "          axis.ticks = element_blank(),\n",
    "          axis.title = element_blank(), \n",
    "          panel.border = element_blank(),\n",
    "          panel.grid.major = element_blank(),\n",
    "          panel.grid.minor = element_blank())\n",
    "legend <- cowplot::get_legend(p_pseudotime_legend)\n",
    "pdf(\"files/figures/in_umat_pseudotime_legend_only.pdf\")\n",
    "    grid::grid.draw(legend)\n",
    "dev.off()"
   ]
  },
  {
   "cell_type": "markdown",
   "id": "50640b43-40c9-4499-aba3-57e20f39bc2f",
   "metadata": {},
   "source": [
    "# Maturation rate of branches and lineages"
   ]
  },
  {
   "cell_type": "code",
   "execution_count": null,
   "id": "f99d892b-5a6a-4d43-ac74-9af340fbe60c",
   "metadata": {},
   "outputs": [],
   "source": [
    "pdf(\"files/figures/in_mature_ratio_regression_lineage.pdf\", width = 4.5, height = 4.5)\n",
    "regress_pt_along_age_trajectory(cds, \"IN\")\n",
    "dev.off()"
   ]
  },
  {
   "cell_type": "code",
   "execution_count": null,
   "id": "301b4782-7441-47a4-8a6e-31f1517b6bf7",
   "metadata": {},
   "outputs": [],
   "source": [
    "pdf(\"files/figures/in_mature_ratio_regression_branch.pdf\", width = 4.5, height = 4.5)\n",
    "regress_pt_along_age_branch(cds, \"IN\", c(\"MGE\", \"CGE\"))\n",
    "dev.off()"
   ]
  },
  {
   "cell_type": "markdown",
   "id": "402edee4-f6a2-408d-abed-92b5c3c76aaf",
   "metadata": {},
   "source": [
    "# Identify DEGs along trajectory"
   ]
  },
  {
   "cell_type": "code",
   "execution_count": null,
   "id": "6ca70aa0-1737-4f3b-8be3-096ed0e1b030",
   "metadata": {
    "scrolled": true
   },
   "outputs": [],
   "source": [
    "%%sh\n",
    "\n",
    "for sub_lineage in SST PVALB PVALB_CHC VIP_TRPC6 VIP_BCL11B ADARB2_RAB37 ADARB2_COL12A1 ADARB2_SYT10 ADARB2_SV2C LAMP5_RELN LAMP5_LHX6\n",
    "do\n",
    "    Rscript identify_traDEGs.r \\\n",
    "        files/integrated_IN_con_afterCombination_cds.RDS \\\n",
    "        ${sub_lineage} \\\n",
    "        4319 \\\n",
    "        0.05 \\\n",
    "        10000 \\\n",
    "        40 \\\n",
    "        files/traDEGs/IN\n",
    "done # for sub_lineage end"
   ]
  },
  {
   "cell_type": "markdown",
   "id": "7dd46368-d5a0-4314-9373-376bc8923b5d",
   "metadata": {},
   "source": [
    "# Compress data along trajectories"
   ]
  },
  {
   "cell_type": "code",
   "execution_count": null,
   "id": "ed2b2025-95f9-4a98-9cb2-fb4813f3e6ba",
   "metadata": {
    "scrolled": true
   },
   "outputs": [],
   "source": [
    "cds <- compress_lineages(cds, 4319, N = 500, cores = 40)\n",
    "print(cds)\n",
    "print(length(cds@expression))"
   ]
  },
  {
   "cell_type": "code",
   "execution_count": null,
   "id": "53c91bf2-29dc-4078-a9c6-1c3d81f173b0",
   "metadata": {},
   "outputs": [],
   "source": [
    "saveRDS(cds, file = \"files/integrated_IN_con_afterCombination_cds_compressed.RDS\")"
   ]
  }
 ],
 "metadata": {
  "kernelspec": {
   "display_name": "R (Py39_R43_Ju10)",
   "language": "R",
   "name": "r_env"
  },
  "language_info": {
   "codemirror_mode": "r",
   "file_extension": ".r",
   "mimetype": "text/x-r-source",
   "name": "R",
   "pygments_lexer": "r",
   "version": "4.3.1"
  }
 },
 "nbformat": 4,
 "nbformat_minor": 5
}
