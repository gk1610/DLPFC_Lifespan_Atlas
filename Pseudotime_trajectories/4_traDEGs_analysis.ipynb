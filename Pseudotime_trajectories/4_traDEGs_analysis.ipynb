{
 "cells": [
  {
   "cell_type": "markdown",
   "id": "ab4e543f-5b14-4dc5-b384-dda80a33330b",
   "metadata": {},
   "source": [
    "# Load R libraries"
   ]
  },
  {
   "cell_type": "code",
   "execution_count": null,
   "id": "543f72f1-3812-4dae-aebe-1a6d9d582cf3",
   "metadata": {
    "scrolled": true
   },
   "outputs": [],
   "source": [
    "set.seed(222)\n",
    "library(monocle3)\n",
    "library(ggplot2)\n",
    "library(RColorBrewer)\n",
    "library(pheatmap)\n",
    "library(enrichR)\n",
    "websiteLive <- getOption(\"enrichR.live\")\n",
    "dbs <- c(\"GO_Molecular_Function_2023\", \"GO_Cellular_Component_2023\", \"GO_Biological_Process_2023\",\n",
    "            \"KEGG_2021_Human\", \"Elsevier_Pathway_Collection\", \"GWAS_Catalog_2023\")\n",
    "library(dplyr)\n",
    "library(ggridges)"
   ]
  },
  {
   "cell_type": "markdown",
   "id": "60575595-de96-4582-9624-a5cd1a661573",
   "metadata": {},
   "source": [
    "# Load R functions"
   ]
  },
  {
   "cell_type": "markdown",
   "id": "b68fc476-04e5-43ef-a083-31a4bd991eb4",
   "metadata": {},
   "source": [
    "## Initial settings: color, order, trait"
   ]
  },
  {
   "cell_type": "code",
   "execution_count": null,
   "id": "c058986d-2870-4850-b85b-adadc3794e14",
   "metadata": {},
   "outputs": [],
   "source": [
    "data_dir='Pseudotime_trajectories'\n",
    "setwd(data_dir)\n",
    "source(\"initial_settings.r\")"
   ]
  },
  {
   "cell_type": "markdown",
   "id": "daf292e2-225c-4a2d-9949-cfc10ff85b98",
   "metadata": {},
   "source": [
    "## Load trajectory reconstruction and downstream analysis based on Kriegstein scripts"
   ]
  },
  {
   "cell_type": "code",
   "execution_count": null,
   "id": "d814bca9-fee3-43cc-99df-69c3379348bb",
   "metadata": {
    "scrolled": true
   },
   "outputs": [],
   "source": [
    "source(\"trajectory_reconstruction.r\")"
   ]
  },
  {
   "cell_type": "markdown",
   "id": "b4a82ae6-0dfb-4964-b128-f793cf7d4bf7",
   "metadata": {},
   "source": [
    "## Load defined functions"
   ]
  },
  {
   "cell_type": "code",
   "execution_count": null,
   "id": "972b9ce9-df51-4877-a4f3-7be00cbd3e73",
   "metadata": {},
   "outputs": [],
   "source": [
    "source(\"functions.r\")"
   ]
  },
  {
   "cell_type": "markdown",
   "id": "d58e68db-28a3-4fb9-a158-ca84f8686192",
   "metadata": {},
   "source": [
    "# traDEGs (q_value < 0.05 & Moran >= 0.05)"
   ]
  },
  {
   "cell_type": "markdown",
   "id": "e6fee3b8-78c8-4f1d-82c2-1048a1dff156",
   "metadata": {},
   "source": [
    "## Astrocyte"
   ]
  },
  {
   "cell_type": "markdown",
   "id": "b311669c-a6e7-4661-88c7-534466fe5d09",
   "metadata": {},
   "source": [
    "### Load data"
   ]
  },
  {
   "cell_type": "code",
   "execution_count": null,
   "id": "53b6d80c-65d7-43b3-874c-2c34585ddad5",
   "metadata": {
    "scrolled": true
   },
   "outputs": [],
   "source": [
    "cds_AST <- readRDS(\"integrated_AST_con_afterCombination_cds_compressed.RDS\") # This file can be download from Synapse: syn62283908\n",
    "cds_AST\n",
    "names(cds_AST@lineages)"
   ]
  },
  {
   "cell_type": "markdown",
   "id": "0e8e5c4b-4e0d-4a52-b429-763ca597fa08",
   "metadata": {},
   "source": [
    "### Merge DEGs"
   ]
  },
  {
   "cell_type": "code",
   "execution_count": null,
   "id": "91c05490-b0df-4b8b-a3a5-266c22203f2a",
   "metadata": {},
   "outputs": [],
   "source": [
    "DEGs_AST <- c()\n",
    "for(sub_trajectory in names(cds_AST@lineages)){\n",
    "    data <- read.table(paste0(\"files/traDEGs/AST_traDEG_\", sub_trajectory,\".txt\"))\n",
    "    DEGs_AST <- c(DEGs_AST, rownames(data[data$q_value < 0.05 & data$morans_I >= 0.05, ]))\n",
    "}\n",
    "DEGs_AST <- unique(DEGs_AST)\n",
    "length(DEGs_AST)"
   ]
  },
  {
   "cell_type": "markdown",
   "id": "c0e8bc08-28cb-49e0-9656-97ead514fc25",
   "metadata": {},
   "source": [
    "### Obtain fitted matrix"
   ]
  },
  {
   "cell_type": "code",
   "execution_count": null,
   "id": "790fa9ca-a352-4a6e-856d-60b16eaf06fe",
   "metadata": {
    "scrolled": true
   },
   "outputs": [],
   "source": [
    "cds_AST_scale_start <- adjust_fitted_matrix(cds_AST)\n",
    "merged_AST_scale_start <- t(rbind(cds_AST_scale_start@expectation[[1]][nrow(cds_AST_scale_start@expectation[[1]]):1, ], cds_AST_scale_start@expectation[[2]]))\n",
    "merged_AST_scale_start <- merged_AST_scale_start[DEGs_AST, ]\n",
    "merged_AST_scale_start"
   ]
  },
  {
   "cell_type": "markdown",
   "id": "6c76a3e9-2a62-4400-abb5-115fc864c6bb",
   "metadata": {},
   "source": [
    "### 6 groups (*used*)"
   ]
  },
  {
   "cell_type": "code",
   "execution_count": null,
   "id": "114bc2c0-8ed2-4ddb-84de-aa657eff8659",
   "metadata": {
    "scrolled": true
   },
   "outputs": [],
   "source": [
    "ks_6_AST_term_3 <- cluster_and_func_enrich(fitted_mat = merged_AST_scale_start, n_tree = 6, \n",
    "                                        pseudo_range = sapply(cds_AST_scale_start@pseudotime, \"max\"), \n",
    "                                        lineages = names(cds_AST@lineages), \n",
    "                                        branches = c(rep(\"PA\", 500), rep(\"FA\", 500)), \n",
    "                                        n_metacell = 500, n_term = 3, n_char = 100, \n",
    "                                        out_label = \"files/traDEGs/qvalue0.05_moran0.05/AST\")"
   ]
  },
  {
   "cell_type": "markdown",
   "id": "3495ffda-5502-46c1-95f1-e93709ad0ec7",
   "metadata": {},
   "source": [
    "#### MAGMA"
   ]
  },
  {
   "cell_type": "code",
   "execution_count": null,
   "id": "f2900836-2a46-4686-a210-e089e2705eac",
   "metadata": {
    "scrolled": true
   },
   "outputs": [],
   "source": [
    "magmasets <- readr::read_tsv(\"files/traDEGs/qvalue0.05_moran0.05/MAGMA_AST_ks_6/meta-files/geneSetResults.tsv.gz\")\n",
    "ngenes = lapply(unique(magmasets$VARIABLE), function(x) round(mean(magmasets[magmasets$VARIABLE==x,\"NGENES\"])))\n",
    "names(ngenes) = unique(magmasets$VARIABLE)\n",
    "\n",
    "magmasets = magmasets[(magmasets$gwasAcronym %in% names(trait_info)),]\n",
    "magmasets = magmasets[order(magmasets$gwasAcronym),]\n",
    "magmasets$sumstatName = magmasets$gwasAcronym\n",
    "magmasets$sumstatName = ordered(magmasets$sumstatName, levels=rev(names(trait_info)))\n",
    "magmasets$annoName = factor(magmasets$VARIABLE, levels = sort(unique(magmasets$VARIABLE)))\n",
    "magmasets$tempScoreCol = magmasets$LogP\n",
    "\n",
    "pdf(\"files/traDEGs/qvalue0.05_moran0.05/ast_degs_ks_6_magma.pdf\", width = 7.5, height = 7.5)\n",
    "magma_heatmap(magmasets, plotCol=\"LogP\", markNominallySignificant=T)\n",
    "dev.off()"
   ]
  },
  {
   "cell_type": "markdown",
   "id": "711c1b0b-a882-4979-80fc-a0e5d417e47e",
   "metadata": {},
   "source": [
    "## Microglia"
   ]
  },
  {
   "cell_type": "markdown",
   "id": "ffa8c40f-0644-45d8-acc9-cb74280ecbd5",
   "metadata": {},
   "source": [
    "### Load data"
   ]
  },
  {
   "cell_type": "code",
   "execution_count": null,
   "id": "47eb5722-d477-45b5-a9db-36cebf5a5c5c",
   "metadata": {
    "scrolled": true
   },
   "outputs": [],
   "source": [
    "cds_MICRO <- readRDS(\"integrated_MICRO_con_afterCombination_cds_compressed.RDS\") # This file can be download from Synapse: syn62283907\n",
    "cds_MICRO\n",
    "names(cds_MICRO@lineages)"
   ]
  },
  {
   "cell_type": "markdown",
   "id": "dae1eb6a-94fc-4a76-90cd-37cc183f6082",
   "metadata": {},
   "source": [
    "### Merge DEGs"
   ]
  },
  {
   "cell_type": "code",
   "execution_count": null,
   "id": "c130581e-6272-4c70-aa37-1d2b6a5c2981",
   "metadata": {},
   "outputs": [],
   "source": [
    "DEGs_MICRO <- c()\n",
    "for(sub_trajectory in names(cds_MICRO@lineages)){\n",
    "    data <- read.table(paste0(\"files/traDEGs/MICRO_traDEG_\", sub_trajectory,\".txt\"))\n",
    "    DEGs_MICRO <- c(DEGs_MICRO, rownames(data[data$q_value < 0.05 & data$morans_I >= 0.05, ]))\n",
    "}\n",
    "DEGs_MICRO <- unique(DEGs_MICRO)\n",
    "length(DEGs_MICRO)"
   ]
  },
  {
   "cell_type": "markdown",
   "id": "c70bbe91-9cf3-4b70-8afa-57f8e37c806f",
   "metadata": {},
   "source": [
    "### Obtain fitted matrix"
   ]
  },
  {
   "cell_type": "code",
   "execution_count": null,
   "id": "de4ede2c-20c0-4441-8403-8bc3a55c828f",
   "metadata": {
    "scrolled": true
   },
   "outputs": [],
   "source": [
    "cds_MICRO_scale_start <- adjust_fitted_matrix(cds_MICRO)\n",
    "merged_MICRO_scale_start <- t(do.call(rbind, cds_MICRO_scale_start@expectation))\n",
    "merged_MICRO_scale_start <- merged_MICRO_scale_start[DEGs_MICRO, ]\n",
    "merged_MICRO_scale_start"
   ]
  },
  {
   "cell_type": "markdown",
   "id": "19abafb5-e852-4c70-a54d-b1e28bd9ccc8",
   "metadata": {},
   "source": [
    "### 4 groups"
   ]
  },
  {
   "cell_type": "code",
   "execution_count": null,
   "id": "54d6f002-e55a-47ec-a900-b95a7ca11b9a",
   "metadata": {
    "scrolled": true
   },
   "outputs": [],
   "source": [
    "ks_4_MICRO_term_3 <- cluster_and_func_enrich(fitted_mat = merged_MICRO_scale_start, n_tree = 4, \n",
    "                                        pseudo_range = sapply(cds_MICRO_scale_start@pseudotime, \"max\"), \n",
    "                                        lineages = names(cds_MICRO@lineages), \n",
    "                                        branches = rep(\"Micro\", 500), \n",
    "                                        n_metacell = 500, n_term = 3, n_char = 100, \n",
    "                                        out_label = \"files/traDEGs/qvalue0.05_moran0.05/MICRO\")"
   ]
  },
  {
   "cell_type": "markdown",
   "id": "c55bcf35-e650-4b2d-9c0d-4574e44cbc37",
   "metadata": {},
   "source": [
    "#### MAGMA"
   ]
  },
  {
   "cell_type": "code",
   "execution_count": null,
   "id": "85586a77-72d9-4cef-81f4-2cf378243b4d",
   "metadata": {
    "scrolled": true
   },
   "outputs": [],
   "source": [
    "magmasets <- readr::read_tsv(\"files/traDEGs/qvalue0.05_moran0.05/MAGMA_MICRO_ks_4/meta-files/geneSetResults.tsv.gz\")\n",
    "ngenes = lapply(unique(magmasets$VARIABLE), function(x) round(mean(magmasets[magmasets$VARIABLE==x,\"NGENES\"])))\n",
    "names(ngenes) = unique(magmasets$VARIABLE)\n",
    "\n",
    "magmasets = magmasets[(magmasets$gwasAcronym %in% names(trait_info)),]\n",
    "magmasets = magmasets[order(magmasets$gwasAcronym),]\n",
    "magmasets$sumstatName = magmasets$gwasAcronym\n",
    "magmasets$sumstatName = ordered(magmasets$sumstatName, levels=rev(names(trait_info)))\n",
    "magmasets$annoName = factor(magmasets$VARIABLE, levels = sort(unique(magmasets$VARIABLE)))\n",
    "magmasets$tempScoreCol = magmasets$LogP\n",
    "\n",
    "pdf(\"files/traDEGs/qvalue0.05_moran0.05/micro_degs_ks_4_magma.pdf\", width = 7.5, height = 7.5)\n",
    "magma_heatmap(magmasets, plotCol=\"LogP\", markNominallySignificant=T)\n",
    "dev.off()"
   ]
  },
  {
   "cell_type": "markdown",
   "id": "a3c212cd-d1d5-4664-8231-d4768a174afd",
   "metadata": {},
   "source": [
    "## Oligodendrocyte"
   ]
  },
  {
   "cell_type": "markdown",
   "id": "c4fb5459-06dc-486a-b15d-d6b909a57652",
   "metadata": {},
   "source": [
    "### Load data"
   ]
  },
  {
   "cell_type": "code",
   "execution_count": null,
   "id": "adf99819-75c8-4683-a334-0a9ab5f18ba3",
   "metadata": {
    "scrolled": true
   },
   "outputs": [],
   "source": [
    "cds_OLIGO <- readRDS(\"integrated_OLIGO_con_afterCombination_cds_compressed.RDS\") # This file can be download from Synapse: syn62283899\n",
    "cds_OLIGO\n",
    "names(cds_OLIGO@lineages)"
   ]
  },
  {
   "cell_type": "markdown",
   "id": "2ac3943a-16ea-4e16-bc83-b2b28a83e2c4",
   "metadata": {},
   "source": [
    "### Merge DEGs"
   ]
  },
  {
   "cell_type": "code",
   "execution_count": null,
   "id": "04c9a053-ef3b-41b4-a3ff-b0d6f6793c2a",
   "metadata": {},
   "outputs": [],
   "source": [
    "DEGs_OLIGO <- c()\n",
    "for(sub_trajectory in names(cds_OLIGO@lineages)){\n",
    "    data <- read.table(paste0(\"files/traDEGs/OLIGO_traDEG_\", sub_trajectory,\".txt\"))\n",
    "    DEGs_OLIGO <- c(DEGs_OLIGO, rownames(data[data$q_value < 0.05 & data$morans_I >= 0.05, ]))\n",
    "}\n",
    "DEGs_OLIGO <- unique(DEGs_OLIGO)\n",
    "length(DEGs_OLIGO)"
   ]
  },
  {
   "cell_type": "markdown",
   "id": "e4b5edad-1a86-405d-ac2a-e8ddaa8b8adc",
   "metadata": {},
   "source": [
    "### Obtain fitted matrix"
   ]
  },
  {
   "cell_type": "code",
   "execution_count": null,
   "id": "95b7b661-c090-44bd-88de-5ee1edbce667",
   "metadata": {
    "scrolled": true
   },
   "outputs": [],
   "source": [
    "cds_OLIGO_scale_start <- adjust_fitted_matrix(cds_OLIGO)\n",
    "merged_OLIGO_scale_start <- t(do.call(rbind, cds_OLIGO_scale_start@expectation))\n",
    "merged_OLIGO_scale_start <- merged_OLIGO_scale_start[DEGs_OLIGO, ]\n",
    "merged_OLIGO_scale_start"
   ]
  },
  {
   "cell_type": "markdown",
   "id": "821f81a4-f87a-4090-9137-dae3c12f4ca3",
   "metadata": {},
   "source": [
    "### 2 groups"
   ]
  },
  {
   "cell_type": "code",
   "execution_count": null,
   "id": "ff75653b-e451-4ac0-9688-a2c6dc84c49f",
   "metadata": {
    "scrolled": true
   },
   "outputs": [],
   "source": [
    "ks_2_OLIGO_term_3 <- cluster_and_func_enrich(fitted_mat = merged_OLIGO_scale_start, n_tree = 2, \n",
    "                                        pseudo_range = sapply(cds_OLIGO_scale_start@pseudotime, \"max\"), \n",
    "                                        lineages = names(cds_OLIGO@lineages), \n",
    "                                        branches = rep(\"Oligo\", 500), \n",
    "                                        n_metacell = 500, n_term = 3, n_char = 100, \n",
    "                                        out_label = \"files/traDEGs/qvalue0.05_moran0.05/OLIGO\")"
   ]
  },
  {
   "cell_type": "markdown",
   "id": "4e64fca5-4784-4f4e-b0c8-be257c713865",
   "metadata": {},
   "source": [
    "#### MAGMA"
   ]
  },
  {
   "cell_type": "code",
   "execution_count": null,
   "id": "c7fd941e-c0d9-4342-9f61-e57a8085350f",
   "metadata": {
    "scrolled": true
   },
   "outputs": [],
   "source": [
    "magmasets <- readr::read_tsv(\"files/traDEGs/qvalue0.05_moran0.05/MAGMA_OLIGO_ks_2/meta-files/geneSetResults.tsv.gz\")\n",
    "ngenes = lapply(unique(magmasets$VARIABLE), function(x) round(mean(magmasets[magmasets$VARIABLE==x,\"NGENES\"])))\n",
    "names(ngenes) = unique(magmasets$VARIABLE)\n",
    "\n",
    "magmasets = magmasets[(magmasets$gwasAcronym %in% names(trait_info)),]\n",
    "magmasets = magmasets[order(magmasets$gwasAcronym),]\n",
    "magmasets$sumstatName = magmasets$gwasAcronym\n",
    "magmasets$sumstatName = ordered(magmasets$sumstatName, levels=rev(names(trait_info)))\n",
    "magmasets$annoName = factor(magmasets$VARIABLE, levels = sort(unique(magmasets$VARIABLE)))\n",
    "magmasets$tempScoreCol = magmasets$LogP\n",
    "\n",
    "pdf(\"files/traDEGs/qvalue0.05_moran0.05/oligo_degs_ks_2_magma.pdf\", width = 7.5, height = 7.5)\n",
    "magma_heatmap(magmasets, plotCol=\"LogP\", markNominallySignificant=T)\n",
    "dev.off()"
   ]
  },
  {
   "cell_type": "markdown",
   "id": "499b8ed6-9a5c-45f0-a6b6-4df66df4b81e",
   "metadata": {},
   "source": [
    "## Excitatory neuron"
   ]
  },
  {
   "cell_type": "markdown",
   "id": "01230469-9755-4c62-b396-ac9ca2579452",
   "metadata": {},
   "source": [
    "### Load data"
   ]
  },
  {
   "cell_type": "code",
   "execution_count": null,
   "id": "42e29b8c-2083-420f-87a6-df96679b02c2",
   "metadata": {
    "scrolled": true
   },
   "outputs": [],
   "source": [
    "cds_EN <- readRDS(\"integrated_EN_con_afterCombination_cds_compressed.RDS\") # This file can be download from Synapse: syn62283906\n",
    "cds_EN"
   ]
  },
  {
   "cell_type": "code",
   "execution_count": null,
   "id": "04484fdb-9728-4431-824e-5323cd87e7a3",
   "metadata": {},
   "outputs": [],
   "source": [
    "names(cds_EN@lineages)"
   ]
  },
  {
   "cell_type": "markdown",
   "id": "30e78bca-24ce-409a-963c-058ac147144a",
   "metadata": {},
   "source": [
    "### Merge DEGs"
   ]
  },
  {
   "cell_type": "code",
   "execution_count": null,
   "id": "3872d4ee-dd9e-4d03-b4bf-a1a8c0548fe6",
   "metadata": {},
   "outputs": [],
   "source": [
    "DEGs_EN <- c()\n",
    "for(sub_trajectory in names(cds_EN@lineages)){\n",
    "    data <- read.table(paste0(\"files/traDEGs/EN_traDEG_\", sub_trajectory,\".txt\"))\n",
    "    DEGs_EN <- c(DEGs_EN, rownames(data[data$q_value < 0.05 & data$morans_I >= 0.05, ]))\n",
    "}\n",
    "DEGs_EN <- unique(DEGs_EN)\n",
    "length(DEGs_EN)"
   ]
  },
  {
   "cell_type": "markdown",
   "id": "0746f4df-fee9-49f6-b2cb-f98004365f44",
   "metadata": {},
   "source": [
    "### Obtain fitted matrix"
   ]
  },
  {
   "cell_type": "code",
   "execution_count": null,
   "id": "fa038265-2038-45a9-9f15-bbf556df8114",
   "metadata": {
    "scrolled": true
   },
   "outputs": [],
   "source": [
    "cds_EN_scale_start <- adjust_fitted_matrix(cds_EN)\n",
    "merged_EN_scale_start <- t(do.call(rbind, cds_EN_scale_start@expectation))\n",
    "merged_EN_scale_start <- merged_EN_scale_start[DEGs_EN, ]\n",
    "merged_EN_scale_start"
   ]
  },
  {
   "cell_type": "markdown",
   "id": "ffd4a3c0-f469-4119-9ab8-3cbe0b00e799",
   "metadata": {},
   "source": [
    "### 8 groups"
   ]
  },
  {
   "cell_type": "code",
   "execution_count": null,
   "id": "2b703947-acc2-43a1-a0d8-48c379e22e62",
   "metadata": {
    "scrolled": true
   },
   "outputs": [],
   "source": [
    "ks_8_EN_term_3 <- cluster_and_func_enrich(fitted_mat = merged_EN_scale_start, n_tree = 8, \n",
    "                                          pseudo_range = sapply(cds_EN_scale_start@pseudotime, \"max\"), \n",
    "                                          lineages = names(cds_EN@lineages), \n",
    "                                          branches = c(rep(\"Deep-non-IT\", 1500), rep(\"Deep-IT\", 1000), rep(\"Upper-IT\", 2000)), \n",
    "                                          n_metacell = 500, n_term = 3, n_char = 100, \n",
    "                                          out_label = \"files/traDEGs/qvalue0.05_moran0.05/EN\", \n",
    "                                          width = 10, \n",
    "                                          height = 12)"
   ]
  },
  {
   "cell_type": "markdown",
   "id": "5ea032ee-c1c5-46e7-a12f-7445e2d80eb7",
   "metadata": {},
   "source": [
    "#### MAGMA"
   ]
  },
  {
   "cell_type": "code",
   "execution_count": null,
   "id": "4733738d-ebad-4c6a-a46a-dcfdcf8faf7a",
   "metadata": {
    "scrolled": true
   },
   "outputs": [],
   "source": [
    "magmasets <- readr::read_tsv(\"files/traDEGs/qvalue0.05_moran0.05/MAGMA_EN_ks_8/meta-files/geneSetResults.tsv.gz\")\n",
    "ngenes = lapply(unique(magmasets$VARIABLE), function(x) round(mean(magmasets[magmasets$VARIABLE==x,\"NGENES\"])))\n",
    "names(ngenes) = unique(magmasets$VARIABLE)\n",
    "\n",
    "magmasets = magmasets[(magmasets$gwasAcronym %in% names(trait_info)),]\n",
    "magmasets = magmasets[order(magmasets$gwasAcronym),]\n",
    "magmasets$sumstatName = magmasets$gwasAcronym\n",
    "magmasets$sumstatName = ordered(magmasets$sumstatName, levels=rev(names(trait_info)))\n",
    "magmasets$annoName = factor(magmasets$VARIABLE, levels = sort(unique(magmasets$VARIABLE)))\n",
    "magmasets$tempScoreCol = magmasets$LogP\n",
    "\n",
    "pdf(\"files/traDEGs/qvalue0.05_moran0.05/en_degs_ks_8_magma.pdf\", width = 7.5, height = 7.5)\n",
    "magma_heatmap(magmasets, plotCol=\"LogP\", markNominallySignificant=T)\n",
    "dev.off()"
   ]
  },
  {
   "cell_type": "markdown",
   "id": "5af028e3-a508-4b55-8c55-6bfee321b0ed",
   "metadata": {},
   "source": [
    "## Inhibitory neuron"
   ]
  },
  {
   "cell_type": "markdown",
   "id": "6cc637c2-f2f4-455c-b589-500a22d4a9d8",
   "metadata": {},
   "source": [
    "### Load data"
   ]
  },
  {
   "cell_type": "code",
   "execution_count": null,
   "id": "212f3edc-392e-4821-a66b-157f2fd2e60a",
   "metadata": {
    "scrolled": true
   },
   "outputs": [],
   "source": [
    "cds_IN <- readRDS(\"integrated_IN_con_afterCombination_cds_compressed.RDS\") # This file can be download from Synapse: syn62283892\n",
    "cds_IN\n",
    "names(cds_IN@lineages)"
   ]
  },
  {
   "cell_type": "markdown",
   "id": "b99e6e9f-0e8c-40c1-804c-198408dfa13e",
   "metadata": {},
   "source": [
    "### Merge DEGs"
   ]
  },
  {
   "cell_type": "code",
   "execution_count": null,
   "id": "6e723e1c-d4bf-45ba-977d-4375c617b99a",
   "metadata": {},
   "outputs": [],
   "source": [
    "DEGs_IN <- c()\n",
    "for(sub_trajectory in names(cds_IN@lineages)){\n",
    "    data <- read.table(paste0(\"files/traDEGs/IN_traDEG_\", sub_trajectory,\".txt\"))\n",
    "    DEGs_IN <- c(DEGs_IN, rownames(data[data$q_value < 0.05 & data$morans_I >= 0.05, ]))\n",
    "}\n",
    "DEGs_IN <- unique(DEGs_IN)\n",
    "length(DEGs_IN)"
   ]
  },
  {
   "cell_type": "markdown",
   "id": "5bbe1b64-016a-4c17-803c-aae605b5763e",
   "metadata": {},
   "source": [
    "### Obtain fitted matrix"
   ]
  },
  {
   "cell_type": "code",
   "execution_count": null,
   "id": "781c962b-7b82-4f6c-a54b-29803d67cc0c",
   "metadata": {
    "scrolled": true
   },
   "outputs": [],
   "source": [
    "cds_IN_scale_start <- adjust_fitted_matrix(cds_IN)\n",
    "merged_IN_scale_start <- t(do.call(rbind, cds_IN_scale_start@expectation))\n",
    "merged_IN_scale_start <- merged_IN_scale_start[DEGs_IN, ]\n",
    "merged_IN_scale_start"
   ]
  },
  {
   "cell_type": "markdown",
   "id": "d95e5692-253a-4ca2-b48c-6deb769473c9",
   "metadata": {},
   "source": [
    "### 8 groups"
   ]
  },
  {
   "cell_type": "code",
   "execution_count": null,
   "id": "bc9b3f18-e180-47ba-87b3-ed8c73d0a886",
   "metadata": {
    "scrolled": true
   },
   "outputs": [],
   "source": [
    "ks_8_IN_term_3 <- cluster_and_func_enrich(fitted_mat = merged_IN_scale_start, n_tree = 8, \n",
    "                                          pseudo_range = sapply(cds_IN_scale_start@pseudotime, \"max\"), \n",
    "                                          lineages = names(cds_IN@lineages), \n",
    "                                          branches = c(rep(\"MGE\", 1500), rep(\"CGE\", 4000)), \n",
    "                                          n_metacell = 500, n_term = 3, n_char = 100, \n",
    "                                          out_label = \"files/traDEGs/qvalue0.05_moran0.05/IN\", \n",
    "                                          width = 30, \n",
    "                                          height = 12)"
   ]
  },
  {
   "cell_type": "code",
   "execution_count": null,
   "id": "765d34f6-ae5f-4006-b178-d84a7fcf09cc",
   "metadata": {},
   "outputs": [],
   "source": [
    "names(cds_IN@lineages)"
   ]
  },
  {
   "cell_type": "markdown",
   "id": "3c978189-7e51-46db-8651-6e62e5b69e63",
   "metadata": {},
   "source": [
    "#### MAGMA"
   ]
  },
  {
   "cell_type": "code",
   "execution_count": null,
   "id": "a139378c-5b7f-41c4-8717-e2b1989806e9",
   "metadata": {
    "scrolled": true
   },
   "outputs": [],
   "source": [
    "magmasets <- readr::read_tsv(\"files/traDEGs/qvalue0.05_moran0.05/MAGMA_IN_ks_8/meta-files/geneSetResults.tsv.gz\")\n",
    "ngenes = lapply(unique(magmasets$VARIABLE), function(x) round(mean(magmasets[magmasets$VARIABLE==x,\"NGENES\"])))\n",
    "names(ngenes) = unique(magmasets$VARIABLE)\n",
    "\n",
    "magmasets = magmasets[(magmasets$gwasAcronym %in% names(trait_info)),]\n",
    "magmasets = magmasets[order(magmasets$gwasAcronym),]\n",
    "magmasets$sumstatName = magmasets$gwasAcronym\n",
    "magmasets$sumstatName = ordered(magmasets$sumstatName, levels=rev(names(trait_info)))\n",
    "magmasets$annoName = factor(magmasets$VARIABLE, levels = sort(unique(magmasets$VARIABLE)))\n",
    "magmasets$tempScoreCol = magmasets$LogP\n",
    "\n",
    "pdf(\"files/traDEGs/qvalue0.05_moran0.05/in_degs_ks_8_magma.pdf\", width = 7.5, height = 7.5)\n",
    "magma_heatmap(magmasets, plotCol=\"LogP\", markNominallySignificant=T)\n",
    "dev.off()"
   ]
  }
 ],
 "metadata": {
  "kernelspec": {
   "display_name": "R (monocle3)",
   "language": "R",
   "name": "r_env_monocle3"
  },
  "language_info": {
   "codemirror_mode": "r",
   "file_extension": ".r",
   "mimetype": "text/x-r-source",
   "name": "R",
   "pygments_lexer": "r",
   "version": "4.2.3"
  }
 },
 "nbformat": 4,
 "nbformat_minor": 5
}
