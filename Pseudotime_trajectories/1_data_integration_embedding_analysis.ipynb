{
 "cells": [
  {
   "cell_type": "markdown",
   "id": "f86b674d-487e-426c-b56e-c5c2ddd66bfa",
   "metadata": {},
   "source": [
    "# Load packages"
   ]
  },
  {
   "cell_type": "code",
   "execution_count": null,
   "id": "27adcab2-a5cf-448c-9aa5-e8bf28654eb6",
   "metadata": {
    "scrolled": true
   },
   "outputs": [],
   "source": [
    "import sys\n",
    "import os\n",
    "import scanpy as sc\n",
    "import numpy as np\n",
    "import pandas as pd\n",
    "import seaborn as sns\n",
    "import matplotlib.pyplot as plt\n",
    "from matplotlib.pyplot import rc_context\n",
    "\n",
    "# Set up the Synapse client\n",
    "from synapseclient import Synapse\n",
    "syn = Synapse()\n",
    "syn.login()  # Assuming you're already logged in or have set up your credentials\n",
    "\n",
    "# Set up work path\n",
    "data_dir='Pseudotime_trajectories'\n",
    "os.chdir(data_dir)\n",
    "\n",
    "# Inital setting for plot size\n",
    "from matplotlib import rcParams\n",
    "FIGSIZE=(6, 6)\n",
    "rcParams['figure.figsize']=FIGSIZE\n",
    "\n",
    "sc.settings.verbosity = 1\n",
    "sc.logging.print_header()\n",
    "# set number of cores to use\n",
    "sc.settings.n_jobs = 25\n",
    "sc.settings.set_figure_params( dpi=300, fontsize=6)"
   ]
  },
  {
   "cell_type": "markdown",
   "id": "7038c4e5-2092-4386-9c0c-b17b00dde5e7",
   "metadata": {},
   "source": [
    "# Load functions"
   ]
  },
  {
   "cell_type": "markdown",
   "id": "ea19f259-aaeb-44d6-8bfb-7f16421c09b2",
   "metadata": {},
   "source": [
    "## Initial settings: color, order, traits"
   ]
  },
  {
   "cell_type": "code",
   "execution_count": null,
   "id": "6c801efe-8332-42ce-829e-d983b4c904c5",
   "metadata": {},
   "outputs": [],
   "source": [
    "from initial_settings import *"
   ]
  },
  {
   "cell_type": "markdown",
   "id": "e48d8048-7716-46af-8316-d1a4adc54774",
   "metadata": {},
   "source": [
    "## Similarity of cell type"
   ]
  },
  {
   "cell_type": "code",
   "execution_count": null,
   "id": "57c25d17-2e4f-42d8-acdf-d5aeacd58863",
   "metadata": {},
   "outputs": [],
   "source": [
    "import similarity_cell_type"
   ]
  },
  {
   "cell_type": "markdown",
   "id": "7ee6046a-bfa9-4db0-8dd1-6a2fd4a118b6",
   "metadata": {},
   "source": [
    "# Whole data analysis"
   ]
  },
  {
   "cell_type": "code",
   "execution_count": null,
   "id": "d814edfe-47db-4541-840b-2a511fa788e1",
   "metadata": {},
   "outputs": [],
   "source": [
    "!wget -q \"https://storage.googleapis.com/neuro-dev/Processed_data/RNA-all_full-counts-and-downsampled-CPM.h5ad\" -O lister_processed.h5ad"
   ]
  },
  {
   "cell_type": "code",
   "execution_count": null,
   "id": "cdcbcf05-a2cf-4567-8c2d-9a14d32fd989",
   "metadata": {
    "scrolled": true
   },
   "outputs": [],
   "source": [
    "ad_lister = sc.read('lister_processed.h5ad')\n",
    "ad_lister.obs['SubID'] = ad_lister.obs['batch']\n",
    "ad_lister.obs['Age'] = ad_lister.obs['age']\n",
    "ad_lister.write('lister_processed.h5ad')"
   ]
  },
  {
   "cell_type": "code",
   "execution_count": null,
   "id": "fe844200-6a39-4b32-818b-a52dfe177153",
   "metadata": {
    "scrolled": true
   },
   "outputs": [],
   "source": [
    "%%sh\n",
    "\n",
    "python data_integration_and_embeddings_calculation.py \\\n",
    "-i inhouse_data.h5ad@lister_processed.h5ad \\\n",
    "-r 123456 \\\n",
    "-b Aging@Lister \\\n",
    "-o integrated \\\n",
    "-d 1000 \\\n",
    "-v scanpy@6000 \\\n",
    "-p half \\\n",
    "-n 100 \\\n",
    "-k no"
   ]
  },
  {
   "cell_type": "markdown",
   "id": "06902f70-0a46-4d51-85c1-b5c48b1ec170",
   "metadata": {},
   "source": [
    "# Data visualization"
   ]
  },
  {
   "cell_type": "code",
   "execution_count": null,
   "id": "24f4efa4-4be6-4988-974e-e1306f524b40",
   "metadata": {},
   "outputs": [],
   "source": [
    "adata = sc.read('integrated_adata.h5ad')\n",
    "\n",
    "# Alternative download from synapse\n",
    "syn62289304 = syn.get(entity=\"syn62289304\", downloadLocation=data_dir)\n",
    "ad = sc.read(syn62289304)"
   ]
  },
  {
   "cell_type": "markdown",
   "id": "43993655-72e9-4352-b813-d5b4e5d1d162",
   "metadata": {},
   "source": [
    "## Nuclei counts along age groups"
   ]
  },
  {
   "cell_type": "code",
   "execution_count": null,
   "id": "4b1ab616-0e7b-4774-884c-a74060e5da80",
   "metadata": {
    "scrolled": true
   },
   "outputs": [],
   "source": [
    "import seaborn as sns\n",
    "import matplotlib.pyplot as plt\n",
    "\n",
    "data = ad.obs[['Batch', 'numerical_age', 'stage_id']]\n",
    "\n",
    "# Set up the plot\n",
    "g = sns.FacetGrid(data, row=\"Batch\", col=\"stage_id\", hue=\"stage_id\", aspect=1, height=2, palette=colors_stage_id, col_order=stage_id_order, sharex=False, sharey=False)\n",
    "\n",
    "# Define a function to handle histplot\n",
    "def safe_histplot(data, **kwargs):\n",
    "    try:\n",
    "        if len(data) > 0:\n",
    "            sns.histplot(data, **kwargs)\n",
    "    except ValueError as e:\n",
    "        print(f\"ValueError: {e} for batch: {data['Batch'].iloc[0]} and stage_id: {data['stage_id'].iloc[0]}\")\n",
    "    \n",
    "g.map_dataframe(safe_histplot, x='numerical_age', multiple=\"stack\")\n",
    "g.set_axis_labels(\"Numerical Age\", \"Nuclei Count Density\")\n",
    "g.set_titles(col_template='{col_name}', row_template='{row_name}')\n",
    "g.add_legend(title=\"Stage ID\")\n",
    "\n",
    "# Customize y-axis and x-axis limits for each row and column\n",
    "xlims = {'Fetal': (-0.5, 0), \n",
    "         'Neonatal': (0, 0.164), \n",
    "         'Infancy': (0.164, 1), \n",
    "         'Childhood': (1, 12), \n",
    "         'Adolescence': (12, 20), \n",
    "         'Young_Adulthood': (20, 40), \n",
    "         'Middle_Adulthood': (40, 60), \n",
    "         'Late_Adulthood': (60, 100)}\n",
    "\n",
    "for (batch, stage_id), ax in g.axes_dict.items():\n",
    "    if batch == 'Aging':\n",
    "        ax.set_ylim(0, 50000)\n",
    "    elif batch == 'Lister':\n",
    "        ax.set_ylim(0, 20000)\n",
    "\n",
    "    # Set specific x-limits based on stage_id\n",
    "    if stage_id in xlims:\n",
    "        ax.set_xlim(xlims[stage_id])\n",
    "\n",
    "    # Remove grid lines\n",
    "    ax.grid(False)\n",
    "\n",
    "    # Add padding (white space) by setting the axis limits slightly beyond the data range\n",
    "    x_min, x_max = ax.get_xlim()\n",
    "    y_min, y_max = ax.get_ylim()\n",
    "    ax.set_xlim(x_min - 0.05 * (x_max - x_min), x_max + 0.05 * (x_max - x_min))\n",
    "    ax.set_ylim(y_min - 0.05 * (y_max - y_min), y_max + 0.05 * (y_max - y_min))\n",
    "\n",
    "# Save the figure\n",
    "plt.savefig(\"files/figures/nuclei_counts_distribution.pdf\", bbox_inches='tight')\n"
   ]
  },
  {
   "cell_type": "markdown",
   "id": "b5ef68ee-a1d6-40bf-9426-44c2ffc56b9a",
   "metadata": {},
   "source": [
    "## UMAP"
   ]
  },
  {
   "cell_type": "markdown",
   "id": "28e34390-e017-4fb0-a630-9c1cce2e5a70",
   "metadata": {},
   "source": [
    "### Batch"
   ]
  },
  {
   "cell_type": "code",
   "execution_count": null,
   "id": "17c42795-8419-4ca8-bf40-591fa83131e9",
   "metadata": {
    "scrolled": true
   },
   "outputs": [],
   "source": [
    "with rc_context({'figure.figsize': (6, 6)}):\n",
    "    sc.pl.embedding(ad, basis = 'umap', color='Batch', add_outline=True,cmap='vlag',#legend_loc='on data',\n",
    "               legend_fontsize=10, legend_fontoutline=2,frameon=False,palette=colors_batch,\n",
    "               outline_width=(0.5, 0.3), vmin=0, vmax=1,size=1,\n",
    "               return_fig=True)\n",
    "\n",
    "plt.savefig('files/figures/integrated_data_umap_batch.pdf', transparent=True, format='pdf')"
   ]
  },
  {
   "cell_type": "markdown",
   "id": "7ad9c542-78f2-4f26-8dd3-2d4c4e09e945",
   "metadata": {
    "execution": {
     "iopub.execute_input": "2024-08-04T22:10:31.398860Z",
     "iopub.status.busy": "2024-08-04T22:10:31.398500Z",
     "iopub.status.idle": "2024-08-04T22:10:36.429456Z",
     "shell.execute_reply": "2024-08-04T22:10:36.428985Z",
     "shell.execute_reply.started": "2024-08-04T22:10:31.398844Z"
    },
    "scrolled": true
   },
   "source": [
    "### cell_type_uni"
   ]
  },
  {
   "cell_type": "code",
   "execution_count": null,
   "id": "b6c68ced-380e-48b5-8642-28ad8f89a85b",
   "metadata": {
    "scrolled": true
   },
   "outputs": [],
   "source": [
    "with rc_context({'figure.figsize': (6, 6)}):\n",
    "    sc.pl.embedding(ad, basis = 'umap', color='cell_type_uni', add_outline=True,cmap='vlag',#legend_loc='on data',\n",
    "               legend_fontsize=10, legend_fontoutline=2,frameon=False,palette=colors_class,\n",
    "               outline_width=(0.5, 0.3), vmin=0, vmax=1,size=1,\n",
    "               return_fig=True)\n",
    "plt.savefig('files/figures/integrated_data_umap_cell_type_uni.pdf', transparent=True, format='pdf')"
   ]
  },
  {
   "cell_type": "markdown",
   "id": "f812096a-052c-43e7-aa03-b2efe5d0b1ca",
   "metadata": {
    "execution": {
     "iopub.execute_input": "2024-08-04T21:59:59.508542Z",
     "iopub.status.busy": "2024-08-04T21:59:59.508339Z",
     "iopub.status.idle": "2024-08-04T21:59:59.511425Z",
     "shell.execute_reply": "2024-08-04T21:59:59.511042Z",
     "shell.execute_reply.started": "2024-08-04T21:59:59.508528Z"
    }
   },
   "source": [
    "### stage_id"
   ]
  },
  {
   "cell_type": "code",
   "execution_count": null,
   "id": "b4536731-a96c-451c-bec9-1559af0cbeda",
   "metadata": {
    "scrolled": true
   },
   "outputs": [],
   "source": [
    "from pandas.api.types import CategoricalDtype\n",
    "ad.obs['stage_id_ord'] = ad.obs['stage_id']\n",
    "cat_dtype = CategoricalDtype(categories=ad.uns['stage_order'], ordered=True)\n",
    "ad.obs['stage_id_ord'] = ad.obs['stage_id_ord'].astype(cat_dtype)\n",
    "\n",
    "with rc_context({'figure.figsize': (6, 6)}):\n",
    "    sc.pl.embedding(ad, basis = 'umap', color='stage_id_ord', add_outline=True,cmap='vlag',#legend_loc='on data',\n",
    "               legend_fontsize=10, legend_fontoutline=2,frameon=False,palette=colors_stage_id,\n",
    "               outline_width=(0.5, 0.3), vmin=0, vmax=1,size=1,\n",
    "               return_fig=True)\n",
    "plt.savefig('files/figures/integrated_data_umap_stage_id_ord.pdf', transparent=True, format='pdf')"
   ]
  },
  {
   "cell_type": "markdown",
   "id": "089cbdc1-9ef9-47a1-8ef4-7db8b5ac79c9",
   "metadata": {},
   "source": [
    "## UMAT"
   ]
  },
  {
   "cell_type": "markdown",
   "id": "0b05ac0a-2a2d-4df0-94c6-cb639cbd519e",
   "metadata": {},
   "source": [
    "### Batch"
   ]
  },
  {
   "cell_type": "code",
   "execution_count": null,
   "id": "d92f4a63-8832-4a86-8d01-eea9b6b6d4c6",
   "metadata": {
    "scrolled": true
   },
   "outputs": [],
   "source": [
    "with rc_context({'figure.figsize': (6, 6)}):\n",
    "    sc.pl.embedding(ad, basis = 'umat', color='Batch', add_outline=True,cmap='vlag',#legend_loc='on data',\n",
    "               legend_fontsize=10, legend_fontoutline=2,frameon=False,palette=colors_batch,\n",
    "               outline_width=(0.5, 0.3), vmin=0, vmax=1,size=1,\n",
    "               return_fig=True)\n",
    "\n",
    "plt.savefig('files/figures/integrated_data_umat_batch.pdf', transparent=True, format='pdf')"
   ]
  },
  {
   "cell_type": "markdown",
   "id": "a4b8a4dd-0f6c-4e8c-b91a-dc3d0afe9229",
   "metadata": {},
   "source": [
    "### cell_type_uni"
   ]
  },
  {
   "cell_type": "code",
   "execution_count": null,
   "id": "9f3606d3-0da3-4e0c-92c6-524ed71c3ab8",
   "metadata": {
    "scrolled": true
   },
   "outputs": [],
   "source": [
    "with rc_context({'figure.figsize': (6, 6)}):\n",
    "    sc.pl.embedding(ad, basis = 'umat', color='cell_type_uni', add_outline=True,cmap='vlag',#legend_loc='on data',\n",
    "               legend_fontsize=10, legend_fontoutline=2,frameon=False,palette=colors_class,\n",
    "               outline_width=(0.5, 0.3), vmin=0, vmax=1,size=1,\n",
    "               return_fig=True)\n",
    "plt.savefig('files/figures/integrated_data_umat_cell_type_uni.pdf', transparent=True, format='pdf')"
   ]
  },
  {
   "cell_type": "markdown",
   "id": "2c27e798-1fcc-4a79-9bd5-470e641fe07e",
   "metadata": {},
   "source": [
    "### stage_id"
   ]
  },
  {
   "cell_type": "code",
   "execution_count": null,
   "id": "e9072925-137e-4865-a68a-febdcd0661d3",
   "metadata": {
    "scrolled": true
   },
   "outputs": [],
   "source": [
    "with rc_context({'figure.figsize': (6, 6)}):\n",
    "    sc.pl.embedding(ad, basis = 'umat', color='stage_id_ord', add_outline=True,cmap='vlag',#legend_loc='on data',\n",
    "               legend_fontsize=10, legend_fontoutline=2,frameon=False,palette=colors_stage_id,\n",
    "               outline_width=(0.5, 0.3), vmin=0, vmax=1,size=1,\n",
    "               return_fig=True)\n",
    "plt.savefig('files/figures/integrated_data_umat_stage_id_ord.pdf', transparent=True, format='pdf')"
   ]
  },
  {
   "cell_type": "markdown",
   "id": "c6deb2d2-7a8d-4113-8056-dfa29d4b99d3",
   "metadata": {},
   "source": [
    "## Similarity of cell type"
   ]
  },
  {
   "cell_type": "code",
   "execution_count": null,
   "id": "1439cb8b-e763-4faa-b196-90611aec8bc0",
   "metadata": {
    "scrolled": true
   },
   "outputs": [],
   "source": [
    "similarity_cell_type.similarity_cell_type_all(ad, 'cell_type_uni', 'Integrated_cell_type_uni', 10, 'files/figures/integrated_data_similarity_two_cohorts_cell_type_uni_all.pdf')\n"
   ]
  }
 ],
 "metadata": {
  "kernelspec": {
   "display_name": "Python 3 (ipykernel)",
   "language": "python",
   "name": "python3"
  },
  "language_info": {
   "codemirror_mode": {
    "name": "ipython",
    "version": 3
   },
   "file_extension": ".py",
   "mimetype": "text/x-python",
   "name": "python",
   "nbconvert_exporter": "python",
   "pygments_lexer": "ipython3",
   "version": "3.9.16"
  }
 },
 "nbformat": 4,
 "nbformat_minor": 5
}
