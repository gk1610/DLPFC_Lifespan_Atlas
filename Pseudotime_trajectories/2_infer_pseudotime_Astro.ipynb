{
 "cells": [
  {
   "cell_type": "markdown",
   "id": "b9d9132a-1d93-4a45-a56c-5d56d02c89ef",
   "metadata": {},
   "source": [
    "# Load packages"
   ]
  },
  {
   "cell_type": "code",
   "execution_count": null,
   "id": "f74116aa-517f-4a11-9c25-21f258d0c7d9",
   "metadata": {
    "scrolled": true
   },
   "outputs": [],
   "source": [
    "import sys\n",
    "import scanpy as sc\n",
    "import numpy as np\n",
    "import pandas as pd\n",
    "import seaborn as sns\n",
    "import matplotlib.pyplot as plt\n",
    "from matplotlib.pyplot import rc_context\n",
    "from matplotlib.colors import LinearSegmentedColormap\n",
    "from sklearn.metrics.pairwise import cosine_similarity\n",
    "\n",
    "# Inital setting for plot size\n",
    "from matplotlib import rcParams\n",
    "FIGSIZE=(6, 6)\n",
    "rcParams['figure.figsize']=FIGSIZE\n",
    "\n",
    "sc.settings.verbosity = 1\n",
    "# set number of cores to use\n",
    "sc.settings.n_jobs = 25\n",
    "sc.settings.set_figure_params( dpi=300, fontsize=6)\n",
    "sc.logging.print_header()"
   ]
  },
  {
   "cell_type": "markdown",
   "id": "08441477-9405-4f95-a773-27d0ea743570",
   "metadata": {},
   "source": [
    "# Load python functions"
   ]
  },
  {
   "cell_type": "markdown",
   "id": "46afa93a-2194-4d87-b752-f5b0b7516352",
   "metadata": {},
   "source": [
    "## Initial settings: color, order, trait"
   ]
  },
  {
   "cell_type": "code",
   "execution_count": null,
   "id": "d1fa46b7-e129-48b5-9a14-5f723d8625a5",
   "metadata": {},
   "outputs": [],
   "source": [
    "sys.path.append('scripts')\n",
    "from initial_settings import *"
   ]
  },
  {
   "cell_type": "markdown",
   "id": "42b7e020-e0b8-4165-9bfe-b4e903a9d842",
   "metadata": {},
   "source": [
    "## Similarity of cell type"
   ]
  },
  {
   "cell_type": "code",
   "execution_count": null,
   "id": "2eb45c3d-763c-42f7-8f47-126d366664e9",
   "metadata": {},
   "outputs": [],
   "source": [
    "import similarity_cell_type"
   ]
  },
  {
   "cell_type": "markdown",
   "id": "74f5f0c8-66e7-4055-8302-183def5aa28d",
   "metadata": {},
   "source": [
    "# Load R libraries"
   ]
  },
  {
   "cell_type": "code",
   "execution_count": null,
   "id": "fa84cd15-c6cb-4bc3-b3bd-5e790ab03c46",
   "metadata": {
    "scrolled": true
   },
   "outputs": [],
   "source": [
    "# monocle3 conda environment\n",
    "# Load libraries\n",
    "library(Seurat)\n",
    "library(Signac)\n",
    "library(ggplot2)\n",
    "library(dplyr)\n",
    "library(zellkonverter)\n",
    "set.seed(222)\n",
    "library(RColorBrewer)\n",
    "library(viridis)\n",
    "library(monocle3)\n",
    "library(tidyselect)\n",
    "library(grid)\n",
    "library(mgcv)\n",
    "library(colorspace)\n",
    "library(ggrepel)\n",
    "library(igraph)\n",
    "library(pbapply)\n",
    "library(devtools)\n",
    "library(parallel)\n",
    "library(evobiR)\n",
    "library(tidyr)\n",
    "library(cluster)\n",
    "library(grDevices)\n",
    "library(repr)\n",
    "library(zoo)\n",
    "library(ggnewscale)\n",
    "library(VennDiagram)\n",
    "library(ggridges)"
   ]
  },
  {
   "cell_type": "code",
   "execution_count": null,
   "id": "df4c99cf-53a7-4e6e-9480-5835c7e96b5e",
   "metadata": {
    "scrolled": true
   },
   "outputs": [],
   "source": [
    "# R (Py39_R43_Ju10) for pseudotime UMAT visualization\n",
    "library(monocle3)\n",
    "library(ggplot2)\n",
    "library(cowplot)"
   ]
  },
  {
   "cell_type": "markdown",
   "id": "2e3aea0d-1114-4ce0-bc15-c3627ccabe2d",
   "metadata": {},
   "source": [
    "# Load R functions"
   ]
  },
  {
   "cell_type": "markdown",
   "id": "4dd6b8c0-b1af-4f13-9506-3c6c54d831d6",
   "metadata": {},
   "source": [
    "## Initial settings: color, order, trait"
   ]
  },
  {
   "cell_type": "code",
   "execution_count": null,
   "id": "338769df-a44c-4496-a349-5ad8a9af3387",
   "metadata": {},
   "outputs": [],
   "source": [
    "source(\"scripts/initial_settings.r\")"
   ]
  },
  {
   "cell_type": "markdown",
   "id": "529c2dee-7c52-442c-ab0b-fca266eb515c",
   "metadata": {},
   "source": [
    "## Load trajectory reconstruction and downstream analysis based on Kriegstein scripts"
   ]
  },
  {
   "cell_type": "code",
   "execution_count": null,
   "id": "426beffd-5c3f-44bd-b5d8-359fc7e91ad2",
   "metadata": {},
   "outputs": [],
   "source": [
    "source(\"scripts/trajectory_reconstruction.r\")"
   ]
  },
  {
   "cell_type": "markdown",
   "id": "61bc68e0-baf2-47ab-9b60-abf19e61505c",
   "metadata": {},
   "source": [
    "## Load defined functions"
   ]
  },
  {
   "cell_type": "code",
   "execution_count": null,
   "id": "2ffc0eb7-0eb7-4855-9bf3-bd34d76b5fdd",
   "metadata": {},
   "outputs": [],
   "source": [
    "source(\"scripts/functions.r\")"
   ]
  },
  {
   "cell_type": "markdown",
   "id": "9702fce3-2ac8-4cbe-8593-caae901b6cbe",
   "metadata": {},
   "source": [
    "# Load data"
   ]
  },
  {
   "cell_type": "code",
   "execution_count": null,
   "id": "7c979c3a-4e7e-4bfc-84fe-60b2d68fac22",
   "metadata": {
    "scrolled": true
   },
   "outputs": [],
   "source": [
    "adata = sc.read('files/integrated_adata.h5ad')\n",
    "adata # 1,454,617 × 16,416"
   ]
  },
  {
   "cell_type": "markdown",
   "id": "b109a22b-0d81-4212-be58-17a7d1650ebb",
   "metadata": {},
   "source": [
    "## Extract cells from astrocyte"
   ]
  },
  {
   "cell_type": "code",
   "execution_count": null,
   "id": "75a3181f-7998-4e0c-a8a8-9983b6cca807",
   "metadata": {
    "scrolled": true
   },
   "outputs": [],
   "source": [
    "ad_ast = adata[adata.obs['cell_type_uni'] == 'Astro', :]\n",
    "ad_ast # 173,622 × 16,416"
   ]
  },
  {
   "cell_type": "code",
   "execution_count": null,
   "id": "6108a869-18ba-40a8-abef-161c402f1b7c",
   "metadata": {},
   "outputs": [],
   "source": [
    "ad_ast.write('files/integrated_AST.h5ad')"
   ]
  },
  {
   "cell_type": "markdown",
   "id": "315cf1c3-a61d-4efd-ac7b-7abbbfab05e3",
   "metadata": {},
   "source": [
    "### Cell type similarity between two cohorts"
   ]
  },
  {
   "cell_type": "code",
   "execution_count": null,
   "id": "594ec6fb-f458-4b00-8fd8-23466052976a",
   "metadata": {
    "scrolled": true
   },
   "outputs": [],
   "source": [
    "similarity_cell_type.similarity_cell_type_all(ad_ast, 'subtype_uni', 'Integrated_subtype_uni', 10, 'files/figures//ast_similarity_two_cohorts_subtype_uni_all.pdf')"
   ]
  },
  {
   "cell_type": "markdown",
   "id": "a4405f31-90b0-4a3f-af63-f60775fdac3f",
   "metadata": {},
   "source": [
    "# Basic UMAP and UMAT analysis"
   ]
  },
  {
   "cell_type": "code",
   "execution_count": null,
   "id": "f6cae770-a17b-4913-8f8c-92324279085b",
   "metadata": {},
   "outputs": [],
   "source": [
    "%%sh\n",
    "\n",
    "python ${dataPATH}/scripts/lineage_analysis_embeddings_calculation.py \\\n",
    "-l ${dataPATH}/files/integrated_AST.h5ad \\\n",
    "-r 123456 \\\n",
    "-v scanpy@6000 \\\n",
    "-p half \\\n",
    "-n 100 \\\n",
    "-o ${dataPATH}/files/integrated_AST_con \\\n",
    "-k no"
   ]
  },
  {
   "cell_type": "markdown",
   "id": "f227e533-4c55-4ce4-9876-bbfe2fbb20a0",
   "metadata": {},
   "source": [
    "## UMAT visualization"
   ]
  },
  {
   "cell_type": "code",
   "execution_count": null,
   "id": "ec82cc9d-9b39-4cfd-a490-599cb79e8ef5",
   "metadata": {
    "scrolled": true
   },
   "outputs": [],
   "source": [
    "adata_6k = sc.read('files/integrated_AST_clustering.h5ad')\n",
    "adata_6k # 173,622 × 16,352"
   ]
  },
  {
   "cell_type": "markdown",
   "id": "73106690-9cfe-4b36-8da6-36815b0eae77",
   "metadata": {},
   "source": [
    "### stage_id"
   ]
  },
  {
   "cell_type": "code",
   "execution_count": null,
   "id": "3e21544e-3fb2-4f8e-8f4a-da2f8501fc7c",
   "metadata": {
    "scrolled": true
   },
   "outputs": [],
   "source": [
    "from pandas.api.types import CategoricalDtype\n",
    "adata_6k.obs['stage_id_ord'] = adata_6k.obs['stage_id']\n",
    "cat_dtype = CategoricalDtype(categories=adata_6k.uns['stage_order'], ordered=True)\n",
    "adata_6k.obs['stage_id_ord'] = adata_6k.obs['stage_id_ord'].astype(cat_dtype)\n",
    "adata_6k"
   ]
  },
  {
   "cell_type": "code",
   "execution_count": null,
   "id": "b6b512e7-df19-4fb7-ac9a-d72e724e5310",
   "metadata": {
    "scrolled": true
   },
   "outputs": [],
   "source": [
    "with rc_context({'figure.figsize': (6, 6)}):\n",
    "    sc.pl.embedding(adata_6k, basis = 'umat', color='stage_id', add_outline=True,cmap='vlag',#legend_loc='on data',\n",
    "               legend_fontsize=10, legend_fontoutline=2,frameon=False,palette=colors_stage_id,\n",
    "               outline_width=(0.5, 0.3), vmin=0, vmax=1,size=8,\n",
    "               return_fig=True)\n",
    "plt.savefig('files/figures/ast_data_umat_stage_id.pdf', transparent=True, format='pdf')"
   ]
  },
  {
   "cell_type": "markdown",
   "id": "7ae884b2-53ed-4299-ba0b-32203fd62efb",
   "metadata": {},
   "source": [
    "# Pseudotime infer"
   ]
  },
  {
   "cell_type": "code",
   "execution_count": null,
   "id": "53cf78cf-af72-4d7f-a72e-f5acac13078c",
   "metadata": {
    "scrolled": true
   },
   "outputs": [],
   "source": [
    "%%sh\n",
    "\n",
    "Rscript ${dataPATH}/scripts/pseudotime_infer.r \\\n",
    "${dataPATH}/files/integrated_AST_clustering.h5ad \\\n",
    "${dataPATH}/files/integrated_AST"
   ]
  },
  {
   "cell_type": "markdown",
   "id": "fa4a6335-6482-4865-8ac7-d6e8ee5d0d63",
   "metadata": {},
   "source": [
    "## Data visualization"
   ]
  },
  {
   "cell_type": "code",
   "execution_count": null,
   "id": "f6f3d8c5-c5cc-4538-ab43-65fbd4a49852",
   "metadata": {
    "scrolled": true
   },
   "outputs": [],
   "source": [
    "cds <- readRDS(\"files/integrated_AST_beforeConstruction_cds.RDS\")\n",
    "d <- readRDS(\"files/integrated_AST_beforeConstruction_d.RDS\")\n",
    "print(cds)\n",
    "print(head(d))\n",
    "print(dim(d))"
   ]
  },
  {
   "cell_type": "markdown",
   "id": "25a952f0-12c3-4d13-b2a9-653743e7c96c",
   "metadata": {},
   "source": [
    "### subtype_uni"
   ]
  },
  {
   "cell_type": "code",
   "execution_count": null,
   "id": "47a76ae7-4400-4123-8533-7ebc83b91665",
   "metadata": {
    "scrolled": true
   },
   "outputs": [],
   "source": [
    "plot_cells(cds, color_cells_by = \"subtype_uni\", label_leaves = F, label_branch_points = F, label_principal_points = F, label_groups_by_cluster = F, group_label_size = 3)\n"
   ]
  },
  {
   "cell_type": "markdown",
   "id": "f6518dae-34bc-461b-a897-69f5b55e97eb",
   "metadata": {},
   "source": [
    "### stage_id"
   ]
  },
  {
   "cell_type": "code",
   "execution_count": null,
   "id": "aae4f50a-7e30-4009-8505-33e53f2ab4a7",
   "metadata": {
    "scrolled": true
   },
   "outputs": [],
   "source": [
    "plot_cells(cds, color_cells_by = \"stage_id\", label_leaves = F, label_branch_points = F, label_principal_points = F, label_groups_by_cluster = F)"
   ]
  },
  {
   "cell_type": "markdown",
   "id": "5e088aee-6fcb-4aa8-b255-f5aaf789893c",
   "metadata": {},
   "source": [
    "## Principle graphs"
   ]
  },
  {
   "cell_type": "markdown",
   "id": "bb2a9b3b-588c-4705-a5a7-00821dc9241b",
   "metadata": {},
   "source": [
    "### unit: 500"
   ]
  },
  {
   "cell_type": "code",
   "execution_count": null,
   "id": "11b41b58-ce57-4234-b6aa-3f3016df4075",
   "metadata": {
    "scrolled": true
   },
   "outputs": [],
   "source": [
    "for(i in seq(0, 2, 1)){\n",
    "    print(ggplot(data=d, aes(x=UMAP_1, y=UMAP_2)) + geom_point(size=0.005) + geom_text_repel(data=d[(500*i+1):min(500*(i+1), 943), ], aes(x=UMAP_1, y=UMAP_2), label=rownames(d[(500*i+1):min(500*(i+1), 943), ]), size=2, hjust = 2, color = \"red\", max.overlaps = Inf, segment.size = 0.1))\n",
    "}"
   ]
  },
  {
   "cell_type": "markdown",
   "id": "8fd53d63-8875-49a4-92aa-4d19fec3da3d",
   "metadata": {},
   "source": [
    "### unit: 200"
   ]
  },
  {
   "cell_type": "code",
   "execution_count": null,
   "id": "66b79d9b-e984-4c55-af56-ffa7b057d806",
   "metadata": {
    "scrolled": true
   },
   "outputs": [],
   "source": [
    "for(i in seq(0, 5, 1)){\n",
    "    print(ggplot(data=d, aes(x=UMAP_1, y=UMAP_2)) + geom_point(size=0.005) + geom_text_repel(data=d[(200*i+1):min(200*(i+1), 943), ], aes(x=UMAP_1, y=UMAP_2), label=rownames(d[(200*i+1):min(200*(i+1), 943), ]), size=2, hjust = 2, color = \"red\", max.overlaps = Inf, segment.size = 0.1))\n",
    "}"
   ]
  },
  {
   "cell_type": "markdown",
   "id": "3ce04427-7675-4ac9-bc58-52db3c01f23e",
   "metadata": {},
   "source": [
    "### unit: 100"
   ]
  },
  {
   "cell_type": "code",
   "execution_count": null,
   "id": "f3ca5798-5552-4cc5-b682-6be607de3cfd",
   "metadata": {
    "scrolled": true
   },
   "outputs": [],
   "source": [
    "for(i in seq(0, 10, 1)){\n",
    "    print(ggplot(data=d, aes(x=UMAP_1, y=UMAP_2)) + geom_point(size=0.005) + geom_text_repel(data=d[(100*i+1):min(100*(i+1), 943), ], aes(x=UMAP_1, y=UMAP_2), label=rownames(d[(100*i+1):min(100*(i+1), 943), ]), size=2, hjust = 2, color = \"red\", max.overlaps = Inf, segment.size = 0.1))\n",
    "}"
   ]
  },
  {
   "cell_type": "markdown",
   "id": "06021e51-237e-4d37-8290-5a6d6ec6d935",
   "metadata": {},
   "source": [
    "### unit: 50"
   ]
  },
  {
   "cell_type": "code",
   "execution_count": null,
   "id": "eab36d08-07bd-4192-913d-2a902f850181",
   "metadata": {
    "scrolled": true
   },
   "outputs": [],
   "source": [
    "for(i in seq(0, 19, 1)){\n",
    "    print(ggplot(data=d, aes(x=UMAP_1, y=UMAP_2)) + geom_point(size=0.005) + geom_text_repel(data=d[(50*i+1):min(50*(i+1), 943), ], aes(x=UMAP_1, y=UMAP_2), label=rownames(d[(50*i+1):min(50*(i+1), 943), ]), size=2, hjust = 2, color = \"red\", max.overlaps = Inf, segment.size = 0.1))\n",
    "}"
   ]
  },
  {
   "cell_type": "markdown",
   "id": "f267ef12-5193-4b3c-bd28-864f32b0a66a",
   "metadata": {},
   "source": [
    "## Trajectories"
   ]
  },
  {
   "cell_type": "markdown",
   "id": "1a889800-fdde-414e-9d23-23d8f3fc9b22",
   "metadata": {},
   "source": [
    "### Start point"
   ]
  },
  {
   "cell_type": "code",
   "execution_count": null,
   "id": "6a537eaa-fb66-40db-91e9-409fc1e19ff1",
   "metadata": {
    "scrolled": true
   },
   "outputs": [],
   "source": [
    "ggplot(data=d, aes(x=UMAP_1, y=UMAP_2)) + geom_point(size=0.01) + geom_text_repel(data=d[c(861), ], aes(x=UMAP_1, y=UMAP_2), label=rownames(d[c(861), ]), size=5, hjust = 2, color = \"red\", max.overlaps = Inf, segment.size = 0.1)\n"
   ]
  },
  {
   "cell_type": "markdown",
   "id": "0abe314b-8187-4133-a75f-68ddd1efcf14",
   "metadata": {},
   "source": [
    "### PA"
   ]
  },
  {
   "cell_type": "code",
   "execution_count": null,
   "id": "deae8cb6-0b4f-4752-acea-adf4abcc5193",
   "metadata": {
    "scrolled": true
   },
   "outputs": [],
   "source": [
    "subtypes_to_keep <- c(\"Astro_dev-3\", \"Astro_dev-2\", \"Astro_dev-1\", \"Astro_SLC1A2_dev\", \"Astro_SLC1A2\", \"Astro_WIF1\", \"Astro_PLSCR1\")\n",
    "cells_to_keep <- which(colData(cds)$subtype_uni %in% subtypes_to_keep)\n",
    "cds_subset <- cds[, cells_to_keep]\n",
    "plot_cells(cds_subset, color_cells_by = \"subtype_uni\", label_leaves = F, label_branch_points = F, label_principal_points = F, label_groups_by_cluster = F, group_label_size = 3)\n",
    "plot_cells(cds_subset, color_cells_by = \"stage_id\", label_leaves = F, label_branch_points = F, label_principal_points = F, label_groups_by_cluster = F, group_label_size = 3)\n",
    "plot_cells(cds_subset, color_cells_by = \"Age\", label_leaves = F, label_branch_points = F, label_principal_points = F, label_groups_by_cluster = F, group_label_size = 3)\n",
    "plot_cells(cds_subset, color_cells_by = \"stage_id\", label_leaves = F, label_branch_points = F, label_principal_points = F, label_groups_by_cluster = F, label_cell_groups = F, cell_size = 0.5, cell_stroke = 0.3)\n"
   ]
  },
  {
   "cell_type": "code",
   "execution_count": null,
   "id": "ee06179d-37d3-4f6e-a32b-3c52b71e70d0",
   "metadata": {
    "scrolled": true
   },
   "outputs": [],
   "source": [
    "# terminal\n",
    "ggplot(data=d, aes(x=UMAP_1, y=UMAP_2)) + geom_point(size=0.01) + geom_text_repel(data=d[c(653), ], aes(x=UMAP_1, y=UMAP_2), label=rownames(d[c(653), ]), size=5, hjust = 2, color = \"red\", max.overlaps = Inf, segment.size = 0.1)\n",
    "\n",
    "# included\n",
    "ggplot(data=d, aes(x=UMAP_1, y=UMAP_2)) + geom_point(size=0.01) + geom_text_repel(data=d[c(224), ], aes(x=UMAP_1, y=UMAP_2), label=rownames(d[c(224), ]), size=5, hjust = 2, color = \"red\", max.overlaps = Inf, segment.size = 0.1)\n"
   ]
  },
  {
   "cell_type": "markdown",
   "id": "f6e37c01-8a61-424c-a0e3-eda9125a8d3f",
   "metadata": {},
   "source": [
    "### FA"
   ]
  },
  {
   "cell_type": "code",
   "execution_count": null,
   "id": "2cc07133-412e-4017-89f8-fc72dad024ce",
   "metadata": {
    "scrolled": true
   },
   "outputs": [],
   "source": [
    "subtypes_to_keep <- c(\"Astro_dev-3\", \"Astro_dev-2\", \"Astro_dev-5\", \"Astro_dev-4\", \"Astro_GFAP\", \"Astro_GRIA1\", \"Astro_ADAMTSL3\")\n",
    "cells_to_keep <- which(colData(cds)$subtype_uni %in% subtypes_to_keep)\n",
    "cds_subset <- cds[, cells_to_keep]\n",
    "plot_cells(cds_subset, color_cells_by = \"subtype_uni\", label_leaves = F, label_branch_points = F, label_principal_points = F, label_groups_by_cluster = F, group_label_size = 3)\n",
    "plot_cells(cds_subset, color_cells_by = \"stage_id\", label_leaves = F, label_branch_points = F, label_principal_points = F, label_groups_by_cluster = F, group_label_size = 3)\n",
    "plot_cells(cds_subset, color_cells_by = \"Age\", label_leaves = F, label_branch_points = F, label_principal_points = F, label_groups_by_cluster = F, group_label_size = 3)\n",
    "plot_cells(cds_subset, color_cells_by = \"stage_id\", label_leaves = F, label_branch_points = F, label_principal_points = F, label_groups_by_cluster = F, label_cell_groups = F, cell_size = 0.5, cell_stroke = 0.3)\n"
   ]
  },
  {
   "cell_type": "code",
   "execution_count": null,
   "id": "0a494b9b-18cf-46eb-9872-d9b62d9e418f",
   "metadata": {
    "scrolled": true
   },
   "outputs": [],
   "source": [
    "# terminal\n",
    "ggplot(data=d, aes(x=UMAP_1, y=UMAP_2)) + geom_point(size=0.01) + geom_text_repel(data=d[c(70), ], aes(x=UMAP_1, y=UMAP_2), label=rownames(d[c(70), ]), size=5, hjust = 2, color = \"red\", max.overlaps = Inf, segment.size = 0.1)\n",
    "\n",
    "# connected\n",
    "ggplot(data=d, aes(x=UMAP_1, y=UMAP_2)) + geom_point(size=0.01) + geom_text_repel(data=d[c(839, 356), ], aes(x=UMAP_1, y=UMAP_2), label=rownames(d[c(839, 356), ]), size=5, hjust = 2, color = \"red\", max.overlaps = Inf, segment.size = 0.1)\n",
    "ggplot(data=d, aes(x=UMAP_1, y=UMAP_2)) + geom_point(size=0.01) + geom_text_repel(data=d[c(344, 123), ], aes(x=UMAP_1, y=UMAP_2), label=rownames(d[c(344, 123), ]), size=5, hjust = 2, color = \"red\", max.overlaps = Inf, segment.size = 0.1)\n",
    "ggplot(data=d, aes(x=UMAP_1, y=UMAP_2)) + geom_point(size=0.01) + geom_text_repel(data=d[c(123, 449), ], aes(x=UMAP_1, y=UMAP_2), label=rownames(d[c(123, 449), ]), size=5, hjust = 2, color = \"red\", max.overlaps = Inf, segment.size = 0.1)\n",
    "ggplot(data=d, aes(x=UMAP_1, y=UMAP_2)) + geom_point(size=0.01) + geom_text_repel(data=d[c(430, 620), ], aes(x=UMAP_1, y=UMAP_2), label=rownames(d[c(430, 620), ]), size=5, hjust = 2, color = \"red\", max.overlaps = Inf, segment.size = 0.1)"
   ]
  },
  {
   "cell_type": "markdown",
   "id": "d397b250-9aab-4b60-8a86-8127653058a8",
   "metadata": {},
   "source": [
    "## Reconstruction"
   ]
  },
  {
   "cell_type": "code",
   "execution_count": null,
   "id": "75265b44-ec90-4c1a-a59a-8fd396552b9a",
   "metadata": {
    "scrolled": true
   },
   "outputs": [],
   "source": [
    "# connect nodes\n",
    "# PA: no need to connect\n",
    "\n",
    "# FA\n",
    "cds <- connect_nodes(cds, \"Y_839\", \"Y_356\")\n",
    "cds <- connect_nodes(cds, \"Y_344\", \"Y_123\")\n",
    "cds <- connect_nodes(cds, \"Y_123\", \"Y_449\")\n",
    "cds <- connect_nodes(cds, \"Y_430\", \"Y_620\")\n",
    "\n",
    "\n",
    "# select individual lineages\n",
    "lineage <- \"PA\"\n",
    "print(lineage)\n",
    "start <- 861\n",
    "end <- 653\n",
    "inc.node <- c(\"Y_224\")\n",
    "cds <- isolate_graph(cds, start, end, lineage, include_nodes = inc.node)\n",
    "sel.cluster <- c(\"Astro_dev-3\", \"Astro_dev-2\", \"Astro_dev-1\", \"Astro_SLC1A2_dev\", \"Astro_SLC1A2\", \"Astro_WIF1\", \"Astro_PLSCR1\")\n",
    "cds <- isolate_lineage(cds, lineage, sel_clusters = sel.cluster, cl = 20, N = 10)\n",
    "\n",
    "lineage <- \"FA\"\n",
    "print(lineage)\n",
    "end <- 70\n",
    "cds <- isolate_graph(cds, start, end, lineage)\n",
    "sel.cluster <- c(\"Astro_dev-3\", \"Astro_dev-2\", \"Astro_dev-5\", \"Astro_dev-4\", \"Astro_GFAP\", \"Astro_GRIA1\", \"Astro_ADAMTSL3\")\n",
    "cds <- isolate_lineage(cds, lineage, sel_clusters = sel.cluster, cl = 20, N = 10)\n",
    "\n",
    "cds <- combine_lineages(cds, start)\n"
   ]
  },
  {
   "cell_type": "code",
   "execution_count": null,
   "id": "c017e229-3e4a-446f-bad5-2f0be6a97d9e",
   "metadata": {},
   "outputs": [],
   "source": [
    "saveRDS(cds, file = \"files/integrated_AST_afterCombination_cds.RDS\")"
   ]
  },
  {
   "cell_type": "markdown",
   "id": "97baa592-b9d6-4a2d-ada7-a0c2a49911e8",
   "metadata": {},
   "source": [
    "## Figure plots"
   ]
  },
  {
   "cell_type": "markdown",
   "id": "f3ac3878-9217-4c78-9661-03e658f4d50f",
   "metadata": {},
   "source": [
    "### Pseudotime"
   ]
  },
  {
   "cell_type": "code",
   "execution_count": null,
   "id": "f6483afe-64c7-4272-8dc6-e8cab1f6b61e",
   "metadata": {
    "scrolled": true
   },
   "outputs": [],
   "source": [
    "p_pseudotime <- plot_cells(cds, color_cells_by = \"pseudotime\", \n",
    "                           trajectory_graph_color = \"grey\", \n",
    "                           trajectory_graph_segment_size = 1, \n",
    "                           label_leaves = F, label_branch_points = F, label_principal_points = F, label_groups_by_cluster = F, label_cell_groups = F, cell_size = 0.5, cell_stroke = 0.3) + \n",
    "        theme(axis.text = element_blank(), \n",
    "        axis.ticks = element_blank(),\n",
    "        axis.title = element_blank(), \n",
    "        panel.border = element_blank(),\n",
    "        panel.grid.major = element_blank(),\n",
    "        panel.grid.minor = element_blank(), \n",
    "        legend.position=\"none\")\n",
    "ggsave(\"files/figures/ast_umat_pseudotime.png\", plot = p_pseudotime, width = 6, height = 6, dpi = 150)"
   ]
  },
  {
   "cell_type": "code",
   "execution_count": null,
   "id": "3309a415-aac1-40b7-a211-06749d86dd70",
   "metadata": {},
   "outputs": [],
   "source": [
    "p_pseudotime_legend <- plot_cells(cds, color_cells_by = \"pseudotime\",\n",
    "                                    trajectory_graph_color = \"grey\", \n",
    "                                    trajectory_graph_segment_size = 1, \n",
    "                                    label_leaves = F, label_branch_points = F, label_principal_points = F, label_groups_by_cluster = F, label_cell_groups = F, cell_size = 0.5, cell_stroke = 0.3) + \n",
    "        theme(axis.text = element_blank(), \n",
    "          axis.ticks = element_blank(),\n",
    "          axis.title = element_blank(), \n",
    "          panel.border = element_blank(),\n",
    "          panel.grid.major = element_blank(),\n",
    "          panel.grid.minor = element_blank())\n",
    "legend <- cowplot::get_legend(p_pseudotime_legend)\n",
    "pdf(\"files/figures/ast_umat_pseudotime_legend_only.pdf\")\n",
    "    grid::grid.draw(legend)\n",
    "dev.off()"
   ]
  },
  {
   "cell_type": "markdown",
   "id": "e32190da-e434-403d-b165-57551c26ef2b",
   "metadata": {},
   "source": [
    "### Trajectory marker genes"
   ]
  },
  {
   "cell_type": "code",
   "execution_count": null,
   "id": "b8320e04-c3dc-4fda-b2ff-52a34ae49a6a",
   "metadata": {
    "scrolled": true
   },
   "outputs": [],
   "source": [
    "p_gfap <- plot_cells(cds, genes = c(\"GFAP\"),  \n",
    "                     trajectory_graph_color = \"grey\", \n",
    "                     trajectory_graph_segment_size = 1, \n",
    "                     norm_method = \"log\", label_roots = F, label_leaves = F, label_branch_points = F, label_principal_points = F, label_groups_by_cluster = F, label_cell_groups = F, show_trajectory_graph = T, cell_size = 0.5, cell_stroke = 0.3) + scale_color_distiller(palette = \"Spectral\") +\n",
    "    theme(title = element_blank(), \n",
    "          axis.text = element_blank(), \n",
    "          axis.ticks = element_blank(),\n",
    "          axis.title = element_blank(), \n",
    "          panel.border = element_blank(),\n",
    "          panel.grid.major = element_blank(),\n",
    "          panel.grid.minor = element_blank(), \n",
    "          legend.position=\"none\") # AST-WM\n",
    "print(p_gfap)\n",
    "ggsave(\"files/figures/ast_umat_expr_gfap.png\", plot = p_gfap, width = 6, height = 6, dpi = 150)\n",
    "\n",
    "p_slc1a2 <- plot_cells(cds, genes = c(\"SLC1A2\"),   \n",
    "                       trajectory_graph_color = \"grey\", \n",
    "                       trajectory_graph_segment_size = 1, \n",
    "                       norm_method = \"log\", label_roots = F, label_leaves = F, label_branch_points = F, label_principal_points = F, label_groups_by_cluster = F, label_cell_groups = F, show_trajectory_graph = T, cell_size = 0.5, cell_stroke = 0.3) + scale_color_distiller(palette = \"Spectral\") +\n",
    "    theme(title = element_blank(), \n",
    "          axis.text = element_blank(), \n",
    "          axis.ticks = element_blank(),\n",
    "          axis.title = element_blank(), \n",
    "          panel.border = element_blank(),\n",
    "          panel.grid.major = element_blank(),\n",
    "          panel.grid.minor = element_blank(), \n",
    "          legend.position=\"none\") # AST-GM\n",
    "ggsave(\"files/figures/ast_umat_expr_slc1a2.png\", plot = p_slc1a2, width = 6, height = 6, dpi = 150)\n",
    "\n",
    "\n",
    "p_mbp <- plot_cells(cds, genes = c(\"MBP\"),   \n",
    "                    trajectory_graph_color = \"grey\", \n",
    "                    trajectory_graph_segment_size = 1, \n",
    "                    norm_method = \"log\", label_roots = F, label_leaves = F, label_branch_points = F, label_principal_points = F, label_groups_by_cluster = F, label_cell_groups = F, show_trajectory_graph = T, cell_size = 0.5, cell_stroke = 0.3) + scale_color_distiller(palette = \"Spectral\") +\n",
    "    theme(title = element_blank(), \n",
    "          axis.text = element_blank(), \n",
    "          axis.ticks = element_blank(),\n",
    "          axis.title = element_blank(), \n",
    "          panel.border = element_blank(),\n",
    "          panel.grid.major = element_blank(),\n",
    "          panel.grid.minor = element_blank(), \n",
    "          legend.position=\"none\") # MBP\n",
    "ggsave(\"files/figures/ast_umat_expr_mbp.png\", plot = p_mbp, width = 6, height = 6, dpi = 150)\n"
   ]
  },
  {
   "cell_type": "code",
   "execution_count": null,
   "id": "85096bfb-ea8a-422b-8892-314435d49552",
   "metadata": {
    "scrolled": true
   },
   "outputs": [],
   "source": [
    "p_gfap_legends <- plot_cells(cds, genes = c(\"GFAP\"), norm_method = \"log\", label_roots = F, label_leaves = F, label_branch_points = F, label_principal_points = F, label_groups_by_cluster = F, label_cell_groups = F, show_trajectory_graph = T, cell_size = 0.5, cell_stroke = 0.3) + scale_color_distiller(palette = \"Spectral\")\n",
    "# Extract legend\n",
    "legend <- cowplot::get_legend(p_gfap_legends)\n",
    "pdf(\"files/figures/ast_umat_expr_gfap_legend_only.pdf\")\n",
    "    grid::grid.draw(legend)\n",
    "dev.off()\n",
    "\n",
    "p_slc1a2_legends <- plot_cells(cds, genes = c(\"SLC1A2\"), norm_method = \"log\", label_roots = F, label_leaves = F, label_branch_points = F, label_principal_points = F, label_groups_by_cluster = F, label_cell_groups = F, show_trajectory_graph = T, cell_size = 0.5, cell_stroke = 0.3) + scale_color_distiller(palette = \"Spectral\")\n",
    "# Extract legend\n",
    "legend <- cowplot::get_legend(p_slc1a2_legends)\n",
    "pdf(\"files/figures/ast_umat_expr_slc1a2_legend_only.pdf\")\n",
    "    grid::grid.draw(legend)\n",
    "dev.off()\n",
    "\n",
    "p_mbp_legends <- plot_cells(cds, genes = c(\"MBP\"), norm_method = \"log\", label_roots = F, label_leaves = F, label_branch_points = F, label_principal_points = F, label_groups_by_cluster = F, label_cell_groups = F, show_trajectory_graph = T, cell_size = 0.5, cell_stroke = 0.3) + scale_color_distiller(palette = \"Spectral\")\n",
    "# Extract legend\n",
    "legend <- cowplot::get_legend(p_mbp_legends)\n",
    "pdf(\"files/figures/ast_umat_expr_mbp_legend_only.pdf\")\n",
    "    grid::grid.draw(legend)\n",
    "dev.off()"
   ]
  },
  {
   "cell_type": "markdown",
   "id": "09522787-7504-4a5c-8b52-74234683c81e",
   "metadata": {},
   "source": [
    "# Maturation rate of branches and lineages"
   ]
  },
  {
   "cell_type": "code",
   "execution_count": null,
   "id": "c972c1ff-99b4-46ca-9f71-c729522984bc",
   "metadata": {},
   "outputs": [],
   "source": [
    "pdf(\"files/figures/ast_mature_ratio_regression_lineage.pdf\", width = 4.5, height = 4.5)\n",
    "regress_pt_along_age_trajectory(cds, \"AST\")\n",
    "dev.off()"
   ]
  },
  {
   "cell_type": "markdown",
   "id": "d0070b29-a892-402b-a3bc-6a7b959c683e",
   "metadata": {},
   "source": [
    "# Identify DEGs along trajectory"
   ]
  },
  {
   "cell_type": "code",
   "execution_count": null,
   "id": "753e6074-80de-4a0e-8d3c-b44b32fa13b5",
   "metadata": {
    "scrolled": true
   },
   "outputs": [],
   "source": [
    "%%sh\n",
    "\n",
    "for sub_lineage in PA FA\n",
    "do\n",
    "    Rscript ${dataPATH}/scripts/identify_traDEGs.r \\\n",
    "        ${dataPATH}/files/integrated_AST_afterCombination_cds.RDS \\\n",
    "        ${sub_lineage} \\\n",
    "        861 \\\n",
    "        0.05 \\\n",
    "        10000 \\\n",
    "        40 \\\n",
    "        ${dataPATH}/files/traDEGs/AST\n",
    "done # for sub_lineage end"
   ]
  },
  {
   "cell_type": "markdown",
   "id": "a36779f1-1bd8-4733-8796-a903998a75da",
   "metadata": {},
   "source": [
    "# Compress data along trajectories"
   ]
  },
  {
   "cell_type": "code",
   "execution_count": null,
   "id": "6986e74e-1be7-48a2-8e0b-10ee2d0a2240",
   "metadata": {
    "scrolled": true
   },
   "outputs": [],
   "source": [
    "cds <- compress_lineages(cds, 861, N = 500, cores = 40)\n",
    "print(cds)\n",
    "print(length(cds@expression))"
   ]
  },
  {
   "cell_type": "code",
   "execution_count": null,
   "id": "ccf58cb7-c209-4b77-bdf6-17d6e1076f5a",
   "metadata": {},
   "outputs": [],
   "source": [
    "saveRDS(cds, file = \"files/integrated_AST_afterCombination_cds_compressed.RDS\")"
   ]
  }
 ],
 "metadata": {
  "kernelspec": {
   "display_name": "Python 3 (ipykernel)",
   "language": "python",
   "name": "python3"
  },
  "language_info": {
   "codemirror_mode": {
    "name": "ipython",
    "version": 3
   },
   "file_extension": ".py",
   "mimetype": "text/x-python",
   "name": "python",
   "nbconvert_exporter": "python",
   "pygments_lexer": "ipython3",
   "version": "3.9.16"
  }
 },
 "nbformat": 4,
 "nbformat_minor": 5
}
