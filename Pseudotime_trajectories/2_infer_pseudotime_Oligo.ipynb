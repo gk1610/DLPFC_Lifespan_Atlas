{
 "cells": [
  {
   "cell_type": "markdown",
   "id": "7e507ef2-46e3-4474-a7f6-07bd5d5d4155",
   "metadata": {},
   "source": [
    "# Load packages"
   ]
  },
  {
   "cell_type": "code",
   "execution_count": null,
   "id": "a9e3d300-5b84-4029-854f-b07d84f34c82",
   "metadata": {
    "scrolled": true
   },
   "outputs": [],
   "source": [
    "import sys\n",
    "import scanpy as sc\n",
    "import numpy as np\n",
    "import pandas as pd\n",
    "import seaborn as sns\n",
    "import matplotlib.pyplot as plt\n",
    "from matplotlib.pyplot import rc_context\n",
    "from matplotlib.colors import LinearSegmentedColormap\n",
    "from sklearn.metrics.pairwise import cosine_similarity\n",
    "\n",
    "# Set up the Synapse client\n",
    "from synapseclient import Synapse\n",
    "syn = Synapse()\n",
    "syn.login()  # Assuming you're already logged in or have set up your credentials\n",
    "\n",
    "# Set up work path\n",
    "data_dir='Pseudotime_trajectories'\n",
    "os.chdir(data_dir)\n",
    "\n",
    "# Inital setting for plot size\n",
    "from matplotlib import rcParams\n",
    "FIGSIZE=(6, 6)\n",
    "rcParams['figure.figsize']=FIGSIZE\n",
    "\n",
    "sc.settings.verbosity = 1\n",
    "# set number of cores to use\n",
    "sc.settings.n_jobs = 25\n",
    "sc.settings.set_figure_params( dpi=300, fontsize=6)\n",
    "sc.logging.print_header()"
   ]
  },
  {
   "cell_type": "markdown",
   "id": "e3e3d70e-5333-40e2-8d7f-c3d67c53ed1a",
   "metadata": {},
   "source": [
    "# Load python functions"
   ]
  },
  {
   "cell_type": "markdown",
   "id": "0b0799d8-e077-4572-868e-aedc9daddd6d",
   "metadata": {},
   "source": [
    "## Initial settings: color, order, trait"
   ]
  },
  {
   "cell_type": "code",
   "execution_count": null,
   "id": "6e9f5b7a-af94-48a1-9370-a1b657ac9849",
   "metadata": {},
   "outputs": [],
   "source": [
    "from initial_settings import *"
   ]
  },
  {
   "cell_type": "markdown",
   "id": "8282159d-cbad-4c85-8ad3-1a8814418d17",
   "metadata": {},
   "source": [
    "## Similarity of cell type"
   ]
  },
  {
   "cell_type": "code",
   "execution_count": null,
   "id": "99b844cd-1575-4eeb-b033-5ac92565b304",
   "metadata": {},
   "outputs": [],
   "source": [
    "import similarity_cell_type"
   ]
  },
  {
   "cell_type": "markdown",
   "id": "db50b8db-c3bc-45f5-baf2-5f9a792d3cb4",
   "metadata": {},
   "source": [
    "# Load R libraries"
   ]
  },
  {
   "cell_type": "code",
   "execution_count": null,
   "id": "a6a6b300-a078-4e3f-97c6-c094bb6249b5",
   "metadata": {
    "scrolled": true
   },
   "outputs": [],
   "source": [
    "# monocle3 conda environment\n",
    "# Load libraries\n",
    "library(Seurat)\n",
    "library(Signac)\n",
    "library(ggplot2)\n",
    "library(dplyr)\n",
    "library(zellkonverter)\n",
    "set.seed(222)\n",
    "library(RColorBrewer)\n",
    "library(viridis)\n",
    "library(monocle3)\n",
    "library(tidyselect)\n",
    "library(grid)\n",
    "library(mgcv)\n",
    "library(colorspace)\n",
    "library(ggrepel)\n",
    "library(igraph)\n",
    "library(pbapply)\n",
    "library(devtools)\n",
    "library(parallel)\n",
    "library(evobiR)\n",
    "library(tidyr)\n",
    "library(cluster)\n",
    "library(grDevices)\n",
    "library(repr)\n",
    "library(zoo)\n",
    "library(ggnewscale)\n",
    "library(VennDiagram)\n",
    "library(ggridges)"
   ]
  },
  {
   "cell_type": "code",
   "execution_count": null,
   "id": "4936ad5b-45b8-465c-9ac6-0b845484f675",
   "metadata": {
    "scrolled": true
   },
   "outputs": [],
   "source": [
    "# R (Py39_R43_Ju10) for pseudotime UMAT visualization\n",
    "library(monocle3)\n",
    "library(ggplot2)\n",
    "library(cowplot)"
   ]
  },
  {
   "cell_type": "markdown",
   "id": "bdf6457a-5482-447b-abf9-8b444b1add3a",
   "metadata": {},
   "source": [
    "# Load R functions"
   ]
  },
  {
   "cell_type": "markdown",
   "id": "ee01a28a-6df6-470a-ae46-65b9b164b349",
   "metadata": {},
   "source": [
    "## Initial settings: color, order, trait"
   ]
  },
  {
   "cell_type": "code",
   "execution_count": null,
   "id": "b1d4b767-3200-4b75-a9c5-a4cd5a1fb978",
   "metadata": {},
   "outputs": [],
   "source": [
    "source(\"initial_settings.r\")"
   ]
  },
  {
   "cell_type": "markdown",
   "id": "37698a17-60a1-427a-95f7-b4ad7ddd7031",
   "metadata": {},
   "source": [
    "## Load trajectory reconstruction and downstream analysis based on Kriegstein scripts"
   ]
  },
  {
   "cell_type": "code",
   "execution_count": null,
   "id": "7c9e675a-2f16-4d63-b973-996583284066",
   "metadata": {},
   "outputs": [],
   "source": [
    "source(\"trajectory_reconstruction.r\")"
   ]
  },
  {
   "cell_type": "markdown",
   "id": "2bd84399-f29f-4df3-9dd8-5fd03771891f",
   "metadata": {},
   "source": [
    "## Load defined functions"
   ]
  },
  {
   "cell_type": "code",
   "execution_count": null,
   "id": "ae3322e0-78c8-4297-ba5f-ae28d94ae995",
   "metadata": {},
   "outputs": [],
   "source": [
    "source(\"functions.r\")"
   ]
  },
  {
   "cell_type": "markdown",
   "id": "97abe053-6834-4232-aba0-4aece25a5dff",
   "metadata": {},
   "source": [
    "# Load data"
   ]
  },
  {
   "cell_type": "code",
   "execution_count": null,
   "id": "fe16b000-d4fa-41ca-ab2b-ef37143d83ce",
   "metadata": {
    "scrolled": true
   },
   "outputs": [],
   "source": [
    "adata = sc.read('integrated_adata.h5ad')\n",
    "\n",
    "# Alternative download from synapse\n",
    "syn62289304 = syn.get(entity=\"syn62289304\", downloadLocation=data_dir)\n",
    "ad = sc.read(syn62289304)"
   ]
  },
  {
   "cell_type": "markdown",
   "id": "192aa354-22db-4d4f-b0b4-ce18e6450fd1",
   "metadata": {},
   "source": [
    "## Extract cells from OPC and Oligo"
   ]
  },
  {
   "cell_type": "code",
   "execution_count": null,
   "id": "09f55f3b-a11c-4600-aea3-4e3bc59c65cb",
   "metadata": {
    "scrolled": true
   },
   "outputs": [],
   "source": [
    "ad_oligo = adata[adata.obs['cell_type_uni'].isin(['OPC', 'Oligo']), :]\n",
    "ad_oligo"
   ]
  },
  {
   "cell_type": "code",
   "execution_count": null,
   "id": "50193f9a-fca2-4511-8200-a5a2c0b67d90",
   "metadata": {},
   "outputs": [],
   "source": [
    "ad_oligo.write('files/integrated_OLIGO.h5ad')"
   ]
  },
  {
   "cell_type": "markdown",
   "id": "ea3b0242-16fa-4874-9982-76bb3b8a8225",
   "metadata": {},
   "source": [
    "## Similarity between two cohorts"
   ]
  },
  {
   "cell_type": "code",
   "execution_count": null,
   "id": "91bd8e03-164e-4493-895b-ec1311898512",
   "metadata": {
    "scrolled": true
   },
   "outputs": [],
   "source": [
    "# subclass\n",
    "similarity_cell_type.similarity_cell_type_all(ad_oligo, 'subclass_uni', 'Integrated_subclass_uni', 5, 'files/figures//oligo_similarity_two_cohorts_subclass_uni_all.pdf')\n"
   ]
  },
  {
   "cell_type": "code",
   "execution_count": null,
   "id": "f142d761-1916-4992-a2d3-05038f96be96",
   "metadata": {
    "scrolled": true
   },
   "outputs": [],
   "source": [
    "similarity_cell_type.similarity_cell_type_all(ad_oligo, 'subtype_uni', 'Integrated_subtype_uni', 12, 'files/figures//oligo_similarity_two_cohorts_subtype_uni_all.pdf')\n"
   ]
  },
  {
   "cell_type": "markdown",
   "id": "d67aeabd-8d23-4d00-b464-a1216db0a71f",
   "metadata": {},
   "source": [
    "# Basic UMAP and UMAT analysis"
   ]
  },
  {
   "cell_type": "code",
   "execution_count": null,
   "id": "73d0c193-6f61-43dc-974c-2673a8af5ae3",
   "metadata": {
    "scrolled": true
   },
   "outputs": [],
   "source": [
    "%%sh\n",
    "python lineage_analysis_embeddings_calculation.py \\\n",
    "-l files/integrated_OLIGO.h5ad \\\n",
    "-r 123456 \\\n",
    "-v scanpy@6000 \\\n",
    "-p half \\\n",
    "-n 100 \\\n",
    "-o files/integrated_OLIGO_con \\\n",
    "-k no"
   ]
  },
  {
   "cell_type": "markdown",
   "id": "666c932e-76ec-404c-bbf6-9b5cb4304c80",
   "metadata": {},
   "source": [
    "## UMAT visualization"
   ]
  },
  {
   "cell_type": "code",
   "execution_count": null,
   "id": "5997cbf4-80da-4d6b-9520-5c464b70543d",
   "metadata": {
    "scrolled": true
   },
   "outputs": [],
   "source": [
    "adata_6k = sc.read('files/integrated_OLIGO_con_clustering.h5ad')\n",
    "adata_6k"
   ]
  },
  {
   "cell_type": "markdown",
   "id": "46981c67-1d4b-4785-8fcb-ea060b94807f",
   "metadata": {},
   "source": [
    "### stage_id"
   ]
  },
  {
   "cell_type": "code",
   "execution_count": null,
   "id": "aa19c580-0909-4073-8518-196056f43efd",
   "metadata": {
    "scrolled": true
   },
   "outputs": [],
   "source": [
    "from pandas.api.types import CategoricalDtype\n",
    "adata_6k.obs['stage_id_ord'] = adata_6k.obs['stage_id']\n",
    "cat_dtype = CategoricalDtype(categories=adata_6k.uns['stage_order'], ordered=True)\n",
    "adata_6k.obs['stage_id_ord'] = adata_6k.obs['stage_id_ord'].astype(cat_dtype)\n",
    "adata_6k"
   ]
  },
  {
   "cell_type": "code",
   "execution_count": null,
   "id": "751b8db9-0a4f-480a-b416-d9c8df6db498",
   "metadata": {
    "scrolled": true
   },
   "outputs": [],
   "source": [
    "with rc_context({'figure.figsize': (6, 6)}):\n",
    "    sc.pl.embedding(adata_6k, basis = 'umat', color='stage_id', add_outline=True,cmap='vlag',#legend_loc='on data',\n",
    "               legend_fontsize=10, legend_fontoutline=2,frameon=False,palette=colors_stage_id,\n",
    "               outline_width=(0.5, 0.3), vmin=0, vmax=1,size=8,\n",
    "               return_fig=True)\n",
    "plt.savefig('files/figures/oligo_data_umat_stage_id.pdf', transparent=True, format='pdf')"
   ]
  },
  {
   "cell_type": "markdown",
   "id": "44641347-b000-430c-84e6-c05a6ea513b7",
   "metadata": {},
   "source": [
    "### subclass_uni"
   ]
  },
  {
   "cell_type": "code",
   "execution_count": null,
   "id": "35f02968-8fac-4b87-930f-fb25dcd6eb34",
   "metadata": {
    "scrolled": true
   },
   "outputs": [],
   "source": [
    "with rc_context({'figure.figsize': (6, 6)}):\n",
    "    sc.pl.embedding(adata_6k, basis = 'umat', color='subclass_uni', add_outline=True,cmap='vlag',#legend_loc='on data',\n",
    "               legend_fontsize=10, legend_fontoutline=2,frameon=False,palette=colors_subclass,\n",
    "               outline_width=(0.5, 0.3), vmin=0, vmax=1,size=8,\n",
    "               return_fig=True)\n",
    "plt.savefig('files/figures/oligo_data_umat_subclass_uni.pdf', transparent=True, format='pdf')"
   ]
  },
  {
   "cell_type": "code",
   "execution_count": null,
   "id": "051f63d2-2cd3-4567-af45-aa8c9aa560d7",
   "metadata": {},
   "outputs": [],
   "source": [
    "adata_6k.write('files/integrated_OLIGO_con_clustering.h5ad')"
   ]
  },
  {
   "cell_type": "markdown",
   "id": "1989ee19-9855-41b1-ae6d-1fc44b5e3239",
   "metadata": {},
   "source": [
    "# Pseudotime infer"
   ]
  },
  {
   "cell_type": "code",
   "execution_count": null,
   "id": "dc7fb671-2ddd-4d05-90ea-2110c902ead7",
   "metadata": {
    "scrolled": true
   },
   "outputs": [],
   "source": [
    "%%sh\n",
    "\n",
    "Rscript pseudotime_infer.r \\\n",
    "files/integrated_OLIGO_con_clustering.h5ad \\\n",
    "files/integrated_OLIGO_con"
   ]
  },
  {
   "cell_type": "markdown",
   "id": "22a1ec86-32e3-4b97-ac01-ac02eeef3eef",
   "metadata": {},
   "source": [
    "## Data visualization"
   ]
  },
  {
   "cell_type": "code",
   "execution_count": null,
   "id": "eb69346b-fb08-405f-afa9-f4fd7db046bb",
   "metadata": {
    "scrolled": true
   },
   "outputs": [],
   "source": [
    "cds <- readRDS(\"files/integrated_OLIGO_con_beforeConstruction_cds.RDS\")\n",
    "d <- readRDS(\"files/integrated_OLIGO_con_beforeConstruction_d.RDS\")\n",
    "print(cds)\n",
    "print(head(d))\n",
    "print(dim(d))"
   ]
  },
  {
   "cell_type": "markdown",
   "id": "dfbfe1aa-b234-4d8e-a803-09d8ee581ece",
   "metadata": {},
   "source": [
    "### subclass_uni"
   ]
  },
  {
   "cell_type": "code",
   "execution_count": null,
   "id": "83f43c27-511b-49b9-8793-f0907e80df2e",
   "metadata": {
    "scrolled": true
   },
   "outputs": [],
   "source": [
    "plot_cells(cds, color_cells_by = \"subclass_uni\", label_leaves = F, label_branch_points = F, label_principal_points = F, label_groups_by_cluster = F, group_label_size = 3)"
   ]
  },
  {
   "cell_type": "markdown",
   "id": "48687530-3133-4e59-be95-dd4d6c3c4c7a",
   "metadata": {},
   "source": [
    "### subtype_uni"
   ]
  },
  {
   "cell_type": "code",
   "execution_count": null,
   "id": "3f617605-6856-4220-92c1-af88b9933e38",
   "metadata": {
    "scrolled": true
   },
   "outputs": [],
   "source": [
    "plot_cells(cds, color_cells_by = \"subtype_uni\", label_leaves = F, label_branch_points = F, label_principal_points = F, label_groups_by_cluster = F, group_label_size = 3)\n"
   ]
  },
  {
   "cell_type": "markdown",
   "id": "cf619e26-44d4-4644-b22a-90c76998c126",
   "metadata": {},
   "source": [
    "### stage_id"
   ]
  },
  {
   "cell_type": "code",
   "execution_count": null,
   "id": "e2dbfbaf-6bd6-421a-ba7f-0461ed0c132d",
   "metadata": {
    "scrolled": true
   },
   "outputs": [],
   "source": [
    "plot_cells(cds, color_cells_by = \"stage_id\", label_leaves = F, label_branch_points = F, label_principal_points = F, label_groups_by_cluster = F)"
   ]
  },
  {
   "cell_type": "markdown",
   "id": "b7246b18-112e-46b6-a5b8-0d3f081ebfc4",
   "metadata": {},
   "source": [
    "### Age"
   ]
  },
  {
   "cell_type": "code",
   "execution_count": null,
   "id": "6ba73480-ef60-4e36-aeaa-7ce7be12a2c3",
   "metadata": {
    "scrolled": true
   },
   "outputs": [],
   "source": [
    "plot_cells(cds, color_cells_by = \"Age\", label_leaves = F, label_branch_points = F, label_principal_points = F, label_groups_by_cluster = F)"
   ]
  },
  {
   "cell_type": "markdown",
   "id": "30b07b48-a7a1-4bae-b484-d61489dc6fa4",
   "metadata": {},
   "source": [
    "## Principle graphs visualization"
   ]
  },
  {
   "cell_type": "markdown",
   "id": "9001ae87-a035-4d4d-88a2-29b6151450db",
   "metadata": {},
   "source": [
    "### unit: 500"
   ]
  },
  {
   "cell_type": "code",
   "execution_count": null,
   "id": "f20f1a65-7fd7-4833-a41f-42b348fc42dd",
   "metadata": {
    "scrolled": true
   },
   "outputs": [],
   "source": [
    "# unit: 500\n",
    "for(i in seq(0, 3, 1)){\n",
    "    print(ggplot(data=d, aes(x=UMAP_1, y=UMAP_2)) + geom_point(size=0.005) + geom_text_repel(data=d[(500*i+1):min(500*(i+1), 1379), ], aes(x=UMAP_1, y=UMAP_2), label=rownames(d[(500*i+1):min(500*(i+1), 1379), ]), size=2, hjust = 2, color = \"red\", max.overlaps = Inf, segment.size = 0.1))\n",
    "}"
   ]
  },
  {
   "cell_type": "markdown",
   "id": "209e9316-cdd3-4fcf-926a-0d662577a9d2",
   "metadata": {},
   "source": [
    "### unit: 200"
   ]
  },
  {
   "cell_type": "code",
   "execution_count": null,
   "id": "17390b85-5c99-487e-8b00-5df89342f0dd",
   "metadata": {
    "scrolled": true
   },
   "outputs": [],
   "source": [
    "# unit: 200\n",
    "for(i in seq(0, 7, 1)){\n",
    "    print(ggplot(data=d, aes(x=UMAP_1, y=UMAP_2)) + geom_point(size=0.005) + geom_text_repel(data=d[(200*i+1):min(200*(i+1), 1379), ], aes(x=UMAP_1, y=UMAP_2), label=rownames(d[(200*i+1):min(200*(i+1), 1379), ]), size=2, hjust = 2, color = \"red\", max.overlaps = Inf, segment.size = 0.1))\n",
    "}"
   ]
  },
  {
   "cell_type": "markdown",
   "id": "20cfff25-10cc-4c80-82de-63e6f095fb8e",
   "metadata": {},
   "source": [
    "### unit: 100"
   ]
  },
  {
   "cell_type": "code",
   "execution_count": null,
   "id": "53f0ebbc-4b68-4a2f-bc3b-26cbfca09c39",
   "metadata": {
    "scrolled": true
   },
   "outputs": [],
   "source": [
    "# unit: 100\n",
    "for(i in seq(0, 14, 1)){\n",
    "    print(ggplot(data=d, aes(x=UMAP_1, y=UMAP_2)) + geom_point(size=0.005) + geom_text_repel(data=d[(100*i+1):min(100*(i+1), 1379), ], aes(x=UMAP_1, y=UMAP_2), label=rownames(d[(100*i+1):min(100*(i+1), 1379), ]), size=2, hjust = 2, color = \"red\", max.overlaps = Inf, segment.size = 0.1))\n",
    "}"
   ]
  },
  {
   "cell_type": "markdown",
   "id": "2d166f72-d6f5-475c-a941-0f673641c38f",
   "metadata": {},
   "source": [
    "### unit: 50"
   ]
  },
  {
   "cell_type": "code",
   "execution_count": null,
   "id": "094c11ab-2639-400f-982c-37d6528902a8",
   "metadata": {
    "scrolled": true
   },
   "outputs": [],
   "source": [
    "# unit: 50\n",
    "for(i in seq(0, 28, 1)){\n",
    "    print(ggplot(data=d, aes(x=UMAP_1, y=UMAP_2)) + geom_point(size=0.005) + geom_text_repel(data=d[(50*i+1):min(50*(i+1), 1379), ], aes(x=UMAP_1, y=UMAP_2), label=rownames(d[(50*i+1):min(50*(i+1), 1379), ]), size=2, hjust = 2, color = \"red\", max.overlaps = Inf, segment.size = 0.1))\n",
    "}"
   ]
  },
  {
   "cell_type": "markdown",
   "id": "4532aba8-510b-4e8d-8103-df767cb2d9cd",
   "metadata": {},
   "source": [
    "## Trajectory"
   ]
  },
  {
   "cell_type": "markdown",
   "id": "4eb5f0ae-0e7a-4d23-891d-8b5a843570ad",
   "metadata": {},
   "source": [
    "### Start point"
   ]
  },
  {
   "cell_type": "code",
   "execution_count": null,
   "id": "00232b59-887d-4476-a17f-ce4bf572c579",
   "metadata": {
    "scrolled": true
   },
   "outputs": [],
   "source": [
    "ggplot(data=d, aes(x=UMAP_1, y=UMAP_2)) + geom_point(size=0.01) + geom_text_repel(data=d[c(1298), ], aes(x=UMAP_1, y=UMAP_2), label=rownames(d[c(1298), ]), size=5, hjust = 2, color = \"red\", max.overlaps = Inf, segment.size = 0.1)\n"
   ]
  },
  {
   "cell_type": "markdown",
   "id": "d079bda0-6bad-4ded-9e39-d27830366f40",
   "metadata": {},
   "source": [
    "### Oligo"
   ]
  },
  {
   "cell_type": "code",
   "execution_count": null,
   "id": "c53e0ecd-4aa4-492f-84b8-9be49bcc38ea",
   "metadata": {
    "scrolled": true
   },
   "outputs": [],
   "source": [
    "# terminal\n",
    "ggplot(data=d, aes(x=UMAP_1, y=UMAP_2)) + geom_point(size=0.01) + geom_text_repel(data=d[c(43), ], aes(x=UMAP_1, y=UMAP_2), label=rownames(d[c(43), ]), size=5, hjust = 2, color = \"red\", max.overlaps = Inf, segment.size = 0.1)\n",
    "\n",
    "# connected\n",
    "# ggplot(data=d, aes(x=UMAP_1, y=UMAP_2)) + geom_point(size=0.01) + geom_text_repel(data=d[c(915, 1311), ], aes(x=UMAP_1, y=UMAP_2), label=rownames(d[c(915, 1311), ]), size=5, hjust = 2, color = \"red\", max.overlaps = Inf, segment.size = 0.1)\n",
    "ggplot(data=d, aes(x=UMAP_1, y=UMAP_2)) + geom_point(size=0.01) + geom_text_repel(data=d[c(1, 1311), ], aes(x=UMAP_1, y=UMAP_2), label=rownames(d[c(1, 1311), ]), size=5, hjust = 2, color = \"red\", max.overlaps = Inf, segment.size = 0.1)\n",
    "ggplot(data=d, aes(x=UMAP_1, y=UMAP_2)) + geom_point(size=0.01) + geom_text_repel(data=d[c(476, 1376), ], aes(x=UMAP_1, y=UMAP_2), label=rownames(d[c(476, 1376), ]), size=5, hjust = 2, color = \"red\", max.overlaps = Inf, segment.size = 0.1)\n"
   ]
  },
  {
   "cell_type": "code",
   "execution_count": null,
   "id": "85e98c76-104f-4894-a614-ddd96d73df9c",
   "metadata": {
    "scrolled": true
   },
   "outputs": [],
   "source": [
    "subclasses_to_keep <- c(\"OPC\")\n",
    "cells_to_keep <- which(colData(cds)$subclass_uni %in% subclasses_to_keep)\n",
    "cds_subset <- cds[, cells_to_keep]\n",
    "plot_cells(cds_subset, color_cells_by = \"subtype_uni\", label_leaves = F, label_branch_points = F, label_principal_points = F, label_groups_by_cluster = F, group_label_size = 3)\n",
    "plot_cells(cds_subset, color_cells_by = \"stage_id\", label_leaves = F, label_branch_points = F, label_principal_points = F, label_groups_by_cluster = F, group_label_size = 3)\n",
    "plot_cells(cds_subset, color_cells_by = \"Age\", label_leaves = F, label_branch_points = F, label_principal_points = F, label_groups_by_cluster = F, group_label_size = 3)\n",
    "plot_cells(cds_subset, color_cells_by = \"numerical_age\", label_leaves = F, label_branch_points = F, label_principal_points = F, label_groups_by_cluster = F, group_label_size = 3)"
   ]
  },
  {
   "cell_type": "code",
   "execution_count": null,
   "id": "f7573118-1505-4176-8a13-92a3c8a13f23",
   "metadata": {
    "scrolled": true
   },
   "outputs": [],
   "source": [
    "subclasses_to_keep <- c(\"Oligo\")\n",
    "cells_to_keep <- which(colData(cds)$subclass_uni %in% subclasses_to_keep)\n",
    "cds_subset <- cds[, cells_to_keep]\n",
    "plot_cells(cds_subset, color_cells_by = \"subtype_uni\", label_leaves = F, label_branch_points = F, label_principal_points = F, label_groups_by_cluster = F, group_label_size = 3)\n",
    "plot_cells(cds_subset, color_cells_by = \"stage_id\", label_leaves = F, label_branch_points = F, label_principal_points = F, label_groups_by_cluster = F, group_label_size = 3)\n",
    "plot_cells(cds_subset, color_cells_by = \"Age\", label_leaves = F, label_branch_points = F, label_principal_points = F, label_groups_by_cluster = F, group_label_size = 3)\n",
    "plot_cells(cds_subset, color_cells_by = \"numerical_age\", label_leaves = F, label_branch_points = F, label_principal_points = F, label_groups_by_cluster = F, group_label_size = 3)"
   ]
  },
  {
   "cell_type": "markdown",
   "id": "12068de0-528d-4c08-ae15-b778f5b0b348",
   "metadata": {},
   "source": [
    "## Reconstruction"
   ]
  },
  {
   "cell_type": "code",
   "execution_count": null,
   "id": "c0d93e47-05d3-4171-8780-f0eae4d6b0ae",
   "metadata": {
    "scrolled": true
   },
   "outputs": [],
   "source": [
    "# connect nodes\n",
    "cds <- connect_nodes(cds, \"Y_1\", \"Y_1311\")\n",
    "cds <- connect_nodes(cds, \"Y_476\", \"Y_1376\")\n",
    "\n",
    "\n",
    "lineage <- \"Oligo\"\n",
    "print(lineage)\n",
    "start <- 1298\n",
    "end <- 43\n",
    "inc.node <- c(\"Y_1311\", \"Y_1376\")\n",
    "cds <- isolate_graph(cds, start, end, lineage, include_nodes = inc.node)\n",
    "sel.cluster <- as.character(unique(colData(cds)[colData(cds)$subclass_uni %in% c(\"OPC\", \"Oligo\"), ]$subtype_uni))\n",
    "sel.cluster <- sel.cluster[!sel.cluster %in% c(\"OPC_MBP\", \"OPC_GPR17\")]\n",
    "cds <- isolate_lineage(cds, lineage, sel_clusters = sel.cluster, cl = 20, N = 10)\n",
    "\n",
    "cds <- combine_lineages(cds, start)"
   ]
  },
  {
   "cell_type": "code",
   "execution_count": null,
   "id": "254c7841-e72f-4a22-af85-80fc1ae4b747",
   "metadata": {},
   "outputs": [],
   "source": [
    "saveRDS(cds, file = \"files/integrated_OLIGO_con_afterCombination_cds.RDS\")\n"
   ]
  },
  {
   "cell_type": "markdown",
   "id": "821019be-e815-4c96-984a-6b6896847ffa",
   "metadata": {},
   "source": [
    "## Figure plots"
   ]
  },
  {
   "cell_type": "code",
   "execution_count": null,
   "id": "2191bc49-1df9-4e74-8c13-944b49243da9",
   "metadata": {},
   "outputs": [],
   "source": [
    "p_pseudotime <- plot_cells(cds, color_cells_by = \"pseudotime\", \n",
    "                           trajectory_graph_color = \"grey\", \n",
    "                           trajectory_graph_segment_size = 1, \n",
    "                           label_leaves = F, label_branch_points = F, label_principal_points = F, label_groups_by_cluster = F, label_cell_groups = F, cell_size = 0.5, cell_stroke = 0.3) + \n",
    "        theme(axis.text = element_blank(), \n",
    "        axis.ticks = element_blank(),\n",
    "        axis.title = element_blank(), \n",
    "        panel.border = element_blank(),\n",
    "        panel.grid.major = element_blank(),\n",
    "        panel.grid.minor = element_blank(), \n",
    "        legend.position=\"none\")\n",
    "ggsave(\"files/figures/oligo_umat_pseudotime.png\", plot = p_pseudotime, width = 6, height = 6, dpi = 150)\n",
    "\n",
    "\n",
    "p_pseudotime_w_legend <- plot_cells(cds, color_cells_by = \"pseudotime\",\n",
    "                                    trajectory_graph_color = \"grey\", \n",
    "                                    trajectory_graph_segment_size = 1, \n",
    "                                    label_leaves = F, label_branch_points = F, label_principal_points = F, label_groups_by_cluster = F, label_cell_groups = F, cell_size = 0.5, cell_stroke = 0.3) + \n",
    "        theme(axis.text = element_blank(), \n",
    "          axis.ticks = element_blank(),\n",
    "          axis.title = element_blank(), \n",
    "          panel.border = element_blank(),\n",
    "          panel.grid.major = element_blank(),\n",
    "          panel.grid.minor = element_blank())\n",
    "ggsave(\"files/figures/oligo_umat_pseudotime_legend.png\", plot = p_pseudotime_w_legend, width = 6, height = 6, dpi = 150)"
   ]
  },
  {
   "cell_type": "markdown",
   "id": "72eb64db-3e2d-4881-94b4-18aca75f1464",
   "metadata": {},
   "source": [
    "# Maturation rate"
   ]
  },
  {
   "cell_type": "code",
   "execution_count": null,
   "id": "4db58fb7-bd51-4c26-ad11-b539de579f5f",
   "metadata": {},
   "outputs": [],
   "source": [
    "pdf(\"files/figures/oligo_mature_ratio_regression_lineage.pdf\", width = 4.5, height = 4.5)\n",
    "regress_pt_along_age_trajectory(cds, \"OLIGO\")\n",
    "dev.off()"
   ]
  },
  {
   "cell_type": "markdown",
   "id": "335aa861-1620-42fa-bc82-55f68f896ba0",
   "metadata": {},
   "source": [
    "# Compress data along trajectories"
   ]
  },
  {
   "cell_type": "code",
   "execution_count": null,
   "id": "80b1f513-cd6a-4c39-ab86-3bbe7cc9478e",
   "metadata": {},
   "outputs": [],
   "source": [
    "print(names(cds@lineages))"
   ]
  },
  {
   "cell_type": "code",
   "execution_count": null,
   "id": "cae397b2-02ef-4478-8b0b-c519f9e31756",
   "metadata": {
    "scrolled": true
   },
   "outputs": [],
   "source": [
    "cds <- compress_lineages(cds, 1298, N = 500, cores = 40)\n",
    "print(cds)\n",
    "print(length(cds@expression))"
   ]
  },
  {
   "cell_type": "code",
   "execution_count": null,
   "id": "3a662db7-a292-456a-ab22-06331be7b0c5",
   "metadata": {},
   "outputs": [],
   "source": [
    "saveRDS(cds, file = \"files/integrated_OLIGO_con_afterCombination_cds_compressed.RDS\")"
   ]
  },
  {
   "cell_type": "markdown",
   "id": "db00ddcb-9780-4781-bb3c-b12bb35565e9",
   "metadata": {},
   "source": [
    "# Identify traDEGs"
   ]
  },
  {
   "cell_type": "code",
   "execution_count": null,
   "id": "64d56064-0622-43b9-8f9f-cc065cc5a658",
   "metadata": {},
   "outputs": [],
   "source": [
    "%%sh\n",
    "\n",
    "Rscript identify_traDEGs.r \\\n",
    "files/integrated_OLIGO_con_afterCombination_cds.RDS \\\n",
    "Oligo \\\n",
    "1298 \\\n",
    "0.05 \\\n",
    "10000 \\\n",
    "40 \\\n",
    "files/traDEGs/OLIGO"
   ]
  }
 ],
 "metadata": {
  "kernelspec": {
   "display_name": "R (monocle3)",
   "language": "R",
   "name": "r_env_monocle3"
  },
  "language_info": {
   "codemirror_mode": "r",
   "file_extension": ".r",
   "mimetype": "text/x-r-source",
   "name": "R",
   "pygments_lexer": "r",
   "version": "4.2.3"
  }
 },
 "nbformat": 4,
 "nbformat_minor": 5
}
