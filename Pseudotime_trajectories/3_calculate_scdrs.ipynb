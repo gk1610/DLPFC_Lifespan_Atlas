{
 "cells": [
  {
   "cell_type": "markdown",
   "id": "380e0d03-072f-41fb-8c50-7110c837931e",
   "metadata": {},
   "source": [
    "# Load python packages"
   ]
  },
  {
   "cell_type": "code",
   "execution_count": null,
   "id": "d7b798b2-56dd-4fdb-aa81-bfcc20b8516f",
   "metadata": {
    "scrolled": true
   },
   "outputs": [],
   "source": [
    "# sc\n",
    "import scdrs\n",
    "import pegasus as pg\n",
    "import scanpy as sc\n",
    "import anndata as ad\n",
    "\n",
    "# plotting\n",
    "import matplotlib.pyplot as plt\n",
    "from matplotlib.pyplot import rc_context\n",
    "import seaborn as sns\n",
    "\n",
    "# data\n",
    "import numpy as np\n",
    "import pandas as pd\n",
    "import os\n",
    "import csv\n",
    "import glob\n",
    "import re\n",
    "import pynndescent\n",
    "from scipy.stats import zscore\n",
    "from joblib import dump\n",
    "from joblib import load\n",
    "\n",
    "# path\n",
    "import sys"
   ]
  },
  {
   "cell_type": "markdown",
   "id": "dd7128e5-bbae-4021-b488-00f0c1e4afe5",
   "metadata": {},
   "source": [
    "# Load python functions"
   ]
  },
  {
   "cell_type": "markdown",
   "id": "ecc29d4b-f863-4367-9c53-fbed086966e1",
   "metadata": {},
   "source": [
    "## Initial settings: color, order, traits"
   ]
  },
  {
   "cell_type": "code",
   "execution_count": null,
   "id": "6b1b8131-ada9-46ce-b47f-e47e43a062fb",
   "metadata": {},
   "outputs": [],
   "source": [
    "sys.path.append('scripts')\n",
    "from initial_settings import *\n",
    "from functions import *"
   ]
  },
  {
   "cell_type": "markdown",
   "id": "65e87e08-0ed2-4b32-acf3-196ffc23a1af",
   "metadata": {},
   "source": [
    "# Load R libraries"
   ]
  },
  {
   "cell_type": "code",
   "execution_count": null,
   "id": "481dedc4-02a8-40ea-ad90-e9e0b91a39e3",
   "metadata": {
    "scrolled": true
   },
   "outputs": [],
   "source": [
    "library(monocle3)\n",
    "library(data.table)\n",
    "library(ggplot2)\n",
    "library(RColorBrewer)\n",
    "library(splines)\n",
    "require(speedglm)\n",
    "library(pheatmap)"
   ]
  },
  {
   "cell_type": "markdown",
   "id": "eb9811a3-2d48-4099-8e38-2e9025f55bc9",
   "metadata": {},
   "source": [
    "# Load R functions"
   ]
  },
  {
   "cell_type": "markdown",
   "id": "f9add8d8-a905-4269-905a-dd257eba2fe9",
   "metadata": {},
   "source": [
    "## Initial settings: color, order, trait"
   ]
  },
  {
   "cell_type": "code",
   "execution_count": null,
   "id": "c5706348-edda-4803-b9b1-24f5b011c4c7",
   "metadata": {},
   "outputs": [],
   "source": [
    "source(\"scripts/initial_settings.r\")"
   ]
  },
  {
   "cell_type": "markdown",
   "id": "be31e17f-2901-476a-b524-55f3bcf7a4ef",
   "metadata": {},
   "source": [
    "## Load trajectory reconstruction and downstream analysis based on Kriegstein scripts"
   ]
  },
  {
   "cell_type": "code",
   "execution_count": null,
   "id": "65579065-6d47-43ac-878e-ff7a28d646eb",
   "metadata": {
    "scrolled": true
   },
   "outputs": [],
   "source": [
    "source(\"scripts/trajectory_reconstruction.r\")"
   ]
  },
  {
   "cell_type": "markdown",
   "id": "8ef386ae-a70c-4001-9b88-af4faf4c9aa7",
   "metadata": {},
   "source": [
    "## Load defined functions"
   ]
  },
  {
   "cell_type": "code",
   "execution_count": null,
   "id": "470ff974-df60-4d67-93d1-b9dc0c29c252",
   "metadata": {},
   "outputs": [],
   "source": [
    "source(\"scripts/functions.r\")"
   ]
  },
  {
   "cell_type": "markdown",
   "id": "270e8414-5c79-4c16-97cc-7fda96d9be26",
   "metadata": {},
   "source": [
    "# Single-cell level"
   ]
  },
  {
   "cell_type": "code",
   "execution_count": null,
   "id": "217cb339-9ee6-4781-9e53-759a4b9215b6",
   "metadata": {
    "scrolled": true
   },
   "outputs": [],
   "source": [
    "dict_df_score = scDRS_calculate_simple(file_h5ad='files/integrated_adata.h5ad', \n",
    "                                       file_gs='files/all_ms_geneset_newOrd_agingsubset.gs')"
   ]
  },
  {
   "cell_type": "code",
   "execution_count": null,
   "id": "07c97551-c033-4d0e-ab66-67f24294a380",
   "metadata": {},
   "outputs": [],
   "source": [
    "dump(dict_df_score, 'files/scdrs/scDRS_sc.joblib', compress=3)"
   ]
  },
  {
   "cell_type": "code",
   "execution_count": null,
   "id": "84b718c0-1bd5-493a-b9e3-07c04387d552",
   "metadata": {
    "scrolled": true
   },
   "outputs": [],
   "source": [
    "for key, value in dict_df_score.items():\n",
    "    print(key)"
   ]
  },
  {
   "cell_type": "markdown",
   "id": "70ce3ac5-48c1-4906-a9b7-ad7375519da4",
   "metadata": {},
   "source": [
    "## Export each trait to csv file"
   ]
  },
  {
   "cell_type": "code",
   "execution_count": null,
   "id": "e32d6e89-ed9b-470f-94af-2fb1f963d326",
   "metadata": {},
   "outputs": [],
   "source": [
    "for key, value in dict_df_score.items():\n",
    "    if isinstance(value, pd.DataFrame):\n",
    "        value.to_csv(f'files/scdrs/scDRS_sc_{key}.csv')"
   ]
  },
  {
   "cell_type": "markdown",
   "id": "08a26844-5d0f-4c62-8241-e20b1560db97",
   "metadata": {},
   "source": [
    "# Compressed scDRS"
   ]
  },
  {
   "cell_type": "markdown",
   "id": "62b414d4-9750-4c37-a6ed-3c698285a2d5",
   "metadata": {},
   "source": [
    "## Excitatory neuron"
   ]
  },
  {
   "cell_type": "markdown",
   "id": "c2dfd584-4d9c-48b3-89f9-5d3dafb79c4b",
   "metadata": {},
   "source": [
    "### Load data"
   ]
  },
  {
   "cell_type": "code",
   "execution_count": null,
   "id": "c49d96ab-5d37-404c-9d6b-d6a28edeec37",
   "metadata": {
    "scrolled": true
   },
   "outputs": [],
   "source": [
    "cds_EN <- readRDS(\"files/integrated_EN_afterCombination_cds_compressed.RDS\")\n",
    "cds_EN"
   ]
  },
  {
   "cell_type": "markdown",
   "id": "c009afe0-b0f0-47c2-9db9-8a462341a3c5",
   "metadata": {},
   "source": [
    "### All traits"
   ]
  },
  {
   "cell_type": "code",
   "execution_count": null,
   "id": "ac494d1e-fc49-4615-8e46-70c1ed1ef845",
   "metadata": {
    "scrolled": true
   },
   "outputs": [],
   "source": [
    "scdrs_EN <- compress_scdrs_traits(cds_EN, names(trait_info), 3172, cell_type = \"EN\", window = F, N = 500, cores = 20)\n"
   ]
  },
  {
   "cell_type": "code",
   "execution_count": null,
   "id": "05257c29-8db2-4ee8-a217-3d8526b70753",
   "metadata": {
    "scrolled": true
   },
   "outputs": [],
   "source": [
    "for(sub_trait in c(\"sz3\", \"bip2\", \"mdd_ipsych\", \"asd\", \"adhd_ipsych\", \"insomn2\", \"eduAttainment\", \"intel\", \"alcohilism_2019\", \"tourette\", \"obesity\", \"dm2\")){\n",
    "    # Plot regressed lines\n",
    "    trait_res_ggplot <- data.frame(Pseudotime = c(), scDRS = c(), Lineage = c())\n",
    "    for(sub_lin in names(cds_EN@lineages)){\n",
    "        trait_res_ggplot <- rbind(trait_res_ggplot, data.frame(Pseudotime = as.numeric(unlist(cds_EN@pseudotime[[sub_lin]])), \n",
    "                                                               scDRS = scdrs_EN[[sub_trait]][[sub_lin]], \n",
    "                                                               Lineage = rep(sub_lin, 500)))\n",
    "    }\n",
    "    p <- ggplot(trait_res_ggplot, aes(x=Pseudotime, y=scDRS, color=Lineage)) + \n",
    "        scale_color_manual(values = cols_traj) +\n",
    "        geom_smooth(method = \"lm\", formula = y ~ ns(x, df = 3), se = TRUE) +\n",
    "        geom_hline(yintercept = 0, linetype = \"44\", color = \"black\", size = 1) +\n",
    "        scale_y_continuous(limits = c(-0.5, 1.5)) +\n",
    "        labs(title = trait_info[sub_trait]) +\n",
    "        theme(plot.title = element_text(size = 14, face = \"bold\", hjust = 0.5)) +\n",
    "        theme_classic()\n",
    "    pdf(paste0(\"files/figures/en_scdrs_zscore_trendline_\", sub_trait, \".pdf\"), width = 5, height = 5)\n",
    "        print(p)\n",
    "    dev.off()\n",
    "}"
   ]
  },
  {
   "cell_type": "markdown",
   "id": "c6084a66-25e4-4c32-90df-4e64cb50842c",
   "metadata": {},
   "source": [
    "#### Heatmap"
   ]
  },
  {
   "cell_type": "code",
   "execution_count": null,
   "id": "892d6571-5039-4f8b-a5a4-5d2d18f5f7ae",
   "metadata": {
    "scrolled": true
   },
   "outputs": [],
   "source": [
    "scdrs_fitted_EN <- obtain_fitted_scdrs(cds_EN, \"files/scdrs/scDRS_compressed_zscore_EN.RDS\")\n",
    "plot_heatmap_fitted_scdrs(scdrs_fitted_EN, \n",
    "                          lineages = names(cds_EN@lineages), \n",
    "                          branches = c(rep(\"Deep-non-IT\", 1500), rep(\"Deep-IT\", 1000), rep(\"Upper-IT\", 2000)),\n",
    "                          n_metacell = 500, \n",
    "                          out_file = \"files/figures/en_scdrs_zscore_heatmap.pdf\",\n",
    "                          figure_width = 5,\n",
    "                          figure_height = 5,\n",
    "                          vmin = -max(abs(unlist(scdrs_fitted_EN))), \n",
    "                          vmax = max(abs(unlist(scdrs_fitted_EN))))\n"
   ]
  },
  {
   "cell_type": "markdown",
   "id": "78362dfa-b9f1-44e7-8aa4-c1dbb0da160d",
   "metadata": {},
   "source": [
    "## Astrocyte"
   ]
  },
  {
   "cell_type": "markdown",
   "id": "610f2ac5-449e-43a6-9494-3544f5805b37",
   "metadata": {},
   "source": [
    "### Load data"
   ]
  },
  {
   "cell_type": "code",
   "execution_count": null,
   "id": "8d7332ca-fbf2-4d34-b92d-844ba3ad1b30",
   "metadata": {
    "scrolled": true
   },
   "outputs": [],
   "source": [
    "cds_AST <- readRDS(\"files/integrated_AST_afterCombination_cds_compressed.RDS\")\n",
    "cds_AST"
   ]
  },
  {
   "cell_type": "markdown",
   "id": "57581639-0f9f-4aab-ba52-aa866caa8d94",
   "metadata": {},
   "source": [
    "### All traits"
   ]
  },
  {
   "cell_type": "code",
   "execution_count": null,
   "id": "b12a2443-5923-4f93-8bed-3a5065656de0",
   "metadata": {
    "scrolled": true
   },
   "outputs": [],
   "source": [
    "scdrs_AST <- compress_scdrs_traits(cds_AST, names(trait_info), 861, cell_type = \"AST\", window = F, N = 500, cores = 20)"
   ]
  },
  {
   "cell_type": "code",
   "execution_count": null,
   "id": "aa23381b-a1f4-4541-b99f-4d2da5c9eca4",
   "metadata": {},
   "outputs": [],
   "source": [
    "scdrs_AST <- readRDS(\"files/scdrs/scDRS_compressed_zscore_AST.RDS\")"
   ]
  },
  {
   "cell_type": "code",
   "execution_count": null,
   "id": "8c3cb134-58a0-4151-9f9e-95838284292a",
   "metadata": {
    "scrolled": true
   },
   "outputs": [],
   "source": [
    "for(sub_trait in c(\"eduAttainment\", \"migraines_2021\", \"dm2\")){\n",
    "    # Plot regressed lines\n",
    "    trait_res_ggplot <- data.frame(Pseudotime = c(), scDRS = c(), Lineage = c())\n",
    "    for(sub_lin in names(cds_AST@lineages)){\n",
    "        trait_res_ggplot <- rbind(trait_res_ggplot, data.frame(Pseudotime = as.numeric(unlist(cds_AST@pseudotime[[sub_lin]])), \n",
    "                                                               scDRS = scdrs_AST[[sub_trait]][[sub_lin]], \n",
    "                                                               Lineage = rep(sub_lin, 500)))\n",
    "    }\n",
    "    p <- ggplot(trait_res_ggplot, aes(x=Pseudotime, y=scDRS, color=Lineage)) + \n",
    "        scale_color_manual(values = cols_traj) +\n",
    "        geom_smooth(method = \"lm\", formula = y ~ ns(x, df = 3), se = TRUE) +\n",
    "        geom_hline(yintercept = 0, linetype = \"44\", color = \"black\", size = 1) +\n",
    "        scale_y_continuous(limits = c(-0.5, 1.5)) +\n",
    "        labs(title = trait_info[sub_trait]) +\n",
    "        theme(plot.title = element_text(size = 14, face = \"bold\", hjust = 0.5)) +\n",
    "        theme_classic()\n",
    "    pdf(paste0(\"files/figures/ast_scdrs_zscore_trendline_\", sub_trait, \".pdf\"), width = 5, height = 5)\n",
    "        print(p)\n",
    "    dev.off()\n",
    "}"
   ]
  },
  {
   "cell_type": "markdown",
   "id": "da9f53ff-a60f-4572-84a6-0c49e353acb7",
   "metadata": {},
   "source": [
    "#### Heatmap"
   ]
  },
  {
   "cell_type": "code",
   "execution_count": null,
   "id": "7ad699f4-d1c4-4990-8338-7b05e8dc7e0b",
   "metadata": {},
   "outputs": [],
   "source": [
    "names(cds_AST@lineages)"
   ]
  },
  {
   "cell_type": "code",
   "execution_count": null,
   "id": "40d705fa-bdc0-496a-985c-fe0779c3bcbd",
   "metadata": {
    "scrolled": true
   },
   "outputs": [],
   "source": [
    "scdrs_fitted_AST <- obtain_fitted_scdrs(cds_AST, \"files/scdrs/scDRS_compressed_zscore_AST.RDS\")\n",
    "plot_heatmap_fitted_scdrs(scdrs_fitted_AST, \n",
    "                          lineages = names(cds_AST@lineages), \n",
    "                          branches = c(rep(\"PA\", 500), rep(\"FA\", 500)),\n",
    "                          n_metacell = 500, \n",
    "                          out_file = \"files/figures/ast_scdrs_zscore_heatmap.pdf\",\n",
    "                          figure_width = 5,\n",
    "                          figure_height = 5,\n",
    "                          vmin = -max(abs(unlist(scdrs_fitted_AST))), \n",
    "                          vmax = max(abs(unlist(scdrs_fitted_AST))))"
   ]
  },
  {
   "cell_type": "markdown",
   "id": "1429c077-f0b5-4910-bcd7-130cd9be512d",
   "metadata": {},
   "source": [
    "## Inhibitory neuron"
   ]
  },
  {
   "cell_type": "markdown",
   "id": "0f7ed967-6e62-492b-9e20-996da9219e48",
   "metadata": {},
   "source": [
    "### Load data"
   ]
  },
  {
   "cell_type": "code",
   "execution_count": null,
   "id": "7cbbbcee-69f6-49ae-99f1-0ddee6c81c6d",
   "metadata": {
    "scrolled": true
   },
   "outputs": [],
   "source": [
    "cds_IN <- readRDS(\"files/integrated_IN_afterCombination_cds_compressed.RDS\")\n",
    "cds_IN"
   ]
  },
  {
   "cell_type": "markdown",
   "id": "4f6e18d3-4b3f-4c1f-bfde-9b66c248ff3a",
   "metadata": {},
   "source": [
    "### All traits"
   ]
  },
  {
   "cell_type": "code",
   "execution_count": null,
   "id": "40c9a8b4-42f4-4ba1-912b-ff8da4051c4a",
   "metadata": {
    "scrolled": true
   },
   "outputs": [],
   "source": [
    "scdrs_IN <- compress_scdrs_traits(cds_IN, names(trait_info), 4319, cell_type = \"IN\", window = F, N = 500, cores = 40)"
   ]
  },
  {
   "cell_type": "code",
   "execution_count": null,
   "id": "c9477004-981b-4c98-b7d1-66b054372b5f",
   "metadata": {},
   "outputs": [],
   "source": [
    "names(cds_IN@pseudotime)"
   ]
  },
  {
   "cell_type": "code",
   "execution_count": null,
   "id": "91b89113-b381-46fd-a89a-44efc247dcae",
   "metadata": {},
   "outputs": [],
   "source": [
    "scdrs_IN <- readRDS\"files/scdrs/scDRS_compressed_zscore_IN.RDS\")"
   ]
  },
  {
   "cell_type": "code",
   "execution_count": null,
   "id": "bd822b89-d5f4-4307-bcea-1f9f191a952c",
   "metadata": {
    "scrolled": true
   },
   "outputs": [],
   "source": [
    "for(sub_trait in c(\"sz3\", \"bip2\", \"mdd_ipsych\", \"asd\", \"adhd_ipsych\", \"insomn2\", \"eduAttainment\", \"intel\", \"alcoholism_2019\", \"ocd\", \"tourette\", \"obesity\", \"dm2\")){\n",
    "    print(sub_trait)\n",
    "    # Plot regressed lines\n",
    "    trait_res_ggplot <- data.frame(Pseudotime = c(), scDRS = c(), Lineage = c())\n",
    "    for(sub_lin in names(cds_IN@lineages)){\n",
    "        trait_res_ggplot <- rbind(trait_res_ggplot, data.frame(Pseudotime = as.numeric(unlist(cds_IN@pseudotime[[sub_lin]])), \n",
    "                                                               scDRS = scdrs_IN[[sub_trait]][[sub_lin]], \n",
    "                                                               Lineage = rep(sub_lin, 500)))\n",
    "    }\n",
    "    p <- ggplot(trait_res_ggplot, aes(x=Pseudotime, y=scDRS, color=Lineage)) + \n",
    "        scale_color_manual(values = cols_traj) +\n",
    "        geom_smooth(method = \"lm\", formula = y ~ ns(x, df = 3), se = TRUE) +\n",
    "        geom_hline(yintercept = 0, linetype = \"44\", color = \"black\", size = 1) +\n",
    "        scale_y_continuous(limits = c(-0.5, 1.5)) +\n",
    "        labs(title = trait_info[sub_trait]) +\n",
    "        theme(plot.title = element_text(size = 14, face = \"bold\", hjust = 0.5)) +\n",
    "        theme_classic()\n",
    "    pdf(paste0(\"files/figures/in_scdrs_zscore_trendline_\", sub_trait, \".pdf\"), width = 5, height = 5)\n",
    "        print(p)\n",
    "    dev.off()\n",
    "}"
   ]
  },
  {
   "cell_type": "code",
   "execution_count": null,
   "id": "77942dc1-4c2f-4dfc-92b7-43ee71b5e569",
   "metadata": {},
   "outputs": [],
   "source": []
  },
  {
   "cell_type": "markdown",
   "id": "c3485c5f-a1f3-4f80-9df9-fcfc7e339bce",
   "metadata": {},
   "source": [
    "#### Heatmap"
   ]
  },
  {
   "cell_type": "code",
   "execution_count": null,
   "id": "4e514591-ddfe-44cb-b3cc-4713615a04f1",
   "metadata": {},
   "outputs": [],
   "source": [
    "names(cds_IN@lineages)"
   ]
  },
  {
   "cell_type": "code",
   "execution_count": null,
   "id": "ab9f9d0a-228d-4c38-b04b-01d43ec1d5fd",
   "metadata": {
    "scrolled": true
   },
   "outputs": [],
   "source": [
    "scdrs_fitted_IN <- obtain_fitted_scdrs(cds_IN, \"files/scdrs/scDRS_compressed_zscore_IN.RDS\")\n",
    "plot_heatmap_fitted_scdrs(scdrs_fitted_IN, \n",
    "                          lineages = names(cds_IN@lineages), \n",
    "                          branches = c(rep(\"MGE\", 1500), rep(\"CGE\", 4000)),\n",
    "                          n_metacell = 500, \n",
    "                          out_file = \"files/figures/in_scdrs_zscore_heatmap.pdf\",\n",
    "                          figure_width = 5,\n",
    "                          figure_height = 5,\n",
    "                          vmin = -max(abs(unlist(scdrs_fitted_IN))), \n",
    "                          vmax = max(abs(unlist(scdrs_fitted_IN))))"
   ]
  },
  {
   "cell_type": "markdown",
   "id": "300625ee-84b5-48c7-8649-c02b378ea71e",
   "metadata": {},
   "source": [
    "## Microglia"
   ]
  },
  {
   "cell_type": "markdown",
   "id": "341319de-fd41-4399-a999-32f06b873a46",
   "metadata": {},
   "source": [
    "### Load data"
   ]
  },
  {
   "cell_type": "code",
   "execution_count": null,
   "id": "7087fc34-43c4-48e5-8d40-a16b2975732e",
   "metadata": {
    "scrolled": true
   },
   "outputs": [],
   "source": [
    "cds_MICRO <- readRDS(\"files/integrated_MICRO_afterCombination_cds_compressed.RDS\")\n",
    "cds_MICRO"
   ]
  },
  {
   "cell_type": "markdown",
   "id": "efc08b30-87f7-4377-b4ef-d238fbb0a7a7",
   "metadata": {},
   "source": [
    "### All traits"
   ]
  },
  {
   "cell_type": "code",
   "execution_count": null,
   "id": "a1f0fd41-fc0d-4299-baf9-b218f87a9387",
   "metadata": {
    "scrolled": true
   },
   "outputs": [],
   "source": [
    "scdrs_MICRO <- compress_scdrs_traits(cds_MICRO, names(trait_info), 24, cell_type = \"MICRO\", window = F, N = 500, cores = 20)"
   ]
  },
  {
   "cell_type": "code",
   "execution_count": null,
   "id": "1f94588f-9bb7-4f5e-8547-cc862670a0be",
   "metadata": {},
   "outputs": [],
   "source": [
    "scdrs_MICRO <- readRDS(\"files/scdrs/scDRS_compressed_zscore_MICRO.RDS\")"
   ]
  },
  {
   "cell_type": "code",
   "execution_count": null,
   "id": "45fde001-a1f1-48ce-a7b2-9325b632d434",
   "metadata": {
    "scrolled": true
   },
   "outputs": [],
   "source": [
    "for(sub_trait in names(scdrs_MICRO)){\n",
    "    # Plot regressed lines\n",
    "    trait_res_ggplot <- data.frame(xValue = c(), yValue = c(), group = c())\n",
    "    for(sub_lin in names(cds_MICRO@lineages)){\n",
    "        trait_res_ggplot <- rbind(trait_res_ggplot, data.frame(xValue = as.numeric(unlist(cds_MICRO@pseudotime[[sub_lin]])), \n",
    "                                                               yValue = scdrs_MICRO[[sub_trait]][[sub_lin]], \n",
    "                                                               group = rep(sub_lin, 500)))\n",
    "    }\n",
    "    p <- ggplot(trait_res_ggplot, aes(x=xValue, y=yValue, color=group)) + \n",
    "        scale_color_manual(values = cols_traj) +\n",
    "        geom_smooth(method = \"lm\", formula = y ~ ns(x, df = 3), se = TRUE) +\n",
    "        geom_hline(yintercept = 0, linetype = \"44\", color = \"black\", size = 1) +\n",
    "        scale_y_continuous(limits = c(-2, 2.2)) +\n",
    "        labs(title = paste(\"MICRO\", trait_info[sub_trait], sep = \"_\")) +\n",
    "        theme(plot.title = element_text(size = 14, face = \"bold\", hjust = 0.5))\n",
    "        theme_classic()\n",
    "    print(p)\n",
    "}"
   ]
  },
  {
   "cell_type": "markdown",
   "id": "579ddb17-1bac-40a8-93cc-4e16b2107328",
   "metadata": {},
   "source": [
    "#### Heatmap"
   ]
  },
  {
   "cell_type": "code",
   "execution_count": null,
   "id": "84ab452b-bc1e-4ebc-8620-13807125bbb6",
   "metadata": {
    "scrolled": true
   },
   "outputs": [],
   "source": [
    "scdrs_fitted_MICRO <- obtain_fitted_scdrs(cds_MICRO, \"files/scdrs/scDRS_compressed_zscore_MICRO.RDS\")\n",
    "plot_heatmap_fitted_scdrs(scdrs_fitted_MICRO, \n",
    "                          lineages = names(cds_MICRO@lineages), \n",
    "                          branches =rep(\"Micro\", 500),\n",
    "                          n_metacell = 500, \n",
    "                          out_file = \"files/figures/micro_scdrs_zscore_heatmap.pdf\",\n",
    "                          figure_width = 5,\n",
    "                          figure_height = 5,\n",
    "                          vmin = -max(abs(unlist(scdrs_fitted_MICRO))), \n",
    "                          vmax = max(abs(unlist(scdrs_fitted_MICRO))))"
   ]
  },
  {
   "cell_type": "markdown",
   "id": "be8d07c4-cbed-4cea-94f9-8f43edcc2fa8",
   "metadata": {},
   "source": [
    "## Oligodendrocyte"
   ]
  },
  {
   "cell_type": "markdown",
   "id": "0fb17f28-3d9e-4309-a298-2b569b0ae579",
   "metadata": {},
   "source": [
    "### Load data"
   ]
  },
  {
   "cell_type": "code",
   "execution_count": null,
   "id": "8e20bd2c-ea67-432c-b5df-bc494c15cc4e",
   "metadata": {
    "scrolled": true
   },
   "outputs": [],
   "source": [
    "cds_OLIGO <- readRDS(\"files/integrated_OLIGO_afterCombination_cds_compressed.RDS\")\n",
    "cds_OLIGO"
   ]
  },
  {
   "cell_type": "markdown",
   "id": "cf4c1c0e-1086-4c4f-8542-0b7e997e68a3",
   "metadata": {},
   "source": [
    "### All traits"
   ]
  },
  {
   "cell_type": "code",
   "execution_count": null,
   "id": "635e2c5d-0df4-4f66-8c64-a9060b547c94",
   "metadata": {
    "scrolled": true
   },
   "outputs": [],
   "source": [
    "scdrs_OLIGO <- compress_scdrs_traits(cds_OLIGO, names(trait_info), 1298, cell_type = \"OLIGO\", window = F, N = 500, cores = 20)"
   ]
  },
  {
   "cell_type": "code",
   "execution_count": null,
   "id": "9a252363-8424-4053-9765-f5df20d639ec",
   "metadata": {},
   "outputs": [],
   "source": [
    "for(sub_trait in c(\"sz3\", \"bip2\", \"mdd_ipsych\", \"asd\", \"adhd_ipsych\", \"insomn2\", \"eduAttainment\", \"intel\", \"alcohilism_2019\", \"tourette\", \"obesity\", \"dm2\")){\n",
    "    # Plot regressed lines\n",
    "    trait_res_ggplot <- data.frame(Pseudotime = c(), scDRS = c(), Lineage = c())\n",
    "    for(sub_lin in names(cds_OLIGO@lineages)){\n",
    "        trait_res_ggplot <- rbind(trait_res_ggplot, data.frame(Pseudotime = as.numeric(unlist(cds_OLIGO@pseudotime[[sub_lin]])), \n",
    "                                                               scDRS = scdrs_OLIGO[[sub_trait]][[sub_lin]], \n",
    "                                                               Lineage = rep(sub_lin, 500)))\n",
    "    }\n",
    "    p <- ggplot(trait_res_ggplot, aes(x=Pseudotime, y=scDRS, color=Lineage)) + \n",
    "        scale_color_manual(values = cols_traj) +\n",
    "        geom_smooth(method = \"lm\", formula = y ~ ns(x, df = 3), se = TRUE) +\n",
    "        geom_hline(yintercept = 0, linetype = \"44\", color = \"black\", size = 1) +\n",
    "        scale_y_continuous(limits = c(-0.5, 1.5)) +\n",
    "        labs(title = trait_info[sub_trait]) +\n",
    "        theme(plot.title = element_text(size = 14, face = \"bold\", hjust = 0.5)) +\n",
    "        theme_classic()\n",
    "    pdf(paste0(\"files/figures/oligo_scdrs_zscore_trendline_\", sub_trait, \".pdf\"), width = 5, height = 5)\n",
    "        print(p)\n",
    "    dev.off()\n",
    "}"
   ]
  },
  {
   "cell_type": "markdown",
   "id": "4b1f7ab7-d2f2-48bc-86bc-2645553f6cbe",
   "metadata": {},
   "source": [
    "#### Heatmap"
   ]
  },
  {
   "cell_type": "code",
   "execution_count": null,
   "id": "fb6912b4-315a-425a-8b28-418443afc883",
   "metadata": {
    "scrolled": true
   },
   "outputs": [],
   "source": [
    "scdrs_fitted_OLIGO <- obtain_fitted_scdrs(cds_OLIGO, \"files/scdrs/scDRS_compressed_zscore_OLIGO.RDS\")\n",
    "plot_heatmap_fitted_scdrs(scdrs_fitted_OLIGO, \n",
    "                          lineages = names(cds_OLIGO@lineages), \n",
    "                          branches = rep(\"Oligo\", 500),\n",
    "                          n_metacell = 500, \n",
    "                          out_file = \"files/figures/oligo_scdrs_zscore_heatmap.pdf\",\n",
    "                          figure_width = 5,\n",
    "                          figure_height = 5,\n",
    "                          vmin = -max(abs(unlist(scdrs_fitted_OLIGO))), \n",
    "                          vmax = max(abs(unlist(scdrs_fitted_OLIGO))))"
   ]
  },
  {
   "cell_type": "code",
   "execution_count": null,
   "id": "5615daf8-e448-434e-a983-d77ab61869cc",
   "metadata": {},
   "outputs": [],
   "source": []
  }
 ],
 "metadata": {
  "kernelspec": {
   "display_name": "R (monocle3)",
   "language": "R",
   "name": "r_env_monocle3"
  },
  "language_info": {
   "codemirror_mode": "r",
   "file_extension": ".r",
   "mimetype": "text/x-r-source",
   "name": "R",
   "pygments_lexer": "r",
   "version": "4.2.3"
  }
 },
 "nbformat": 4,
 "nbformat_minor": 5
}
