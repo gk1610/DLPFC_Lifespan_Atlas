{
 "cells": [
  {
   "cell_type": "markdown",
   "id": "7e507ef2-46e3-4474-a7f6-07bd5d5d4155",
   "metadata": {},
   "source": [
    "# Load packages"
   ]
  },
  {
   "cell_type": "code",
   "execution_count": null,
   "id": "a9e3d300-5b84-4029-854f-b07d84f34c82",
   "metadata": {
    "scrolled": true
   },
   "outputs": [],
   "source": [
    "import sys\n",
    "import scanpy as sc\n",
    "import numpy as np\n",
    "import pandas as pd\n",
    "import seaborn as sns\n",
    "import matplotlib.pyplot as plt\n",
    "from matplotlib.pyplot import rc_context\n",
    "from matplotlib.colors import LinearSegmentedColormap\n",
    "from sklearn.metrics.pairwise import cosine_similarity\n",
    "\n",
    "# Set up the Synapse client\n",
    "from synapseclient import Synapse\n",
    "syn = Synapse()\n",
    "syn.login()  # Assuming you're already logged in or have set up your credentials\n",
    "\n",
    "# Set up work path\n",
    "data_dir='Pseudotime_trajectories'\n",
    "os.chdir(data_dir)\n",
    "\n",
    "# Inital setting for plot size\n",
    "from matplotlib import rcParams\n",
    "FIGSIZE=(6, 6)\n",
    "rcParams['figure.figsize']=FIGSIZE\n",
    "\n",
    "sc.settings.verbosity = 1\n",
    "# set number of cores to use\n",
    "sc.settings.n_jobs = 25\n",
    "sc.settings.set_figure_params( dpi=300, fontsize=6)\n",
    "sc.logging.print_header()"
   ]
  },
  {
   "cell_type": "markdown",
   "id": "e3e3d70e-5333-40e2-8d7f-c3d67c53ed1a",
   "metadata": {},
   "source": [
    "# Load python functions"
   ]
  },
  {
   "cell_type": "markdown",
   "id": "0b0799d8-e077-4572-868e-aedc9daddd6d",
   "metadata": {},
   "source": [
    "## Initial settings: color, order, trait"
   ]
  },
  {
   "cell_type": "code",
   "execution_count": null,
   "id": "6e9f5b7a-af94-48a1-9370-a1b657ac9849",
   "metadata": {},
   "outputs": [],
   "source": [
    "from initial_settings import *"
   ]
  },
  {
   "cell_type": "markdown",
   "id": "8282159d-cbad-4c85-8ad3-1a8814418d17",
   "metadata": {},
   "source": [
    "## Similarity of cell type"
   ]
  },
  {
   "cell_type": "code",
   "execution_count": null,
   "id": "99b844cd-1575-4eeb-b033-5ac92565b304",
   "metadata": {},
   "outputs": [],
   "source": [
    "import similarity_cell_type"
   ]
  },
  {
   "cell_type": "markdown",
   "id": "e4c1c68b-a2fb-4503-a1d7-0b1453bc0b4c",
   "metadata": {},
   "source": [
    "# Load R libraries"
   ]
  },
  {
   "cell_type": "code",
   "execution_count": null,
   "id": "e090e664-5700-4d39-83ca-d84efd993a14",
   "metadata": {
    "scrolled": true
   },
   "outputs": [],
   "source": [
    "# monocle3 conda environment\n",
    "# Load libraries\n",
    "library(Seurat)\n",
    "library(Signac)\n",
    "library(ggplot2)\n",
    "library(dplyr)\n",
    "library(zellkonverter)\n",
    "set.seed(222)\n",
    "library(RColorBrewer)\n",
    "library(viridis)\n",
    "library(monocle3)\n",
    "library(tidyselect)\n",
    "library(grid)\n",
    "library(mgcv)\n",
    "library(colorspace)\n",
    "library(ggrepel)\n",
    "library(igraph)\n",
    "library(pbapply)\n",
    "library(devtools)\n",
    "library(parallel)\n",
    "library(evobiR)\n",
    "library(tidyr)\n",
    "library(cluster)\n",
    "library(grDevices)\n",
    "library(repr)\n",
    "library(zoo)\n",
    "library(ggnewscale)\n",
    "library(VennDiagram)\n",
    "library(ggridges)"
   ]
  },
  {
   "cell_type": "code",
   "execution_count": null,
   "id": "6506da53-97e4-4cd4-abb8-104f4db58449",
   "metadata": {
    "scrolled": true
   },
   "outputs": [],
   "source": [
    "# R (Py39_R43_Ju10) for pseudotime UMAT visualization\n",
    "library(monocle3)\n",
    "library(ggplot2)\n",
    "library(cowplot)"
   ]
  },
  {
   "cell_type": "markdown",
   "id": "a584e532-0874-4755-8bca-69bbec06273f",
   "metadata": {},
   "source": [
    "# Load R functions"
   ]
  },
  {
   "cell_type": "markdown",
   "id": "1ff79acc-8175-4581-89df-a5dfcb1e216b",
   "metadata": {},
   "source": [
    "## Initial settings: color, order, trait"
   ]
  },
  {
   "cell_type": "code",
   "execution_count": null,
   "id": "786af10c-2037-45b3-893f-8717be1a2ef2",
   "metadata": {},
   "outputs": [],
   "source": [
    "source(\"initial_settings.r\")"
   ]
  },
  {
   "cell_type": "markdown",
   "id": "35158182-b180-48aa-9faa-a26b039eab46",
   "metadata": {},
   "source": [
    "## Load trajectory reconstruction and downstream analysis based on Kriegstein scripts"
   ]
  },
  {
   "cell_type": "code",
   "execution_count": null,
   "id": "5ed57b1c-20db-4691-bc13-9138b38b4227",
   "metadata": {
    "scrolled": true
   },
   "outputs": [],
   "source": [
    "source(\"trajectory_reconstruction.r\")"
   ]
  },
  {
   "cell_type": "markdown",
   "id": "d6905891-882b-41ec-9e2b-36b20186a6d7",
   "metadata": {},
   "source": [
    "## Load defined functions"
   ]
  },
  {
   "cell_type": "code",
   "execution_count": null,
   "id": "0a156b38-4496-4724-9434-3e4ec37affd2",
   "metadata": {},
   "outputs": [],
   "source": [
    "source(\"functions.r\")"
   ]
  },
  {
   "cell_type": "markdown",
   "id": "97abe053-6834-4232-aba0-4aece25a5dff",
   "metadata": {},
   "source": [
    "# Load data"
   ]
  },
  {
   "cell_type": "code",
   "execution_count": null,
   "id": "fe16b000-d4fa-41ca-ab2b-ef37143d83ce",
   "metadata": {
    "scrolled": true
   },
   "outputs": [],
   "source": [
    "adata = sc.read('integrated_adata.h5ad')\n",
    "\n",
    "# Alternative download from synapse\n",
    "syn62289304 = syn.get(entity=\"syn62289304\", downloadLocation=data_dir)\n",
    "ad = sc.read(syn62289304)"
   ]
  },
  {
   "cell_type": "markdown",
   "id": "192aa354-22db-4d4f-b0b4-ce18e6450fd1",
   "metadata": {},
   "source": [
    "## Extract cells from EN"
   ]
  },
  {
   "cell_type": "code",
   "execution_count": null,
   "id": "09f55f3b-a11c-4600-aea3-4e3bc59c65cb",
   "metadata": {
    "scrolled": true
   },
   "outputs": [],
   "source": [
    "ad_en = adata[adata.obs['cell_type_uni'] == 'EN', :]\n",
    "ad_en"
   ]
  },
  {
   "cell_type": "code",
   "execution_count": null,
   "id": "50193f9a-fca2-4511-8200-a5a2c0b67d90",
   "metadata": {},
   "outputs": [],
   "source": [
    "ad_en.write('files/integrated_EN.h5ad')"
   ]
  },
  {
   "cell_type": "markdown",
   "id": "ea3b0242-16fa-4874-9982-76bb3b8a8225",
   "metadata": {},
   "source": [
    "## Similarity between two cohorts"
   ]
  },
  {
   "cell_type": "code",
   "execution_count": null,
   "id": "91bd8e03-164e-4493-895b-ec1311898512",
   "metadata": {
    "scrolled": true
   },
   "outputs": [],
   "source": [
    "# subclass\n",
    "similarity_cell_type.similarity_cell_type_all(ad_en, 'subclass_uni', 'Integrated_subclass_uni', 10, 'files/figures//en_similarity_two_cohorts_subclass_uni_all.pdf')\n"
   ]
  },
  {
   "cell_type": "code",
   "execution_count": null,
   "id": "f142d761-1916-4992-a2d3-05038f96be96",
   "metadata": {
    "scrolled": true
   },
   "outputs": [],
   "source": [
    "similarity_cell_type.similarity_cell_type_all(ad_en, 'subtype_uni', 'Integrated_subtype_uni', 20, 'files/figures//en_similarity_two_cohorts_subtype_uni_all.pdf')\n"
   ]
  },
  {
   "cell_type": "markdown",
   "id": "d67aeabd-8d23-4d00-b464-a1216db0a71f",
   "metadata": {},
   "source": [
    "# Basic UMAP and UMAT analysis"
   ]
  },
  {
   "cell_type": "code",
   "execution_count": null,
   "id": "73d0c193-6f61-43dc-974c-2673a8af5ae3",
   "metadata": {},
   "outputs": [],
   "source": [
    "%%sh\n",
    "\n",
    "python lineage_analysis_embeddings_calculation.py \\\n",
    "-l files/integrated_EN.h5ad \\\n",
    "-r 123456 \\\n",
    "-v scanpy@6000 \\\n",
    "-p half \\\n",
    "-n 100 \\\n",
    "-o files/integrated_EN_con \\\n",
    "-k no"
   ]
  },
  {
   "cell_type": "markdown",
   "id": "866c7ccc-52eb-45c6-a42a-3035ae754d24",
   "metadata": {},
   "source": [
    "## UMAT visualization"
   ]
  },
  {
   "cell_type": "code",
   "execution_count": null,
   "id": "4d4efe67-4e15-44c2-95e1-74f06a2d4ef4",
   "metadata": {
    "scrolled": true
   },
   "outputs": [],
   "source": [
    "adata_6k = sc.read('files/integrated_EN_con_clustering.h5ad')\n",
    "adata_6k"
   ]
  },
  {
   "cell_type": "markdown",
   "id": "0304894b-683f-489e-939e-82887b99df4c",
   "metadata": {},
   "source": [
    "### subclass_uni"
   ]
  },
  {
   "cell_type": "code",
   "execution_count": null,
   "id": "ec7284ea-e7d7-47cb-90e7-122a6c4b860b",
   "metadata": {},
   "outputs": [],
   "source": [
    "spec_subclasses = ['EN_L6B', 'EN_L6_CT', 'EN_L5_6_NP', 'EN_L5_ET', 'EN_L6_IT_1', 'EN_L6_IT_2', 'EN_L3_5_IT_1', 'EN_L3_5_IT_2', 'EN_L3_5_IT_3', 'EN_L2_3_IT']\n",
    "adata_6k.obs['subclass_uni_plot'] = pd.NA\n",
    "condition = ((adata_6k.obs['numerical_age'] >= 20) & (adata_6k.obs['subclass_uni'].isin(spec_subclasses))) | (adata_6k.obs['subclass_uni'].isin(['PN_dev']))\n",
    "adata_6k.obs.loc[condition, 'subclass_uni_plot'] = adata_6k.obs.loc[condition, 'subclass_uni']"
   ]
  },
  {
   "cell_type": "code",
   "execution_count": null,
   "id": "d73a7d3b-4a5d-4ba3-a625-d5b0da4ba9dd",
   "metadata": {
    "scrolled": true
   },
   "outputs": [],
   "source": [
    "with rc_context({'figure.figsize': (6, 6)}):\n",
    "    p_subclass_uni = sc.pl.embedding(adata_6k, basis = 'umat', color='subclass_uni_plot', add_outline=True,cmap='vlag',#legend_loc='on data',\n",
    "               legend_fontsize=10, legend_fontoutline=2,frameon=False, palette=colors_subclass,\n",
    "               outline_width=(0.5, 0.3), vmin=0, vmax=1,size=1,\n",
    "               return_fig=True)\n",
    "p_subclass_uni.savefig('files/figures/en_data_umat_subclass_uni_plot.pdf', transparent=True, format='pdf')\n",
    "plt.close(p_subclass_uni)"
   ]
  },
  {
   "cell_type": "markdown",
   "id": "a7b79b9e-268e-4de1-bfd9-850eeb081d5e",
   "metadata": {},
   "source": [
    "### stage_id"
   ]
  },
  {
   "cell_type": "code",
   "execution_count": null,
   "id": "efc75116-8443-43e8-8570-02e75ddcffd2",
   "metadata": {
    "scrolled": true
   },
   "outputs": [],
   "source": [
    "from pandas.api.types import CategoricalDtype\n",
    "adata_6k.obs['stage_id_ord'] = adata_6k.obs['stage_id']\n",
    "cat_dtype = CategoricalDtype(categories=adata_6k.uns['stage_order'], ordered=True)\n",
    "adata_6k.obs['stage_id_ord'] = adata_6k.obs['stage_id_ord'].astype(cat_dtype)\n",
    "adata_6k"
   ]
  },
  {
   "cell_type": "code",
   "execution_count": null,
   "id": "c15cfbe4-506e-46dd-bc36-c0dd213b2104",
   "metadata": {
    "scrolled": true
   },
   "outputs": [],
   "source": [
    "with rc_context({'figure.figsize': (6, 6)}):\n",
    "    sc.pl.embedding(adata_6k, basis = 'umat', color='stage_id', add_outline=True,cmap='vlag',#legend_loc='on data',\n",
    "               legend_fontsize=10, legend_fontoutline=2,frameon=False,palette=colors_stage_id,\n",
    "               outline_width=(0.5, 0.3), vmin=0, vmax=1,size=8,\n",
    "               return_fig=True)\n",
    "plt.savefig('files/figures/en_data_umat_stage_id_plot.pdf', transparent=True, format='pdf')"
   ]
  },
  {
   "cell_type": "code",
   "execution_count": null,
   "id": "9ca96468-f4b3-4363-8163-029ae3f7d024",
   "metadata": {
    "scrolled": true
   },
   "outputs": [],
   "source": [
    "adata_6k.layers['ds_norm_cts'] = adata_6k.X.copy()\n",
    "adata_6k"
   ]
  },
  {
   "cell_type": "code",
   "execution_count": null,
   "id": "c3ddc123-6b48-43d2-88ea-1fd6b9cfafd0",
   "metadata": {},
   "outputs": [],
   "source": [
    "adata_6k.write('files/integrated_EN_con_clustering.h5ad')"
   ]
  },
  {
   "cell_type": "markdown",
   "id": "060faa4f-d655-4df3-80a6-1147d615202d",
   "metadata": {},
   "source": [
    "# Pseudotime inference"
   ]
  },
  {
   "cell_type": "code",
   "execution_count": null,
   "id": "58a0dbb4-c157-45f7-9aad-2e11b97b1f84",
   "metadata": {
    "scrolled": true
   },
   "outputs": [],
   "source": [
    "%%sh\n",
    "Rscript pseudotime_infer.r \\\n",
    "files/integrated_EN_con_clustering.h5ad \\\n",
    "files/integrated_EN_con"
   ]
  },
  {
   "cell_type": "markdown",
   "id": "493db373-7dda-419e-a496-72b555618a8c",
   "metadata": {},
   "source": [
    "## Data visualization"
   ]
  },
  {
   "cell_type": "code",
   "execution_count": null,
   "id": "f1995e63-e7a7-4efc-b5b9-d3f0359c1dde",
   "metadata": {
    "scrolled": true
   },
   "outputs": [],
   "source": [
    "cds <- readRDS(\"files/integrated_EN_con_beforeConstruction_cds.RDS\")\n",
    "d <- readRDS(\"files/integrated_EN_con_beforeConstruction_d.RDS\")\n",
    "print(cds)\n",
    "print(head(d))\n",
    "print(dim(d))"
   ]
  },
  {
   "cell_type": "markdown",
   "id": "1b76c58e-d7a1-45e1-b06b-8a320efe2a25",
   "metadata": {},
   "source": [
    "### subclass_uni"
   ]
  },
  {
   "cell_type": "code",
   "execution_count": null,
   "id": "b16e2777-a32a-43a9-9d90-4a86c71c8605",
   "metadata": {
    "scrolled": true
   },
   "outputs": [],
   "source": [
    "plot_cells(cds, color_cells_by = \"subclass_uni\", label_leaves = F, label_branch_points = F, label_principal_points = F, label_groups_by_cluster = F, group_label_size = 3)\n",
    "\n",
    "plot_cells(cds, color_cells_by = \"stage_id\", label_leaves = F, label_branch_points = F, label_principal_points = F, label_groups_by_cluster = F) +\n",
    "    scale_color_manual(values = cols_stage_id)"
   ]
  },
  {
   "cell_type": "markdown",
   "id": "41789085-e5fd-4a6c-949b-e846d49d1612",
   "metadata": {},
   "source": [
    "### subclass"
   ]
  },
  {
   "cell_type": "code",
   "execution_count": null,
   "id": "d8f26741-9c04-4e72-b4e2-1a2e9404c311",
   "metadata": {
    "scrolled": true
   },
   "outputs": [],
   "source": [
    "plot_cells(cds, color_cells_by = \"subclass\", label_leaves = F, label_branch_points = F, label_principal_points = F, label_groups_by_cluster = F, group_label_size = 6) + \n",
    "    scale_color_manual(values = cols_subclass_uni)\n"
   ]
  },
  {
   "cell_type": "markdown",
   "id": "f2d93bb0-8578-4352-9fc9-40f58b5307c1",
   "metadata": {},
   "source": [
    "### subtype_uni"
   ]
  },
  {
   "cell_type": "code",
   "execution_count": null,
   "id": "ecd6ec1c-f7de-4b9b-babc-330708af53fa",
   "metadata": {
    "scrolled": true
   },
   "outputs": [],
   "source": [
    "plot_cells(cds, color_cells_by = \"subtype_uni\", label_leaves = F, label_branch_points = F, label_principal_points = F, label_groups_by_cluster = F, group_label_size = 3)\n"
   ]
  },
  {
   "cell_type": "markdown",
   "id": "0bd9abe6-6fee-4997-9220-9879b7cc62b1",
   "metadata": {},
   "source": [
    "### stage_id"
   ]
  },
  {
   "cell_type": "code",
   "execution_count": null,
   "id": "5e91966c-d3c7-4573-a7bb-001303687f4a",
   "metadata": {
    "scrolled": true
   },
   "outputs": [],
   "source": [
    "plot_cells(cds, color_cells_by = \"stage_id\", label_leaves = F, label_branch_points = F, label_principal_points = F, label_groups_by_cluster = F)"
   ]
  },
  {
   "cell_type": "markdown",
   "id": "463e52f0-7931-4196-abab-a6e20be29523",
   "metadata": {},
   "source": [
    "## Principle graphs"
   ]
  },
  {
   "cell_type": "markdown",
   "id": "932f2e24-73bc-414b-b612-b0a27bb8dc83",
   "metadata": {},
   "source": [
    "### unit: 1000"
   ]
  },
  {
   "cell_type": "code",
   "execution_count": null,
   "id": "ae70a377-f4c0-41d8-be4c-ace86b5ca7b5",
   "metadata": {
    "scrolled": true
   },
   "outputs": [],
   "source": [
    "for(i in seq(0, 4, 1)){\n",
    "    print(ggplot(data=d, aes(x=UMAP_1, y=UMAP_2)) + geom_point(size=0.01) + geom_text_repel(data=d[(1000*i+1):min(1000*(i+1), 3576), ], aes(x=UMAP_1, y=UMAP_2), label=rownames(d[(1000*i+1):min(1000*(i+1), 3576), ]), size=1, hjust = 2, color = \"red\", max.overlaps = Inf, segment.size = 0.1))\n",
    "}"
   ]
  },
  {
   "cell_type": "markdown",
   "id": "41deabb3-c318-4385-8887-e365d0cb0ecc",
   "metadata": {},
   "source": [
    "### unit: 500"
   ]
  },
  {
   "cell_type": "code",
   "execution_count": null,
   "id": "5e45da2d-6afe-4a33-ae26-62e2ce62a0b7",
   "metadata": {
    "scrolled": true
   },
   "outputs": [],
   "source": [
    "for(i in seq(0, 8, 1)){\n",
    "    print(ggplot(data=d, aes(x=UMAP_1, y=UMAP_2)) + geom_point(size=0.01) + geom_text_repel(data=d[(500*i+1):min(500*(i+1), 3576), ], aes(x=UMAP_1, y=UMAP_2), label=rownames(d[(500*i+1):min(500*(i+1), 3576), ]), size=1.5, hjust = 2, color = \"red\", max.overlaps = Inf, segment.size = 0.1))\n",
    "}"
   ]
  },
  {
   "cell_type": "markdown",
   "id": "da8edb6c-991f-4fba-aadb-2dfe321e1359",
   "metadata": {},
   "source": [
    "### unit: 200"
   ]
  },
  {
   "cell_type": "code",
   "execution_count": null,
   "id": "bf17ded1-c57c-43ce-bdee-75738e708139",
   "metadata": {
    "scrolled": true
   },
   "outputs": [],
   "source": [
    "for(i in seq(0, 18, 1)){\n",
    "    print(ggplot(data=d, aes(x=UMAP_1, y=UMAP_2)) + geom_point(size=0.01) + geom_text_repel(data=d[(200*i+1):min(200*(i+1), 3576), ], aes(x=UMAP_1, y=UMAP_2), label=rownames(d[(200*i+1):min(200*(i+1), 3576), ]), size=1.5, hjust = 2, color = \"red\", max.overlaps = Inf, segment.size = 0.1))\n",
    "}"
   ]
  },
  {
   "cell_type": "markdown",
   "id": "ed0c9085-1060-4863-b1b9-762df91e4fba",
   "metadata": {},
   "source": [
    "### unit: 100"
   ]
  },
  {
   "cell_type": "code",
   "execution_count": null,
   "id": "081e9de8-633d-4161-9ffe-97a8684ea3c7",
   "metadata": {
    "scrolled": true
   },
   "outputs": [],
   "source": [
    "for(i in seq(0, 36, 1)){\n",
    "    print(ggplot(data=d, aes(x=UMAP_1, y=UMAP_2)) + geom_point(size=0.01) + geom_text_repel(data=d[(100*i+1):min(100*(i+1), 3576), ], aes(x=UMAP_1, y=UMAP_2), label=rownames(d[(100*i+1):min(100*(i+1), 3576), ]), size=4, hjust = 2, color = \"red\", max.overlaps = Inf, segment.size = 0.1))\n",
    "}"
   ]
  },
  {
   "cell_type": "markdown",
   "id": "efe55072-decd-46ca-a9e4-dd9b3444dcc9",
   "metadata": {},
   "source": [
    "### unit: 50"
   ]
  },
  {
   "cell_type": "code",
   "execution_count": null,
   "id": "950a506b-79c1-4acc-9cb5-75bba0eeaaed",
   "metadata": {
    "scrolled": true
   },
   "outputs": [],
   "source": [
    "for(i in seq(0, 73, 1)){\n",
    "    print(ggplot(data=d, aes(x=UMAP_1, y=UMAP_2)) + geom_point(size=0.01) + geom_text_repel(data=d[(50*i+1):min(50*(i+1), 3576), ], aes(x=UMAP_1, y=UMAP_2), label=rownames(d[(50*i+1):min(50*(i+1), 3576), ]), size=4, hjust = 2, color = \"red\", max.overlaps = Inf, segment.size = 0.1))\n",
    "}"
   ]
  },
  {
   "cell_type": "markdown",
   "id": "01e2db66-d518-4d67-9a2c-6196af649829",
   "metadata": {},
   "source": [
    "## Trajectories"
   ]
  },
  {
   "cell_type": "markdown",
   "id": "efbc78be-bde0-4434-8cb1-3e145ca72382",
   "metadata": {},
   "source": [
    "### Start point"
   ]
  },
  {
   "cell_type": "code",
   "execution_count": null,
   "id": "0c0395ac-b156-4d58-90a2-21f53238c88c",
   "metadata": {
    "scrolled": true
   },
   "outputs": [],
   "source": [
    "ggplot(data=d, aes(x=UMAP_1, y=UMAP_2)) + geom_point(size=0.01) + geom_text_repel(data=d[c(3172), ], aes(x=UMAP_1, y=UMAP_2), label=rownames(d[c(3172), ]), size=5, hjust = 2, color = \"red\", max.overlaps = Inf, segment.size = 0.1)"
   ]
  },
  {
   "cell_type": "markdown",
   "id": "d1bee787-65ac-4ea4-85be-9b67395c14fd",
   "metadata": {},
   "source": [
    "### L6B"
   ]
  },
  {
   "cell_type": "code",
   "execution_count": null,
   "id": "a0b01be2-6244-48bb-a9d4-8b0f8e88802b",
   "metadata": {
    "scrolled": true
   },
   "outputs": [],
   "source": [
    "subtypes_to_keep <- c(\"PN_dev\", \"L5-6_TLE4_dev\", \"L5-6_TLE4_SCUBE1\", \"EN_L6B\")  # replace with your actual subtype_uni labels\n",
    "cells_to_keep <- which(colData(cds)$subtype_uni %in% subtypes_to_keep)\n",
    "cds_subset <- cds[, cells_to_keep]\n",
    "plot_cells(cds_subset, color_cells_by = \"subtype_uni\", label_leaves = F, label_branch_points = F, label_principal_points = F, label_groups_by_cluster = F, group_label_size = 3)\n",
    "plot_cells(cds_subset, color_cells_by = \"stage_id\", label_leaves = F, label_branch_points = F, label_principal_points = F, label_groups_by_cluster = F, group_label_size = 3)\n",
    "plot_cells(cds_subset, color_cells_by = \"Age\", label_leaves = F, label_branch_points = F, label_principal_points = F, label_groups_by_cluster = F, group_label_size = 3)"
   ]
  },
  {
   "cell_type": "code",
   "execution_count": null,
   "id": "ff1b00cd-732b-40fe-8c25-799d259fa392",
   "metadata": {
    "scrolled": true
   },
   "outputs": [],
   "source": [
    "# terminal\n",
    "ggplot(data=d, aes(x=UMAP_1, y=UMAP_2)) + geom_point(size=0.01) + geom_text_repel(data=d[c(262), ], aes(x=UMAP_1, y=UMAP_2), label=rownames(d[c(262), ]), size=5, hjust = 2, color = \"red\", max.overlaps = Inf, segment.size = 0.1)\n",
    "\n",
    "# included\n",
    "ggplot(data=d, aes(x=UMAP_1, y=UMAP_2)) + geom_point(size=0.01) + geom_text_repel(data=d[c(3314), ], aes(x=UMAP_1, y=UMAP_2), label=rownames(d[c(3314), ]), size=5, hjust = 2, color = \"red\", max.overlaps = Inf, segment.size = 0.1)"
   ]
  },
  {
   "cell_type": "markdown",
   "id": "f2cef8f0-aec7-44f2-81bf-e78ea57446f6",
   "metadata": {},
   "source": [
    "### L6_CT"
   ]
  },
  {
   "cell_type": "code",
   "execution_count": null,
   "id": "cc6e35cb-5cfe-4a8e-aa20-3858ddce344f",
   "metadata": {
    "scrolled": true
   },
   "outputs": [],
   "source": [
    "subtypes_to_keep <- c(\"PN_dev\", \"L5-6_TLE4_dev\", \"L5-6_TLE4_SORCS1\", \"EN_L6_CT_HSPA1A\", \"EN_L6_CT\")\n",
    "cells_to_keep <- which(colData(cds)$subtype_uni %in% subtypes_to_keep)\n",
    "cds_subset <- cds[, cells_to_keep]\n",
    "plot_cells(cds_subset, color_cells_by = \"subtype_uni\", label_leaves = F, label_branch_points = F, label_principal_points = F, label_groups_by_cluster = F, group_label_size = 3)\n",
    "plot_cells(cds_subset, color_cells_by = \"stage_id\", label_leaves = F, label_branch_points = F, label_principal_points = F, label_groups_by_cluster = F, group_label_size = 3)\n",
    "plot_cells(cds_subset, color_cells_by = \"Age\", label_leaves = F, label_branch_points = F, label_principal_points = F, label_groups_by_cluster = F, group_label_size = 3)"
   ]
  },
  {
   "cell_type": "code",
   "execution_count": null,
   "id": "4df532ef-8953-4d8d-9b00-3ffac4eeb8f5",
   "metadata": {
    "scrolled": true
   },
   "outputs": [],
   "source": [
    "# terminal\n",
    "ggplot(data=d, aes(x=UMAP_1, y=UMAP_2)) + geom_point(size=0.01) + geom_text_repel(data=d[c(2638), ], aes(x=UMAP_1, y=UMAP_2), label=rownames(d[c(2638), ]), size=5, hjust = 2, color = \"red\", max.overlaps = Inf, segment.size = 0.1)\n",
    "\n",
    "# connected\n",
    "ggplot(data=d, aes(x=UMAP_1, y=UMAP_2)) + geom_point(size=0.01) + geom_text_repel(data=d[c(3438, 3434), ], aes(x=UMAP_1, y=UMAP_2), label=rownames(d[c(3438, 3434), ]), size=5, hjust = 2, color = \"red\", max.overlaps = Inf, segment.size = 0.1)"
   ]
  },
  {
   "cell_type": "markdown",
   "id": "2ad9242d-3ff4-4f91-82e6-353176481e01",
   "metadata": {},
   "source": [
    "### L5_6_NP"
   ]
  },
  {
   "cell_type": "code",
   "execution_count": null,
   "id": "20725ff5-d56f-428a-86b8-027f4734730e",
   "metadata": {
    "scrolled": true
   },
   "outputs": [],
   "source": [
    "subtypes_to_keep <- c(\"PN_dev\", \"L5-6_TLE4_dev\", \"L5-6_TLE4_HTR2C\", \"EN_L5_6_NP\")\n",
    "cells_to_keep <- which(colData(cds)$subtype_uni %in% subtypes_to_keep)\n",
    "cds_subset <- cds[, cells_to_keep]\n",
    "plot_cells(cds_subset, color_cells_by = \"subtype_uni\", label_leaves = F, label_branch_points = F, label_principal_points = F, label_groups_by_cluster = F, group_label_size = 3)\n",
    "plot_cells(cds_subset, color_cells_by = \"stage_id\", label_leaves = F, label_branch_points = F, label_principal_points = F, label_groups_by_cluster = F, group_label_size = 3)\n",
    "plot_cells(cds_subset, color_cells_by = \"Age\", label_leaves = F, label_branch_points = F, label_principal_points = F, label_groups_by_cluster = F, group_label_size = 3)"
   ]
  },
  {
   "cell_type": "code",
   "execution_count": null,
   "id": "36dd414e-28a0-4bda-8687-aeb5d7a21139",
   "metadata": {
    "scrolled": true
   },
   "outputs": [],
   "source": [
    "# terminal\n",
    "ggplot(data=d, aes(x=UMAP_1, y=UMAP_2)) + geom_point(size=0.01) + geom_text_repel(data=d[c(554), ], aes(x=UMAP_1, y=UMAP_2), label=rownames(d[c(554), ]), size=5, hjust = 2, color = \"red\", max.overlaps = Inf, segment.size = 0.1)\n",
    "\n",
    "# connected\n",
    "ggplot(data=d, aes(x=UMAP_1, y=UMAP_2)) + geom_point(size=0.01) + geom_text_repel(data=d[c(3438, 905), ], aes(x=UMAP_1, y=UMAP_2), label=rownames(d[c(3438, 905), ]), size=5, hjust = 2, color = \"red\", max.overlaps = Inf, segment.size = 0.1)"
   ]
  },
  {
   "cell_type": "markdown",
   "id": "195fc2a2-6348-4afb-a400-4d2356a34697",
   "metadata": {},
   "source": [
    "### L6_IT_1"
   ]
  },
  {
   "cell_type": "code",
   "execution_count": null,
   "id": "13b07598-4455-4aaf-8d46-c04a5742ebd9",
   "metadata": {
    "scrolled": true
   },
   "outputs": [],
   "source": [
    "subtypes_to_keep <- c(\"PN_dev\", \"L5-6_THEMIS_dev-1\", \"L5-6_THEMIS_dev-2\", \"L5-6_THEMIS_CNR1\", \"EN_L6_IT_1_HSPA1A\", \"EN_L6_IT_1\")\n",
    "cells_to_keep <- which(colData(cds)$subtype_uni %in% subtypes_to_keep)\n",
    "cds_subset <- cds[, cells_to_keep]\n",
    "plot_cells(cds_subset, color_cells_by = \"subtype_uni\", label_leaves = F, label_branch_points = F, label_principal_points = F, label_groups_by_cluster = F, group_label_size = 3)\n",
    "plot_cells(cds_subset, color_cells_by = \"stage_id\", label_leaves = F, label_branch_points = F, label_principal_points = F, label_groups_by_cluster = F, group_label_size = 3)\n",
    "plot_cells(cds_subset, color_cells_by = \"Age\", label_leaves = F, label_branch_points = F, label_principal_points = F, label_groups_by_cluster = F, group_label_size = 3)"
   ]
  },
  {
   "cell_type": "code",
   "execution_count": null,
   "id": "f10b0e58-ffb0-4c1d-9191-2892f0497724",
   "metadata": {
    "scrolled": true
   },
   "outputs": [],
   "source": [
    "# terminal\n",
    "ggplot(data=d, aes(x=UMAP_1, y=UMAP_2)) + geom_point(size=0.01) + geom_text_repel(data=d[c(548), ], aes(x=UMAP_1, y=UMAP_2), label=rownames(d[c(548), ]), size=5, hjust = 2, color = \"red\", max.overlaps = Inf, segment.size = 0.1)\n",
    "\n",
    "# connected\n",
    "ggplot(data=d, aes(x=UMAP_1, y=UMAP_2)) + geom_point(size=0.01) + geom_text_repel(data=d[c(3067, 3102), ], aes(x=UMAP_1, y=UMAP_2), label=rownames(d[c(3067, 3102), ]), size=5, hjust = 2, color = \"red\", max.overlaps = Inf, segment.size = 0.1)\n",
    "ggplot(data=d, aes(x=UMAP_1, y=UMAP_2)) + geom_point(size=0.01) + geom_text_repel(data=d[c(3119, 470), ], aes(x=UMAP_1, y=UMAP_2), label=rownames(d[c(3119, 470), ]), size=5, hjust = 2, color = \"red\", max.overlaps = Inf, segment.size = 0.1)\n"
   ]
  },
  {
   "cell_type": "markdown",
   "id": "3bc6f0f3-aaea-4533-a548-63be3a8eac23",
   "metadata": {},
   "source": [
    "### L6_IT_2"
   ]
  },
  {
   "cell_type": "code",
   "execution_count": null,
   "id": "0b326ad1-ee20-4633-86fd-44847cfae67b",
   "metadata": {
    "scrolled": true
   },
   "outputs": [],
   "source": [
    "subtypes_to_keep <- c(\"PN_dev\", \"L5-6_THEMIS_dev-1\", \"L5-6_THEMIS_dev-2\", \"L5-6_THEMIS_NTNG2\", \"EN_L6_IT_2_HSPA1A\", \"EN_L6_IT_2\")\n",
    "cells_to_keep <- which(colData(cds)$subtype_uni %in% subtypes_to_keep)\n",
    "cds_subset <- cds[, cells_to_keep]\n",
    "plot_cells(cds_subset, color_cells_by = \"subtype_uni\", label_leaves = F, label_branch_points = F, label_principal_points = F, label_groups_by_cluster = F, group_label_size = 3)\n",
    "plot_cells(cds_subset, color_cells_by = \"stage_id\", label_leaves = F, label_branch_points = F, label_principal_points = F, label_groups_by_cluster = F, group_label_size = 3)\n",
    "plot_cells(cds_subset, color_cells_by = \"Age\", label_leaves = F, label_branch_points = F, label_principal_points = F, label_groups_by_cluster = F, group_label_size = 3)\n",
    " "
   ]
  },
  {
   "cell_type": "code",
   "execution_count": null,
   "id": "a28c08a5-0dfd-43d6-950d-600b0aa85a2d",
   "metadata": {
    "scrolled": true
   },
   "outputs": [],
   "source": [
    "# terminal\n",
    "ggplot(data=d, aes(x=UMAP_1, y=UMAP_2)) + geom_point(size=0.01) + geom_text_repel(data=d[c(2080), ], aes(x=UMAP_1, y=UMAP_2), label=rownames(d[c(2080), ]), size=5, hjust = 2, color = \"red\", max.overlaps = Inf, segment.size = 0.1)\n"
   ]
  },
  {
   "cell_type": "markdown",
   "id": "bd6defb5-24e1-4804-8e73-3f735c4cd8e7",
   "metadata": {},
   "source": [
    "### L3_5_IT"
   ]
  },
  {
   "cell_type": "code",
   "execution_count": null,
   "id": "c18e4310-5ce7-4579-aab6-350f8f5f464a",
   "metadata": {
    "scrolled": true
   },
   "outputs": [],
   "source": [
    "subtypes_to_keep <- unique(c(\"PN_dev\", \"L4_RORB_dev-fetal\", \"L4_RORB_dev-1\", \"L4_RORB_dev-2\", \"L4_RORB_MME\", \"EN_L3_5_IT_1_CUX2\", \"EN_L3_5_IT_1_PLSCR4\", \"PN_dev\", \"L4_RORB_dev-fetal\", \"L4_RORB_dev-1\", \"L4_RORB_dev-2\", \"L4_RORB_MET\", \"EN_L3_5_IT_2_MET\", \"EN_L3_5_IT_2_HSPA1A\", \"EN_L3_5_IT_2_DACH1\", \"PN_dev\", \"L4_RORB_dev-fetal\", \"L4_RORB_dev-1\", \"L4_RORB_dev-2\", \"L4_RORB_LRRK1\", \"EN_L3_5_IT_3_HSPA1A\", \"EN_L3_5_IT_3\"))\n",
    "cells_to_keep <- which(colData(cds)$subtype_uni %in% subtypes_to_keep)\n",
    "cds_subset <- cds[, cells_to_keep]\n",
    "plot_cells(cds_subset, color_cells_by = \"subtype_uni\", label_leaves = F, label_branch_points = F, label_principal_points = F, label_groups_by_cluster = F, group_label_size = 3)\n",
    "plot_cells(cds_subset, color_cells_by = \"stage_id\", label_leaves = F, label_branch_points = F, label_principal_points = F, label_groups_by_cluster = F, group_label_size = 3)\n",
    "plot_cells(cds_subset, color_cells_by = \"Age\", label_leaves = F, label_branch_points = F, label_principal_points = F, label_groups_by_cluster = F, group_label_size = 3)"
   ]
  },
  {
   "cell_type": "code",
   "execution_count": null,
   "id": "74d1ba41-2cb1-405f-860e-503621b50f39",
   "metadata": {
    "scrolled": true
   },
   "outputs": [],
   "source": [
    "# connected\n",
    "ggplot(data=d, aes(x=UMAP_1, y=UMAP_2)) + geom_point(size=0.01) + geom_text_repel(data=d[c(3172, 3293), ], aes(x=UMAP_1, y=UMAP_2), label=rownames(d[c(3172, 3293), ]), size=5, hjust = 2, color = \"red\", max.overlaps = Inf, segment.size = 0.1)\n",
    "ggplot(data=d, aes(x=UMAP_1, y=UMAP_2)) + geom_point(size=0.01) + geom_text_repel(data=d[c(3337, 3421), ], aes(x=UMAP_1, y=UMAP_2), label=rownames(d[c(3337, 3421), ]), size=5, hjust = 2, color = \"red\", max.overlaps = Inf, segment.size = 0.1)\n",
    "\n"
   ]
  },
  {
   "cell_type": "markdown",
   "id": "f8c0bf9f-1779-42c0-86f5-5f13fa974dee",
   "metadata": {},
   "source": [
    "### L3_5_IT_1"
   ]
  },
  {
   "cell_type": "code",
   "execution_count": null,
   "id": "f0d0084f-1a8c-406d-8360-255fca2ac16d",
   "metadata": {
    "scrolled": true
   },
   "outputs": [],
   "source": [
    "subtypes_to_keep <- c(\"PN_dev\", \"L4_RORB_dev-fetal\", \"L4_RORB_dev-1\", \"L4_RORB_dev-2\", \"L4_RORB_MME\", \"EN_L3_5_IT_1_CUX2\", \"EN_L3_5_IT_1_PLSCR4\")\n",
    "cells_to_keep <- which(colData(cds)$subtype_uni %in% subtypes_to_keep)\n",
    "cds_subset <- cds[, cells_to_keep]\n",
    "plot_cells(cds_subset, color_cells_by = \"subtype_uni\", label_leaves = F, label_branch_points = F, label_principal_points = F, label_groups_by_cluster = F, group_label_size = 3)\n",
    "plot_cells(cds_subset, color_cells_by = \"stage_id\", label_leaves = F, label_branch_points = F, label_principal_points = F, label_groups_by_cluster = F, group_label_size = 3)\n",
    "plot_cells(cds_subset, color_cells_by = \"Age\", label_leaves = F, label_branch_points = F, label_principal_points = F, label_groups_by_cluster = F, group_label_size = 3)"
   ]
  },
  {
   "cell_type": "code",
   "execution_count": null,
   "id": "647ff90a-a67b-4c55-aaec-117d50b627bf",
   "metadata": {
    "scrolled": true
   },
   "outputs": [],
   "source": [
    "# terminal\n",
    "ggplot(data=d, aes(x=UMAP_1, y=UMAP_2)) + geom_point(size=0.01) + geom_text_repel(data=d[c(2209), ], aes(x=UMAP_1, y=UMAP_2), label=rownames(d[c(2209), ]), size=5, hjust = 2, color = \"red\", max.overlaps = Inf, segment.size = 0.1)\n",
    "\n",
    "# connected\n",
    "ggplot(data=d, aes(x=UMAP_1, y=UMAP_2)) + geom_point(size=0.01) + geom_text_repel(data=d[c(2996, 3126), ], aes(x=UMAP_1, y=UMAP_2), label=rownames(d[c(2996, 3126), ]), size=5, hjust = 2, color = \"red\", max.overlaps = Inf, segment.size = 0.1)\n",
    "ggplot(data=d, aes(x=UMAP_1, y=UMAP_2)) + geom_point(size=0.01) + geom_text_repel(data=d[c(3126, 3556), ], aes(x=UMAP_1, y=UMAP_2), label=rownames(d[c(3126, 3556), ]), size=5, hjust = 2, color = \"red\", max.overlaps = Inf, segment.size = 0.1)\n"
   ]
  },
  {
   "cell_type": "markdown",
   "id": "937ab5d0-0c5a-4df4-9479-95e79e035556",
   "metadata": {},
   "source": [
    "### L3_5_IT_2"
   ]
  },
  {
   "cell_type": "code",
   "execution_count": null,
   "id": "afc29ff1-87bc-407b-9a29-795adef0d41e",
   "metadata": {
    "scrolled": true
   },
   "outputs": [],
   "source": [
    "subtypes_to_keep <- c(\"PN_dev\", \"L4_RORB_dev-fetal\", \"L4_RORB_dev-1\", \"L4_RORB_dev-2\", \"L4_RORB_MET\", \"EN_L3_5_IT_2_MET\", \"EN_L3_5_IT_2_HSPA1A\", \"EN_L3_5_IT_2_DACH1\")\n",
    "cells_to_keep <- which(colData(cds)$subtype_uni %in% subtypes_to_keep)\n",
    "cds_subset <- cds[, cells_to_keep]\n",
    "plot_cells(cds_subset, color_cells_by = \"subtype_uni\", label_leaves = F, label_branch_points = F, label_principal_points = F, label_groups_by_cluster = F, group_label_size = 3)\n",
    "plot_cells(cds_subset, color_cells_by = \"stage_id\", label_leaves = F, label_branch_points = F, label_principal_points = F, label_groups_by_cluster = F, group_label_size = 3)\n",
    "plot_cells(cds_subset, color_cells_by = \"Age\", label_leaves = F, label_branch_points = F, label_principal_points = F, label_groups_by_cluster = F, group_label_size = 3)"
   ]
  },
  {
   "cell_type": "code",
   "execution_count": null,
   "id": "99f595c7-c415-44b2-aabf-10af98457c41",
   "metadata": {
    "scrolled": true
   },
   "outputs": [],
   "source": [
    "# terminal\n",
    "ggplot(data=d, aes(x=UMAP_1, y=UMAP_2)) + geom_point(size=0.01) + geom_text_repel(data=d[c(2106), ], aes(x=UMAP_1, y=UMAP_2), label=rownames(d[c(2106), ]), size=5, hjust = 2, color = \"red\", max.overlaps = Inf, segment.size = 0.1)\n",
    "\n",
    "# connected\n",
    "ggplot(data=d, aes(x=UMAP_1, y=UMAP_2)) + geom_point(size=0.01) + geom_text_repel(data=d[c(3551, 3466), ], aes(x=UMAP_1, y=UMAP_2), label=rownames(d[c(3551, 3466), ]), size=5, hjust = 2, color = \"red\", max.overlaps = Inf, segment.size = 0.1)\n",
    "ggplot(data=d, aes(x=UMAP_1, y=UMAP_2)) + geom_point(size=0.01) + geom_text_repel(data=d[c(3053, 3268), ], aes(x=UMAP_1, y=UMAP_2), label=rownames(d[c(3053, 3268), ]), size=5, hjust = 2, color = \"red\", max.overlaps = Inf, segment.size = 0.1)\n"
   ]
  },
  {
   "cell_type": "markdown",
   "id": "bb491355-3cc6-4dc9-b94f-a0ab36bca6a5",
   "metadata": {},
   "source": [
    "### L3_5_IT_3"
   ]
  },
  {
   "cell_type": "code",
   "execution_count": null,
   "id": "e6c252a7-a7e3-43d0-b5cf-599fd01123d5",
   "metadata": {
    "scrolled": true
   },
   "outputs": [],
   "source": [
    "subtypes_to_keep <- c(\"PN_dev\", \"L4_RORB_dev-fetal\", \"L4_RORB_dev-1\", \"L4_RORB_dev-2\", \"L4_RORB_LRRK1\", \"EN_L3_5_IT_3_HSPA1A\", \"EN_L3_5_IT_3\")\n",
    "cells_to_keep <- which(colData(cds)$subtype_uni %in% subtypes_to_keep)\n",
    "cds_subset <- cds[, cells_to_keep]\n",
    "plot_cells(cds_subset, color_cells_by = \"subtype_uni\", label_leaves = F, label_branch_points = F, label_principal_points = F, label_groups_by_cluster = F, group_label_size = 3)\n",
    "plot_cells(cds_subset, color_cells_by = \"stage_id\", label_leaves = F, label_branch_points = F, label_principal_points = F, label_groups_by_cluster = F, group_label_size = 3)\n",
    "plot_cells(cds_subset, color_cells_by = \"Age\", label_leaves = F, label_branch_points = F, label_principal_points = F, label_groups_by_cluster = F, group_label_size = 3)"
   ]
  },
  {
   "cell_type": "code",
   "execution_count": null,
   "id": "6a18d2be-e18f-4212-97c6-1f9b59ee500b",
   "metadata": {
    "scrolled": true
   },
   "outputs": [],
   "source": [
    "# terminal\n",
    "ggplot(data=d, aes(x=UMAP_1, y=UMAP_2)) + geom_point(size=0.01) + geom_text_repel(data=d[c(2814), ], aes(x=UMAP_1, y=UMAP_2), label=rownames(d[c(2814), ]), size=5, hjust = 2, color = \"red\", max.overlaps = Inf, segment.size = 0.1)\n"
   ]
  },
  {
   "cell_type": "markdown",
   "id": "75917417-6619-4640-81d2-a24a08de3e93",
   "metadata": {},
   "source": [
    "### L2_3_IT"
   ]
  },
  {
   "cell_type": "code",
   "execution_count": null,
   "id": "2b1c2a7f-1d3c-426c-bd13-76b96b79d0fb",
   "metadata": {
    "scrolled": true
   },
   "outputs": [],
   "source": [
    "subtypes_to_keep <- c(\"PN_dev\", \"L2-3_CUX2_dev-fetal\", \"L2-3_CUX2_dev-4\", \"L2-3_CUX2_dev-6\", \"L2-3_CUX2_dev-2\", \"L2-3_CUX2_dev-3\", \"L2-3_CUX2_dev-5\", \"L2-3_CUX2_dev-1\", \"L2_CUX2_LAMP5_dev\", \"L2_CUX2_LAMP5\", \"L3_CUX2_PRSS12\", \"EN_L2_3_IT_NTNG1\", \"EN_L2_3_IT_PDGFD\")\n",
    "cells_to_keep <- which(colData(cds)$subtype_uni %in% subtypes_to_keep)\n",
    "cds_subset <- cds[, cells_to_keep]\n",
    "plot_cells(cds_subset, color_cells_by = \"subtype_uni\", label_leaves = F, label_branch_points = F, label_principal_points = F, label_groups_by_cluster = F, group_label_size = 3)\n",
    "plot_cells(cds_subset, color_cells_by = \"stage_id\", label_leaves = F, label_branch_points = F, label_principal_points = F, label_groups_by_cluster = F, group_label_size = 3)\n",
    "plot_cells(cds_subset, color_cells_by = \"Age\", label_leaves = F, label_branch_points = F, label_principal_points = F, label_groups_by_cluster = F, group_label_size = 3)"
   ]
  },
  {
   "cell_type": "code",
   "execution_count": null,
   "id": "b031585a-ad26-4b8d-9521-855db886100c",
   "metadata": {
    "scrolled": true
   },
   "outputs": [],
   "source": [
    "# terminal\n",
    "ggplot(data=d, aes(x=UMAP_1, y=UMAP_2)) + geom_point(size=0.01) + geom_text_repel(data=d[c(256), ], aes(x=UMAP_1, y=UMAP_2), label=rownames(d[c(256), ]), size=5, hjust = 2, color = \"red\", max.overlaps = Inf, segment.size = 0.1)\n",
    "\n",
    "# connected\n",
    "ggplot(data=d, aes(x=UMAP_1, y=UMAP_2)) + geom_point(size=0.01) + geom_text_repel(data=d[c(3172, 3366), ], aes(x=UMAP_1, y=UMAP_2), label=rownames(d[c(3172, 3366), ]), size=5, hjust = 2, color = \"red\", max.overlaps = Inf, segment.size = 0.1)\n",
    "ggplot(data=d, aes(x=UMAP_1, y=UMAP_2)) + geom_point(size=0.01) + geom_text_repel(data=d[c(3366, 3357), ], aes(x=UMAP_1, y=UMAP_2), label=rownames(d[c(3366, 3357), ]), size=5, hjust = 2, color = \"red\", max.overlaps = Inf, segment.size = 0.1)\n",
    "ggplot(data=d, aes(x=UMAP_1, y=UMAP_2)) + geom_point(size=0.01) + geom_text_repel(data=d[c(3188, 3080), ], aes(x=UMAP_1, y=UMAP_2), label=rownames(d[c(3188, 3080), ]), size=5, hjust = 2, color = \"red\", max.overlaps = Inf, segment.size = 0.1)\n",
    "ggplot(data=d, aes(x=UMAP_1, y=UMAP_2)) + geom_point(size=0.01) + geom_text_repel(data=d[c(3248, 3112), ], aes(x=UMAP_1, y=UMAP_2), label=rownames(d[c(3248, 3112), ]), size=5, hjust = 2, color = \"red\", max.overlaps = Inf, segment.size = 0.1)\n"
   ]
  },
  {
   "cell_type": "markdown",
   "id": "f39e6fe8-b69b-4551-8d2b-2e5a98ad761c",
   "metadata": {},
   "source": [
    "## Reconstruction"
   ]
  },
  {
   "cell_type": "code",
   "execution_count": null,
   "id": "774a613f-d981-44fe-9455-75d15023c786",
   "metadata": {
    "scrolled": true
   },
   "outputs": [],
   "source": [
    "# connect nodes\n",
    "# L6_CT\n",
    "cds = connect_nodes(cds, \"Y_3438\", \"Y_3434\")\n",
    "\n",
    "# L5_6_NP\n",
    "cds = connect_nodes(cds, \"Y_3438\", \"Y_905\")\n",
    "\n",
    "# deep_IT (L6_IT)\n",
    "cds = connect_nodes(cds, \"Y_3067\", \"Y_3102\")\n",
    "\n",
    "# L6_IT_1\n",
    "# cds = connect_nodes(cds, \"Y_3020\", \"Y_470\")\n",
    "cds = connect_nodes(cds, \"Y_3119\", \"Y_470\")\n",
    "\n",
    "# L3_5_IT\n",
    "cds = connect_nodes(cds, \"Y_3172\", \"Y_3293\")\n",
    "cds = connect_nodes(cds, \"Y_3337\", \"Y_3421\")\n",
    "\n",
    "# L3_5_IT_1 \n",
    "cds = connect_nodes(cds, \"Y_2996\", \"Y_3126\")\n",
    "cds = connect_nodes(cds, \"Y_3126\", \"Y_3556\")\n",
    "\n",
    "# L3_5_IT_2\n",
    "cds = connect_nodes(cds, \"Y_3551\", \"Y_3466\") \n",
    "cds = connect_nodes(cds, \"Y_3053\", \"Y_3268\")\n",
    "\n",
    "# L2_3_IT\n",
    "cds = connect_nodes(cds, \"Y_3172\", \"Y_3366\")\n",
    "cds = connect_nodes(cds, \"Y_3366\", \"Y_3357\")\n",
    "cds = connect_nodes(cds, \"Y_3188\", \"Y_3080\")\n",
    "cds = connect_nodes(cds, \"Y_3248\", \"Y_3112\")\n",
    "\n",
    "# select individual lineages\n",
    "# L6B\n",
    "lineage <- \"L6B\"\n",
    "print(lineage)\n",
    "start <- 3172\n",
    "end <- 262\n",
    "inc.node <- c(\"Y_3314\")\n",
    "cds <- isolate_graph(cds, start, end, lineage, include_nodes = inc.node)\n",
    "sel.cluster <- c(\"PN_dev\", \"L5-6_TLE4_dev\", \"L5-6_TLE4_SCUBE1\", \"EN_L6B\")\n",
    "cds <- isolate_lineage(cds, lineage, sel_clusters = sel.cluster, cl = 25, N = 10)\n",
    "\n",
    "\n",
    "# L6_CT\n",
    "lineage <- \"L6_CT\"\n",
    "print(lineage)\n",
    "end <- 2638\n",
    "inc.node <- c(\"Y_3314\", \"Y_3434\")\n",
    "cds <- isolate_graph(cds, start, end, lineage, include_nodes = inc.node)\n",
    "sel.cluster <- c(\"PN_dev\", \"L5-6_TLE4_dev\", \"L5-6_TLE4_SORCS1\", \"EN_L6_CT_HSPA1A\", \"EN_L6_CT\")\n",
    "cds <- isolate_lineage(cds, lineage, sel_clusters = sel.cluster, cl = 25, N = 10)\n",
    "\n",
    "# L5_6_NP\n",
    "lineage <- \"L5_6_NP\"\n",
    "print(lineage)\n",
    "end <- 554\n",
    "inc.node <- c(\"Y_3314\", \"Y_905\")\n",
    "cds <- isolate_graph(cds, start, end, lineage, include_nodes = inc.node)\n",
    "sel.cluster <- c(\"PN_dev\", \"L5-6_TLE4_dev\", \"L5-6_TLE4_HTR2C\", \"EN_L5_6_NP\")\n",
    "cds <- isolate_lineage(cds, lineage, sel_clusters = sel.cluster, cl = 25, N = 10)\n",
    "\n",
    "# L6_IT_1\n",
    "lineage <- \"L6_IT_1\"\n",
    "print(lineage)\n",
    "end <- 548\n",
    "inc.node <- c(\"Y_3314\", \"Y_3102\", \"Y_470\")\n",
    "cds <- isolate_graph(cds, start, end, lineage, include_nodes = inc.node)\n",
    "sel.cluster <- c(\"PN_dev\", \"L5-6_THEMIS_dev-1\", \"L5-6_THEMIS_dev-2\", \"L5-6_THEMIS_CNR1\", \"EN_L6_IT_1_HSPA1A\", \"EN_L6_IT_1\")\n",
    "cds <- isolate_lineage(cds, lineage, sel_clusters = sel.cluster, cl = 25, N = 10)\n",
    "\n",
    "# L6_IT_2\n",
    "lineage <- \"L6_IT_2\"\n",
    "print(lineage)\n",
    "end <- 2080\n",
    "inc.node <- c(\"Y_3314\", \"Y_3102\")\n",
    "cds <- isolate_graph(cds, start, end, lineage, include_nodes = inc.node)\n",
    "sel.cluster <- c(\"PN_dev\", \"L5-6_THEMIS_dev-1\", \"L5-6_THEMIS_dev-2\", \"L5-6_THEMIS_NTNG2\", \"EN_L6_IT_2_HSPA1A\", \"EN_L6_IT_2\")\n",
    "cds <- isolate_lineage(cds, lineage, sel_clusters = sel.cluster, cl = 25, N = 10)\n",
    "\n",
    "# L3_5_IT_1\n",
    "lineage <- \"L3_5_IT_1\"\n",
    "print(lineage)\n",
    "end <- 2209\n",
    "inc.node <- c(\"Y_3421\", \"Y_3556\")\n",
    "cds <- isolate_graph(cds, start, end, lineage, include_nodes = inc.node)\n",
    "sel.cluster <- c(\"PN_dev\", \"L4_RORB_dev-fetal\", \"L4_RORB_dev-1\", \"L4_RORB_dev-2\", \"L4_RORB_MME\", \"EN_L3_5_IT_1_CUX2\", \"EN_L3_5_IT_1_PLSCR4\")\n",
    "cds <- isolate_lineage(cds, lineage, sel_clusters = sel.cluster, cl = 25, N = 10)\n",
    "\n",
    "# L3_5_IT_2\n",
    "lineage <- \"L3_5_IT_2\"\n",
    "print(lineage)\n",
    "end <- 2106\n",
    "inc.node <- c(\"Y_3421\", \"Y_3268\")\n",
    "cds <- isolate_graph(cds, start, end, lineage, include_nodes = inc.node)\n",
    "sel.cluster <- c(\"PN_dev\", \"L4_RORB_dev-fetal\", \"L4_RORB_dev-1\", \"L4_RORB_dev-2\", \"L4_RORB_MET\", \"EN_L3_5_IT_2_MET\", \"EN_L3_5_IT_2_HSPA1A\", \"EN_L3_5_IT_2_DACH1\")\n",
    "cds <- isolate_lineage(cds, lineage, sel_clusters = sel.cluster, cl = 25, N = 10)\n",
    "\n",
    "# L3_5_IT_3\n",
    "lineage = \"L3_5_IT_3\"\n",
    "print(lineage)\n",
    "end <- 2814\n",
    "inc.node <- c(\"Y_3421\") \n",
    "cds <- isolate_graph(cds, start, end, lineage, include_nodes = inc.node)\n",
    "sel.cluster = c(\"PN_dev\", \"L4_RORB_dev-fetal\", \"L4_RORB_dev-1\", \"L4_RORB_dev-2\", \"L4_RORB_LRRK1\", \"EN_L3_5_IT_3_HSPA1A\", \"EN_L3_5_IT_3\")\n",
    "cds <- isolate_lineage(cds, lineage, sel_clusters = sel.cluster, cl = 25, N = 10)\n",
    "\n",
    "# L2_3_IT\n",
    "lineage <- \"L2_3_IT\"\n",
    "print(lineage)\n",
    "end <- 256\n",
    "inc.node <- c(\"Y_3366\", \"Y_3080\", \"Y_3248\")\n",
    "cds <- isolate_graph(cds, start, end, lineage, include_nodes = inc.node)\n",
    "sel.cluster <- c(\"PN_dev\", \"L2-3_CUX2_dev-fetal\", \"L2-3_CUX2_dev-4\", \"L2-3_CUX2_dev-6\", \"L2-3_CUX2_dev-2\", \"L2-3_CUX2_dev-3\", \"L2-3_CUX2_dev-5\", \"L2-3_CUX2_dev-1\", \"L2_CUX2_LAMP5_dev\", \"L2_CUX2_LAMP5\", \"L3_CUX2_PRSS12\", \"EN_L2_3_IT_NTNG1\", \"EN_L2_3_IT_PDGFD\")\n",
    "cds <- isolate_lineage(cds, lineage, sel_clusters = sel.cluster, cl = 25, N = 10)\n",
    "\n",
    "cds <- combine_lineages(cds, start)"
   ]
  },
  {
   "cell_type": "code",
   "execution_count": null,
   "id": "ebd3e61c-0723-4d52-b3d4-cf0a26d308b1",
   "metadata": {},
   "outputs": [],
   "source": [
    "saveRDS(cds, file = \"files/integrated_EN_con_afterCombination_cds.RDS\")"
   ]
  },
  {
   "cell_type": "markdown",
   "id": "8ef4ef42-9849-40af-8056-e38bec757768",
   "metadata": {},
   "source": [
    "## Figure plots"
   ]
  },
  {
   "cell_type": "markdown",
   "id": "710648e0-7c64-4e67-9812-4d9208f79293",
   "metadata": {},
   "source": [
    "### Pseudotime"
   ]
  },
  {
   "cell_type": "code",
   "execution_count": null,
   "id": "801c567c-effb-4ba4-b974-0f0079c37e8a",
   "metadata": {
    "scrolled": true
   },
   "outputs": [],
   "source": [
    "p_pseudotime <- plot_cells(cds, color_cells_by = \"pseudotime\", \n",
    "                           trajectory_graph_color = \"grey\", \n",
    "                           trajectory_graph_segment_size = 1, \n",
    "                           label_leaves = F, label_branch_points = F, label_principal_points = F, label_groups_by_cluster = F, label_cell_groups = F, cell_size = 0.5, cell_stroke = 0.3) + \n",
    "        theme(axis.text = element_blank(), \n",
    "        axis.ticks = element_blank(),\n",
    "        axis.title = element_blank(), \n",
    "        panel.border = element_blank(),\n",
    "        panel.grid.major = element_blank(),\n",
    "        panel.grid.minor = element_blank(), \n",
    "        legend.position=\"none\")\n",
    "ggsave(\"files/figures/en_umat_pseudotime.png\", plot = p_pseudotime, width = 6, height = 6, dpi = 150)\n",
    "\n",
    "p_pseudotime_legend <- plot_cells(cds, color_cells_by = \"pseudotime\",\n",
    "                                    trajectory_graph_color = \"grey\", \n",
    "                                    trajectory_graph_segment_size = 1, \n",
    "                                    label_leaves = F, label_branch_points = F, label_principal_points = F, label_groups_by_cluster = F, label_cell_groups = F, cell_size = 0.5, cell_stroke = 0.3) + \n",
    "        theme(axis.text = element_blank(), \n",
    "          axis.ticks = element_blank(),\n",
    "          axis.title = element_blank(), \n",
    "          panel.border = element_blank(),\n",
    "          panel.grid.major = element_blank(),\n",
    "          panel.grid.minor = element_blank())\n",
    "legend <- cowplot::get_legend(p_pseudotime_legend)\n",
    "pdf(\"files/figures/en_umat_pseudotime_legend_only.pdf\")\n",
    "    grid::grid.draw(legend)\n",
    "dev.off()"
   ]
  },
  {
   "cell_type": "markdown",
   "id": "317fe78e-38e1-4843-abef-7daa83ef7317",
   "metadata": {},
   "source": [
    "# Maturation rate of branches and lineages"
   ]
  },
  {
   "cell_type": "code",
   "execution_count": null,
   "id": "42eb299c-97e2-478d-8583-89fae5e10b7b",
   "metadata": {},
   "outputs": [],
   "source": [
    "pdf(\"figures/en_mature_ratio_regression_lineage.pdf\", width = 4.5, height = 4.5)\n",
    "regress_pt_along_age_trajectory(cds, \"EN\")\n",
    "dev.off()"
   ]
  },
  {
   "cell_type": "code",
   "execution_count": null,
   "id": "bccaec5c-263e-44da-8e3a-b0bf84b1a3fa",
   "metadata": {},
   "outputs": [],
   "source": [
    "pdf(\"files/figures/en_mature_ratio_regression_branch.pdf\", width = 4.5, height = 4.5)\n",
    "regress_pt_along_age_branch(cds, \"EN\", c(\"Deep_nonIT\", \"Deep_IT\", \"Upper_IT\"))\n",
    "dev.off()"
   ]
  },
  {
   "cell_type": "markdown",
   "id": "b0ed1ad2-88c7-4dea-8c9e-ac471874c8ca",
   "metadata": {},
   "source": [
    "# Identify DEGs along trajectory"
   ]
  },
  {
   "cell_type": "code",
   "execution_count": null,
   "id": "e8ea4d90-e436-4b42-96ba-afd2b4489457",
   "metadata": {
    "scrolled": true
   },
   "outputs": [],
   "source": [
    "%%sh\n",
    "\n",
    "for sub_lineage in L6B L6_CT L5_6_NP L6_IT_1 L6_IT_2 L2_3_IT L3_5_IT_1 L3_5_IT_2 L3_5_IT_3\n",
    "do\n",
    "    Rscript identify_traDEGs.r \\\n",
    "        files/integrated_EN_con_afterCombination_cds.RDS \\\n",
    "        ${sub_lineage} \\\n",
    "        3172 \\\n",
    "        0.05 \\\n",
    "        10000 \\\n",
    "        40 \\\n",
    "        files/traDEGs/EN\n",
    "done # for sub_lineage end"
   ]
  },
  {
   "cell_type": "markdown",
   "id": "eaaa481f-70d3-4af1-9c68-d3f222f7cff9",
   "metadata": {},
   "source": [
    "# Compress data along trajectories"
   ]
  },
  {
   "cell_type": "code",
   "execution_count": null,
   "id": "713b6165-6d68-48c5-bed2-6c52178ba03b",
   "metadata": {
    "scrolled": true
   },
   "outputs": [],
   "source": [
    "cds <- compress_lineages(cds, 3172, N = 500, cores = 40)\n",
    "print(cds)\n",
    "print(length(cds@expression))"
   ]
  },
  {
   "cell_type": "code",
   "execution_count": null,
   "id": "b0733a8d-d739-430b-9d70-2782643f4fa0",
   "metadata": {},
   "outputs": [],
   "source": [
    "saveRDS(cds, file = \"files/integrated_EN_con_afterCombination_cds_compressed.RDS\")"
   ]
  }
 ],
 "metadata": {
  "kernelspec": {
   "display_name": "R (Py39_R43_Ju10)",
   "language": "R",
   "name": "r_env"
  },
  "language_info": {
   "codemirror_mode": "r",
   "file_extension": ".r",
   "mimetype": "text/x-r-source",
   "name": "R",
   "pygments_lexer": "r",
   "version": "4.3.1"
  }
 },
 "nbformat": 4,
 "nbformat_minor": 5
}
